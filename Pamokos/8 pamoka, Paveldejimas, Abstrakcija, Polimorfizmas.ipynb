{
 "cells": [
  {
   "attachments": {},
   "cell_type": "markdown",
   "metadata": {},
   "source": [
    "# Klase"
   ]
  },
  {
   "cell_type": "code",
   "execution_count": 2,
   "metadata": {},
   "outputs": [],
   "source": [
    "class Automobilis():\n",
    "    marke = ''\n",
    "    modelis = ''\n",
    "    metai = 2000\n",
    "\n",
    "    def vaziuoti(self):\n",
    "        print(f'{self.modelis} vaziuoja')\n",
    "\n",
    "    def pypinti(self, garsas=\"pyp\", kiekis=1):\n",
    "        print(f\"{self.marke} {garsas * kiekis}\")\n",
    "\n",
    "\n",
    "class GerasAuto():\n",
    "    pass"
   ]
  },
  {
   "attachments": {},
   "cell_type": "markdown",
   "metadata": {},
   "source": [
    "# Eksperimentai"
   ]
  },
  {
   "cell_type": "code",
   "execution_count": 3,
   "metadata": {},
   "outputs": [
    {
     "name": "stdout",
     "output_type": "stream",
     "text": [
      "Fiat 500 1990\n"
     ]
    }
   ],
   "source": [
    "pugzlys = Automobilis()\n",
    "pugzlys.marke = \"Fiat\"\n",
    "pugzlys.modelis = \"500\"\n",
    "pugzlys.metai = 1990\n",
    "\n",
    "print(pugzlys.marke, pugzlys.modelis, pugzlys.metai)"
   ]
  },
  {
   "cell_type": "code",
   "execution_count": 4,
   "metadata": {},
   "outputs": [
    {
     "name": "stdout",
     "output_type": "stream",
     "text": [
      "True\n"
     ]
    }
   ],
   "source": [
    "fcc = Automobilis()\n",
    "fcc.marke = \"Fiat\"\n",
    "fcc.modelis = \"500\"\n",
    "\n",
    "print(fcc.modelis == pugzlys.modelis)"
   ]
  },
  {
   "cell_type": "code",
   "execution_count": 5,
   "metadata": {},
   "outputs": [
    {
     "name": "stdout",
     "output_type": "stream",
     "text": [
      "Fiat 500 2000\n"
     ]
    }
   ],
   "source": [
    "print(fcc.marke, fcc.modelis, fcc.metai)"
   ]
  },
  {
   "cell_type": "code",
   "execution_count": 6,
   "metadata": {},
   "outputs": [
    {
     "name": "stdout",
     "output_type": "stream",
     "text": [
      "500 vaziuoja\n"
     ]
    }
   ],
   "source": [
    "fcc.vaziuoti()"
   ]
  },
  {
   "cell_type": "code",
   "execution_count": 7,
   "metadata": {},
   "outputs": [
    {
     "name": "stdout",
     "output_type": "stream",
     "text": [
      "Fiat pyppyppyp\n"
     ]
    }
   ],
   "source": [
    "fcc.pypinti(kiekis=3)"
   ]
  },
  {
   "attachments": {},
   "cell_type": "markdown",
   "metadata": {},
   "source": [
    "# Klasė su init "
   ]
  },
  {
   "cell_type": "code",
   "execution_count": 8,
   "metadata": {},
   "outputs": [],
   "source": [
    "class Automobilis():\n",
    "    marke = ''\n",
    "    modelis = ''\n",
    "    metai = 2000\n",
    "\n",
    "    def vaziuoti(self):\n",
    "        print(f'{self.modelis} vaziuoja')\n",
    "\n",
    "    def pypinti(self, garsas=\"pyp\", kiekis=1):\n",
    "        print(f\"{self.marke} {garsas * kiekis}\")\n",
    "\n",
    "    def __init__(self, marke, modelis, **extras):\n",
    "        self.marke = marke\n",
    "        self.modelis = modelis\n",
    "        # self.extras = extras\n",
    "        for attr, extra in extras.items():\n",
    "            setattr(self, attr, extra)\n",
    "\n",
    "    def __str__(self):\n",
    "        return f'{self.marke} {self.modelis}, {self.metai}'\n",
    "    \n",
    "    def __repr__(self) -> str:\n",
    "        return f'({self.marke}, {self.modelis}, {self.metai})'"
   ]
  },
  {
   "cell_type": "code",
   "execution_count": 9,
   "metadata": {},
   "outputs": [
    {
     "name": "stdout",
     "output_type": "stream",
     "text": [
      "Tesla Model 3, 2020\n"
     ]
    }
   ],
   "source": [
    "tesla = Automobilis(\"Tesla\", \"Model 3\", metai=2020, kuras=\"elektra\")\n",
    "print(tesla)"
   ]
  },
  {
   "cell_type": "code",
   "execution_count": 10,
   "metadata": {},
   "outputs": [
    {
     "name": "stdout",
     "output_type": "stream",
     "text": [
      "[(Tesla, Model 3, 2020), (Tesla, Model 3, 2020), (Tesla, Model 3, 2020)]\n"
     ]
    }
   ],
   "source": [
    "autos = [tesla, tesla, tesla]\n",
    "print(autos)"
   ]
  },
  {
   "cell_type": "code",
   "execution_count": 11,
   "metadata": {},
   "outputs": [
    {
     "name": "stdout",
     "output_type": "stream",
     "text": [
      "elektra\n"
     ]
    }
   ],
   "source": [
    "print(tesla.kuras)"
   ]
  },
  {
   "cell_type": "code",
   "execution_count": 12,
   "metadata": {},
   "outputs": [
    {
     "name": "stdout",
     "output_type": "stream",
     "text": [
      "<class 'str'>\n"
     ]
    }
   ],
   "source": [
    "print(type(\"Labas\"))"
   ]
  },
  {
   "cell_type": "code",
   "execution_count": 13,
   "metadata": {},
   "outputs": [
    {
     "name": "stdout",
     "output_type": "stream",
     "text": [
      "<class '__main__.Automobilis'>\n"
     ]
    }
   ],
   "source": [
    "print(type(tesla))"
   ]
  },
  {
   "cell_type": "code",
   "execution_count": 14,
   "metadata": {},
   "outputs": [
    {
     "name": "stdout",
     "output_type": "stream",
     "text": [
      "[<__main__.Automobilis object at 0x1119e2a50>, (Tesla, Model 3, 2020), <__main__.Automobilis object at 0x10ce7b910>]\n"
     ]
    }
   ],
   "source": [
    "autos = [pugzlys, tesla, fcc]\n",
    "print(autos)"
   ]
  },
  {
   "cell_type": "code",
   "execution_count": 15,
   "metadata": {},
   "outputs": [
    {
     "name": "stdout",
     "output_type": "stream",
     "text": [
      "500\n",
      "Model 3\n",
      "500\n",
      "Model 3\n"
     ]
    }
   ],
   "source": [
    "autos.append(tesla)\n",
    "for car in autos:\n",
    "    print(car.modelis)"
   ]
  },
  {
   "cell_type": "code",
   "execution_count": 16,
   "metadata": {},
   "outputs": [
    {
     "name": "stdout",
     "output_type": "stream",
     "text": [
      "Tesla Model 3, 2020\n",
      "<__main__.Automobilis object at 0x10ce7b910>\n",
      "Tesla Model S Plaid, 2023\n"
     ]
    }
   ],
   "source": [
    "employee_cars = {}\n",
    "employee_cars['Petras'] = tesla\n",
    "employee_cars['Diedukas'] = fcc\n",
    "employee_cars['Milda'] = Automobilis(\"Tesla\", \"Model S Plaid\", metai=2023, kuras=\"elektra\")\n",
    "for car in employee_cars.values():\n",
    "    print(car)"
   ]
  },
  {
   "cell_type": "code",
   "execution_count": 17,
   "metadata": {},
   "outputs": [
    {
     "name": "stdout",
     "output_type": "stream",
     "text": [
      "Tesla pyp\n"
     ]
    }
   ],
   "source": [
    "employee_cars['Milda'].pypinti()"
   ]
  },
  {
   "attachments": {},
   "cell_type": "markdown",
   "metadata": {},
   "source": [
    "# Inkapsuliacija"
   ]
  },
  {
   "cell_type": "code",
   "execution_count": 18,
   "metadata": {},
   "outputs": [],
   "source": [
    "class Automobilis():\n",
    "    def __init__(self, marke, modelis, metai, spalva=\"baltas\") -> None:\n",
    "        self.marke = marke\n",
    "        self.modelis = modelis\n",
    "        self.__metai = metai\n",
    "        self.__spalva = spalva\n",
    "\n",
    "    def __str__(self) -> str:\n",
    "        return f\"{self.marke} {self.modelis}, {self.__metai}, {self.__spalva}\"\n",
    "    \n",
    "    def get_age(self):\n",
    "        return self.__metai\n",
    "    \n",
    "    def refresh(self, years=10):\n",
    "        from datetime import date\n",
    "        today = date.today()\n",
    "        if today.year >= self.__metai + years:\n",
    "            self.__metai += years\n",
    "        else:\n",
    "            raise ValueError('car cannot become younger than today')"
   ]
  },
  {
   "cell_type": "code",
   "execution_count": 19,
   "metadata": {},
   "outputs": [
    {
     "name": "stdout",
     "output_type": "stream",
     "text": [
      "Ford Escort, 1983, baltas\n"
     ]
    }
   ],
   "source": [
    "fordukas = Automobilis(\"Ford\", \"Escort\", 1983)\n",
    "print(fordukas)"
   ]
  },
  {
   "cell_type": "code",
   "execution_count": 20,
   "metadata": {},
   "outputs": [
    {
     "name": "stdout",
     "output_type": "stream",
     "text": [
      "1983\n"
     ]
    }
   ],
   "source": [
    "print(fordukas.get_age())"
   ]
  },
  {
   "cell_type": "code",
   "execution_count": 21,
   "metadata": {},
   "outputs": [
    {
     "name": "stdout",
     "output_type": "stream",
     "text": [
      "Ford Escort, 1993, baltas\n"
     ]
    }
   ],
   "source": [
    "fordukas.refresh()\n",
    "print(fordukas)"
   ]
  },
  {
   "attachments": {},
   "cell_type": "markdown",
   "metadata": {},
   "source": [
    "# Paveldejimas  \n",
    "\n",
    "Viena iš objektinio programavimo savybių yra paveldėjimas. Tai reiškia, kad klasė gali paveldėti kitos klasės savybes ir metodus. Paveldėjimas padeda sumažinti kodą, nes leidžia sukurti naujas klases, kurios naudoja savybes ir metodus iš jau egzistuojančių klasių."
   ]
  },
  {
   "cell_type": "code",
   "execution_count": 22,
   "metadata": {},
   "outputs": [],
   "source": [
    "class Elektromobilis(Automobilis):\n",
    "    kuro_tipas = 'elektra'\n",
    "\n",
    "    def max_greitis(self):\n",
    "        print('Šis automobilis gali važiuoti iki 350 km/h')\n",
    "        return 350\n",
    "\n",
    "tesla_sp = Elektromobilis('Tesla', 'Model S Plaid', metai=2022, spalva='raudona')"
   ]
  },
  {
   "attachments": {},
   "cell_type": "markdown",
   "metadata": {},
   "source": [
    "Šiame pavyzdyje sukūrėme objektą, kuris paveldi savybes ir metodus iš klasės \"Automobilis\", tačiau turi savo unikalų metodą \"greitis\"."
   ]
  },
  {
   "cell_type": "code",
   "execution_count": 23,
   "metadata": {},
   "outputs": [
    {
     "name": "stdout",
     "output_type": "stream",
     "text": [
      "Tesla\n",
      "Model S Plaid\n"
     ]
    },
    {
     "ename": "AttributeError",
     "evalue": "'Elektromobilis' object has no attribute 'gauti_metus'",
     "output_type": "error",
     "traceback": [
      "\u001b[0;31m---------------------------------------------------------------------------\u001b[0m",
      "\u001b[0;31mAttributeError\u001b[0m                            Traceback (most recent call last)",
      "Cell \u001b[0;32mIn[23], line 3\u001b[0m\n\u001b[1;32m      1\u001b[0m \u001b[39mprint\u001b[39m(tesla_sp\u001b[39m.\u001b[39mmarke) \u001b[39m# Tesla\u001b[39;00m\n\u001b[1;32m      2\u001b[0m \u001b[39mprint\u001b[39m(tesla_sp\u001b[39m.\u001b[39mmodelis) \u001b[39m# Model S Plaid\u001b[39;00m\n\u001b[0;32m----> 3\u001b[0m \u001b[39mprint\u001b[39m(tesla_sp\u001b[39m.\u001b[39;49mgauti_metus()) \u001b[39m# 2022\u001b[39;00m\n\u001b[1;32m      4\u001b[0m \u001b[39mprint\u001b[39m(tesla_sp\u001b[39m.\u001b[39mgauti_spalva()) \u001b[39m# raudona\u001b[39;00m\n\u001b[1;32m      6\u001b[0m tesla_sp\u001b[39m.\u001b[39mkeisti_spalva(\u001b[39m\"\u001b[39m\u001b[39mgeltona\u001b[39m\u001b[39m\"\u001b[39m)\n",
      "\u001b[0;31mAttributeError\u001b[0m: 'Elektromobilis' object has no attribute 'gauti_metus'"
     ]
    }
   ],
   "source": [
    "print(tesla_sp.marke) # Tesla\n",
    "print(tesla_sp.modelis) # Model S Plaid\n",
    "print(tesla_sp.gauti_metus()) # 2022\n",
    "print(tesla_sp.gauti_spalva()) # raudona\n",
    "\n",
    "tesla_sp.keisti_spalva(\"geltona\")\n",
    "print(tesla_sp.gauti_spalva()) # geltona\n",
    "\n",
    "print(tesla.kuro_tipas) # elektra\n",
    "tesla_sp.max_greitis() # Šis automobilis gali važiuoti iki 350 km/h"
   ]
  },
  {
   "attachments": {},
   "cell_type": "markdown",
   "metadata": {},
   "source": [
    " # Objekto priklausymo klasei patikrinimas\n",
    "\n",
    " isinstance yra funkcija, kuri leidžia patikrinti, ar objektas priklauso tam tikrai klasei. Ši funkcija grąžina True, jei objektas yra tos klasės objektas arba objekto klasė paveldi nurodytą klasę, ir False kitu atveju. Pvz.:"
   ]
  },
  {
   "cell_type": "code",
   "execution_count": 24,
   "metadata": {},
   "outputs": [
    {
     "ename": "TypeError",
     "evalue": "Automobilis.__init__() missing 1 required positional argument: 'metai'",
     "output_type": "error",
     "traceback": [
      "\u001b[0;31m---------------------------------------------------------------------------\u001b[0m",
      "\u001b[0;31mTypeError\u001b[0m                                 Traceback (most recent call last)",
      "Cell \u001b[0;32mIn[24], line 1\u001b[0m\n\u001b[0;32m----> 1\u001b[0m tesla_sp \u001b[39m=\u001b[39m Elektromobilis(\u001b[39m'\u001b[39;49m\u001b[39mTesla\u001b[39;49m\u001b[39m'\u001b[39;49m, \u001b[39m'\u001b[39;49m\u001b[39mModel S Plaid\u001b[39;49m\u001b[39m'\u001b[39;49m)\n\u001b[1;32m      2\u001b[0m audi \u001b[39m=\u001b[39m Automobilis(\u001b[39m\"\u001b[39m\u001b[39mAudi\u001b[39m\u001b[39m\"\u001b[39m, \u001b[39m\"\u001b[39m\u001b[39mA4\u001b[39m\u001b[39m\"\u001b[39m)\n\u001b[1;32m      4\u001b[0m \u001b[39mprint\u001b[39m(\u001b[39misinstance\u001b[39m(audi, Automobilis)) \u001b[39m# True\u001b[39;00m\n",
      "\u001b[0;31mTypeError\u001b[0m: Automobilis.__init__() missing 1 required positional argument: 'metai'"
     ]
    }
   ],
   "source": [
    "tesla_sp = Elektromobilis('Tesla', 'Model S Plaid')\n",
    "audi = Automobilis(\"Audi\", \"A4\")\n",
    "\n",
    "print(isinstance(audi, Automobilis)) # True\n",
    "print(isinstance(tesla_sp, Automobilis)) # True\n",
    "print(isinstance(audi, Elektromobilis)) # False\n",
    "print(isinstance(tesla_sp, Elektromobilis)) # True"
   ]
  },
  {
   "attachments": {},
   "cell_type": "markdown",
   "metadata": {},
   "source": [
    "# Užduotys\n",
    "\n",
    "# Pirma užduotis\n",
    "\n",
    "Sukurkite klasę \"Gyvunas\" ir klases \"Kate\" ir \"Suo\", kurios paveldi tėvų klasės metodus.\n",
    "Kiekviena paveldinti klasė turi turėti savo unikalų \"balsas\" ir \"judeti\" metodą.\n",
    "Sukurkite kelis skirtingoms klasėms priklausančius objektus, priskirkite jiems vardus ir iškvieskite jų metodus.\n"
   ]
  },
  {
   "cell_type": "code",
   "execution_count": null,
   "metadata": {},
   "outputs": [
    {
     "name": "stdout",
     "output_type": "stream",
     "text": [
      "Miau miau\n",
      "Kate žingsniuoja\n",
      "Au au\n",
      "Suo bėga\n"
     ]
    }
   ],
   "source": [
    "\n",
    "class Gyvunas:                                                              \n",
    "    def balsas(self):\n",
    "        pass\n",
    "\n",
    "    def judeti(self):\n",
    "        pass\n",
    "\n",
    "class Kate(Gyvunas):\n",
    "    def balsas(self):\n",
    "        print(\"Miau miau\")\n",
    "\n",
    "    def judeti(self):\n",
    "        print(\"Kate žingsniuoja\")\n",
    "\n",
    "class Suo(Gyvunas):\n",
    "    def balsas(self):\n",
    "        print(\"Au au\")\n",
    "\n",
    "    def judeti(self):\n",
    "        print(\"Suo bėga\")\n",
    "\n",
    "# Sukuriam kates ir šunis ir iškviečiam jų metodus\n",
    "kate1 = Kate()\n",
    "kate1.balsas()  # spausdinama \"Miau miau\"\n",
    "kate1.judeti()  # spausdinama \"Kate žingsniuoja\"\n",
    "\n",
    "suo1 = Suo()\n",
    "suo1.balsas()  # spausdinama \"Au au\"\n",
    "suo1.judeti()  # spausdinama \"Suo bėga\"\n",
    "\n",
    "\n",
    "# Šiame pavyzdyje \"Gyvunas\" yra bazinė klasė, kuri neturi jokių papildomų savybių ar metodų, \n",
    "# o jos vaikinės klasės \"Kate\" ir \"Suo\" paveldi \"balsas\" ir \"judeti\" metodus iš tėvų klasės, \n",
    "# tačiau juose yra perrašomi šie metodai, kad būtų pritaikyti konkrečios klasės gyvūnų elgesiui.\n",
    "\n",
    "\n"
   ]
  },
  {
   "cell_type": "code",
   "execution_count": null,
   "metadata": {},
   "outputs": [
    {
     "name": "stdout",
     "output_type": "stream",
     "text": [
      "Pilkis\n",
      "Ramiai guliu...\n",
      "Rainė\n",
      "Miau\n",
      "Einu lėtai\n",
      "Margis\n",
      "Au au!\n",
      "Bėgu greitai\n"
     ]
    }
   ],
   "source": [
    "# Pvz is mokymo medziagos githube\n",
    "\n",
    "\n",
    "class Gyvunas:\n",
    "    def __init__(self, vardas):\n",
    "        self.vardas = vardas\n",
    "\n",
    "    def balsas(self):\n",
    "        pass\n",
    "\n",
    "    def judeti(self):\n",
    "        print('Ramiai guliu...')\n",
    "\n",
    "class Kate(Gyvunas):\n",
    "    def balsas(self):\n",
    "        print('Miau')\n",
    "\n",
    "    def judeti(self):\n",
    "        print('Einu lėtai')\n",
    "\n",
    "class Suo(Gyvunas):\n",
    "    def balsas(self):\n",
    "        print('Au au!')\n",
    "\n",
    "    def judeti(self):\n",
    "        print('Bėgu greitai')\n",
    "\n",
    "\n",
    "seskas = Gyvunas('Pilkis')\n",
    "kate = Kate('Rainė')\n",
    "suo = Suo('Margis')\n",
    "\n",
    "print(seskas.vardas)\n",
    "seskas.balsas()\n",
    "seskas.judeti()\n",
    "\n",
    "print(kate.vardas)\n",
    "kate.balsas()\n",
    "kate.judeti()\n",
    "\n",
    "print(suo.vardas)\n",
    "suo.balsas()\n",
    "suo.judeti()"
   ]
  },
  {
   "attachments": {},
   "cell_type": "markdown",
   "metadata": {},
   "source": [
    "# Antra užduotis\n",
    "\n",
    "Patikrinkite pirmoje užduotyje sukurtų objektų priklausomybę esančioms klasėms.\n"
   ]
  },
  {
   "cell_type": "code",
   "execution_count": null,
   "metadata": {},
   "outputs": [
    {
     "name": "stdout",
     "output_type": "stream",
     "text": [
      "True\n",
      "False\n",
      "False\n",
      "True\n",
      "True\n",
      "False\n",
      "True\n",
      "False\n",
      "True\n"
     ]
    }
   ],
   "source": [
    "print(isinstance(seskas, Gyvunas))\n",
    "print(isinstance(seskas, Kate))\n",
    "print(isinstance(seskas, Suo))\n",
    "print(isinstance(kate, Gyvunas))\n",
    "print(isinstance(kate, Kate))\n",
    "print(isinstance(kate, Suo))\n",
    "print(isinstance(suo, Gyvunas))\n",
    "print(isinstance(suo, Kate))\n",
    "print(isinstance(suo, Suo))"
   ]
  },
  {
   "attachments": {},
   "cell_type": "markdown",
   "metadata": {},
   "source": [
    "# Abstrakcija \n",
    "\n",
    "Abstrakcija leidžia apibrėžti klasę, jos atributus ir metodus taip, kad juos būtų galima perpanaudoti, siekiant išvengti kodo kartojimosi ir mažinti kompleksiškumą.\n",
    "\n"
   ]
  },
  {
   "attachments": {},
   "cell_type": "markdown",
   "metadata": {},
   "source": [
    "# Vidinis panaudojimas"
   ]
  },
  {
   "cell_type": "code",
   "execution_count": 25,
   "metadata": {},
   "outputs": [
    {
     "name": "stdout",
     "output_type": "stream",
     "text": [
      "Volkswagen Golf 2023 pilka\n",
      "stoviu\n",
      "važiuoju 10 km/h greičiu\n",
      "važiuoju 20 km/h greičiu\n",
      "važiuoju 40 km/h greičiu\n",
      "važiuoju 200 km/h greičiu\n",
      "važiuoju 100 km/h greičiu\n",
      "važiuoju 50 km/h greičiu\n",
      "stoviu\n",
      "važiuoju 10 km/h greičiu atgal\n",
      "stoviu\n"
     ]
    }
   ],
   "source": [
    "class Automobilis:\n",
    "    def __init__(self, marke, modelis, metai=2023, spalva='pilka'):\n",
    "        self.marke = marke\n",
    "        self.modelis = modelis\n",
    "        self.metai = metai\n",
    "        self.spalva = spalva\n",
    "        self.max_greitis = 200\n",
    "        self.__greitis = 0\n",
    "\n",
    "    # šį privatų abstraktų metodą panaudosime keliose vietose\n",
    "    def __keisti_greiti(self, greitis):\n",
    "        if greitis > self.max_greitis:\n",
    "            greitis = self.max_greitis\n",
    "        if greitis < -10:\n",
    "            greitis = -10\n",
    "        self.__greitis = greitis\n",
    "        return greitis\n",
    "\n",
    "    # šį viešą abstraktų metodą irgi panaudosime keliose vietose\n",
    "    def vaziuoti(self):\n",
    "        greitis = self.__greitis\n",
    "        if greitis > 0:\n",
    "            print(f\"važiuoju {self.__greitis} km/h greičiu\")\n",
    "        elif greitis < 0:\n",
    "            print(f\"važiuoju {abs(self.__greitis)} km/h greičiu atgal\")\n",
    "        else:\n",
    "            print(\"stoviu\")\n",
    "\n",
    "    def didinti_greiti(self, pagreitis=10):\n",
    "        # panaudojame privatų metodą maksimalaus greičio ribojimui\n",
    "        self.__keisti_greiti(self.__greitis + pagreitis)\n",
    "        # panaudojame vieša metodą važiavimo situacijai išvesti\n",
    "        self.vaziuoti()\n",
    "\n",
    "    def mazinti_greiti(self, pagreitis=10):\n",
    "        # panaudojame privatų metodą maksimalaus greičio ribojimui\n",
    "        self.__keisti_greiti(self.__greitis - pagreitis)\n",
    "        # panaudojame vieša metodą važiavimo situacijai išvesti\n",
    "        self.vaziuoti()\n",
    "    \n",
    "\n",
    "guolis = Automobilis(\"Volkswagen\", \"Golf\")\n",
    "print(guolis.marke, guolis.modelis, guolis.metai, guolis.spalva)\n",
    "guolis.vaziuoti()\n",
    "guolis.didinti_greiti()\n",
    "guolis.didinti_greiti()\n",
    "guolis.didinti_greiti(20)\n",
    "guolis.didinti_greiti(170)\n",
    "guolis.mazinti_greiti(100)\n",
    "guolis.mazinti_greiti(50)\n",
    "guolis.mazinti_greiti(50)\n",
    "guolis.mazinti_greiti()\n",
    "guolis.didinti_greiti()\n"
   ]
  },
  {
   "attachments": {},
   "cell_type": "markdown",
   "metadata": {},
   "source": [
    "# Abstrakčių savybių ir metodų panaudojimas paveldėtose klasėse\n",
    "\n",
    "Pavyzdys - paveldėtose funkcijose mes visus metodus tiesiog naudojame:"
   ]
  },
  {
   "cell_type": "code",
   "execution_count": 26,
   "metadata": {},
   "outputs": [
    {
     "name": "stdout",
     "output_type": "stream",
     "text": [
      "Tesla Model-3 2023 pilka\n",
      "stoviu\n",
      "važiuoju 100 km/h greičiu\n"
     ]
    }
   ],
   "source": [
    "class Elektromobilis(Automobilis):\n",
    "    pass\n",
    "\n",
    "\n",
    "tesla = Elektromobilis(\"Tesla\", \"Model-3\")\n",
    "print(tesla.marke, tesla.modelis, tesla.metai, tesla.spalva) # Tesla Model 3 2023 pilka\n",
    "tesla.vaziuoti() # stoviu\n",
    "tesla.didinti_greiti(100) # važiuoju 100 km/h greičiu"
   ]
  },
  {
   "attachments": {},
   "cell_type": "markdown",
   "metadata": {},
   "source": [
    "# Abstraktus __init__ metodas su neribotais raktiniais argumentais"
   ]
  },
  {
   "cell_type": "code",
   "execution_count": 27,
   "metadata": {},
   "outputs": [
    {
     "name": "stdout",
     "output_type": "stream",
     "text": [
      "Volkswagen Golf, 2023 m. pilka. Variklis: 1.6ti benzinas. Max. 200 km/h\n",
      "Opel Astra, 2023 m. pilka. Variklis: 1.6 benzinas. Max. 160 km/h\n"
     ]
    }
   ],
   "source": [
    "class Automobilis:\n",
    "    def __init__(self, marke, modelis, metai=2023, spalva='pilka', **kwargs):\n",
    "        self.marke = marke\n",
    "        self.modelis = modelis\n",
    "        self.metai = metai\n",
    "        self.spalva = spalva\n",
    "        self.max_greitis = 200\n",
    "        for key, value in kwargs.items():\n",
    "            setattr(self, key, value)\n",
    "        self.__greitis = 0\n",
    "\n",
    "guolis = Automobilis(\"Volkswagen\", \"Golf\", kuro_tipas=\"benzinas\", variklis=\"1.6ti\")\n",
    "print(f\"{guolis.marke} {guolis.modelis}, {guolis.metai} m. {guolis.spalva}. Variklis: {guolis.variklis} {guolis.kuro_tipas}. Max. {guolis.max_greitis} km/h\")\n",
    "# Volkswagen Golf, 2023 m. pilka. Variklis: 1.6ti benzinas. Max. 200 km/h\n",
    "astra = Automobilis(\"Opel\", \"Astra\", kuro_tipas=\"benzinas\", variklis=\"1.6\", max_greitis=160)\n",
    "print(f\"{astra.marke} {astra.modelis}, {astra.metai} m. {astra.spalva}. Variklis: {astra.variklis} {astra.kuro_tipas}. Max. {astra.max_greitis} km/h\")\n",
    "# Opel Astra, 2023 m. pilka. Variklis: 1.6 benzinas. Max. 160 km/h"
   ]
  },
  {
   "attachments": {},
   "cell_type": "markdown",
   "metadata": {},
   "source": [
    "Čia atkreipkite dėmesį, kad numatytą reikšmę galima pakeisti per kwargs, jeigu kwargs apdorojimas vyksta po numatytos reikšmės nustatymo."
   ]
  },
  {
   "attachments": {},
   "cell_type": "markdown",
   "metadata": {},
   "source": [
    "# Abstrakti funkcija informacijos apie klasės objektą spausdinimui"
   ]
  },
  {
   "cell_type": "code",
   "execution_count": 28,
   "metadata": {},
   "outputs": [
    {
     "name": "stdout",
     "output_type": "stream",
     "text": [
      "Volkswagen Golf, 2023 m. pilka. Variklis: 1.6ti benzinas. Max. 200 km/h\n",
      "Opel Astra, 2023 m. pilka. Variklis: 1.6 benzinas. Max. 160 km/h\n"
     ]
    }
   ],
   "source": [
    "def informacija(obj):\n",
    "    print(f\"{obj.marke} {obj.modelis}, {obj.metai} m. {obj.spalva}. Variklis: {obj.variklis} {astra.kuro_tipas}. Max. {obj.max_greitis} km/h\")    \n",
    "\n",
    "informacija(guolis)\n",
    "informacija(astra)"
   ]
  },
  {
   "attachments": {},
   "cell_type": "markdown",
   "metadata": {},
   "source": [
    " # Uzduotys\n",
    "\n",
    "# Pirma užduotis\n",
    "\n",
    "Parašykite klasę \"Baseinas\", kuri saugo informaciją apie vandens talpą ir dabartinį kiekį baseine.\n",
    "\n",
    "Klasė turi turėti metodus vandens papildymui ir nuleidimui bei esamo vandens kiekio patikrinimui. Vandens kiekio keitimui panaudokite abstraktų metodą.\n",
    "Sukurkite objektą ir kelis kartus iškvieskite klasės metodus."
   ]
  },
  {
   "cell_type": "code",
   "execution_count": 45,
   "metadata": {},
   "outputs": [
    {
     "name": "stdout",
     "output_type": "stream",
     "text": [
      "100\n",
      "Papildyta 900 litrų vandens\n",
      "1000\n",
      "Nuleista 1000 litrų vandens\n",
      "0\n"
     ]
    }
   ],
   "source": [
    "class Baseinas:\n",
    "    def __init__(self, talpa, kiekis=0):\n",
    "        self.talpa = talpa\n",
    "        self.kiekis = kiekis\n",
    "\n",
    "    def papildyti(self, kiekis):\n",
    "        if self.kiekis + kiekis > self.talpa:\n",
    "            print(\"Klaida: baseinas perpildytas\")\n",
    "        else:\n",
    "            self.kiekis += kiekis\n",
    "            print(f\"Papildyta {kiekis} litrų vandens\")\n",
    "\n",
    "    def nuleisti(self, kiekis):\n",
    "        if self.kiekis - kiekis < 0:\n",
    "            print(\"Klaida: baseine nėra tiek vandens\")\n",
    "        else:\n",
    "            self.kiekis -= kiekis\n",
    "            print(f\"Nuleista {kiekis} litrų vandens\")\n",
    " \n",
    "    def kiekis(self):\n",
    "        return self.kiekis\n",
    "\n",
    "baseinas = Baseinas(1000, 100)\n",
    "print(baseinas.kiekis)\n",
    "\n",
    "baseinas.papildyti(900) \n",
    "print(baseinas.kiekis) \n",
    "\n",
    "baseinas.nuleisti(1000) \n",
    "print(baseinas.kiekis)"
   ]
  },
  {
   "cell_type": "code",
   "execution_count": 46,
   "metadata": {},
   "outputs": [
    {
     "name": "stdout",
     "output_type": "stream",
     "text": [
      "Baseino talpa: 500, dabartinis kiekis: 200\n",
      "Baseino kiekis: 500\n",
      "Sumazintas kiekis: 0\n"
     ]
    }
   ],
   "source": [
    "# Antras pavizdys\n",
    "\n",
    "class Baseinas():\n",
    "    def __init__(self, talpa, dabartinis_kiekis):\n",
    "        self.talpa = talpa\n",
    "        self.__dabartinis_kiekis = dabartinis_kiekis\n",
    "\n",
    "    def __keisti_kieki(self, naujas_kiekis):\n",
    "        if naujas_kiekis <= self.talpa and naujas_kiekis >= 0:\n",
    "            self.__dabartinis_kiekis = naujas_kiekis\n",
    "        else:\n",
    "            print('Kiekis nepakeistas')\n",
    "\n",
    "    def didinti_kieki(self, keiciamas_kiekis):\n",
    "        self.__keisti_kieki(self.__dabartinis_kiekis + abs(keiciamas_kiekis))\n",
    "        return self.__dabartinis_kiekis\n",
    "\n",
    "    def mazinti_kieki(self, keiciamas_kiekis):\n",
    "        self.__keisti_kieki(self.__dabartinis_kiekis - abs(keiciamas_kiekis))\n",
    "        return self.__dabartinis_kiekis\n",
    "\n",
    "    def gauti_dabartini_kieki(self):\n",
    "        return self.__dabartinis_kiekis\n",
    "\n",
    "\n",
    "vichy = Baseinas(500, 200)\n",
    "print(f\"Baseino talpa: {vichy.talpa}, dabartinis kiekis: {vichy.gauti_dabartini_kieki()}\")\n",
    "print(f\"Baseino kiekis: {vichy.didinti_kieki(300)}\")\n",
    "print(f\"Sumazintas kiekis: {vichy.mazinti_kieki(500)}\")"
   ]
  },
  {
   "attachments": {},
   "cell_type": "markdown",
   "metadata": {},
   "source": [
    "# Polimorfizmas \n",
    "\n",
    "Polimorfizmas yra vienas iš objektinio programavimo principų, kuris leidžia vienai funkcijai ar metodui veikti su skirtingais objektais. Tai reiškia, kad keli objektai gali būti naudojami taip pat, nors jie turi skirtingus tipus arba implementacijas.\n",
    "\n",
    "Polimorfizmas padeda padidinti programos lankstumą, patogumą ir tvarkingumą, nes kodas yra daug lengviau pritaikomas pokyčiams."
   ]
  },
  {
   "attachments": {},
   "cell_type": "markdown",
   "metadata": {},
   "source": [
    "# Metodo perrašymas \n",
    "\n",
    "Metodo perrašymasa yra galimybė perrašyti tėvinių klasės metodą paveldėtoje klasėje ir suteikti jam naują implementaciją. Tai yra galima dėl to, kad paveldėtoje klasėje jau yra aprašytas tėvinės klasės metodas su tokiu pat pavadinimu.\n",
    "\n",
    "Metodų perrašymas leidžia mums turėti specializuotas klases, kurios gali keisti arba praplėsti tėvinės klasės funkcionalumą, nepakeičiant tėvinės klasės. Metodas paveldėtoje klasėje gali turėti ir papildomų argumentų, kurie nėra būtini tėvinėje klasėje.\n",
    "\n"
   ]
  },
  {
   "cell_type": "code",
   "execution_count": 51,
   "metadata": {},
   "outputs": [],
   "source": [
    "class Automobilis:\n",
    "    def __init__(self, marke, modelis):\n",
    "        self.marke = marke\n",
    "        self.modelis = modelis\n",
    "\n",
    "    def greitis(self):\n",
    "        print('Šis automobilis važiuoja leistinu greičiu')\n",
    "\n",
    "\n",
    "class SportinisAutomobilis(Automobilis):\n",
    "    def greitis(self):\n",
    "        print('Šis automobilis gali važiuoti iki 300 km/h')\n",
    "\n",
    "\n",
    "class IstorinisAutomobilis(Automobilis):\n",
    "    def greitis(self):\n",
    "        print('Šis automobilis gali važiuoti iki 100 km/h')\n",
    "\n",
    "\n",
    "def informacija(automobilis):\n",
    "    automobilis.greitis()"
   ]
  },
  {
   "attachments": {},
   "cell_type": "markdown",
   "metadata": {},
   "source": [
    "Iškvietę sukurtą funkciją su skirtingoms klasės priklausančiais objektais, gausime skirtingą rezultatą:"
   ]
  },
  {
   "cell_type": "code",
   "execution_count": 52,
   "metadata": {},
   "outputs": [
    {
     "name": "stdout",
     "output_type": "stream",
     "text": [
      "Šis automobilis gali važiuoti iki 300 km/h\n",
      "Šis automobilis gali važiuoti iki 100 km/h\n",
      "Šis automobilis važiuoja leistinu greičiu\n"
     ]
    }
   ],
   "source": [
    "ferrari = SportinisAutomobilis('Ferrari', '458 Italia')\n",
    "ford = IstorinisAutomobilis('Ford', 'Model T')\n",
    "audi = Automobilis(\"Audi\", \"A4\")\n",
    "\n",
    "informacija(ferrari) # Šis automobilis gali važiuoti iki 300 km/h\n",
    "informacija(ford) # Šis automobilis gali važiuoti iki 100 km/h\n",
    "informacija(audi) # Šis automobilis važiuoja leistinu greičiu"
   ]
  },
  {
   "attachments": {},
   "cell_type": "markdown",
   "metadata": {},
   "source": [
    "# Paveldeto metodo iškvietimas\n",
    "\n",
    "Kai norite panaudoti paveldėtus tėvinės klasės metodus ir savybes, tačiau tuo pat metu norite pakeisti jų veikimą naudojama super() funkcija. Tai leidžia mums išlaikyti tėvinės klasės funkcionalumą, tuo pat metu pridedant savo papildomą funkcionalumą. Pvz.:"
   ]
  },
  {
   "cell_type": "code",
   "execution_count": 53,
   "metadata": {},
   "outputs": [],
   "source": [
    "class Automobilis:\n",
    "    def __init__(self, marke, modelis):\n",
    "        self.marke = marke\n",
    "        self.modelis = modelis\n",
    "\n",
    "    def greitis(self):\n",
    "        print('Šis automobilis važiuoja leistinu greičiu')\n",
    "\n",
    "\n",
    "class SportinisAutomobilis(Automobilis):\n",
    "    def greitis(self):\n",
    "        super().greitis()\n",
    "        print('Šis automobilis gali važiuoti iki 300 km/h')\n",
    "\n",
    "\n",
    "def informacija(automobilis):\n",
    "    automobilis.greitis()"
   ]
  },
  {
   "attachments": {},
   "cell_type": "markdown",
   "metadata": {},
   "source": [
    "Iškvietę sukurtą funkciją su objektu, kuris paveldi tėvinės klasės metodą, gausime toki rezultatą:"
   ]
  },
  {
   "cell_type": "code",
   "execution_count": 54,
   "metadata": {},
   "outputs": [
    {
     "name": "stdout",
     "output_type": "stream",
     "text": [
      "Šis automobilis važiuoja leistinu greičiu\n",
      "Šis automobilis gali važiuoti iki 300 km/h\n"
     ]
    }
   ],
   "source": [
    "ferrari = SportinisAutomobilis('Ferrari', '458 Italia')\n",
    "\n",
    "informacija(ferrari)    # Šis automobilis važiuoja leistinu greičiu\n",
    "                        # Šis automobilis gali važiuoti iki 300 km/h"
   ]
  },
  {
   "attachments": {},
   "cell_type": "markdown",
   "metadata": {},
   "source": [
    "# Pirma užduotis\n",
    "\n",
    "Sukurkite darbuotojų klasę su savybėmis vardas, pavarde ir atlyginimas, kuri turėtų metodą atspausdinantį darbuotojo informaciją.\n",
    "Sukurkite administratoriaus klasę, kuri paveldėtų savybes iš darbuotojo klasės.\n",
    "Sukurkite vadovo klasę, kuri paveldėtų savybes iš darbuotojo klasės ir turėtų papildomą savybę \"premija\" bei metodą, kuris atspausdins darbuotojo informaciją.\n",
    "Sukurkite kelis kiekvienos klasės objektus ir iškvieskite informacijos spausdinimo metodą."
   ]
  },
  {
   "cell_type": "code",
   "execution_count": 55,
   "metadata": {},
   "outputs": [
    {
     "name": "stdout",
     "output_type": "stream",
     "text": [
      "Darbuotojas Jonas Jonaitis, atlyginimas: 1500\n",
      "Darbuotojas Petras Petraitis, atlyginimas: 2000\n",
      "Darbuotojas Rasa Rasiene, atlyginimas: 1200\n",
      "Darbuotojas Antanas Antanaitis, atlyginimas: 1300\n",
      "Vadovas Mantas Mantaitis, atlyginimas: 3000, premija: 1000\n",
      "Vadovas Greta Gretaite, atlyginimas: 3500, premija: 1500\n"
     ]
    }
   ],
   "source": [
    "class Darbuotojas:\n",
    "    def __init__(self, vardas, pavarde, atlyginimas):\n",
    "        self.vardas = vardas\n",
    "        self.pavarde = pavarde\n",
    "        self.atlyginimas = atlyginimas\n",
    "        \n",
    "    def spausdinti_info(self):\n",
    "        print(f\"Darbuotojas {self.vardas} {self.pavarde}, atlyginimas: {self.atlyginimas}\")\n",
    "\n",
    "\n",
    "class Administratorius(Darbuotojas):\n",
    "    pass\n",
    "\n",
    "\n",
    "class Vadovas(Darbuotojas):\n",
    "    def __init__(self, vardas, pavarde, atlyginimas, premija):\n",
    "        super().__init__(vardas, pavarde, atlyginimas)\n",
    "        self.premija = premija\n",
    "        \n",
    "    def spausdinti_info(self):\n",
    "        print(f\"Vadovas {self.vardas} {self.pavarde}, atlyginimas: {self.atlyginimas}, premija: {self.premija}\")\n",
    "        \n",
    "\n",
    "# Sukuriam darbuotojus\n",
    "darbuotojas1 = Darbuotojas(\"Jonas\", \"Jonaitis\", 1500)\n",
    "darbuotojas2 = Darbuotojas(\"Petras\", \"Petraitis\", 2000)\n",
    "\n",
    "# Sukuriam administratorius\n",
    "admin1 = Administratorius(\"Rasa\", \"Rasiene\", 1200)\n",
    "admin2 = Administratorius(\"Antanas\", \"Antanaitis\", 1300)\n",
    "\n",
    "# Sukuriam vadovus\n",
    "vadovas1 = Vadovas(\"Mantas\", \"Mantaitis\", 3000, 1000)\n",
    "vadovas2 = Vadovas(\"Greta\", \"Gretaite\", 3500, 1500)\n",
    "\n",
    "# Spausdinam informacija apie darbuotojus\n",
    "darbuotojas1.spausdinti_info()\n",
    "darbuotojas2.spausdinti_info()\n",
    "\n",
    "# Spausdinam informacija apie administratorius\n",
    "admin1.spausdinti_info()\n",
    "admin2.spausdinti_info()\n",
    "\n",
    "# Spausdinam informacija apie vadovus\n",
    "vadovas1.spausdinti_info()\n",
    "vadovas2.spausdinti_info()"
   ]
  },
  {
   "attachments": {},
   "cell_type": "markdown",
   "metadata": {},
   "source": [
    "# Dokumentavimas ir Anotacijos"
   ]
  },
  {
   "attachments": {},
   "cell_type": "markdown",
   "metadata": {},
   "source": [
    "# Docstrings (dokumentavimas)\n",
    "\n",
    "Docstrings yra eilutės, kurios rašomos virš modulio, klasės, funkcijos ar metodo ir aprašo jų paskirtį, veikimą, parametrus ir grąžinamas reikšmes. Docstrings rašomi tarp trijų kabučių (t.y. '''docstring''' arba \"\"\"docstring\"\"\"), kai modulio, klasės, funkcijos ar metodo apibrėžimo eilutės prasideda nuo naujos eilutės.\n",
    "\n",
    "Docstrings yra galingas dokumentavimo įrankis, kuris padeda kitoms programavimo kalboms ir programuotojams suprasti jūsų kodo veikimą. Be to, docstrings yra labai naudingi, kai naudojate interaktyvią Python aplinką arba automatinį dokumentavimą.\n",
    "\n",
    "Štai keli pavyzdžiai, kaip galite naudoti docstrings Python programavimo kalboje:"
   ]
  },
  {
   "attachments": {},
   "cell_type": "markdown",
   "metadata": {},
   "source": [
    "# Docstring modulio aprašymui:"
   ]
  },
  {
   "cell_type": "code",
   "execution_count": null,
   "metadata": {},
   "outputs": [],
   "source": [
    "'''Modulis, skirtas duomenų apdorojimui'''\n",
    "import pandas as pd\n",
    "\n",
    "def skaityti_duomenis(failo_pavadinimas):\n",
    "    '''\n",
    "    Funkcija, kuri skaito duomenis iš CSV formato failo.\n",
    "    \n",
    "    Argumentai:\n",
    "    failo_pavadinimas (str): CSV formato failo pavadinimas\n",
    "    \n",
    "    Grąžinamos reikšmės:\n",
    "    pd.DataFrame: lentelė su duomenimis\n",
    "    \n",
    "    '''\n",
    "    duomenys = pd.read_csv(failo_pavadinimas)\n",
    "    return duomenys\n",
    "\n",
    "# Šiame pavyzdyje modulis ir funkcija turi docstrings. Modulio docstring trumpai aprašo modulio paskirtį, \n",
    "# o funkcijos docstring aprašo funkcijos paskirtį, argumentus ir grąžinamas reikšmes.\n",
    "\n"
   ]
  },
  {
   "attachments": {},
   "cell_type": "markdown",
   "metadata": {},
   "source": [
    "# Docstring klasės aprašymui"
   ]
  },
  {
   "cell_type": "code",
   "execution_count": null,
   "metadata": {},
   "outputs": [],
   "source": [
    "class Studentas:\n",
    "    '''Klasė, skirta studentų duomenims laikyti'''\n",
    "    \n",
    "    def __init__(self, vardas, pavarde, amzius):\n",
    "        '''\n",
    "        Konstruktorius, skirtas sukurti naują Studentas objektą.\n",
    "        \n",
    "        Argumentai:\n",
    "        vardas (str): studento vardas\n",
    "        pavarde (str): studento pavardė\n",
    "        amzius (int): studento amžius\n",
    "        \n",
    "        Grąžinamos reikšmės:\n",
    "        None\n",
    "        '''\n",
    "        self.vardas = vardas\n",
    "        self.pavarde = pavarde\n",
    "        self.amzius = amzius\n",
    "        \n",
    "    def pilnas_vardas(self):\n",
    "        '''\n",
    "        Funkcija, kuri sugeneruoja studento pilną vardą.\n",
    "        \n",
    "        Grąžinamos reikšmės:\n",
    "        str: studento pilnas vardas\n",
    "        '''\n",
    "        return f'{self.vardas} {self.pavarde}'\n",
    "    \n",
    "\n",
    "    # Šiame pavyzdyje klasės metodo docstring aprašo, kad funkcija pilnas_vardas() grąžina studento pilną vardą, kuris yra eilutės tipo duomenų tipas."
   ]
  },
  {
   "attachments": {},
   "cell_type": "markdown",
   "metadata": {},
   "source": [
    "# Docstring funkcijos aprašymui"
   ]
  },
  {
   "cell_type": "code",
   "execution_count": null,
   "metadata": {},
   "outputs": [],
   "source": [
    "def suma(a, b):\n",
    "    '''\n",
    "    Funkcija, kuri suskaičiuoja dviejų skaičių sumą.\n",
    "    \n",
    "    Argumentai:\n",
    "    a (int): pirmasis skaičius\n",
    "    b (int): antrasis skaičius\n",
    "    \n",
    "    Grąžinamos reikšmės:\n",
    "    int: sumos reikšmė\n",
    "    \n",
    "    '''\n",
    "    return a + b\n",
    "\n",
    "\n",
    "# Šiame pavyzdyje funkcija turi docstring, kuris aprašo funkcijos paskirtį, argumentus ir grąžinamas reikšmes."
   ]
  },
  {
   "attachments": {},
   "cell_type": "markdown",
   "metadata": {},
   "source": [
    "# Docstring metodo aprašymui"
   ]
  },
  {
   "attachments": {},
   "cell_type": "markdown",
   "metadata": {},
   "source": [
    "Šiame pavyzdyje klasės metodo docstring aprašo metodo paskirtį ir grąžinamas reikšmes.\n",
    "\n"
   ]
  },
  {
   "cell_type": "code",
   "execution_count": null,
   "metadata": {},
   "outputs": [],
   "source": [
    "class Automobilis:\n",
    "    '''Klasė, skirta automobilių duomenims laikyti'''\n",
    "    \n",
    "    def __init__(self, marke, modelis, metai):\n",
    "        '''\n",
    "        Konstruktorius, skirtas sukurti naują Automobilis objektą.\n",
    "        \n",
    "        Argumentai:\n",
    "        marke (str): automobilio markė\n",
    "        modelis (str): automobilio modelis\n",
    "        metai (int): automobilio gamybos metai\n",
    "        \n",
    "        Grąžinamos reikšmės:\n",
    "        None\n",
    "        '''\n",
    "        self.marke = marke\n",
    "        self.modelis = modelis\n",
    "        self.metai = metai\n",
    "        \n",
    "    def info(self):\n",
    "        '''\n",
    "        Funkcija, kuri atspausdina automobilio informaciją.\n",
    "        \n",
    "        Grąžinamos reikšmės:\n",
    "        None\n",
    "        '''\n",
    "        print(f'{self.marke} {self.modelis}, {self.metai} metai')\n",
    "\n",
    "\n",
    "# Šiame pavyzdyje klasės metodo docstring aprašo metodo paskirtį ir grąžinamas reikšmes.\n",
    "\n",
    "# Kaip matote, docstrings yra naudingas dokumentavimo įrankis, kuris padeda kitiems programuotojams suprasti jūsų kodo veikimą. \n",
    "#  Juos rekomenduojama naudoti kiekvienoje Python programoje.\n",
    "\n",
    "# ❗ Svarbu pastebėti, kad docstring formatas nėra standartizuotas. \n",
    "# Dažniausiai naudojamas formatas yra PEP 257, kuris aprašo, kaip turėtų būti struktūruojamas docstring tekstas. \n",
    "# Tačiau galite naudoti bet kokį savo pasirinktą formatą, kuris atitinka jūsų poreikius ir yra lengvai suprantamas kitų programuotojų."
   ]
  },
  {
   "attachments": {},
   "cell_type": "markdown",
   "metadata": {},
   "source": [
    "# Anotacijos\n",
    "\n",
    "\n",
    "Python anotacijos yra papildoma informacija apie kintamųjų, funkcijų ir metodų tipus, kuri yra pridedama tiesiogiai prie jų apibrėžimų. Šios anotacijos gali būti naudingos programuotojams, kadangi jos gali padėti geriau suprasti kodo funkcionalumą, palengvinti programavimo klaidų suradimą ir gali būti naudingos statinio kodo analizėje.\n",
    "\n",
    "Norint naudoti anotacijas Python kode, reikia pridėti jas prie kintamųjų, funkcijų ar metodų apibrėžimų kaip papildomą argumentą, kuris aprašo tipą. Štai keletas pavyzdžių, kaip tai galima padaryti:\n",
    "\n"
   ]
  },
  {
   "cell_type": "code",
   "execution_count": null,
   "metadata": {},
   "outputs": [],
   "source": [
    "def sum_numbers(a: int, b: int) -> int:\n",
    "    return a + b\n",
    "\n",
    "\n",
    "# Ši funkcija turi du argumentus a ir b, kurie yra sveikieji skaičiai (int), o grąžinamas reikšmės tipas yra taip pat sveikasis skaičius (int)."
   ]
  },
  {
   "cell_type": "code",
   "execution_count": null,
   "metadata": {},
   "outputs": [],
   "source": [
    "class Person:\n",
    "    def __init__(self, name: str, age: int):\n",
    "        self.name = name\n",
    "        self.age = age\n",
    "\n",
    "\n",
    "# Ši klasė turi du kintamuosius name ir age, kurie yra atitinkamai eilutės (str) ir sveikieji skaičiai (int)."
   ]
  },
  {
   "attachments": {},
   "cell_type": "markdown",
   "metadata": {},
   "source": [
    "# Klasės anotacija su tipais parametrų ir grąžinimo reikšmės:"
   ]
  },
  {
   "cell_type": "code",
   "execution_count": null,
   "metadata": {},
   "outputs": [],
   "source": [
    "class Person:\n",
    "    def __init__(self, name: str, age: int) -> None:\n",
    "        self.name = name\n",
    "        self.age = age\n",
    "    \n",
    "    def get_age(self) -> int:\n",
    "        return self.age"
   ]
  },
  {
   "attachments": {},
   "cell_type": "markdown",
   "metadata": {},
   "source": [
    "Metodo anotacija su keliomis reikšmėmis grąžinimo tipui ir parametramis:\n",
    "\n"
   ]
  },
  {
   "cell_type": "code",
   "execution_count": null,
   "metadata": {},
   "outputs": [],
   "source": [
    "class Circle:\n",
    "    def __init__(self, radius: float) -> None:\n",
    "        self.radius = radius\n",
    "\n",
    "    def area(self, radius: float) -> float:\n",
    "        \"\"\"\n",
    "        A function to calculate the area of a circle.\n",
    "        Returns the area of the circle.\n",
    "        \"\"\"\n",
    "        return math.pi * radius ** 2"
   ]
  },
  {
   "attachments": {},
   "cell_type": "markdown",
   "metadata": {},
   "source": [
    "❗ Python anotacijos nėra privalomos, tačiau jos gali padėti geriau suprasti kodo funkcionalumą, palengvinti programavimo klaidų suradimą ir gali būti naudingos statinio kodo analizėje. Taigi, jei norite pasinaudoti Python anotacijomis savo kode, jums reikia tiesiog pridėti papildomą argumentą prie kintamųjų, funkcijų ar metodų apibrėžimų, kuris aprašo tipą."
   ]
  }
 ],
 "metadata": {
  "kernelspec": {
   "display_name": "Python 3",
   "language": "python",
   "name": "python3"
  },
  "language_info": {
   "codemirror_mode": {
    "name": "ipython",
    "version": 3
   },
   "file_extension": ".py",
   "mimetype": "text/x-python",
   "name": "python",
   "nbconvert_exporter": "python",
   "pygments_lexer": "ipython3",
   "version": "3.11.3"
  },
  "orig_nbformat": 4
 },
 "nbformat": 4,
 "nbformat_minor": 2
}
