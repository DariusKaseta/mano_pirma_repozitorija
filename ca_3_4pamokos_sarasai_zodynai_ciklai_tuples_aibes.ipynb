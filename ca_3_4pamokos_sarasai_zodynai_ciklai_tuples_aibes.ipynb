{
 "cells": [
  {
   "attachments": {},
   "cell_type": "markdown",
   "metadata": {},
   "source": [
    "# Sarasai\n"
   ]
  },
  {
   "cell_type": "code",
   "execution_count": 2,
   "metadata": {},
   "outputs": [
    {
     "name": "stdout",
     "output_type": "stream",
     "text": [
      "[1, 2, 3, 4, 5]\n"
     ]
    }
   ],
   "source": [
    "skaiciai = [1, 2, 3, 4, 5]\n",
    "print(skaiciai)"
   ]
  },
  {
   "cell_type": "code",
   "execution_count": 78,
   "metadata": {},
   "outputs": [
    {
     "ename": "NameError",
     "evalue": "name 'geri' is not defined",
     "output_type": "error",
     "traceback": [
      "\u001b[0;31m---------------------------------------------------------------------------\u001b[0m",
      "\u001b[0;31mNameError\u001b[0m                                 Traceback (most recent call last)",
      "Cell \u001b[0;32mIn[78], line 1\u001b[0m\n\u001b[0;32m----> 1\u001b[0m zodziai \u001b[39m=\u001b[39m [geri, buvo, pietus]\n\u001b[1;32m      2\u001b[0m \u001b[39mprint\u001b[39m(zodziai)\n",
      "\u001b[0;31mNameError\u001b[0m: name 'geri' is not defined"
     ]
    }
   ],
   "source": [
    "zodziai = [\"geri\", \"buvo\", \"pietus\"]\n",
    "print(zodziai)"
   ]
  },
  {
   "cell_type": "code",
   "execution_count": 4,
   "metadata": {},
   "outputs": [
    {
     "name": "stdout",
     "output_type": "stream",
     "text": [
      "5\n"
     ]
    }
   ],
   "source": [
    "# pasiekiami saraso elementai\n",
    "\n",
    "print(skaiciai[-1])"
   ]
  },
  {
   "cell_type": "code",
   "execution_count": 5,
   "metadata": {},
   "outputs": [
    {
     "name": "stdout",
     "output_type": "stream",
     "text": [
      "[1, 2, 3]\n",
      "[3, 4, 5]\n",
      "[3, 4]\n"
     ]
    }
   ],
   "source": [
    "print(skaiciai[:3])\n",
    "\n",
    "print(skaiciai[2:])\n",
    "\n",
    "print(skaiciai[2:4])"
   ]
  },
  {
   "cell_type": "code",
   "execution_count": 6,
   "metadata": {},
   "outputs": [
    {
     "name": "stdout",
     "output_type": "stream",
     "text": [
      "[5, 3, 1]\n"
     ]
    }
   ],
   "source": [
    "# isveda kas antra skaiciu, nuo galo\n",
    "\n",
    "print(skaiciai[::-2])"
   ]
  },
  {
   "cell_type": "code",
   "execution_count": 7,
   "metadata": {},
   "outputs": [
    {
     "name": "stdout",
     "output_type": "stream",
     "text": [
      "atsaren seluas ,aneid agniteil izarG\n"
     ]
    }
   ],
   "source": [
    "\n",
    "sakinys = \"Grazi lietinga diena, saules nerasta\"\n",
    "print(sakinys[::-1])"
   ]
  },
  {
   "cell_type": "code",
   "execution_count": 8,
   "metadata": {},
   "outputs": [
    {
     "name": "stdout",
     "output_type": "stream",
     "text": [
      "['Grazi', 'lietinga', 'diena', 'saules', 'nerasta']\n"
     ]
    }
   ],
   "source": [
    "sakinys = sakinys.replace(\",\", \"\")\n",
    "sakinio_zodziai = sakinys.split()\n",
    "print(sakinio_zodziai)"
   ]
  },
  {
   "cell_type": "code",
   "execution_count": 9,
   "metadata": {},
   "outputs": [
    {
     "name": "stdout",
     "output_type": "stream",
     "text": [
      "[1, 2, 3, 4, 5, 6]\n"
     ]
    }
   ],
   "source": [
    "# pridedamas skaicius su append metodu, norima indeksa nurodom\n",
    "\n",
    "skaiciai.append(6)\n",
    "print(skaiciai)"
   ]
  },
  {
   "cell_type": "code",
   "execution_count": 10,
   "metadata": {},
   "outputs": [
    {
     "name": "stdout",
     "output_type": "stream",
     "text": [
      "[1, 2, 3, 4, 5, 6, 7, 8, 9]\n"
     ]
    }
   ],
   "source": [
    "# ispleciamas sarasas su extend metodu\n",
    "\n",
    "kiti_skaiciai = [7, 8, 9]\n",
    "skaiciai.extend(kiti_skaiciai)\n",
    "print(skaiciai)"
   ]
  },
  {
   "cell_type": "code",
   "execution_count": 11,
   "metadata": {},
   "outputs": [
    {
     "name": "stdout",
     "output_type": "stream",
     "text": [
      "[1, 2, 3, 11, 4, 5, 6, 7, 8, 9]\n"
     ]
    }
   ],
   "source": [
    "# idedamas skaicius i sarasa su insert funkcija\n",
    "\n",
    "skaiciai.insert(3, 11)\n",
    "print(skaiciai)"
   ]
  },
  {
   "cell_type": "code",
   "execution_count": 12,
   "metadata": {},
   "outputs": [
    {
     "name": "stdout",
     "output_type": "stream",
     "text": [
      "[1, 2, 3, 11, 4, 5, 6, 8, 9]\n"
     ]
    }
   ],
   "source": [
    "# isemamas elementas ties nurodytu sarase indeksu, su remove funkcija\n",
    "\n",
    "skaiciai.remove(7)\n",
    "print(skaiciai)"
   ]
  },
  {
   "cell_type": "code",
   "execution_count": 13,
   "metadata": {},
   "outputs": [
    {
     "name": "stdout",
     "output_type": "stream",
     "text": [
      "9\n",
      "[1, 2, 3, 11, 4, 5, 6, 8]\n"
     ]
    }
   ],
   "source": [
    "devynke = skaiciai.pop()\n",
    "print(devynke)\n",
    "print(skaiciai)"
   ]
  },
  {
   "cell_type": "code",
   "execution_count": 14,
   "metadata": {},
   "outputs": [
    {
     "name": "stdout",
     "output_type": "stream",
     "text": [
      "4\n",
      "[1, 2, 3, 11, 5, 6, 8]\n"
     ]
    }
   ],
   "source": [
    "ketvertas = skaiciai.pop(4)\n",
    "print(ketvertas)\n",
    "print(skaiciai)"
   ]
  },
  {
   "cell_type": "code",
   "execution_count": 15,
   "metadata": {},
   "outputs": [
    {
     "name": "stdout",
     "output_type": "stream",
     "text": [
      "5\n"
     ]
    }
   ],
   "source": [
    "kur_esi = skaiciai.index(6)\n",
    "print(kur_esi)"
   ]
  },
  {
   "cell_type": "code",
   "execution_count": 16,
   "metadata": {},
   "outputs": [
    {
     "name": "stdout",
     "output_type": "stream",
     "text": [
      "[1, 2, 3, 11, 6, 8]\n"
     ]
    }
   ],
   "source": [
    "# remove metodas meta ne pagal indexa, o pagal reiksme.\n",
    "\n",
    "skaiciai.remove(kur_esi)\n",
    "print(skaiciai)"
   ]
  },
  {
   "cell_type": "code",
   "execution_count": 17,
   "metadata": {},
   "outputs": [
    {
     "name": "stdout",
     "output_type": "stream",
     "text": [
      "[1, 2, 3, 11, 6, 8, 7, 2, 3, 5, 8, 11, 4, 6]\n"
     ]
    }
   ],
   "source": [
    "skaiciai.extend([7, 2, 3, 5, 8, 11, 4, 6])\n",
    "print(skaiciai)"
   ]
  },
  {
   "cell_type": "code",
   "execution_count": 18,
   "metadata": {},
   "outputs": [
    {
     "name": "stdout",
     "output_type": "stream",
     "text": [
      "[1, 2, 2, 3, 3, 4, 5, 6, 6, 7, 8, 8, 11, 11]\n"
     ]
    }
   ],
   "source": [
    "# isrusiuoja sarasa, jei sarase yra textas - bus rusiuojama pagal abecele. \n",
    "\n",
    "skaiciai.sort()\n",
    "print(skaiciai)"
   ]
  },
  {
   "cell_type": "code",
   "execution_count": 19,
   "metadata": {},
   "outputs": [
    {
     "name": "stdout",
     "output_type": "stream",
     "text": [
      "[11, 11, 8, 8, 7, 6, 6, 5, 4, 3, 3, 2, 2, 1]\n"
     ]
    }
   ],
   "source": [
    "# atgaline tvarka isrusiuoja sarasa\n",
    "\n",
    "skaiciai.sort(reverse=True)\n",
    "print(skaiciai)"
   ]
  },
  {
   "cell_type": "code",
   "execution_count": 20,
   "metadata": {},
   "outputs": [
    {
     "name": "stdout",
     "output_type": "stream",
     "text": [
      "['pietus', 'buvo', 'geri']\n"
     ]
    }
   ],
   "source": [
    "# rusiuoja mazejancia tvarka jei sarasuose skaiciai, jei zodziai - apsuka sarasa kita puse \n",
    "\n",
    "zodziai.reverse()\n",
    "print(zodziai)"
   ]
  },
  {
   "cell_type": "code",
   "execution_count": 21,
   "metadata": {},
   "outputs": [
    {
     "name": "stdout",
     "output_type": "stream",
     "text": [
      "14\n"
     ]
    }
   ],
   "source": [
    "# suskaiciuoja kiek elementu sarase su len funkcija\n",
    "\n",
    "print(len(skaiciai))\n"
   ]
  },
  {
   "cell_type": "code",
   "execution_count": 22,
   "metadata": {},
   "outputs": [
    {
     "name": "stdout",
     "output_type": "stream",
     "text": [
      "False\n"
     ]
    }
   ],
   "source": [
    "# patikrinimui ar sarasuose yra norimas elementas su in funkcija\n",
    "\n",
    "print(9 in skaiciai)"
   ]
  },
  {
   "cell_type": "code",
   "execution_count": 23,
   "metadata": {},
   "outputs": [
    {
     "name": "stdout",
     "output_type": "stream",
     "text": [
      "77\n"
     ]
    }
   ],
   "source": [
    "# susumuoj visus skaicius sarase\n",
    "\n",
    "print(sum(skaiciai))"
   ]
  },
  {
   "cell_type": "code",
   "execution_count": 24,
   "metadata": {},
   "outputs": [
    {
     "name": "stdout",
     "output_type": "stream",
     "text": [
      "[11, 11, 8, 8, 8, 6, 6, 5, 4, 3, 3, 2, 2, 1]\n"
     ]
    }
   ],
   "source": [
    "# pakeitimas elemento sarase \n",
    "\n",
    "skaiciai[4] = 8\n",
    "\n",
    "\n",
    "print(skaiciai)\n",
    "\n"
   ]
  },
  {
   "cell_type": "code",
   "execution_count": 25,
   "metadata": {},
   "outputs": [],
   "source": [
    "\n",
    "\n",
    "del skaiciai[4]"
   ]
  },
  {
   "attachments": {},
   "cell_type": "markdown",
   "metadata": {},
   "source": [
    "# Užduotys: \n",
    "\n",
    "\n"
   ]
  },
  {
   "attachments": {},
   "cell_type": "markdown",
   "metadata": {},
   "source": [
    "# Pirma užduotis\n",
    "Sukurkite sąrašą su bent penkiais jūsų mėgstamų maisto produktų pavadinimais.\n",
    "Atspausdinkite visą sąrašą."
   ]
  },
  {
   "cell_type": "code",
   "execution_count": 26,
   "metadata": {},
   "outputs": [
    {
     "name": "stdout",
     "output_type": "stream",
     "text": [
      "['avokadas', 'kiausiniai', 'ryziai', 'citrina', 'cesnakas']\n"
     ]
    }
   ],
   "source": [
    "produktai = [\"avokadas\", \"kiausiniai\", \"ryziai\", \"citrina\", \"cesnakas\"]\n",
    "print(produktai)"
   ]
  },
  {
   "attachments": {},
   "cell_type": "markdown",
   "metadata": {},
   "source": [
    "# Antra užduotis\n",
    "\n",
    "Atspausdinkite sąrašo pirmą elementą.\n",
    "Atspausdinkite sąrašo trečią elementą.\n",
    "Atspausdinkite sąrašo paskutinį elementą."
   ]
  },
  {
   "cell_type": "code",
   "execution_count": 27,
   "metadata": {},
   "outputs": [
    {
     "name": "stdout",
     "output_type": "stream",
     "text": [
      "avokadas\n",
      "ryziai\n",
      "cesnakas\n"
     ]
    }
   ],
   "source": [
    "print(produktai[0])\n",
    "print(produktai[2])\n",
    "print(produktai[-1])"
   ]
  },
  {
   "attachments": {},
   "cell_type": "markdown",
   "metadata": {},
   "source": [
    "# Trečia užduotis\n",
    "\n",
    "Atspausdinkite sąrašo pirmus tris elementus.\n",
    "Atspausdinkite sąrašo paskutinius du elementus.\n",
    "Atspausdinkite tris elementus iš sąrašo vidurio.\n",
    "Atspausdinkite sąrašo kas antrą elementą."
   ]
  },
  {
   "cell_type": "code",
   "execution_count": 28,
   "metadata": {},
   "outputs": [
    {
     "name": "stdout",
     "output_type": "stream",
     "text": [
      "['avokadas', 'kiausiniai', 'ryziai']\n",
      "['citrina', 'cesnakas']\n",
      "['kiausiniai', 'ryziai', 'citrina']\n",
      "['cesnakas', 'ryziai', 'avokadas']\n"
     ]
    }
   ],
   "source": [
    "print(produktai[:3])\n",
    "print(produktai[-2:])\n",
    "print(produktai[1:4])\n",
    "print(produktai[::-2])\n"
   ]
  },
  {
   "attachments": {},
   "cell_type": "markdown",
   "metadata": {},
   "source": [
    "# Ketvirta užduotis\n",
    "\n",
    "Atlikite žemiau nurodytus veiksmus su turimu sąrašu ir po kiekvieno veiksmo, sąrašą atspausdinkite:\n",
    "\n",
    "Pridėkite dar vieną mėgstamo maisto pavadinimą į sąrašo galą. \n",
    "Įterpkite naują maisto produktą į sąrašo ketvirtą vietą. \n",
    "Pakeiskite antrąjį sąrašo elementą kitu mėgstamo maisto pavadinimu. \n",
    "Ištrinkite pirmąjį sąrašo elementą. \n",
    "Ištrinkite sąrašo trečią elementą. \n",
    "Suraskite sąraše kurio nors elemento indeksą. \n",
    "Atspausdinkite sąrašą atvirkštine tvarka. \n",
    "Pabandykite papildomai panaudoti kitus metodus. "
   ]
  },
  {
   "cell_type": "code",
   "execution_count": 29,
   "metadata": {},
   "outputs": [
    {
     "name": "stdout",
     "output_type": "stream",
     "text": [
      "['avokadas', 'cesnakas', 'citrina', 'kiausiniai', 'ryziai'] 3\n"
     ]
    }
   ],
   "source": [
    "# produktai.append(\"pipiras\")\n",
    "\n",
    "# produktai.remove('bananas')\n",
    "\n",
    "# produktai.insert(3, 'bananas')\n",
    "\n",
    "# produktai[1] = \"pienas\"\n",
    "\n",
    "# produktai.remove('avokadas')\n",
    "\n",
    "# del produktai[2]\n",
    "\n",
    "indeksas = produktai.index('citrina')\n",
    "\n",
    "produktai.sort(reverse = False)\n",
    "\n",
    "print(produktai, indeksas)"
   ]
  },
  {
   "attachments": {},
   "cell_type": "markdown",
   "metadata": {},
   "source": [
    "# Penkta užduotis\n",
    "\n",
    "Patikrinkite sąrašo ilgį."
   ]
  },
  {
   "cell_type": "code",
   "execution_count": 30,
   "metadata": {},
   "outputs": [
    {
     "name": "stdout",
     "output_type": "stream",
     "text": [
      "5\n"
     ]
    }
   ],
   "source": [
    "print(len(produktai))"
   ]
  },
  {
   "attachments": {},
   "cell_type": "markdown",
   "metadata": {},
   "source": [
    "# Šešta užduotis\n",
    "\n",
    "Patikrinkite ar tam tikras produktas yra sąraše.\n"
   ]
  },
  {
   "cell_type": "code",
   "execution_count": 31,
   "metadata": {},
   "outputs": [
    {
     "name": "stdout",
     "output_type": "stream",
     "text": [
      "Deja, produktas nėra sąraše!\n",
      "['avokadas', 'cesnakas', 'citrina', 'kiausiniai', 'ryziai']\n",
      "False\n"
     ]
    }
   ],
   "source": [
    "tikrinimas = input(\"Įveskite norimą rasti produktą: \")\n",
    "\n",
    "if tikrinimas in produktai:\n",
    "    print('Bingo, produktas yra sąraše!')\n",
    "\n",
    "else:\n",
    "    print('Deja, produktas nėra sąraše!')\n",
    "\n",
    "\n",
    "print(produktai)\n",
    "\n",
    "\n",
    "print('braske' in produktai)"
   ]
  },
  {
   "attachments": {},
   "cell_type": "markdown",
   "metadata": {},
   "source": [
    "# Zodynai\n"
   ]
  },
  {
   "cell_type": "code",
   "execution_count": 32,
   "metadata": {},
   "outputs": [
    {
     "name": "stdout",
     "output_type": "stream",
     "text": [
      "{'good': 'geras', 'fun': 'juokingas', 'big': 'didelis'}\n"
     ]
    }
   ],
   "source": [
    "# zodyno indekai yra raktiniai zodziai\n",
    "\n",
    "zodynas = {\n",
    "    'good' : 'geras',\n",
    "    'fun' : 'juokingas',\n",
    "    'big' : 'didelis',\n",
    "}\n",
    "\n",
    "print(zodynas)"
   ]
  },
  {
   "cell_type": "code",
   "execution_count": 33,
   "metadata": {},
   "outputs": [
    {
     "name": "stdout",
     "output_type": "stream",
     "text": [
      "{'petras': [5, 3, 2, 1], 'monika': [7, 11, 3, 0]}\n"
     ]
    }
   ],
   "source": [
    "zmones = {\n",
    "    'petras' : [5, 3, 2, 1],\n",
    "    'monika' : [7, 11, 3, 0]\n",
    "}\n",
    "print(zmones)"
   ]
  },
  {
   "cell_type": "code",
   "execution_count": 34,
   "metadata": {},
   "outputs": [
    {
     "name": "stdout",
     "output_type": "stream",
     "text": [
      "geras\n"
     ]
    }
   ],
   "source": [
    "print(zodynas['good'])"
   ]
  },
  {
   "cell_type": "code",
   "execution_count": 35,
   "metadata": {},
   "outputs": [
    {
     "name": "stdout",
     "output_type": "stream",
     "text": [
      "{'good': 'blogas', 'fun': 'juokingas', 'big': 'didelis'}\n",
      "{'good': 'blogas', 'fun': 'juokingas', 'big': 'didelis', 'evil': 'blogis'}\n"
     ]
    }
   ],
   "source": [
    "zodynas['good'] = 'blogas'\n",
    "print(zodynas)\n",
    "\n",
    "\n",
    "zodynas['evil'] = 'blogis'\n",
    "print(zodynas)"
   ]
  },
  {
   "cell_type": "code",
   "execution_count": 36,
   "metadata": {},
   "outputs": [
    {
     "ename": "KeyError",
     "evalue": "'goodnes'",
     "output_type": "error",
     "traceback": [
      "\u001b[0;31m---------------------------------------------------------------------------\u001b[0m",
      "\u001b[0;31mKeyError\u001b[0m                                  Traceback (most recent call last)",
      "Cell \u001b[0;32mIn[36], line 7\u001b[0m\n\u001b[1;32m      1\u001b[0m zodynas[\u001b[39m'\u001b[39m\u001b[39mgoodness\u001b[39m\u001b[39m'\u001b[39m] \u001b[39m=\u001b[39m \u001b[39m'\u001b[39m\u001b[39mgeris\u001b[39m\u001b[39m'\u001b[39m\n\u001b[1;32m      5\u001b[0m \u001b[39m# istrinti zodyne reiksme\u001b[39;00m\n\u001b[0;32m----> 7\u001b[0m \u001b[39mdel\u001b[39;00m zodynas[\u001b[39m'\u001b[39;49m\u001b[39mgoodnes\u001b[39;49m\u001b[39m'\u001b[39;49m]\n\u001b[1;32m      9\u001b[0m \u001b[39mprint\u001b[39m(zodynas)\n",
      "\u001b[0;31mKeyError\u001b[0m: 'goodnes'"
     ]
    }
   ],
   "source": [
    "zodynas['goodness'] = 'geris'\n",
    "\n",
    "\n",
    "\n",
    "# istrinti zodyne reiksme\n",
    "\n",
    "del zodynas['goodnes']\n",
    "\n",
    "print(zodynas)\n"
   ]
  },
  {
   "attachments": {},
   "cell_type": "markdown",
   "metadata": {},
   "source": [
    "# Zodynai metodai\n"
   ]
  },
  {
   "cell_type": "code",
   "execution_count": null,
   "metadata": {},
   "outputs": [
    {
     "name": "stdout",
     "output_type": "stream",
     "text": [
      "dict_keys(['good', 'fun', 'big', 'evil', 'goodness'])\n",
      "big\n"
     ]
    }
   ],
   "source": [
    "# keys grazina raktus, values - reiksmes \n",
    "\n",
    "print(zodynas.keys())\n",
    "\n",
    "\n",
    "print(list(zodynas.keys())[2])"
   ]
  },
  {
   "cell_type": "code",
   "execution_count": null,
   "metadata": {},
   "outputs": [
    {
     "name": "stdout",
     "output_type": "stream",
     "text": [
      "dict_values(['blogas', 'juokingas', 'didelis', 'blogis', 'geris'])\n"
     ]
    }
   ],
   "source": [
    "# values grazina reiksmes, techniskai sarasas, bet ne visai. \n",
    "\n",
    "print(zodynas.values())"
   ]
  },
  {
   "cell_type": "code",
   "execution_count": null,
   "metadata": {},
   "outputs": [
    {
     "name": "stdout",
     "output_type": "stream",
     "text": [
      "dict_items([('good', 'blogas'), ('fun', 'juokingas'), ('big', 'didelis'), ('evil', 'blogis'), ('goodness', 'geris')])\n"
     ]
    }
   ],
   "source": [
    "# grazina raktus ir reiksmes su items funkcija\n",
    "\n",
    "print(zodynas.items())"
   ]
  },
  {
   "cell_type": "code",
   "execution_count": null,
   "metadata": {},
   "outputs": [
    {
     "name": "stdout",
     "output_type": "stream",
     "text": [
      "juokingas\n"
     ]
    }
   ],
   "source": [
    "# zodyne gavimas reiksmes su get funkcija\n",
    "\n",
    "\n",
    "print(zodynas.get('fun'))"
   ]
  },
  {
   "cell_type": "code",
   "execution_count": null,
   "metadata": {},
   "outputs": [
    {
     "ename": "KeyError",
     "evalue": "'blogis'",
     "output_type": "error",
     "traceback": [
      "\u001b[0;31m---------------------------------------------------------------------------\u001b[0m",
      "\u001b[0;31mKeyError\u001b[0m                                  Traceback (most recent call last)",
      "Cell \u001b[0;32mIn[116], line 1\u001b[0m\n\u001b[0;32m----> 1\u001b[0m blogas \u001b[39m=\u001b[39m zodynas\u001b[39m.\u001b[39;49mpop(\u001b[39m'\u001b[39;49m\u001b[39mblogis\u001b[39;49m\u001b[39m'\u001b[39;49m)\n\u001b[1;32m      2\u001b[0m \u001b[39mprint\u001b[39m(blogas)\n",
      "\u001b[0;31mKeyError\u001b[0m: 'blogis'"
     ]
    }
   ],
   "source": [
    "blogas = zodynas.pop('blogis')\n",
    "print(blogas)"
   ]
  },
  {
   "cell_type": "code",
   "execution_count": null,
   "metadata": {},
   "outputs": [
    {
     "data": {
      "text/plain": [
       "{}"
      ]
     },
     "execution_count": 117,
     "metadata": {},
     "output_type": "execute_result"
    }
   ],
   "source": [
    "# visiskai isvalo zodyn su clear\n",
    "\n",
    "zmones.clear()\n",
    "zmones"
   ]
  },
  {
   "cell_type": "code",
   "execution_count": null,
   "metadata": {},
   "outputs": [],
   "source": [
    "# naujas tuscias sarasas\n",
    "\n",
    "zmones = {}"
   ]
  },
  {
   "cell_type": "code",
   "execution_count": null,
   "metadata": {},
   "outputs": [
    {
     "name": "stdout",
     "output_type": "stream",
     "text": [
      "{'Milda': 'Gyvunu megeja', 'Andrius': 'Furistas'}\n"
     ]
    }
   ],
   "source": [
    "zmones ['Milda'] = 'Gyvunu megeja'\n",
    "zmones ['Andrius'] = 'Furistas'\n",
    "\n",
    "print(zmones)"
   ]
  },
  {
   "attachments": {},
   "cell_type": "markdown",
   "metadata": {},
   "source": [
    "# Užduotys\n",
    "\n"
   ]
  },
  {
   "attachments": {},
   "cell_type": "markdown",
   "metadata": {},
   "source": [
    "# Pirma užduotis\n",
    "\n",
    "Sukurkite žodyną su bent trimis augintinių vardais ir jų amžiumi.\n",
    "Atspausdinkite visą žodyną."
   ]
  },
  {
   "cell_type": "code",
   "execution_count": null,
   "metadata": {},
   "outputs": [
    {
     "name": "stdout",
     "output_type": "stream",
     "text": [
      "{'Pepe': '10', 'Murkis': '11', 'Leja': '8'}\n"
     ]
    }
   ],
   "source": [
    "gyvunai = {'Pepe' : '10', 'Murkis' : '11', 'Leja' : '8'}\n",
    "\n",
    "print(gyvunai)"
   ]
  },
  {
   "attachments": {},
   "cell_type": "markdown",
   "metadata": {},
   "source": [
    "# Antra užduotis\n",
    "\n",
    "Atspausdinkite kurio nors augintinio amžių.\n"
   ]
  },
  {
   "cell_type": "code",
   "execution_count": null,
   "metadata": {},
   "outputs": [
    {
     "name": "stdout",
     "output_type": "stream",
     "text": [
      "11\n"
     ]
    }
   ],
   "source": [
    "print(gyvunai['Murkis'])"
   ]
  },
  {
   "attachments": {},
   "cell_type": "markdown",
   "metadata": {},
   "source": [
    "# Trečia užduotis\n",
    "\n",
    "Pridėkite naują augintinį."
   ]
  },
  {
   "cell_type": "code",
   "execution_count": null,
   "metadata": {},
   "outputs": [
    {
     "name": "stdout",
     "output_type": "stream",
     "text": [
      "{'Pepe': '10', 'Murkis': '11', 'Leja': '8', 'Perla': 7}\n"
     ]
    }
   ],
   "source": [
    "gyvunai ['Perla'] = 7\n",
    "\n",
    "print(gyvunai)"
   ]
  },
  {
   "attachments": {},
   "cell_type": "markdown",
   "metadata": {},
   "source": [
    "# Ketvirta užduotis\n",
    "\n",
    "Pakeiskite kurio nors augintinio amžių."
   ]
  },
  {
   "cell_type": "code",
   "execution_count": null,
   "metadata": {},
   "outputs": [
    {
     "name": "stdout",
     "output_type": "stream",
     "text": [
      "{'Pepe': '10', 'Murkis': 12, 'Leja': '8', 'Perla': 7}\n"
     ]
    }
   ],
   "source": [
    "gyvunai ['Murkis'] = 12\n",
    "\n",
    "print(gyvunai)"
   ]
  },
  {
   "attachments": {},
   "cell_type": "markdown",
   "metadata": {},
   "source": [
    "# Penkta užduotis\n",
    "\n",
    "Ištrinkite kurį nors augintinį.\n",
    "Atspausdinkite visą žodyną."
   ]
  },
  {
   "cell_type": "code",
   "execution_count": null,
   "metadata": {},
   "outputs": [
    {
     "name": "stdout",
     "output_type": "stream",
     "text": [
      "{'Pepe': '10', 'Murkis': 12, 'Perla': 7}\n"
     ]
    }
   ],
   "source": [
    "del gyvunai['Leja']\n",
    "\n",
    "print(gyvunai)"
   ]
  },
  {
   "attachments": {},
   "cell_type": "markdown",
   "metadata": {},
   "source": [
    "# Šešta užduotis\n",
    "\n",
    "Atspausdinkite visų augintinių vardus.\n",
    "Atspausdinkite visų augintinių amžius.\n",
    "Atspausdinkite visų augintinių vardų ir amžių sąrašą.\n",
    "Atspausdinkite konkretaus augintinio amžių pagal jo vardą.\n",
    "Pabandykite papildomai panaudoti kitus metodus.\n"
   ]
  },
  {
   "cell_type": "code",
   "execution_count": null,
   "metadata": {},
   "outputs": [
    {
     "name": "stdout",
     "output_type": "stream",
     "text": [
      "dict_keys(['Pepe', 'Murkis', 'Perla'])\n",
      "dict_values(['10', 12, 7])\n",
      "{'Pepe': '10', 'Murkis': 12, 'Perla': 7}\n",
      "Pepe amzius yra 10\n",
      "Murkis amzius yra 12\n",
      "Perla amzius yra 7\n",
      "12\n"
     ]
    }
   ],
   "source": [
    "print(gyvunai.keys())\n",
    "\n",
    "print(gyvunai.values())\n",
    "\n",
    "print(gyvunai)\n",
    "\n",
    "for vardas, amzius in gyvunai.items():\n",
    "    print(vardas, \"amzius yra\", amzius)\n",
    "\n",
    "\n",
    "print(gyvunai['Murkis'])"
   ]
  },
  {
   "attachments": {},
   "cell_type": "markdown",
   "metadata": {},
   "source": [
    "# Bonus užduotis\n",
    "\n",
    "Sukurkite tuščią žodyną pavadinimu \"automobiliai\" ir pridėkite prie žodyno informaciją apie 3 skirtingus automobilius (nebijokite naudoti savo kūrybiškumo ir įtraukti įvairių markių, modelių, metų, spalvų ir variklių tipų).\n",
    "Išveskite žodyno informaciją apie vieną iš automobilių.\n",
    "Pakeiskite informaciją apie vieną automobilį (pavyzdžiui, pakeiskite variklio tipą).\n",
    "Pridėkite naują automobilį į žodyną.\n",
    "Pašalinkite informaciją apie vieną automobilį iš žodyno.\n",
    "Išveskite kiek yra automobilių žodyne.\n",
    "Patikrinkite ar tam tikras automobilis yra žodyne.\n",
    "Išvalykite žodyną."
   ]
  },
  {
   "cell_type": "code",
   "execution_count": null,
   "metadata": {},
   "outputs": [
    {
     "name": "stdout",
     "output_type": "stream",
     "text": [
      "['Fiesta', '2007', 'geltona', 'benzinas']\n",
      "{'Opel': ['Ascona', '1999', 'raudona', 'elektra'], 'Audi': ['A4', '2003', 'juoda', 'dyzelis'], 'Ford': ['Fiesta', '2007', 'geltona', 'benzinas'], 'VW': ['Golf', '1997', 'geltona', 'dujos']}\n",
      "4\n",
      "Automobilis yra sarase!\n"
     ]
    }
   ],
   "source": [
    "# pridėkite prie žodyno informaciją apie 3 skirtingus automobilius\n",
    "automobiliai = {'Opel': ['Ascona', '1999', 'raudona', 'dyzelis'],   \n",
    "                'Audi': ['A4', '2003', 'juoda', 'dyzelis'],\n",
    "                'Ford': ['Fiesta', '2007', 'geltona', 'benzinas'],\n",
    "                'Toyota': ['Avensis', '2006', 'sampanine', 'benzinas/dujos']}\n",
    "\n",
    "\n",
    "# Išveskite žodyno informaciją apie vieną iš automobilių.\n",
    "print(automobiliai['Ford'])\n",
    "\n",
    "\n",
    "\n",
    "# Pakeiskite informaciją apie vieną automobilį (pavyzdžiui, pakeiskite variklio tipą).\n",
    "automobiliai['Opel'][3] = 'elektra'\n",
    "# print(automobiliai['Opel'])\n",
    "\n",
    "\n",
    "\n",
    "# Pridėkite naują automobilį į žodyną.\n",
    "automobiliai['VW'] = ['Golf', '1997', 'geltona', 'dujos']\n",
    "\n",
    "\n",
    "\n",
    "\n",
    "# Pašalinkite informaciją apie vieną automobilį iš žodyno.\n",
    "automobiliai.pop('Toyota')\n",
    "print(automobiliai)\n",
    "\n",
    "\n",
    "\n",
    "\n",
    "# Išveskite kiek yra automobilių žodyne.\n",
    "print(len(automobiliai))\n",
    "\n",
    "\n",
    "\n",
    "\n",
    "# Patikrinkite ar tam tikras automobilis yra žodyne.\n",
    "paieska = input(\"Iveskite norima rasti automobilio marke:\")\n",
    "\n",
    "if paieska in automobiliai:\n",
    "    print('Automobilis yra sarase!')\n",
    "\n",
    "else:\n",
    "    print('Deja, automobilis nerastas!')\n",
    "\n",
    "\n",
    "# print('BMW' in automobiliai)\n",
    "\n",
    "\n",
    "\n",
    "\n",
    "# Išvalykite žodyną.\n",
    "# zodynas.clear()\n"
   ]
  },
  {
   "attachments": {},
   "cell_type": "markdown",
   "metadata": {},
   "source": [
    "# Ciklai for\n",
    "\n"
   ]
  },
  {
   "cell_type": "code",
   "execution_count": null,
   "metadata": {},
   "outputs": [
    {
     "name": "stdout",
     "output_type": "stream",
     "text": [
      "11\n",
      "8\n",
      "7\n",
      "6\n",
      "5\n",
      "5\n",
      "4\n",
      "4\n",
      "3\n",
      "3\n",
      "2\n",
      "2\n",
      "1\n"
     ]
    }
   ],
   "source": [
    "for counter in skaiciai:\n",
    "    print(counter) # , end = \"  |  \""
   ]
  },
  {
   "cell_type": "code",
   "execution_count": null,
   "metadata": {},
   "outputs": [
    {
     "data": {
      "text/plain": [
       "[11, 8, 7, 6, 5, 5, 4, 4, 3, 3, 2, 2, 1]"
      ]
     },
     "execution_count": 13,
     "metadata": {},
     "output_type": "execute_result"
    }
   ],
   "source": [
    "# prideda prei to pacio kintamojo po viena\n",
    "\n",
    "counter += 1 \n",
    "skaiciai"
   ]
  },
  {
   "cell_type": "code",
   "execution_count": null,
   "metadata": {},
   "outputs": [
    {
     "name": "stdout",
     "output_type": "stream",
     "text": [
      "turime 0. pridedam 11, gauname 11\n",
      "11\n",
      "turime 11. pridedam 8, gauname 19\n",
      "19\n",
      "turime 19. pridedam 7, gauname 26\n",
      "26\n",
      "turime 26. pridedam 6, gauname 32\n",
      "32\n",
      "turime 32. pridedam 5, gauname 37\n",
      "37\n",
      "turime 37. pridedam 5, gauname 42\n",
      "42\n",
      "turime 42. pridedam 4, gauname 46\n",
      "46\n",
      "turime 46. pridedam 4, gauname 50\n",
      "50\n",
      "turime 50. pridedam 3, gauname 53\n",
      "53\n",
      "turime 53. pridedam 3, gauname 56\n",
      "56\n",
      "turime 56. pridedam 2, gauname 58\n",
      "58\n",
      "turime 58. pridedam 2, gauname 60\n",
      "60\n",
      "turime 60. pridedam 1, gauname 61\n",
      "61\n"
     ]
    }
   ],
   "source": [
    "suma = 0\n",
    "for counter in skaiciai:\n",
    "    print(f\"turime {suma}\", end= \". \")\n",
    "    suma += counter\n",
    "    print(f\"pridedam {counter}, gauname {suma}\")\n",
    "    print(suma)"
   ]
  },
  {
   "cell_type": "code",
   "execution_count": null,
   "metadata": {},
   "outputs": [
    {
     "name": "stdout",
     "output_type": "stream",
     "text": [
      "{'good': 'geras', 'fun': 'juokingas', 'big': 'didelis'}\n",
      "good = geras\n",
      "fun = juokingas\n",
      "big = didelis\n"
     ]
    }
   ],
   "source": [
    "\n",
    "print(zodynas)\n",
    "\n",
    "\n",
    "for zodis in zodynas:\n",
    "    print(zodis, '=', zodynas[zodis])"
   ]
  },
  {
   "cell_type": "code",
   "execution_count": null,
   "metadata": {},
   "outputs": [
    {
     "name": "stdout",
     "output_type": "stream",
     "text": [
      "geras\n",
      "juokingas\n",
      "didelis\n"
     ]
    }
   ],
   "source": [
    "for zodis in zodynas.values():\n",
    "    print(zodis)"
   ]
  },
  {
   "cell_type": "code",
   "execution_count": null,
   "metadata": {},
   "outputs": [
    {
     "name": "stdout",
     "output_type": "stream",
     "text": [
      "good = geras\n",
      "fun = juokingas\n",
      "big = didelis\n"
     ]
    }
   ],
   "source": [
    "for angliskai , lietuviskai in zodynas.items():\n",
    "    print(f\"{angliskai} = {lietuviskai}\")"
   ]
  },
  {
   "cell_type": "code",
   "execution_count": null,
   "metadata": {},
   "outputs": [
    {
     "name": "stdout",
     "output_type": "stream",
     "text": [
      "2000\n",
      "2001\n",
      "2002\n",
      "2003\n",
      "2004\n",
      "2005\n",
      "2006\n",
      "2007\n",
      "2008\n",
      "2009\n",
      "2010\n",
      "2011\n",
      "2012\n",
      "2013\n",
      "2014\n",
      "2015\n",
      "2016\n",
      "2017\n",
      "2018\n",
      "2019\n",
      "2020\n",
      "2021\n",
      "2022\n",
      "2023\n",
      "2024\n"
     ]
    }
   ],
   "source": [
    "# ciklas su range funkcija, range funkscija grazina imti\n",
    "\n",
    "for metai in range(2000, 2025):\n",
    "    print(metai)"
   ]
  },
  {
   "cell_type": "code",
   "execution_count": null,
   "metadata": {},
   "outputs": [
    {
     "name": "stdout",
     "output_type": "stream",
     "text": [
      "2000\n",
      "2001\n",
      "2002\n",
      "2003\n",
      "2004\n",
      "2005\n",
      "2006\n",
      "2008\n",
      "2009\n",
      "2010\n",
      "2011\n",
      "2012\n",
      "2013\n",
      "2014\n",
      "2015\n",
      "2016\n",
      "2017\n",
      "2018\n",
      "2019\n",
      "2020\n",
      "2021\n",
      "2022\n",
      "2023\n",
      "2024\n",
      "Gyvenam toliau\n"
     ]
    }
   ],
   "source": [
    "# if metai == 2007: continue , praleidzia norimus metus - exeption. Continue praleidzia tik tam tikra nurodyta zingsni cikle.\n",
    "\n",
    "\n",
    "for metai in range(2000, 2025):\n",
    "    if metai == 2007:\n",
    "        continue\n",
    "    print(metai)\n",
    "else:\n",
    "    print(\"Gyvenam toliau\")"
   ]
  },
  {
   "cell_type": "code",
   "execution_count": null,
   "metadata": {},
   "outputs": [
    {
     "name": "stdout",
     "output_type": "stream",
     "text": [
      "2019\n",
      "2020\n",
      "2021\n",
      "Korona baigesi\n"
     ]
    }
   ],
   "source": [
    "# range ciklo nutraukimas su break, nutraukia visa cikla\n",
    "\n",
    "for metai in range (2019, 2025):\n",
    "    if metai == 2022:\n",
    "        print(\"Korona baigesi\")\n",
    "        break\n",
    "    print(metai)\n",
    "    \n",
    "\n"
   ]
  },
  {
   "cell_type": "code",
   "execution_count": null,
   "metadata": {},
   "outputs": [
    {
     "name": "stdout",
     "output_type": "stream",
     "text": [
      "['pietus', 'buvo', 'geri']\n",
      "  1:pietus\n",
      "  2:buvo\n",
      "  3:geri\n"
     ]
    }
   ],
   "source": [
    "# galima cikla sunumeruoti su enumerate funkcija\n",
    "\n",
    "print(zodziai)\n",
    "\n",
    "for eiles_nr , zodis in enumerate(zodziai):\n",
    "    print(f\"{(eiles_nr+1):3d}:{zodis}\")"
   ]
  },
  {
   "cell_type": "code",
   "execution_count": null,
   "metadata": {},
   "outputs": [
    {
     "name": "stdout",
     "output_type": "stream",
     "text": [
      "  A B C D E F G H \n",
      "1   ■   ■   ■   ■ \n",
      "2 ■   ■   ■   ■   \n",
      "3   ■   ■   ■   ■ \n",
      "4 ■   ■   ■   ■   \n",
      "5   ■   ■   ■   ■ \n",
      "6 ■   ■   ■   ■   \n",
      "7   ■   ■   ■   ■ \n",
      "8 ■   ■   ■   ■   \n"
     ]
    }
   ],
   "source": [
    "# ciklas cikle  \n",
    "\n",
    "\n",
    "stulpeliai = list(\"ABCDEFGH\")\n",
    "eilutes = list(range(1,9))\n",
    "\n",
    "print(\"  \", end=\"\")\n",
    "for raide in stulpeliai:\n",
    "    print(raide, end=\" \")\n",
    "print(\"\")\n",
    "for eil_nr in eilutes:\n",
    "    print(eil_nr, end=\" \")\n",
    "    for stulp_eil_nr, raide in enumerate(stulpeliai):\n",
    "        if (eil_nr % 2 == 0 and stulp_eil_nr % 2 == 0) or \\\n",
    "           (eil_nr % 2 == 1 and stulp_eil_nr % 2 == 1):\n",
    "            print('\\u25A0', end=\" \")\n",
    "        else:\n",
    "            print(\" \", end=\" \")\n",
    "    print(\"\")"
   ]
  },
  {
   "attachments": {},
   "cell_type": "markdown",
   "metadata": {},
   "source": [
    "# Uzduotys\n",
    "\n",
    "# Pirma užduotis\n",
    "\n",
    "Sukurkite sąrašą su bent penkiais elementais\n",
    "Atspausdinkite jį naudodami for ciklą\n"
   ]
  },
  {
   "cell_type": "code",
   "execution_count": null,
   "metadata": {},
   "outputs": [
    {
     "name": "stdout",
     "output_type": "stream",
     "text": [
      "1\n",
      "3\n",
      "5\n",
      "7\n",
      "9\n",
      "11\n"
     ]
    }
   ],
   "source": [
    "sarasas = [1, 3, 5, 7, 9, 11]\n",
    "\n",
    "for elementai in sarasas:\n",
    "    print(elementai)\n"
   ]
  },
  {
   "attachments": {},
   "cell_type": "markdown",
   "metadata": {},
   "source": [
    "# Antra užduotis\n",
    "\n",
    "Sukurti programą, kuri:\n",
    "\n",
    "Leistų vartotojui po vieną įvesti 5 žodžius\n",
    "Pridėtų įvestus žodžius į sąrašą\n",
    "Atspausdintų kiekvieną žodį, jo ilgį ir eilės numerį sąraše (nuo 1)\n",
    "\n",
    "Iššūkis 💡: padarykite, kad programa leistų įvesti norimą žodžių kiekį\n",
    "Patarimas: Naudoti sąrašą (list), ciklą for, funkcijas len ir index"
   ]
  },
  {
   "cell_type": "code",
   "execution_count": null,
   "metadata": {},
   "outputs": [
    {
     "name": "stdout",
     "output_type": "stream",
     "text": [
      "1. sveiki (6 simboliai)\n",
      "2. mano (4 simboliai)\n",
      "3. vardas (6 simboliai)\n",
      "4. yra (3 simboliai)\n",
      "5. petras (6 simboliai)\n",
      "Jusu ivesti zodziai yra: ['sveiki', 'mano', 'vardas', 'yra', 'petras']\n"
     ]
    }
   ],
   "source": [
    "zodziai = []\n",
    "\n",
    "for i in range(5):\n",
    "    ivestis = input(\"Iveskite zodi: \")\n",
    "    zodziai.append(ivestis)\n",
    "\n",
    "\n",
    "for i, ivestis in enumerate(zodziai, start=1):\n",
    "    print(f\"{i}. {ivestis} ({len(ivestis)} simboliai)\")\n",
    "\n",
    "\n",
    "\n",
    "\n",
    "\n",
    "print(\"Jusu ivesti zodziai yra:\", zodziai)"
   ]
  },
  {
   "attachments": {},
   "cell_type": "markdown",
   "metadata": {},
   "source": [
    "# Trečia užduotis\n",
    "\n",
    "Sukurti programą, kuri:\n",
    "\n",
    "Leistų vartotojui įvesti metus\n",
    "Atspausdintų \"Keliamieji metai\", jei taip yra\n",
    "Atspausdintų \"Nekeliamieji metai\", jei taip yra"
   ]
  },
  {
   "cell_type": "code",
   "execution_count": null,
   "metadata": {},
   "outputs": [
    {
     "name": "stdout",
     "output_type": "stream",
     "text": [
      "Tai keliamieji metai!\n"
     ]
    }
   ],
   "source": [
    "metai = int(input(\"Iveskite metus:\"))\n",
    "\n",
    "if (metai % 400 == 0) or (metai % 100 != 0 and metai % 4 == 0):\n",
    "    print(\"Tai keliamieji metai!\")\n",
    "\n",
    "else: \n",
    "    print(\"Tai nekeliamieji metai\")"
   ]
  },
  {
   "attachments": {},
   "cell_type": "markdown",
   "metadata": {},
   "source": [
    "# Ketvirta užduotis\n",
    "\n",
    "Perdaryti trečią užduoti taip, kad programa atspausdintų visus keliamuosius metus, nuo 1900 iki 2100 metų."
   ]
  },
  {
   "cell_type": "code",
   "execution_count": null,
   "metadata": {},
   "outputs": [
    {
     "name": "stdout",
     "output_type": "stream",
     "text": [
      "1904 keliamieji metai\n",
      "1908 keliamieji metai\n",
      "1912 keliamieji metai\n",
      "1916 keliamieji metai\n",
      "1920 keliamieji metai\n",
      "1924 keliamieji metai\n",
      "1928 keliamieji metai\n",
      "1932 keliamieji metai\n",
      "1936 keliamieji metai\n",
      "1940 keliamieji metai\n",
      "1944 keliamieji metai\n",
      "1948 keliamieji metai\n",
      "1952 keliamieji metai\n",
      "1956 keliamieji metai\n",
      "1960 keliamieji metai\n",
      "1964 keliamieji metai\n",
      "1968 keliamieji metai\n",
      "1972 keliamieji metai\n",
      "1976 keliamieji metai\n",
      "1980 keliamieji metai\n",
      "1984 keliamieji metai\n",
      "1988 keliamieji metai\n",
      "1992 keliamieji metai\n",
      "1996 keliamieji metai\n",
      "2000 keliamieji metai\n",
      "2004 keliamieji metai\n",
      "2008 keliamieji metai\n",
      "2012 keliamieji metai\n",
      "2016 keliamieji metai\n",
      "2020 keliamieji metai\n",
      "2024 keliamieji metai\n",
      "2028 keliamieji metai\n",
      "2032 keliamieji metai\n",
      "2036 keliamieji metai\n",
      "2040 keliamieji metai\n",
      "2044 keliamieji metai\n",
      "2048 keliamieji metai\n",
      "2052 keliamieji metai\n",
      "2056 keliamieji metai\n",
      "2060 keliamieji metai\n",
      "2064 keliamieji metai\n",
      "2068 keliamieji metai\n",
      "2072 keliamieji metai\n",
      "2076 keliamieji metai\n",
      "2080 keliamieji metai\n",
      "2084 keliamieji metai\n",
      "2088 keliamieji metai\n",
      "2092 keliamieji metai\n",
      "2096 keliamieji metai\n"
     ]
    }
   ],
   "source": [
    "metai = int(input(\"Iveskite metus:\"))\n",
    "\n",
    "for metai in range (1900, 2100):\n",
    "    \n",
    "    if metai % 400 == 0:\n",
    "        print(metai,\"keliamieji metai\")\n",
    "    \n",
    "    elif metai % 100 == 0:\n",
    "         continue\n",
    "    \n",
    "    elif metai % 4 == 0:\n",
    "         print(metai, \"keliamieji metai\")\n",
    "    \n",
    "    else:\n",
    "         continue\n",
    "\n"
   ]
  },
  {
   "attachments": {},
   "cell_type": "markdown",
   "metadata": {},
   "source": [
    "# Ciklas while\n"
   ]
  },
  {
   "cell_type": "code",
   "execution_count": null,
   "metadata": {},
   "outputs": [
    {
     "name": "stdout",
     "output_type": "stream",
     "text": [
      "0\n",
      "1\n",
      "2\n",
      "3\n",
      "4\n",
      "5\n"
     ]
    }
   ],
   "source": [
    "# reikia butinai 7 eilutes , antraip begalinis ciklas (uzlus notebook)\n",
    "\n",
    "counter = 0 \n",
    "\n",
    "while counter <= 5:\n",
    "    print(counter)\n",
    "    counter += 1"
   ]
  },
  {
   "cell_type": "code",
   "execution_count": null,
   "metadata": {},
   "outputs": [
    {
     "name": "stdout",
     "output_type": "stream",
     "text": [
      "\u001b[H\u001b[2J--------- [ Musu uber programele ] ----------\n",
      "1: aidas\n",
      "0: iseiti\n",
      "miegas yra laaaabai gerai miegas yra laaaabai gerai miegas yra laaaabai gerai \n",
      "\u001b[H\u001b[2J--------- [ Musu uber programele ] ----------\n",
      "1: aidas\n",
      "0: iseiti\n"
     ]
    }
   ],
   "source": [
    "\n",
    "import os\n",
    "\n",
    "\n",
    "while True:\n",
    "    os.system(\"clear\")\n",
    "    print(\"--------- [ Musu uber programele ] ----------\")\n",
    "    print(\"1: aidas\")\n",
    "    print(\"0: iseiti\")\n",
    "    pasirinkimas = input(\"Pasirinkite: \")\n",
    "\n",
    "    if pasirinkimas == \"0\":\n",
    "        break\n",
    "    if pasirinkimas == \"1\":\n",
    "        tekstas = input(\"Saukite: \")\n",
    "        print((tekstas+\" \") * 3)\n",
    "        input(\"Paspauskite ENTER kas testi\")\n"
   ]
  },
  {
   "cell_type": "code",
   "execution_count": null,
   "metadata": {},
   "outputs": [
    {
     "name": "stdout",
     "output_type": "stream",
     "text": [
      "8\n",
      "7\n",
      "5\n",
      "4\n",
      "2\n",
      "1\n",
      "Liftoff!\n"
     ]
    }
   ],
   "source": [
    "# zingsnio praleidimas su continue funkcija, jei patenkina norima salyga\n",
    "\n",
    "\n",
    "\n",
    "counter = 10\n",
    "\n",
    "while counter > 0:\n",
    "    counter -=1\n",
    "    if counter % 3 == 0:\n",
    "        continue\n",
    "    print(counter)\n",
    "else:\n",
    "    print(\"Liftoff!\")\n",
    "\n"
   ]
  },
  {
   "attachments": {},
   "cell_type": "markdown",
   "metadata": {},
   "source": [
    "# Uzduotys\n",
    "\n",
    "# Pirma užduotis\n",
    "\n",
    "Turite skaičių lygų 10. Atspausdinkite skaičiaus mažinimo ciklą, kol jis pasieks -1.\n"
   ]
  },
  {
   "cell_type": "code",
   "execution_count": null,
   "metadata": {},
   "outputs": [
    {
     "name": "stdout",
     "output_type": "stream",
     "text": [
      "10\n",
      "9\n",
      "8\n",
      "7\n",
      "6\n",
      "5\n",
      "4\n",
      "3\n",
      "2\n",
      "1\n",
      "0\n",
      "-1\n"
     ]
    }
   ],
   "source": [
    "skaicius = 10\n",
    "\n",
    "while skaicius >= -1:\n",
    "    print(skaicius)\n",
    "    skaicius -= 1"
   ]
  },
  {
   "attachments": {},
   "cell_type": "markdown",
   "metadata": {},
   "source": [
    "# Antra užduotis\n",
    "\n",
    "Turite skaičių lygų 5. Atspausdinkite skaičiaus mažinimo ciklą, kol jis pasieks -10, tačiau sustabdykite ciklą, kai skaičius bus lygus -5, bet pratęskite, jeigu skaičius bus lygus 0.\n"
   ]
  },
  {
   "cell_type": "code",
   "execution_count": null,
   "metadata": {},
   "outputs": [
    {
     "name": "stdout",
     "output_type": "stream",
     "text": [
      "4\n",
      "3\n",
      "2\n",
      "1\n",
      "praleidziamas ciklas, bet nesustabdoma salyga\n",
      "-1\n",
      "-2\n",
      "-3\n",
      "-4\n",
      "sustabdomas ciklas, ne pasiektas -5\n"
     ]
    }
   ],
   "source": [
    "penketas = 5\n",
    "\n",
    "while penketas >= -10:\n",
    "    penketas -= 1\n",
    "    if penketas == -5:\n",
    "        print(\"sustabdomas ciklas, ne pasiektas -5\")\n",
    "        break\n",
    "    elif penketas == 0:\n",
    "        print(\"praleidziamas ciklas, bet nesustabdoma salyga\")\n",
    "        continue\n",
    "    print(penketas)\n",
    "    "
   ]
  },
  {
   "attachments": {},
   "cell_type": "markdown",
   "metadata": {},
   "source": [
    "# Trečia užduotis\n",
    "\n",
    "Parašyti programą, kuri:\n",
    "\n",
    "Leistų vartotojui įvesti skaičių.\n",
    "Jei įvestas skaičius yra teigiamas, paprašyti įvesti dar vieną skaičių\n",
    "Jei įvestas skaičius neigiamas, nutraukti programą ir atspausdinti visų įvestų teigiamų skaičių sumą\n",
    "Patarimas: Naudoti ciklą while, sąlygą if, break"
   ]
  },
  {
   "cell_type": "code",
   "execution_count": null,
   "metadata": {},
   "outputs": [
    {
     "ename": "ValueError",
     "evalue": "invalid literal for int() with base 10: ''",
     "output_type": "error",
     "traceback": [
      "\u001b[0;31m---------------------------------------------------------------------------\u001b[0m",
      "\u001b[0;31mValueError\u001b[0m                                Traceback (most recent call last)",
      "Cell \u001b[0;32mIn[1], line 4\u001b[0m\n\u001b[1;32m      1\u001b[0m a \u001b[39m=\u001b[39m \u001b[39m0\u001b[39m\n\u001b[1;32m      3\u001b[0m \u001b[39mwhile\u001b[39;00m \u001b[39mTrue\u001b[39;00m:\n\u001b[0;32m----> 4\u001b[0m     vartotojo_sk \u001b[39m=\u001b[39m \u001b[39mint\u001b[39;49m(\u001b[39minput\u001b[39;49m(\u001b[39m\"\u001b[39;49m\u001b[39mIrasykite skaiciu: \u001b[39;49m\u001b[39m\"\u001b[39;49m))\n\u001b[1;32m      6\u001b[0m     \u001b[39mif\u001b[39;00m vartotojo_sk \u001b[39m<\u001b[39m \u001b[39m0\u001b[39m:\n\u001b[1;32m      7\u001b[0m         \u001b[39mprint\u001b[39m(\u001b[39m\"\u001b[39m\u001b[39mVisu ivestu teigiamu skaiciu suma = \u001b[39m\u001b[39m\"\u001b[39m, a)\n",
      "\u001b[0;31mValueError\u001b[0m: invalid literal for int() with base 10: ''"
     ]
    }
   ],
   "source": [
    "a = 0\n",
    "\n",
    "while True:\n",
    "    vartotojo_sk = int(input(\"Irasykite skaiciu: \"))\n",
    "    \n",
    "    if vartotojo_sk < 0:\n",
    "        print(\"Visu ivestu teigiamu skaiciu suma = \", a)\n",
    "        break\n",
    "\n",
    "    else:\n",
    "        papildomas_vartotojo_sk = int(input(\"Irasykite dar viena sveikaji skaiciu:\"))\n",
    "        if papildomas_vartotojo_sk < 0:\n",
    "            print(\"Visu teigiamu skaiciu suma = \", a)\n",
    "            break\n",
    "\n",
    "        else:\n",
    "            a += vartotojo_sk\n",
    "            a += papildomas_vartotojo_sk\n",
    "        \n",
    "\n"
   ]
  },
  {
   "attachments": {},
   "cell_type": "markdown",
   "metadata": {},
   "source": [
    "# Tuples\n"
   ]
  },
  {
   "cell_type": "code",
   "execution_count": null,
   "metadata": {},
   "outputs": [
    {
     "name": "stdout",
     "output_type": "stream",
     "text": [
      "<class 'tuple'>\n"
     ]
    }
   ],
   "source": [
    "# tuples struktura nepakeciama, nors atrodo kaip sarasas. \n",
    "\n",
    "raides = (\"l\", \"a\", \"b\", \"a\", \"s\")\n",
    "\n",
    "print(type(raides))\n"
   ]
  },
  {
   "cell_type": "code",
   "execution_count": null,
   "metadata": {},
   "outputs": [
    {
     "data": {
      "text/plain": [
       "2"
      ]
     },
     "execution_count": 4,
     "metadata": {},
     "output_type": "execute_result"
    }
   ],
   "source": [
    "raides.count('a')"
   ]
  },
  {
   "cell_type": "code",
   "execution_count": null,
   "metadata": {},
   "outputs": [
    {
     "name": "stdout",
     "output_type": "stream",
     "text": [
      "True\n"
     ]
    }
   ],
   "source": [
    "print('s' in raides)"
   ]
  },
  {
   "cell_type": "code",
   "execution_count": null,
   "metadata": {},
   "outputs": [
    {
     "name": "stdout",
     "output_type": "stream",
     "text": [
      "l\n",
      "a\n",
      "b\n",
      "a\n",
      "s\n"
     ]
    }
   ],
   "source": [
    "for raide in raides:\n",
    "    print(raide)\n"
   ]
  },
  {
   "attachments": {},
   "cell_type": "markdown",
   "metadata": {},
   "source": [
    "# Uzduotys \n",
    "# Pirma užduotis\n",
    "\n",
    "Sukurkite tuple, kuris susideda iš jūsų mėgstamų grupių pavadinimų.\n",
    "Atspausdinkite tuple."
   ]
  },
  {
   "cell_type": "code",
   "execution_count": null,
   "metadata": {},
   "outputs": [
    {
     "name": "stdout",
     "output_type": "stream",
     "text": [
      "<class 'tuple'>\n"
     ]
    }
   ],
   "source": [
    "grupes = (\"ACDC\", \"Prodigy\", \"RHCP\", \"Fatboy Slim\")\n",
    "\n",
    "print(type(grupes))"
   ]
  },
  {
   "attachments": {},
   "cell_type": "markdown",
   "metadata": {},
   "source": [
    "# Antra užduotis\n",
    "\n",
    "Sukurkite dar vieną tuple su grupių pavadinimais (pavadinimai gali kartotis) ir sujunkite abu turimus tuple į vieną naują.\n",
    "Atspausdinkite naują tuple."
   ]
  },
  {
   "cell_type": "code",
   "execution_count": null,
   "metadata": {},
   "outputs": [
    {
     "name": "stdout",
     "output_type": "stream",
     "text": [
      "('ACDC', 'Prodigy', 'RHCP', 'Fatboy Slim', 'No Doubt', 'Onyx')\n"
     ]
    }
   ],
   "source": [
    "grupes1 = (\"ACDC\", \"Prodigy\", \"RHCP\", \"Fatboy Slim\")\n",
    "grupes2 = (\"No Doubt\", \"Onyx\")\n",
    "\n",
    "bendros_grupes = grupes1 + grupes2\n",
    "\n",
    "print(bendros_grupes)"
   ]
  },
  {
   "attachments": {},
   "cell_type": "markdown",
   "metadata": {},
   "source": [
    "# Trečia užduotis\n",
    "\n",
    "Atspausdinkite pirmą grupę.\n",
    "Atspausdinkite trečia grupę.\n",
    "Atspausdinkite paskutinę grupę.\n"
   ]
  },
  {
   "cell_type": "code",
   "execution_count": null,
   "metadata": {},
   "outputs": [
    {
     "name": "stdout",
     "output_type": "stream",
     "text": [
      "('ACDC',)\n",
      "RHCP\n",
      "Onyx\n"
     ]
    }
   ],
   "source": [
    "print(bendros_grupes[:1])\n",
    "print(bendros_grupes[2])\n",
    "print(bendros_grupes[-1])"
   ]
  },
  {
   "attachments": {},
   "cell_type": "markdown",
   "metadata": {},
   "source": [
    "# Ketvirta užduotis\n",
    "\n",
    "Atspausdinkite kas antrą grupę."
   ]
  },
  {
   "cell_type": "code",
   "execution_count": null,
   "metadata": {},
   "outputs": [
    {
     "name": "stdout",
     "output_type": "stream",
     "text": [
      "('ACDC', 'RHCP', 'No Doubt')\n"
     ]
    }
   ],
   "source": [
    "print(bendros_grupes[::2])"
   ]
  },
  {
   "attachments": {},
   "cell_type": "markdown",
   "metadata": {},
   "source": [
    "# Penkta užduotis\n",
    "\n",
    "Atspausdinkite kiek kartų sąraše kartojasi kuri nors grupė.\n",
    "Atspausdinkite kurios nors grupės indeksą.\n",
    "Patikrinkite ar kuri nors grupė yra tuple."
   ]
  },
  {
   "cell_type": "code",
   "execution_count": null,
   "metadata": {},
   "outputs": [
    {
     "name": "stdout",
     "output_type": "stream",
     "text": [
      "1\n",
      "5\n",
      "<class 'tuple'>\n"
     ]
    }
   ],
   "source": [
    "print(bendros_grupes.count(\"ACDC\"))\n",
    "\n",
    "print(bendros_grupes.index(\"Onyx\"))\n",
    "\n",
    "print(type(bendros_grupes))"
   ]
  },
  {
   "attachments": {},
   "cell_type": "markdown",
   "metadata": {},
   "source": [
    "# Bonus užduotis\n",
    "\n",
    "Atspausdinkite grupes atskirose eilutėse taip, kad pavadinimai nesidubliuotų.\n"
   ]
  },
  {
   "cell_type": "code",
   "execution_count": null,
   "metadata": {},
   "outputs": [
    {
     "name": "stdout",
     "output_type": "stream",
     "text": [
      "ACDC\n",
      "Prodigy\n",
      "RHCP\n",
      "Fatboy Slim\n",
      "No Doubt\n",
      "Onyx\n"
     ]
    }
   ],
   "source": [
    "for eilutes in bendros_grupes:\n",
    "    print(eilutes)"
   ]
  },
  {
   "attachments": {},
   "cell_type": "markdown",
   "metadata": {},
   "source": [
    "# Aibes\n"
   ]
  },
  {
   "cell_type": "code",
   "execution_count": null,
   "metadata": {},
   "outputs": [
    {
     "name": "stdout",
     "output_type": "stream",
     "text": [
      "{'braskes', 'arbuzai', 'melynes', 'pomidorai'} <class 'set'>\n",
      "set() <class 'set'>\n",
      "{} <class 'dict'>\n"
     ]
    }
   ],
   "source": [
    "\n",
    "\n",
    "uogos = {'braskes', 'pomidorai', 'arbuzai', 'melynes'}\n",
    "\n",
    "tuscia = set()\n",
    "\n",
    "neaibe = {}\n",
    "\n",
    "\n",
    "print(uogos, type(uogos))\n",
    "print(tuscia, type(tuscia))\n",
    "print(neaibe, type(neaibe))\n",
    "\n",
    "\n"
   ]
  },
  {
   "cell_type": "code",
   "execution_count": 37,
   "metadata": {},
   "outputs": [
    {
     "name": "stdout",
     "output_type": "stream",
     "text": [
      "{'braskes', 'melynes', 'arbuzai', 'zemuoges', 'pomidorai'}\n"
     ]
    }
   ],
   "source": [
    "# aibiu metodai skiriasi nuo sarasu metodu\n",
    "\n",
    "uogos.add('zemuoges')\n",
    "print(uogos)"
   ]
  },
  {
   "cell_type": "code",
   "execution_count": 39,
   "metadata": {},
   "outputs": [
    {
     "name": "stdout",
     "output_type": "stream",
     "text": [
      "{'braskes', 'melynes', 'arbuzai', 'zemuoges', 'bruknes', 'alyvuoges', 'pomidorai'}\n"
     ]
    }
   ],
   "source": [
    "# prie aibiu galima prideti sarasa\n",
    "\n",
    "kitos_uogos = [\"braskes\", \"bruknes\", \"alyvuoges\"]\n",
    "uogos.update(kitos_uogos)\n",
    "print(uogos)"
   ]
  },
  {
   "cell_type": "code",
   "execution_count": 40,
   "metadata": {},
   "outputs": [
    {
     "name": "stdout",
     "output_type": "stream",
     "text": [
      "{'melynes', 'arbuzai', 'zemuoges', 'bruknes', 'alyvuoges', 'pomidorai'}\n",
      "{'braskes', 'melynes', 'arbuzai', 'zemuoges', 'bruknes', 'alyvuoges', 'pomidorai'}\n"
     ]
    }
   ],
   "source": [
    "# remove funkcijai butinai egzistuojantis elementas\n",
    "uogos.remove('braskes')\n",
    "print(uogos)\n",
    "uogos.add(kitos_uogos[0])\n",
    "print(uogos)"
   ]
  },
  {
   "cell_type": "code",
   "execution_count": 41,
   "metadata": {},
   "outputs": [
    {
     "name": "stdout",
     "output_type": "stream",
     "text": [
      "{'braskes', 'melynes', 'arbuzai', 'zemuoges', 'bruknes', 'alyvuoges', 'pomidorai'}\n"
     ]
    }
   ],
   "source": [
    "# discrard funkcija gilas nebutinas egzistuojantis elementas \n",
    "uogos.discard('bananas')\n",
    "print(uogos)"
   ]
  },
  {
   "cell_type": "code",
   "execution_count": 46,
   "metadata": {},
   "outputs": [
    {
     "name": "stdout",
     "output_type": "stream",
     "text": [
      "zemuoges\n",
      "{'bruknes', 'alyvuoges', 'pomidorai'}\n"
     ]
    }
   ],
   "source": [
    "betkuris = uogos.pop()\n",
    "print(betkuris)\n",
    "print(uogos)"
   ]
  },
  {
   "cell_type": "code",
   "execution_count": 48,
   "metadata": {},
   "outputs": [
    {
     "name": "stdout",
     "output_type": "stream",
     "text": [
      "{'avietes', 'bruknes', 'alyvuoges', 'pomidorai'}\n",
      "{'avietes', 'bruknes', 'alyvuoges', 'pomidorai'}\n",
      "{'avietes', 'bruknes', 'alyvuoges', 'pomidorai'}\n"
     ]
    }
   ],
   "source": [
    "# aibe galima kopijuoti, techniskai tai objektas\n",
    "\n",
    "kitos_uogos = uogos\n",
    "print(kitos_uogos)\n",
    "print(uogos)\n",
    "kitos_uogos.add('avietes')\n",
    "print(uogos)"
   ]
  },
  {
   "cell_type": "code",
   "execution_count": 49,
   "metadata": {},
   "outputs": [
    {
     "name": "stdout",
     "output_type": "stream",
     "text": [
      "{'avietes', 'bruknes', 'alyvuoges', 'pomidorai'}\n",
      "{'bruknes', 'alyvuoges', 'avietes', 'pomidorai'}\n",
      "{'avietes', 'bruknes', 'alyvuoges', 'pomidorai'}\n"
     ]
    }
   ],
   "source": [
    "kitos_uogos = uogos.copy()\n",
    "print(uogos)\n",
    "print(kitos_uogos)\n",
    "kitos_uogos.pop()\n",
    "print(uogos)"
   ]
  },
  {
   "cell_type": "code",
   "execution_count": 50,
   "metadata": {},
   "outputs": [
    {
     "name": "stdout",
     "output_type": "stream",
     "text": [
      "{'avietes', 'alyvuoges', 'pomidorai'}\n"
     ]
    }
   ],
   "source": [
    "uogos.pop()\n",
    "print(uogos)"
   ]
  },
  {
   "cell_type": "code",
   "execution_count": 51,
   "metadata": {},
   "outputs": [
    {
     "name": "stdout",
     "output_type": "stream",
     "text": [
      "{'avietes', 'alyvuoges', 'pomidorai'}\n"
     ]
    }
   ],
   "source": [
    "# union funkcija sudeda tik dvi aibes ir pnasu i update funkcija, bet i ja negalima padeti saraso. \n",
    "bendros = uogos.union(kitos_uogos)\n",
    "print(bendros)"
   ]
  },
  {
   "cell_type": "code",
   "execution_count": 52,
   "metadata": {},
   "outputs": [
    {
     "name": "stdout",
     "output_type": "stream",
     "text": [
      "{'avietes', 'alyvuoges', 'pomidorai'}\n"
     ]
    }
   ],
   "source": [
    "# intersection grąžina visus elementus, kurie yra abiejose aibėse:\n",
    "bendros = uogos.intersection(kitos_uogos)\n",
    "print(bendros)"
   ]
  },
  {
   "cell_type": "code",
   "execution_count": 54,
   "metadata": {},
   "outputs": [
    {
     "name": "stdout",
     "output_type": "stream",
     "text": [
      "{'alyvuoges', 'avietes', 'pomidorai'} set()\n"
     ]
    }
   ],
   "source": [
    "# grąžina visus elementus, kurie yra pirmoje aibėje, bet nėra antroje aibėje\n",
    "\n",
    "unikalios = uogos.difference(kitos_uogos)\n",
    "kitos_uogos = kitos_uogos.difference(uogos)\n",
    "print(unikalios,kitos_uogos)"
   ]
  },
  {
   "cell_type": "code",
   "execution_count": 55,
   "metadata": {},
   "outputs": [
    {
     "name": "stdout",
     "output_type": "stream",
     "text": [
      "avietes\n",
      "alyvuoges\n",
      "pomidorai\n"
     ]
    }
   ],
   "source": [
    "for uoga in uogos:\n",
    "    print(uoga)"
   ]
  },
  {
   "attachments": {},
   "cell_type": "markdown",
   "metadata": {},
   "source": [
    "# Uzduotys\n",
    "\n",
    "# Pirma užduotis\n",
    "\n",
    "Sukurkite aibę su skaičiais.\n",
    "Pridėkite skaičių į aibę\n",
    "Atspausdinkite papildytą aibę.\n"
   ]
  },
  {
   "cell_type": "code",
   "execution_count": 56,
   "metadata": {},
   "outputs": [
    {
     "name": "stdout",
     "output_type": "stream",
     "text": [
      "{'30', '10', '25', '15', '5', '20', '35'}\n"
     ]
    }
   ],
   "source": [
    "sk_aibe = {'5', '10', '15', '20', '25', '30'}\n",
    "\n",
    "sk_aibe.add('35')\n",
    "print(sk_aibe)\n"
   ]
  },
  {
   "attachments": {},
   "cell_type": "markdown",
   "metadata": {},
   "source": [
    "# Antra užduotis\n",
    "\n",
    "Sukurkite naują aibę su skaičiais.\n",
    "Ištrinkite skaičių iš aibės.\n",
    "Atspausdinkite pakoreguotą aibę."
   ]
  },
  {
   "cell_type": "code",
   "execution_count": 57,
   "metadata": {},
   "outputs": [
    {
     "name": "stdout",
     "output_type": "stream",
     "text": [
      "{'120', '110', '130', '140'}\n"
     ]
    }
   ],
   "source": [
    "sk_aibe2 = {'100', '110', '120', '130', '140'}\n",
    "\n",
    "sk_aibe2.remove('100')\n",
    "print(sk_aibe2)\n"
   ]
  },
  {
   "attachments": {},
   "cell_type": "markdown",
   "metadata": {},
   "source": [
    "# Trečia užduotis\n",
    "\n",
    "Sukurkite naują aibę iš abiejų turimų aibių su tais elementais, kurie yra bendri.\n",
    "Atspausdinkite naują aibę."
   ]
  },
  {
   "cell_type": "code",
   "execution_count": 61,
   "metadata": {},
   "outputs": [
    {
     "name": "stdout",
     "output_type": "stream",
     "text": [
      "{'10', '110', '5', '130', '120', '30', '25', '15', '20', '35', '140'}\n"
     ]
    }
   ],
   "source": [
    "bendros_aibes = sk_aibe.union(sk_aibe2)\n",
    "\n",
    "print(bendros_aibes)\n",
    "\n"
   ]
  },
  {
   "attachments": {},
   "cell_type": "markdown",
   "metadata": {},
   "source": [
    "# Ketvirta užduotis\n",
    "\n",
    "Sukurkite naują aibę iš pirmoje ir antroje užduotyje sukurtų aibių su tais elementais, kurie yra pirmoje aibėje, bet ne antroje.\n",
    "Atspausdinkite naują aibę."
   ]
  },
  {
   "cell_type": "code",
   "execution_count": 62,
   "metadata": {},
   "outputs": [
    {
     "name": "stdout",
     "output_type": "stream",
     "text": [
      "{'10', '5', '30', '25', '15', '20', '35'} {'120', '130', '110', '140'}\n"
     ]
    }
   ],
   "source": [
    "ketvirta_unikali = sk_aibe.difference(sk_aibe2)\n",
    "\n",
    "sk_aibe2 = sk_aibe2.difference(sk_aibe)\n",
    "print(ketvirta_unikali, sk_aibe2)\n"
   ]
  },
  {
   "attachments": {},
   "cell_type": "markdown",
   "metadata": {},
   "source": [
    "# Penkta užduotis\n",
    "\n",
    "Sukurkite naują aibę iš pirmoje ir antroje užduotyje sukurtų aibių su tais elementais, kurie yra unikalūs tik antroje.\n",
    "Atspausdinkite naują aibę."
   ]
  },
  {
   "cell_type": "code",
   "execution_count": 63,
   "metadata": {},
   "outputs": [
    {
     "name": "stdout",
     "output_type": "stream",
     "text": [
      "{'120', '130', '110', '140'}\n"
     ]
    }
   ],
   "source": [
    "penkta_unikali = sk_aibe2.difference(sk_aibe)\n",
    "print(penkta_unikali)"
   ]
  },
  {
   "attachments": {},
   "cell_type": "markdown",
   "metadata": {},
   "source": [
    "# Bonus užduotis\n",
    "\n",
    "Pakelkite penktosios užduoties aibės elementus kvadratu."
   ]
  },
  {
   "cell_type": "code",
   "execution_count": 77,
   "metadata": {},
   "outputs": [
    {
     "name": "stdout",
     "output_type": "stream",
     "text": [
      "{14400, 16900, 19600, 12100}\n"
     ]
    }
   ],
   "source": [
    "kvadratu = {int(x) ** 2 for x in penkta_unikali}\n",
    "\n",
    "print(kvadratu)"
   ]
  }
 ],
 "metadata": {
  "kernelspec": {
   "display_name": "Python 3",
   "language": "python",
   "name": "python3"
  },
  "language_info": {
   "codemirror_mode": {
    "name": "ipython",
    "version": 3
   },
   "file_extension": ".py",
   "mimetype": "text/x-python",
   "name": "python",
   "nbconvert_exporter": "python",
   "pygments_lexer": "ipython3",
   "version": "3.11.3"
  },
  "orig_nbformat": 4
 },
 "nbformat": 4,
 "nbformat_minor": 2
}
