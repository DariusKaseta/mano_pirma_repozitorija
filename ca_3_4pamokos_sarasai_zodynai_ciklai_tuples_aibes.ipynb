{
 "cells": [
  {
   "attachments": {},
   "cell_type": "markdown",
   "metadata": {},
   "source": [
    "# Sarasai\n"
   ]
  },
  {
   "cell_type": "code",
   "execution_count": 6,
   "metadata": {},
   "outputs": [
    {
     "name": "stdout",
     "output_type": "stream",
     "text": [
      "[1, 2, 3, 4, 5]\n"
     ]
    }
   ],
   "source": [
    "skaiciai = [1, 2, 3, 4, 5]\n",
    "print(skaiciai)"
   ]
  },
  {
   "cell_type": "code",
   "execution_count": 7,
   "metadata": {},
   "outputs": [
    {
     "name": "stdout",
     "output_type": "stream",
     "text": [
      "['geri', 'buvo', 'pietus']\n"
     ]
    }
   ],
   "source": [
    "zodziai = [\"geri\", \"buvo\", \"pietus\"]\n",
    "print(zodziai)"
   ]
  },
  {
   "cell_type": "code",
   "execution_count": 8,
   "metadata": {},
   "outputs": [
    {
     "name": "stdout",
     "output_type": "stream",
     "text": [
      "5\n"
     ]
    }
   ],
   "source": [
    "# pasiekiami saraso elementai\n",
    "\n",
    "print(skaiciai[-1])"
   ]
  },
  {
   "cell_type": "code",
   "execution_count": 9,
   "metadata": {},
   "outputs": [
    {
     "name": "stdout",
     "output_type": "stream",
     "text": [
      "[1, 2, 3]\n",
      "[3, 4, 5]\n",
      "[3, 4]\n"
     ]
    }
   ],
   "source": [
    "print(skaiciai[:3])\n",
    "\n",
    "print(skaiciai[2:])\n",
    "\n",
    "print(skaiciai[2:4])"
   ]
  },
  {
   "cell_type": "code",
   "execution_count": 10,
   "metadata": {},
   "outputs": [
    {
     "name": "stdout",
     "output_type": "stream",
     "text": [
      "[5, 3, 1]\n"
     ]
    }
   ],
   "source": [
    "# isveda kas antra skaiciu, nuo galo\n",
    "\n",
    "print(skaiciai[::-2])"
   ]
  },
  {
   "cell_type": "code",
   "execution_count": 11,
   "metadata": {},
   "outputs": [
    {
     "name": "stdout",
     "output_type": "stream",
     "text": [
      "atsaren seluas ,aneid agniteil izarG\n"
     ]
    }
   ],
   "source": [
    "\n",
    "sakinys = \"Grazi lietinga diena, saules nerasta\"\n",
    "print(sakinys[::-1])"
   ]
  },
  {
   "cell_type": "code",
   "execution_count": 12,
   "metadata": {},
   "outputs": [
    {
     "name": "stdout",
     "output_type": "stream",
     "text": [
      "['Grazi', 'lietinga', 'diena', 'saules', 'nerasta']\n"
     ]
    }
   ],
   "source": [
    "sakinys = sakinys.replace(\",\", \"\")\n",
    "sakinio_zodziai = sakinys.split()\n",
    "print(sakinio_zodziai)"
   ]
  },
  {
   "cell_type": "code",
   "execution_count": 13,
   "metadata": {},
   "outputs": [
    {
     "name": "stdout",
     "output_type": "stream",
     "text": [
      "[1, 2, 3, 4, 5, 6]\n"
     ]
    }
   ],
   "source": [
    "# pridedamas skaicius su append metodu, norima indeksa nurodom\n",
    "\n",
    "skaiciai.append(6)\n",
    "print(skaiciai)"
   ]
  },
  {
   "cell_type": "code",
   "execution_count": 14,
   "metadata": {},
   "outputs": [
    {
     "name": "stdout",
     "output_type": "stream",
     "text": [
      "[1, 2, 3, 4, 5, 6, 7, 8, 9]\n"
     ]
    }
   ],
   "source": [
    "# ispleciamas sarasas su extend metodu\n",
    "\n",
    "kiti_skaiciai = [7, 8, 9]\n",
    "skaiciai.extend(kiti_skaiciai)\n",
    "print(skaiciai)"
   ]
  },
  {
   "cell_type": "code",
   "execution_count": 15,
   "metadata": {},
   "outputs": [
    {
     "name": "stdout",
     "output_type": "stream",
     "text": [
      "[1, 2, 3, 11, 4, 5, 6, 7, 8, 9]\n"
     ]
    }
   ],
   "source": [
    "# idedamas skaicius i sarasa su insert funkcija\n",
    "\n",
    "skaiciai.insert(3, 11)\n",
    "print(skaiciai)"
   ]
  },
  {
   "cell_type": "code",
   "execution_count": 16,
   "metadata": {},
   "outputs": [
    {
     "name": "stdout",
     "output_type": "stream",
     "text": [
      "[1, 2, 3, 11, 4, 5, 6, 8, 9]\n"
     ]
    }
   ],
   "source": [
    "# isemamas elementas ties nurodytu sarase indeksu, su remove funkcija\n",
    "\n",
    "skaiciai.remove(7)\n",
    "print(skaiciai)"
   ]
  },
  {
   "cell_type": "code",
   "execution_count": 17,
   "metadata": {},
   "outputs": [
    {
     "name": "stdout",
     "output_type": "stream",
     "text": [
      "9\n",
      "[1, 2, 3, 11, 4, 5, 6, 8]\n"
     ]
    }
   ],
   "source": [
    "devynke = skaiciai.pop()\n",
    "print(devynke)\n",
    "print(skaiciai)"
   ]
  },
  {
   "cell_type": "code",
   "execution_count": 18,
   "metadata": {},
   "outputs": [
    {
     "name": "stdout",
     "output_type": "stream",
     "text": [
      "4\n",
      "[1, 2, 3, 11, 5, 6, 8]\n"
     ]
    }
   ],
   "source": [
    "ketvertas = skaiciai.pop(4)\n",
    "print(ketvertas)\n",
    "print(skaiciai)"
   ]
  },
  {
   "cell_type": "code",
   "execution_count": 19,
   "metadata": {},
   "outputs": [
    {
     "name": "stdout",
     "output_type": "stream",
     "text": [
      "5\n"
     ]
    }
   ],
   "source": [
    "kur_esi = skaiciai.index(6)\n",
    "print(kur_esi)"
   ]
  },
  {
   "cell_type": "code",
   "execution_count": 20,
   "metadata": {},
   "outputs": [
    {
     "name": "stdout",
     "output_type": "stream",
     "text": [
      "[1, 2, 3, 11, 6, 8]\n"
     ]
    }
   ],
   "source": [
    "# remove metodas meta ne pagal indexa, o pagal reiksme.\n",
    "\n",
    "skaiciai.remove(kur_esi)\n",
    "print(skaiciai)"
   ]
  },
  {
   "cell_type": "code",
   "execution_count": 21,
   "metadata": {},
   "outputs": [
    {
     "name": "stdout",
     "output_type": "stream",
     "text": [
      "[1, 2, 3, 11, 6, 8, 7, 2, 3, 5, 8, 11, 4, 6]\n"
     ]
    }
   ],
   "source": [
    "skaiciai.extend([7, 2, 3, 5, 8, 11, 4, 6])\n",
    "print(skaiciai)"
   ]
  },
  {
   "cell_type": "code",
   "execution_count": 22,
   "metadata": {},
   "outputs": [
    {
     "name": "stdout",
     "output_type": "stream",
     "text": [
      "[1, 2, 2, 3, 3, 4, 5, 6, 6, 7, 8, 8, 11, 11]\n"
     ]
    }
   ],
   "source": [
    "# isrusiuoja sarasa, jei sarase yra textas - bus rusiuojama pagal abecele. \n",
    "\n",
    "skaiciai.sort()\n",
    "print(skaiciai)"
   ]
  },
  {
   "cell_type": "code",
   "execution_count": 23,
   "metadata": {},
   "outputs": [
    {
     "name": "stdout",
     "output_type": "stream",
     "text": [
      "[11, 11, 8, 8, 7, 6, 6, 5, 4, 3, 3, 2, 2, 1]\n"
     ]
    }
   ],
   "source": [
    "# atgaline tvarka isrusiuoja sarasa\n",
    "\n",
    "skaiciai.sort(reverse=True)\n",
    "print(skaiciai)"
   ]
  },
  {
   "cell_type": "code",
   "execution_count": 24,
   "metadata": {},
   "outputs": [
    {
     "name": "stdout",
     "output_type": "stream",
     "text": [
      "['pietus', 'buvo', 'geri']\n"
     ]
    }
   ],
   "source": [
    "# rusiuoja mazejancia tvarka jei sarasuose skaiciai, jei zodziai - apsuka sarasa kita puse \n",
    "\n",
    "zodziai.reverse()\n",
    "print(zodziai)"
   ]
  },
  {
   "cell_type": "code",
   "execution_count": 25,
   "metadata": {},
   "outputs": [
    {
     "name": "stdout",
     "output_type": "stream",
     "text": [
      "14\n"
     ]
    }
   ],
   "source": [
    "# suskaiciuoja kiek elementu sarase su len funkcija\n",
    "\n",
    "print(len(skaiciai))\n"
   ]
  },
  {
   "cell_type": "code",
   "execution_count": 26,
   "metadata": {},
   "outputs": [
    {
     "name": "stdout",
     "output_type": "stream",
     "text": [
      "False\n"
     ]
    }
   ],
   "source": [
    "# patikrinimui ar sarasuose yra norimas elementas su in funkcija\n",
    "\n",
    "print(9 in skaiciai)"
   ]
  },
  {
   "cell_type": "code",
   "execution_count": 27,
   "metadata": {},
   "outputs": [
    {
     "name": "stdout",
     "output_type": "stream",
     "text": [
      "77\n"
     ]
    }
   ],
   "source": [
    "# susumuoj visus skaicius sarase\n",
    "\n",
    "print(sum(skaiciai))"
   ]
  },
  {
   "cell_type": "code",
   "execution_count": 28,
   "metadata": {},
   "outputs": [
    {
     "name": "stdout",
     "output_type": "stream",
     "text": [
      "[11, 11, 8, 8, 8, 6, 6, 5, 4, 3, 3, 2, 2, 1]\n"
     ]
    }
   ],
   "source": [
    "# pakeitimas elemento sarase \n",
    "\n",
    "skaiciai[4] = 8\n",
    "\n",
    "\n",
    "print(skaiciai)\n",
    "\n"
   ]
  },
  {
   "cell_type": "code",
   "execution_count": 29,
   "metadata": {},
   "outputs": [],
   "source": [
    "\n",
    "\n",
    "del skaiciai[4]"
   ]
  },
  {
   "attachments": {},
   "cell_type": "markdown",
   "metadata": {},
   "source": [
    "# Užduotys: \n",
    "\n",
    "\n"
   ]
  },
  {
   "attachments": {},
   "cell_type": "markdown",
   "metadata": {},
   "source": [
    "# Pirma užduotis\n",
    "Sukurkite sąrašą su bent penkiais jūsų mėgstamų maisto produktų pavadinimais.\n",
    "Atspausdinkite visą sąrašą."
   ]
  },
  {
   "cell_type": "code",
   "execution_count": 30,
   "metadata": {},
   "outputs": [
    {
     "name": "stdout",
     "output_type": "stream",
     "text": [
      "['avokadas', 'kiausiniai', 'ryziai', 'citrina', 'cesnakas']\n"
     ]
    }
   ],
   "source": [
    "produktai = [\"avokadas\", \"kiausiniai\", \"ryziai\", \"citrina\", \"cesnakas\"]\n",
    "print(produktai)"
   ]
  },
  {
   "attachments": {},
   "cell_type": "markdown",
   "metadata": {},
   "source": [
    "# Antra užduotis\n",
    "\n",
    "Atspausdinkite sąrašo pirmą elementą.\n",
    "Atspausdinkite sąrašo trečią elementą.\n",
    "Atspausdinkite sąrašo paskutinį elementą."
   ]
  },
  {
   "cell_type": "code",
   "execution_count": 31,
   "metadata": {},
   "outputs": [
    {
     "name": "stdout",
     "output_type": "stream",
     "text": [
      "avokadas\n",
      "ryziai\n",
      "cesnakas\n"
     ]
    }
   ],
   "source": [
    "print(produktai[0])\n",
    "print(produktai[2])\n",
    "print(produktai[-1])"
   ]
  },
  {
   "attachments": {},
   "cell_type": "markdown",
   "metadata": {},
   "source": [
    "# Trečia užduotis\n",
    "\n",
    "Atspausdinkite sąrašo pirmus tris elementus.\n",
    "Atspausdinkite sąrašo paskutinius du elementus.\n",
    "Atspausdinkite tris elementus iš sąrašo vidurio.\n",
    "Atspausdinkite sąrašo kas antrą elementą."
   ]
  },
  {
   "cell_type": "code",
   "execution_count": 32,
   "metadata": {},
   "outputs": [
    {
     "name": "stdout",
     "output_type": "stream",
     "text": [
      "['avokadas', 'kiausiniai', 'ryziai']\n",
      "['citrina', 'cesnakas']\n",
      "['kiausiniai', 'ryziai', 'citrina']\n",
      "['cesnakas', 'ryziai', 'avokadas']\n"
     ]
    }
   ],
   "source": [
    "print(produktai[:3])\n",
    "print(produktai[-2:])\n",
    "print(produktai[1:4])\n",
    "print(produktai[::-2])\n"
   ]
  },
  {
   "attachments": {},
   "cell_type": "markdown",
   "metadata": {},
   "source": [
    "# Ketvirta užduotis\n",
    "\n",
    "Atlikite žemiau nurodytus veiksmus su turimu sąrašu ir po kiekvieno veiksmo, sąrašą atspausdinkite:\n",
    "\n",
    "Pridėkite dar vieną mėgstamo maisto pavadinimą į sąrašo galą. \n",
    "Įterpkite naują maisto produktą į sąrašo ketvirtą vietą. \n",
    "Pakeiskite antrąjį sąrašo elementą kitu mėgstamo maisto pavadinimu. \n",
    "Ištrinkite pirmąjį sąrašo elementą. \n",
    "Ištrinkite sąrašo trečią elementą. \n",
    "Suraskite sąraše kurio nors elemento indeksą. \n",
    "Atspausdinkite sąrašą atvirkštine tvarka. \n",
    "Pabandykite papildomai panaudoti kitus metodus. "
   ]
  },
  {
   "cell_type": "code",
   "execution_count": 33,
   "metadata": {},
   "outputs": [
    {
     "name": "stdout",
     "output_type": "stream",
     "text": [
      "['avokadas', 'cesnakas', 'citrina', 'kiausiniai', 'ryziai'] 3\n"
     ]
    }
   ],
   "source": [
    "# produktai.append(\"pipiras\")\n",
    "\n",
    "# produktai.remove('bananas')\n",
    "\n",
    "# produktai.insert(3, 'bananas')\n",
    "\n",
    "# produktai[1] = \"pienas\"\n",
    "\n",
    "# produktai.remove('avokadas')\n",
    "\n",
    "# del produktai[2]\n",
    "\n",
    "indeksas = produktai.index('citrina')\n",
    "\n",
    "produktai.sort(reverse = False)\n",
    "\n",
    "print(produktai, indeksas)"
   ]
  },
  {
   "attachments": {},
   "cell_type": "markdown",
   "metadata": {},
   "source": [
    "# Penkta užduotis\n",
    "\n",
    "Patikrinkite sąrašo ilgį."
   ]
  },
  {
   "cell_type": "code",
   "execution_count": 34,
   "metadata": {},
   "outputs": [
    {
     "name": "stdout",
     "output_type": "stream",
     "text": [
      "5\n"
     ]
    }
   ],
   "source": [
    "print(len(produktai))"
   ]
  },
  {
   "attachments": {},
   "cell_type": "markdown",
   "metadata": {},
   "source": [
    "# Šešta užduotis\n",
    "\n",
    "Patikrinkite ar tam tikras produktas yra sąraše.\n"
   ]
  },
  {
   "cell_type": "code",
   "execution_count": 35,
   "metadata": {},
   "outputs": [
    {
     "name": "stdout",
     "output_type": "stream",
     "text": [
      "Deja, produktas nėra sąraše!\n",
      "['avokadas', 'cesnakas', 'citrina', 'kiausiniai', 'ryziai']\n",
      "False\n"
     ]
    }
   ],
   "source": [
    "tikrinimas = input(\"Įveskite norimą rasti produktą: \")\n",
    "\n",
    "if tikrinimas in produktai:\n",
    "    print('Bingo, produktas yra sąraše!')\n",
    "\n",
    "else:\n",
    "    print('Deja, produktas nėra sąraše!')\n",
    "\n",
    "\n",
    "print(produktai)\n",
    "\n",
    "\n",
    "print('braske' in produktai)"
   ]
  },
  {
   "attachments": {},
   "cell_type": "markdown",
   "metadata": {},
   "source": [
    "# Zodynai\n"
   ]
  },
  {
   "cell_type": "code",
   "execution_count": 36,
   "metadata": {},
   "outputs": [
    {
     "name": "stdout",
     "output_type": "stream",
     "text": [
      "{'good': 'geras', 'fun': 'juokingas', 'big': 'didelis'}\n"
     ]
    }
   ],
   "source": [
    "# zodyno indekai yra raktiniai zodziai\n",
    "\n",
    "zodynas = {\n",
    "    'good' : 'geras',\n",
    "    'fun' : 'juokingas',\n",
    "    'big' : 'didelis',\n",
    "}\n",
    "\n",
    "print(zodynas)"
   ]
  },
  {
   "cell_type": "code",
   "execution_count": 37,
   "metadata": {},
   "outputs": [
    {
     "name": "stdout",
     "output_type": "stream",
     "text": [
      "{'petras': [5, 3, 2, 1], 'monika': [7, 11, 3, 0]}\n"
     ]
    }
   ],
   "source": [
    "zmones = {\n",
    "    'petras' : [5, 3, 2, 1],\n",
    "    'monika' : [7, 11, 3, 0]\n",
    "}\n",
    "print(zmones)"
   ]
  },
  {
   "cell_type": "code",
   "execution_count": 38,
   "metadata": {},
   "outputs": [
    {
     "name": "stdout",
     "output_type": "stream",
     "text": [
      "geras\n"
     ]
    }
   ],
   "source": [
    "print(zodynas['good'])"
   ]
  },
  {
   "cell_type": "code",
   "execution_count": 39,
   "metadata": {},
   "outputs": [
    {
     "name": "stdout",
     "output_type": "stream",
     "text": [
      "{'good': 'blogas', 'fun': 'juokingas', 'big': 'didelis'}\n",
      "{'good': 'blogas', 'fun': 'juokingas', 'big': 'didelis', 'evil': 'blogis'}\n"
     ]
    }
   ],
   "source": [
    "zodynas['good'] = 'blogas'\n",
    "print(zodynas)\n",
    "\n",
    "\n",
    "zodynas['evil'] = 'blogis'\n",
    "print(zodynas)"
   ]
  },
  {
   "cell_type": "code",
   "execution_count": 40,
   "metadata": {},
   "outputs": [
    {
     "ename": "KeyError",
     "evalue": "'goodnes'",
     "output_type": "error",
     "traceback": [
      "\u001b[0;31m---------------------------------------------------------------------------\u001b[0m",
      "\u001b[0;31mKeyError\u001b[0m                                  Traceback (most recent call last)",
      "Cell \u001b[0;32mIn[40], line 7\u001b[0m\n\u001b[1;32m      1\u001b[0m zodynas[\u001b[39m'\u001b[39m\u001b[39mgoodness\u001b[39m\u001b[39m'\u001b[39m] \u001b[39m=\u001b[39m \u001b[39m'\u001b[39m\u001b[39mgeris\u001b[39m\u001b[39m'\u001b[39m\n\u001b[1;32m      5\u001b[0m \u001b[39m# istrinti zodyne reiksme\u001b[39;00m\n\u001b[0;32m----> 7\u001b[0m \u001b[39mdel\u001b[39;00m zodynas[\u001b[39m'\u001b[39;49m\u001b[39mgoodnes\u001b[39;49m\u001b[39m'\u001b[39;49m]\n\u001b[1;32m      9\u001b[0m \u001b[39mprint\u001b[39m(zodynas)\n",
      "\u001b[0;31mKeyError\u001b[0m: 'goodnes'"
     ]
    }
   ],
   "source": [
    "zodynas['goodness'] = 'geris'\n",
    "\n",
    "\n",
    "\n",
    "# istrinti zodyne reiksme\n",
    "\n",
    "del zodynas['goodnes']\n",
    "\n",
    "print(zodynas)\n"
   ]
  },
  {
   "attachments": {},
   "cell_type": "markdown",
   "metadata": {},
   "source": [
    "# Zodynai metodai\n"
   ]
  },
  {
   "cell_type": "code",
   "execution_count": null,
   "metadata": {},
   "outputs": [
    {
     "name": "stdout",
     "output_type": "stream",
     "text": [
      "dict_keys(['good', 'fun', 'big', 'evil', 'goodness'])\n",
      "big\n"
     ]
    }
   ],
   "source": [
    "# keys grazina raktus, values - reiksmes \n",
    "\n",
    "print(zodynas.keys())\n",
    "\n",
    "\n",
    "print(list(zodynas.keys())[2])"
   ]
  },
  {
   "cell_type": "code",
   "execution_count": null,
   "metadata": {},
   "outputs": [
    {
     "name": "stdout",
     "output_type": "stream",
     "text": [
      "dict_values(['blogas', 'juokingas', 'didelis', 'blogis', 'geris'])\n"
     ]
    }
   ],
   "source": [
    "# values grazina reiksmes, techniskai sarasas, bet ne visai. \n",
    "\n",
    "print(zodynas.values())"
   ]
  },
  {
   "cell_type": "code",
   "execution_count": null,
   "metadata": {},
   "outputs": [
    {
     "name": "stdout",
     "output_type": "stream",
     "text": [
      "dict_items([('good', 'blogas'), ('fun', 'juokingas'), ('big', 'didelis'), ('evil', 'blogis'), ('goodness', 'geris')])\n"
     ]
    }
   ],
   "source": [
    "# grazina raktus ir reiksmes su items funkcija\n",
    "\n",
    "print(zodynas.items())"
   ]
  },
  {
   "cell_type": "code",
   "execution_count": null,
   "metadata": {},
   "outputs": [
    {
     "name": "stdout",
     "output_type": "stream",
     "text": [
      "juokingas\n"
     ]
    }
   ],
   "source": [
    "# zodyne gavimas reiksmes su get funkcija\n",
    "\n",
    "\n",
    "print(zodynas.get('fun'))"
   ]
  },
  {
   "cell_type": "code",
   "execution_count": null,
   "metadata": {},
   "outputs": [
    {
     "ename": "KeyError",
     "evalue": "'blogis'",
     "output_type": "error",
     "traceback": [
      "\u001b[0;31m---------------------------------------------------------------------------\u001b[0m",
      "\u001b[0;31mKeyError\u001b[0m                                  Traceback (most recent call last)",
      "Cell \u001b[0;32mIn[116], line 1\u001b[0m\n\u001b[0;32m----> 1\u001b[0m blogas \u001b[39m=\u001b[39m zodynas\u001b[39m.\u001b[39;49mpop(\u001b[39m'\u001b[39;49m\u001b[39mblogis\u001b[39;49m\u001b[39m'\u001b[39;49m)\n\u001b[1;32m      2\u001b[0m \u001b[39mprint\u001b[39m(blogas)\n",
      "\u001b[0;31mKeyError\u001b[0m: 'blogis'"
     ]
    }
   ],
   "source": [
    "blogas = zodynas.pop('blogis')\n",
    "print(blogas)"
   ]
  },
  {
   "cell_type": "code",
   "execution_count": null,
   "metadata": {},
   "outputs": [
    {
     "data": {
      "text/plain": [
       "{}"
      ]
     },
     "execution_count": 117,
     "metadata": {},
     "output_type": "execute_result"
    }
   ],
   "source": [
    "# visiskai isvalo zodyn su clear\n",
    "\n",
    "zmones.clear()\n",
    "zmones"
   ]
  },
  {
   "cell_type": "code",
   "execution_count": null,
   "metadata": {},
   "outputs": [],
   "source": [
    "# naujas tuscias sarasas\n",
    "\n",
    "zmones = {}"
   ]
  },
  {
   "cell_type": "code",
   "execution_count": null,
   "metadata": {},
   "outputs": [
    {
     "name": "stdout",
     "output_type": "stream",
     "text": [
      "{'Milda': 'Gyvunu megeja', 'Andrius': 'Furistas'}\n"
     ]
    }
   ],
   "source": [
    "zmones ['Milda'] = 'Gyvunu megeja'\n",
    "zmones ['Andrius'] = 'Furistas'\n",
    "\n",
    "print(zmones)"
   ]
  },
  {
   "attachments": {},
   "cell_type": "markdown",
   "metadata": {},
   "source": [
    "# Užduotys\n",
    "\n"
   ]
  },
  {
   "attachments": {},
   "cell_type": "markdown",
   "metadata": {},
   "source": [
    "# Pirma užduotis\n",
    "\n",
    "Sukurkite žodyną su bent trimis augintinių vardais ir jų amžiumi.\n",
    "Atspausdinkite visą žodyną."
   ]
  },
  {
   "cell_type": "code",
   "execution_count": null,
   "metadata": {},
   "outputs": [
    {
     "name": "stdout",
     "output_type": "stream",
     "text": [
      "{'Pepe': '10', 'Murkis': '11', 'Leja': '8'}\n"
     ]
    }
   ],
   "source": [
    "gyvunai = {'Pepe' : '10', 'Murkis' : '11', 'Leja' : '8'}\n",
    "\n",
    "print(gyvunai)"
   ]
  },
  {
   "attachments": {},
   "cell_type": "markdown",
   "metadata": {},
   "source": [
    "# Antra užduotis\n",
    "\n",
    "Atspausdinkite kurio nors augintinio amžių.\n"
   ]
  },
  {
   "cell_type": "code",
   "execution_count": null,
   "metadata": {},
   "outputs": [
    {
     "name": "stdout",
     "output_type": "stream",
     "text": [
      "11\n"
     ]
    }
   ],
   "source": [
    "print(gyvunai['Murkis'])"
   ]
  },
  {
   "attachments": {},
   "cell_type": "markdown",
   "metadata": {},
   "source": [
    "# Trečia užduotis\n",
    "\n",
    "Pridėkite naują augintinį."
   ]
  },
  {
   "cell_type": "code",
   "execution_count": null,
   "metadata": {},
   "outputs": [
    {
     "name": "stdout",
     "output_type": "stream",
     "text": [
      "{'Pepe': '10', 'Murkis': '11', 'Leja': '8', 'Perla': 7}\n"
     ]
    }
   ],
   "source": [
    "gyvunai ['Perla'] = 7\n",
    "\n",
    "print(gyvunai)"
   ]
  },
  {
   "attachments": {},
   "cell_type": "markdown",
   "metadata": {},
   "source": [
    "# Ketvirta užduotis\n",
    "\n",
    "Pakeiskite kurio nors augintinio amžių."
   ]
  },
  {
   "cell_type": "code",
   "execution_count": null,
   "metadata": {},
   "outputs": [
    {
     "name": "stdout",
     "output_type": "stream",
     "text": [
      "{'Pepe': '10', 'Murkis': 12, 'Leja': '8', 'Perla': 7}\n"
     ]
    }
   ],
   "source": [
    "gyvunai ['Murkis'] = 12\n",
    "\n",
    "print(gyvunai)"
   ]
  },
  {
   "attachments": {},
   "cell_type": "markdown",
   "metadata": {},
   "source": [
    "# Penkta užduotis\n",
    "\n",
    "Ištrinkite kurį nors augintinį.\n",
    "Atspausdinkite visą žodyną."
   ]
  },
  {
   "cell_type": "code",
   "execution_count": null,
   "metadata": {},
   "outputs": [
    {
     "name": "stdout",
     "output_type": "stream",
     "text": [
      "{'Pepe': '10', 'Murkis': 12, 'Perla': 7}\n"
     ]
    }
   ],
   "source": [
    "del gyvunai['Leja']\n",
    "\n",
    "print(gyvunai)"
   ]
  },
  {
   "attachments": {},
   "cell_type": "markdown",
   "metadata": {},
   "source": [
    "# Šešta užduotis\n",
    "\n",
    "Atspausdinkite visų augintinių vardus.\n",
    "Atspausdinkite visų augintinių amžius.\n",
    "Atspausdinkite visų augintinių vardų ir amžių sąrašą.\n",
    "Atspausdinkite konkretaus augintinio amžių pagal jo vardą.\n",
    "Pabandykite papildomai panaudoti kitus metodus.\n"
   ]
  },
  {
   "cell_type": "code",
   "execution_count": null,
   "metadata": {},
   "outputs": [
    {
     "name": "stdout",
     "output_type": "stream",
     "text": [
      "dict_keys(['Pepe', 'Murkis', 'Perla'])\n",
      "dict_values(['10', 12, 7])\n",
      "{'Pepe': '10', 'Murkis': 12, 'Perla': 7}\n",
      "Pepe amzius yra 10\n",
      "Murkis amzius yra 12\n",
      "Perla amzius yra 7\n",
      "12\n"
     ]
    }
   ],
   "source": [
    "print(gyvunai.keys())\n",
    "\n",
    "print(gyvunai.values())\n",
    "\n",
    "print(gyvunai)\n",
    "\n",
    "for vardas, amzius in gyvunai.items():\n",
    "    print(vardas, \"amzius yra\", amzius)\n",
    "\n",
    "\n",
    "print(gyvunai['Murkis'])"
   ]
  },
  {
   "attachments": {},
   "cell_type": "markdown",
   "metadata": {},
   "source": [
    "# Bonus užduotis\n",
    "\n",
    "Sukurkite tuščią žodyną pavadinimu \"automobiliai\" ir pridėkite prie žodyno informaciją apie 3 skirtingus automobilius (nebijokite naudoti savo kūrybiškumo ir įtraukti įvairių markių, modelių, metų, spalvų ir variklių tipų).\n",
    "Išveskite žodyno informaciją apie vieną iš automobilių.\n",
    "Pakeiskite informaciją apie vieną automobilį (pavyzdžiui, pakeiskite variklio tipą).\n",
    "Pridėkite naują automobilį į žodyną.\n",
    "Pašalinkite informaciją apie vieną automobilį iš žodyno.\n",
    "Išveskite kiek yra automobilių žodyne.\n",
    "Patikrinkite ar tam tikras automobilis yra žodyne.\n",
    "Išvalykite žodyną."
   ]
  },
  {
   "cell_type": "code",
   "execution_count": null,
   "metadata": {},
   "outputs": [
    {
     "name": "stdout",
     "output_type": "stream",
     "text": [
      "['Fiesta', '2007', 'geltona', 'benzinas']\n",
      "{'Opel': ['Ascona', '1999', 'raudona', 'elektra'], 'Audi': ['A4', '2003', 'juoda', 'dyzelis'], 'Ford': ['Fiesta', '2007', 'geltona', 'benzinas'], 'VW': ['Golf', '1997', 'geltona', 'dujos']}\n",
      "4\n",
      "Automobilis yra sarase!\n"
     ]
    }
   ],
   "source": [
    "# pridėkite prie žodyno informaciją apie 3 skirtingus automobilius\n",
    "automobiliai = {'Opel': ['Ascona', '1999', 'raudona', 'dyzelis'],   \n",
    "                'Audi': ['A4', '2003', 'juoda', 'dyzelis'],\n",
    "                'Ford': ['Fiesta', '2007', 'geltona', 'benzinas'],\n",
    "                'Toyota': ['Avensis', '2006', 'sampanine', 'benzinas/dujos']}\n",
    "\n",
    "\n",
    "# Išveskite žodyno informaciją apie vieną iš automobilių.\n",
    "print(automobiliai['Ford'])\n",
    "\n",
    "\n",
    "\n",
    "# Pakeiskite informaciją apie vieną automobilį (pavyzdžiui, pakeiskite variklio tipą).\n",
    "automobiliai['Opel'][3] = 'elektra'\n",
    "# print(automobiliai['Opel'])\n",
    "\n",
    "\n",
    "\n",
    "# Pridėkite naują automobilį į žodyną.\n",
    "automobiliai['VW'] = ['Golf', '1997', 'geltona', 'dujos']\n",
    "\n",
    "\n",
    "\n",
    "\n",
    "# Pašalinkite informaciją apie vieną automobilį iš žodyno.\n",
    "automobiliai.pop('Toyota')\n",
    "print(automobiliai)\n",
    "\n",
    "\n",
    "\n",
    "\n",
    "# Išveskite kiek yra automobilių žodyne.\n",
    "print(len(automobiliai))\n",
    "\n",
    "\n",
    "\n",
    "\n",
    "# Patikrinkite ar tam tikras automobilis yra žodyne.\n",
    "paieska = input(\"Iveskite norima rasti automobilio marke:\")\n",
    "\n",
    "if paieska in automobiliai:\n",
    "    print('Automobilis yra sarase!')\n",
    "\n",
    "else:\n",
    "    print('Deja, automobilis nerastas!')\n",
    "\n",
    "\n",
    "# print('BMW' in automobiliai)\n",
    "\n",
    "\n",
    "\n",
    "\n",
    "# Išvalykite žodyną.\n",
    "# zodynas.clear()\n"
   ]
  },
  {
   "attachments": {},
   "cell_type": "markdown",
   "metadata": {},
   "source": [
    "# Ciklai for\n",
    "\n"
   ]
  },
  {
   "cell_type": "code",
   "execution_count": null,
   "metadata": {},
   "outputs": [
    {
     "name": "stdout",
     "output_type": "stream",
     "text": [
      "11\n",
      "8\n",
      "7\n",
      "6\n",
      "5\n",
      "5\n",
      "4\n",
      "4\n",
      "3\n",
      "3\n",
      "2\n",
      "2\n",
      "1\n"
     ]
    }
   ],
   "source": [
    "for skaicius in skaiciai:\n",
    "    print(skaicius) # , end = \"  |  \""
   ]
  },
  {
   "cell_type": "code",
   "execution_count": null,
   "metadata": {},
   "outputs": [
    {
     "data": {
      "text/plain": [
       "[11, 8, 7, 6, 5, 5, 4, 4, 3, 3, 2, 2, 1]"
      ]
     },
     "execution_count": 13,
     "metadata": {},
     "output_type": "execute_result"
    }
   ],
   "source": [
    "# prideda prei to pacio kintamojo po viena\n",
    "\n",
    "skaicius += 1 \n",
    "skaiciai"
   ]
  },
  {
   "cell_type": "code",
   "execution_count": null,
   "metadata": {},
   "outputs": [
    {
     "name": "stdout",
     "output_type": "stream",
     "text": [
      "turime 0. pridedam 11, gauname 11\n",
      "11\n",
      "turime 11. pridedam 8, gauname 19\n",
      "19\n",
      "turime 19. pridedam 7, gauname 26\n",
      "26\n",
      "turime 26. pridedam 6, gauname 32\n",
      "32\n",
      "turime 32. pridedam 5, gauname 37\n",
      "37\n",
      "turime 37. pridedam 5, gauname 42\n",
      "42\n",
      "turime 42. pridedam 4, gauname 46\n",
      "46\n",
      "turime 46. pridedam 4, gauname 50\n",
      "50\n",
      "turime 50. pridedam 3, gauname 53\n",
      "53\n",
      "turime 53. pridedam 3, gauname 56\n",
      "56\n",
      "turime 56. pridedam 2, gauname 58\n",
      "58\n",
      "turime 58. pridedam 2, gauname 60\n",
      "60\n",
      "turime 60. pridedam 1, gauname 61\n",
      "61\n"
     ]
    }
   ],
   "source": [
    "suma = 0\n",
    "for skaicius in skaiciai:\n",
    "    print(f\"turime {suma}\", end= \". \")\n",
    "    suma += skaicius\n",
    "    print(f\"pridedam {skaicius}, gauname {suma}\")\n",
    "    print(suma)"
   ]
  },
  {
   "cell_type": "code",
   "execution_count": null,
   "metadata": {},
   "outputs": [
    {
     "name": "stdout",
     "output_type": "stream",
     "text": [
      "{'good': 'geras', 'fun': 'juokingas', 'big': 'didelis'}\n",
      "good = geras\n",
      "fun = juokingas\n",
      "big = didelis\n"
     ]
    }
   ],
   "source": [
    "\n",
    "print(zodynas)\n",
    "\n",
    "\n",
    "for zodis in zodynas:\n",
    "    print(zodis, '=', zodynas[zodis])"
   ]
  },
  {
   "cell_type": "code",
   "execution_count": null,
   "metadata": {},
   "outputs": [
    {
     "name": "stdout",
     "output_type": "stream",
     "text": [
      "geras\n",
      "juokingas\n",
      "didelis\n"
     ]
    }
   ],
   "source": [
    "for zodis in zodynas.values():\n",
    "    print(zodis)"
   ]
  },
  {
   "cell_type": "code",
   "execution_count": null,
   "metadata": {},
   "outputs": [
    {
     "name": "stdout",
     "output_type": "stream",
     "text": [
      "good = geras\n",
      "fun = juokingas\n",
      "big = didelis\n"
     ]
    }
   ],
   "source": [
    "for angliskai , lietuviskai in zodynas.items():\n",
    "    print(f\"{angliskai} = {lietuviskai}\")"
   ]
  },
  {
   "cell_type": "code",
   "execution_count": null,
   "metadata": {},
   "outputs": [
    {
     "name": "stdout",
     "output_type": "stream",
     "text": [
      "2000\n",
      "2001\n",
      "2002\n",
      "2003\n",
      "2004\n",
      "2005\n",
      "2006\n",
      "2007\n",
      "2008\n",
      "2009\n",
      "2010\n",
      "2011\n",
      "2012\n",
      "2013\n",
      "2014\n",
      "2015\n",
      "2016\n",
      "2017\n",
      "2018\n",
      "2019\n",
      "2020\n",
      "2021\n",
      "2022\n",
      "2023\n",
      "2024\n"
     ]
    }
   ],
   "source": [
    "# ciklas su range funkcija, range funkscija grazina imti\n",
    "\n",
    "for metai in range(2000, 2025):\n",
    "    print(metai)"
   ]
  },
  {
   "cell_type": "code",
   "execution_count": null,
   "metadata": {},
   "outputs": [
    {
     "name": "stdout",
     "output_type": "stream",
     "text": [
      "2000\n",
      "2001\n",
      "2002\n",
      "2003\n",
      "2004\n",
      "2005\n",
      "2006\n",
      "2008\n",
      "2009\n",
      "2010\n",
      "2011\n",
      "2012\n",
      "2013\n",
      "2014\n",
      "2015\n",
      "2016\n",
      "2017\n",
      "2018\n",
      "2019\n",
      "2020\n",
      "2021\n",
      "2022\n",
      "2023\n",
      "2024\n",
      "Gyvenam toliau\n"
     ]
    }
   ],
   "source": [
    "# if metai == 2007: continue , praleidzia norimus metus - exeption. Continue praleidzia tik tam tikra nurodyta zingsni cikle.\n",
    "\n",
    "\n",
    "for metai in range(2000, 2025):\n",
    "    if metai == 2007:\n",
    "        continue\n",
    "    print(metai)\n",
    "else:\n",
    "    print(\"Gyvenam toliau\")"
   ]
  },
  {
   "cell_type": "code",
   "execution_count": null,
   "metadata": {},
   "outputs": [
    {
     "name": "stdout",
     "output_type": "stream",
     "text": [
      "2019\n",
      "2020\n",
      "2021\n",
      "Korona baigesi\n"
     ]
    }
   ],
   "source": [
    "# range ciklo nutraukimas su break, nutraukia visa cikla\n",
    "\n",
    "for metai in range (2019, 2025):\n",
    "    if metai == 2022:\n",
    "        print(\"Korona baigesi\")\n",
    "        break\n",
    "    print(metai)\n",
    "    \n",
    "\n"
   ]
  },
  {
   "cell_type": "code",
   "execution_count": 44,
   "metadata": {},
   "outputs": [
    {
     "name": "stdout",
     "output_type": "stream",
     "text": [
      "['pietus', 'buvo', 'geri']\n",
      "  1:pietus\n",
      "  2:buvo\n",
      "  3:geri\n"
     ]
    }
   ],
   "source": [
    "# galima cikla sunumeruoti su enumerate funkcija\n",
    "\n",
    "print(zodziai)\n",
    "\n",
    "for eiles_nr , zodis in enumerate(zodziai):\n",
    "    print(f\"{(eiles_nr+1):3d}:{zodis}\")"
   ]
  },
  {
   "cell_type": "code",
   "execution_count": 54,
   "metadata": {},
   "outputs": [
    {
     "name": "stdout",
     "output_type": "stream",
     "text": [
      " ABCDEFGH\n",
      "2■ ■ ■ ■ 2■ ■ ■ ■ 2■ ■ ■ ■ 2■ ■ ■ ■ 2■ ■ ■ ■ 2■ ■ ■ ■ 2■ ■ ■ ■ 2■ ■ ■ ■ \n"
     ]
    }
   ],
   "source": [
    "stulpeliai = list(\"ABCDEFGH\")\n",
    "eilutes = list(range(1,9))\n",
    "\n",
    "print(\" \", end=\"\")\n",
    "for raide in stulpeliai:\n",
    "    print(raide, end=\"\")\n",
    "print(\"\")\n",
    "for eilu_nr in eilutes:\n",
    "    print(eiles_nr, end=\"\")\n",
    "    for stulp_eil_nr, raide in enumerate(stulpeliai):\n",
    "        if (eiles_nr % 2 ==0 and stulp_eil_nr %2 ==0) or \\\n",
    "            print('\\u25A0', end=\"\")\n",
    "        else:\n",
    "            print(\" \", end=\"\")\n",
    "print(\"\")"
   ]
  }
 ],
 "metadata": {
  "kernelspec": {
   "display_name": "Python 3",
   "language": "python",
   "name": "python3"
  },
  "language_info": {
   "codemirror_mode": {
    "name": "ipython",
    "version": 3
   },
   "file_extension": ".py",
   "mimetype": "text/x-python",
   "name": "python",
   "nbconvert_exporter": "python",
   "pygments_lexer": "ipython3",
   "version": "3.11.3"
  },
  "orig_nbformat": 4
 },
 "nbformat": 4,
 "nbformat_minor": 2
}
