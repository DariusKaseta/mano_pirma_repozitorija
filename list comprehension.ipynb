{
 "cells": [
  {
   "attachments": {},
   "cell_type": "markdown",
   "metadata": {},
   "source": [
    "# Sąrašų pagalbinės funkcjios, Sąrašo apibrėžimas\n",
    "\n",
    "lambda\n",
    "\n",
    "Tai specialus žodis Python programavimo kalboje, leidžiantis greitai ir paprastai sukurti anonimines funkcijas. Anoniminės funkcijos yra tokios, kurios neturi vardo ir dažniausiai naudojamos tik kartą kode.\n",
    "\n",
    "map()\n",
    "\n",
    "Tai funkcija, kuri taiko nurodytą funkciją kiekvienam sąrašo elementui.\n",
    "\n",
    "Pavyzdys:"
   ]
  },
  {
   "cell_type": "code",
   "execution_count": 4,
   "metadata": {},
   "outputs": [],
   "source": [
    "def pakelta(skaicius):\n",
    "    return skaicius **2"
   ]
  },
  {
   "cell_type": "code",
   "execution_count": 14,
   "metadata": {},
   "outputs": [
    {
     "name": "stdout",
     "output_type": "stream",
     "text": [
      "[1, 49, 81, 4, 9, 16, 25]\n"
     ]
    }
   ],
   "source": [
    "skaiciai = [1, 7, 9, 2, 3, 4, 5]\n",
    "kvadratu = lambda skaicius: skaicius **2\n",
    "kvadratainiai = map(pakelta, skaiciai)\n",
    "print(list(kvadratainiai))"
   ]
  },
  {
   "cell_type": "code",
   "execution_count": 6,
   "metadata": {},
   "outputs": [
    {
     "name": "stdout",
     "output_type": "stream",
     "text": [
      "[1, 4, 9, 16, 25]\n"
     ]
    }
   ],
   "source": [
    "skaiciai_kvadratu = []\n",
    "for skaicius in skaiciai:\n",
    "    skaiciai_kvadratu.append(kvadratu(skaicius))\n",
    "print(skaiciai_kvadratu)"
   ]
  },
  {
   "attachments": {},
   "cell_type": "markdown",
   "metadata": {},
   "source": [
    "# filter()\n",
    "\n",
    "Funkcija, leidžianti atrinkti sąrašo elementus pagal nurodytą sąlygą.\n",
    "\n",
    "Pavyzdys:\n",
    "\n"
   ]
  },
  {
   "cell_type": "code",
   "execution_count": 15,
   "metadata": {},
   "outputs": [
    {
     "name": "stdout",
     "output_type": "stream",
     "text": [
      "[2, 4]\n"
     ]
    }
   ],
   "source": [
    "sarasas = [1, 7, 9, 2, 3, 4, 5]\n",
    "rezultatas = filter(lambda x: x % 2 == 0, sarasas)\n",
    "print(list(rezultatas))  # [2, 4]"
   ]
  },
  {
   "attachments": {},
   "cell_type": "markdown",
   "metadata": {},
   "source": [
    "# reduce()\n",
    "\n",
    "Ši funkcija yra iš functools modulio, ir ji leidžia sukaupti sąrašo elementus, taikant nurodytą funkciją. Kitaip tariant, reduce() pereina per sąrašą, naudodamas funkciją, kuri priima du argumentus, paeiliui pritaikydama funkciją elementams ir kaupiant rezultatą.\n",
    "\n",
    "Pavyzdys:"
   ]
  },
  {
   "cell_type": "code",
   "execution_count": 8,
   "metadata": {},
   "outputs": [],
   "source": [
    "def sudetis(a, b):\n",
    "    return a + b "
   ]
  },
  {
   "cell_type": "code",
   "execution_count": 10,
   "metadata": {},
   "outputs": [
    {
     "name": "stdout",
     "output_type": "stream",
     "text": [
      "15\n"
     ]
    }
   ],
   "source": [
    "from functools import reduce\n",
    "suma = reduce(sudetis, skaiciai)\n",
    "print(suma)"
   ]
  },
  {
   "cell_type": "code",
   "execution_count": 11,
   "metadata": {},
   "outputs": [],
   "source": [
    "def didziausias (x, y):\n",
    "    if x > y :\n",
    "        return x\n",
    "    else:\n",
    "        return y\n"
   ]
  },
  {
   "cell_type": "code",
   "execution_count": 16,
   "metadata": {},
   "outputs": [
    {
     "name": "stdout",
     "output_type": "stream",
     "text": [
      "9\n"
     ]
    }
   ],
   "source": [
    "didziausias_sk = reduce(didziausias, skaiciai)\n",
    "print (didziausias_sk)"
   ]
  },
  {
   "cell_type": "code",
   "execution_count": 64,
   "metadata": {},
   "outputs": [
    {
     "name": "stdout",
     "output_type": "stream",
     "text": [
      "49999995000000\n",
      "0:00:01.050041\n"
     ]
    }
   ],
   "source": [
    "from datetime import datetime\n",
    "pradzia = datetime.now()\n",
    "trys_devynerios = range(1, 10000000)\n",
    "print(reduce(sudetis, trys_devynerios))\n",
    "print(datetime.now() - pradzia)"
   ]
  },
  {
   "cell_type": "code",
   "execution_count": 63,
   "metadata": {},
   "outputs": [
    {
     "name": "stdout",
     "output_type": "stream",
     "text": [
      "49999995000000\n",
      "0:00:01.393814\n"
     ]
    }
   ],
   "source": [
    "pradzia = datetime.now()\n",
    "suma = 0 \n",
    "for skaicius in trys_devynerios:\n",
    "    suma += skaicius\n",
    "print(suma)\n",
    "print(datetime.now() - pradzia)"
   ]
  },
  {
   "attachments": {},
   "cell_type": "markdown",
   "metadata": {},
   "source": [
    "# Statistinės funkcijos\n",
    "\n",
    "sum(): funkcija, grąžinanti sąrašo elementų sumą.\n",
    "\n",
    "max(): funkcija, grąžinanti didžiausią sąrašo elementą.\n",
    "\n",
    "min(): funkcija, grąžinanti mažiausią sąrašo elementą.\n",
    "\n",
    "mean(): funkcija, grąžinanti vidurkį. Galite ją gauti su statistics.mean().\n",
    "\n",
    "median(): funkcija, grąžinanti medianą. Galite ją gauti su statistics.median().\n"
   ]
  },
  {
   "cell_type": "code",
   "execution_count": 65,
   "metadata": {},
   "outputs": [
    {
     "name": "stdout",
     "output_type": "stream",
     "text": [
      "5000000\n"
     ]
    }
   ],
   "source": [
    "from statistics import mean, median\n",
    "print(mean(trys_devynerios))"
   ]
  },
  {
   "cell_type": "code",
   "execution_count": 87,
   "metadata": {},
   "outputs": [
    {
     "name": "stdout",
     "output_type": "stream",
     "text": [
      "[6126186, 1760499, 5472725, 2681746, 5702059, 8904929, 1045761, 4659264, 7328991, 794924, 5497364, 9084378, 9827828, 2215039, 7947241, 3317808, 3417128, 3040166, 9198667, 9066206]\n"
     ]
    }
   ],
   "source": [
    "from random import shuffle\n",
    "maisytos_devynerios = list(trys_devynerios)\n",
    "shuffle(maisytos_devynerios)\n",
    "print(maisytos_devynerios[:20])"
   ]
  },
  {
   "cell_type": "code",
   "execution_count": 69,
   "metadata": {},
   "outputs": [
    {
     "name": "stdout",
     "output_type": "stream",
     "text": [
      "4987459.0058\n"
     ]
    }
   ],
   "source": [
    "print(mean(maisytos_devynerios[:10000]))"
   ]
  },
  {
   "attachments": {},
   "cell_type": "markdown",
   "metadata": {},
   "source": [
    "# sort()\n",
    "\n",
    "Tai yra sąrašo metodas, kuris išrūšiuoja sąrašo elementus. sort() priima kelis pasirinktinius parametrus, tokius kaip key ir reverse."
   ]
  },
  {
   "cell_type": "code",
   "execution_count": null,
   "metadata": {},
   "outputs": [],
   "source": [
    "sarasas = [3, 1, 4, 1, 5, 9, 2]\n",
    "sarasas.sort()\n",
    "print(sarasas)  # [1, 1, 2, 3, 4, 5, 9]"
   ]
  },
  {
   "attachments": {},
   "cell_type": "markdown",
   "metadata": {},
   "source": [
    "Jei norite rūšiuoti sąrašą atvirkščia tvarka, galite nurodyti reverse=True:"
   ]
  },
  {
   "cell_type": "code",
   "execution_count": null,
   "metadata": {},
   "outputs": [],
   "source": [
    "sarasas = [3, 1, 4, 1, 5, 9, 2]\n",
    "sarasas.sort(reverse=True)\n",
    "print(sarasas)  # [9, 5, 4, 3, 2, 1, 1]"
   ]
  },
  {
   "attachments": {},
   "cell_type": "markdown",
   "metadata": {},
   "source": [
    "Galite naudoti key parametrą, kad nurodytumėte, pagal ką rūšiuoti sąrašą:"
   ]
  },
  {
   "cell_type": "code",
   "execution_count": null,
   "metadata": {},
   "outputs": [],
   "source": [
    "eilutes_sarasas = [\"vienas\", \"du\", \"trys\", \"keturi\", \"penki\"]\n",
    "eilutes_sarasas.sort(key=len)\n",
    "print(eilutes_sarasas)  # ['du', 'trys', 'vienas', 'keturi', 'penki']"
   ]
  },
  {
   "attachments": {},
   "cell_type": "markdown",
   "metadata": {},
   "source": [
    "# sorted()\n",
    "\n",
    "Tai yra Python įterpimo funkcija, kuri rūšiuoja sąrašą ir grąžina naują, rūšiuotą sąrašą, nepakeisdama pradinio. sorted() taip pat priima pasirinktinius parametrus, tokius kaip key ir reverse.\n",
    "\n",
    "Pavyzdys:"
   ]
  },
  {
   "cell_type": "code",
   "execution_count": 70,
   "metadata": {},
   "outputs": [
    {
     "name": "stdout",
     "output_type": "stream",
     "text": [
      "[1, 2, 3, 4, 5, 6, 7, 8, 9, 10]\n"
     ]
    }
   ],
   "source": [
    "isrusiuotos_devynerios = sorted(maisytos_devynerios)\n",
    "print(isrusiuotos_devynerios[:10])"
   ]
  },
  {
   "attachments": {},
   "cell_type": "markdown",
   "metadata": {},
   "source": [
    "# Objektų rūšiavimas sąraše\n",
    "\n",
    "Tarkime, turime Studentas klasę, kuri turi vardą, pavardę ir pažymių sąrašą. Norime rūšiuoti Studentas objektų sąrašą pagal jų vidurkius:\n",
    "\n"
   ]
  },
  {
   "cell_type": "code",
   "execution_count": 81,
   "metadata": {},
   "outputs": [
    {
     "ename": "TypeError",
     "evalue": "'float' object is not callable",
     "output_type": "error",
     "traceback": [
      "\u001b[0;31m---------------------------------------------------------------------------\u001b[0m",
      "\u001b[0;31mTypeError\u001b[0m                                 Traceback (most recent call last)",
      "Cell \u001b[0;32mIn[81], line 21\u001b[0m\n\u001b[1;32m     13\u001b[0m         \u001b[39mreturn\u001b[39;00m \u001b[39mf\u001b[39m\u001b[39m\"\u001b[39m\u001b[39m{\u001b[39;00m\u001b[39mself\u001b[39m\u001b[39m.\u001b[39mvardas\u001b[39m}\u001b[39;00m\u001b[39m, \u001b[39m\u001b[39m{\u001b[39;00m\u001b[39mself\u001b[39m\u001b[39m.\u001b[39mpavarde\u001b[39m}\u001b[39;00m\u001b[39m, \u001b[39m\u001b[39m{\u001b[39;00m\u001b[39mself\u001b[39m\u001b[39m.\u001b[39mpazymiai\u001b[39m}\u001b[39;00m\u001b[39m\"\u001b[39m\n\u001b[1;32m     15\u001b[0m studentai \u001b[39m=\u001b[39m [\n\u001b[1;32m     16\u001b[0m     Studentas(\u001b[39m\"\u001b[39m\u001b[39mJonas\u001b[39m\u001b[39m\"\u001b[39m, \u001b[39m\"\u001b[39m\u001b[39mJonaitis\u001b[39m\u001b[39m\"\u001b[39m, [\u001b[39m8\u001b[39m, \u001b[39m9\u001b[39m, \u001b[39m7\u001b[39m]),\n\u001b[1;32m     17\u001b[0m     Studentas(\u001b[39m\"\u001b[39m\u001b[39mPetras\u001b[39m\u001b[39m\"\u001b[39m, \u001b[39m\"\u001b[39m\u001b[39mPetraitis\u001b[39m\u001b[39m\"\u001b[39m, [\u001b[39m10\u001b[39m, \u001b[39m9\u001b[39m, \u001b[39m10\u001b[39m]),\n\u001b[1;32m     18\u001b[0m     Studentas(\u001b[39m\"\u001b[39m\u001b[39mOna\u001b[39m\u001b[39m\"\u001b[39m, \u001b[39m\"\u001b[39m\u001b[39mOnaitė\u001b[39m\u001b[39m\"\u001b[39m, [\u001b[39m6\u001b[39m, \u001b[39m8\u001b[39m, \u001b[39m7\u001b[39m]),\n\u001b[1;32m     19\u001b[0m ]\n\u001b[0;32m---> 21\u001b[0m rusiuoti_studentai \u001b[39m=\u001b[39m \u001b[39msorted\u001b[39;49m(studentai, key\u001b[39m=\u001b[39;49m\u001b[39mlambda\u001b[39;49;00m x: x\u001b[39m.\u001b[39;49mvidurkis(), reverse\u001b[39m=\u001b[39;49m\u001b[39mTrue\u001b[39;49;00m)\n\u001b[1;32m     22\u001b[0m \u001b[39mfor\u001b[39;00m studentas \u001b[39min\u001b[39;00m rusiuoti_studentai:\n\u001b[1;32m     23\u001b[0m     \u001b[39mprint\u001b[39m(\u001b[39mf\u001b[39m\u001b[39m\"\u001b[39m\u001b[39m{\u001b[39;00mstudentas\u001b[39m.\u001b[39mvardas\u001b[39m}\u001b[39;00m\u001b[39m \u001b[39m\u001b[39m{\u001b[39;00mstudentas\u001b[39m.\u001b[39mpavarde\u001b[39m}\u001b[39;00m\u001b[39m - \u001b[39m\u001b[39m{\u001b[39;00mstudentas\u001b[39m.\u001b[39mvidurkis()\u001b[39m}\u001b[39;00m\u001b[39m\"\u001b[39m)\n",
      "Cell \u001b[0;32mIn[81], line 21\u001b[0m, in \u001b[0;36m<lambda>\u001b[0;34m(x)\u001b[0m\n\u001b[1;32m     13\u001b[0m         \u001b[39mreturn\u001b[39;00m \u001b[39mf\u001b[39m\u001b[39m\"\u001b[39m\u001b[39m{\u001b[39;00m\u001b[39mself\u001b[39m\u001b[39m.\u001b[39mvardas\u001b[39m}\u001b[39;00m\u001b[39m, \u001b[39m\u001b[39m{\u001b[39;00m\u001b[39mself\u001b[39m\u001b[39m.\u001b[39mpavarde\u001b[39m}\u001b[39;00m\u001b[39m, \u001b[39m\u001b[39m{\u001b[39;00m\u001b[39mself\u001b[39m\u001b[39m.\u001b[39mpazymiai\u001b[39m}\u001b[39;00m\u001b[39m\"\u001b[39m\n\u001b[1;32m     15\u001b[0m studentai \u001b[39m=\u001b[39m [\n\u001b[1;32m     16\u001b[0m     Studentas(\u001b[39m\"\u001b[39m\u001b[39mJonas\u001b[39m\u001b[39m\"\u001b[39m, \u001b[39m\"\u001b[39m\u001b[39mJonaitis\u001b[39m\u001b[39m\"\u001b[39m, [\u001b[39m8\u001b[39m, \u001b[39m9\u001b[39m, \u001b[39m7\u001b[39m]),\n\u001b[1;32m     17\u001b[0m     Studentas(\u001b[39m\"\u001b[39m\u001b[39mPetras\u001b[39m\u001b[39m\"\u001b[39m, \u001b[39m\"\u001b[39m\u001b[39mPetraitis\u001b[39m\u001b[39m\"\u001b[39m, [\u001b[39m10\u001b[39m, \u001b[39m9\u001b[39m, \u001b[39m10\u001b[39m]),\n\u001b[1;32m     18\u001b[0m     Studentas(\u001b[39m\"\u001b[39m\u001b[39mOna\u001b[39m\u001b[39m\"\u001b[39m, \u001b[39m\"\u001b[39m\u001b[39mOnaitė\u001b[39m\u001b[39m\"\u001b[39m, [\u001b[39m6\u001b[39m, \u001b[39m8\u001b[39m, \u001b[39m7\u001b[39m]),\n\u001b[1;32m     19\u001b[0m ]\n\u001b[0;32m---> 21\u001b[0m rusiuoti_studentai \u001b[39m=\u001b[39m \u001b[39msorted\u001b[39m(studentai, key\u001b[39m=\u001b[39m\u001b[39mlambda\u001b[39;00m x: x\u001b[39m.\u001b[39;49mvidurkis(), reverse\u001b[39m=\u001b[39m\u001b[39mTrue\u001b[39;00m)\n\u001b[1;32m     22\u001b[0m \u001b[39mfor\u001b[39;00m studentas \u001b[39min\u001b[39;00m rusiuoti_studentai:\n\u001b[1;32m     23\u001b[0m     \u001b[39mprint\u001b[39m(\u001b[39mf\u001b[39m\u001b[39m\"\u001b[39m\u001b[39m{\u001b[39;00mstudentas\u001b[39m.\u001b[39mvardas\u001b[39m}\u001b[39;00m\u001b[39m \u001b[39m\u001b[39m{\u001b[39;00mstudentas\u001b[39m.\u001b[39mpavarde\u001b[39m}\u001b[39;00m\u001b[39m - \u001b[39m\u001b[39m{\u001b[39;00mstudentas\u001b[39m.\u001b[39mvidurkis()\u001b[39m}\u001b[39;00m\u001b[39m\"\u001b[39m)\n",
      "\u001b[0;31mTypeError\u001b[0m: 'float' object is not callable"
     ]
    }
   ],
   "source": [
    "class Studentas:\n",
    "    def __init__(self, vardas, pavarde, pazymiai):\n",
    "        self.vardas = vardas\n",
    "        self.pavarde = pavarde\n",
    "        self.pazymiai = pazymiai\n",
    "    \n",
    "    @property\n",
    "    def vidurkis(self):\n",
    "        return sum(self.pazymiai) / len(self.pazymiai)\n",
    "    def __str__(self):\n",
    "        return f\"{self.vardas} {self.pavarde}: {self.pazymiai}\"\n",
    "    def __repr__(self):\n",
    "        return f\"{self.vardas}, {self.pavarde}, {self.pazymiai}\"\n",
    "\n",
    "studentai = [\n",
    "    Studentas(\"Jonas\", \"Jonaitis\", [8, 9, 7]),\n",
    "    Studentas(\"Petras\", \"Petraitis\", [10, 9, 10]),\n",
    "    Studentas(\"Ona\", \"Onaitė\", [6, 8, 7]),\n",
    "]\n",
    "\n",
    "rusiuoti_studentai = sorted(studentai, key=lambda x: x.vidurkis(), reverse=True)\n",
    "for studentas in rusiuoti_studentai:\n",
    "    print(f\"{studentas.vardas} {studentas.pavarde} - {studentas.vidurkis()}\")"
   ]
  },
  {
   "attachments": {},
   "cell_type": "markdown",
   "metadata": {},
   "source": [
    "Šioje programoje, sorted() funkcija su key parametru x.vidurkis() nurodo, kad sąrašas studentai turi būti rūšiuojamas pagal Studentas objektų vidurkius, o reverse=True parametras nurodo, kad rūšiavimas turėtų būti atvirkštinis."
   ]
  },
  {
   "attachments": {},
   "cell_type": "markdown",
   "metadata": {},
   "source": [
    "# attrgetter()\n",
    "\n",
    "Tai yra funkcija iš operator modulio, kuri leidžia sukurti key funkciją pagal objekto atributus.\n",
    "\n",
    "Pavyzdys:\n",
    "\n"
   ]
  },
  {
   "cell_type": "code",
   "execution_count": 80,
   "metadata": {},
   "outputs": [
    {
     "name": "stdout",
     "output_type": "stream",
     "text": [
      "[Ona, Onaitė, [6, 8, 7], Jonas, Jonaitis, [8, 9, 7], Petras, Petraitis, [10, 9, 10]]\n"
     ]
    }
   ],
   "source": [
    "from operator import attrgetter\n",
    "\n",
    "rusiuoti_studentai = sorted(studentai, key=attrgetter(\"vidurkis\"))\n",
    "print(rusiuoti_studentai)\n"
   ]
  },
  {
   "attachments": {},
   "cell_type": "markdown",
   "metadata": {},
   "source": [
    "# Sąrašo apibrėžimas (List comprehension)\n",
    "\n",
    "List comprehension yra trumpas būdas kurti sąrašus naudojant for ciklą ir galimą sąlygą.\n",
    "\n",
    "Sąrašo kėlimas laipsniu"
   ]
  },
  {
   "cell_type": "code",
   "execution_count": 82,
   "metadata": {},
   "outputs": [
    {
     "name": "stdout",
     "output_type": "stream",
     "text": [
      "[1, 343, 729, 8, 27, 64, 125]\n"
     ]
    }
   ],
   "source": [
    "kubiniai = [skaicius **3 for skaicius in skaiciai]\n",
    "print(kubiniai)"
   ]
  },
  {
   "attachments": {},
   "cell_type": "markdown",
   "metadata": {},
   "source": [
    "# Sąrašo filtravimas pagal loginę sąlygą"
   ]
  },
  {
   "cell_type": "code",
   "execution_count": 84,
   "metadata": {},
   "outputs": [
    {
     "name": "stdout",
     "output_type": "stream",
     "text": [
      "[4, 16]\n"
     ]
    }
   ],
   "source": [
    "ar_lyginis = lambda skaicius: skaicius % 2 ==0\n",
    "lyginiai_kvadratu = [skaicius ** 2 for skaicius in skaiciai if ar_lyginis(skaicius)]\n",
    "print(lyginiai_kvadratu)"
   ]
  },
  {
   "attachments": {},
   "cell_type": "markdown",
   "metadata": {},
   "source": [
    "# Sąrašo apibrėžimas pritaikant lambda funkciją"
   ]
  },
  {
   "cell_type": "code",
   "execution_count": 85,
   "metadata": {},
   "outputs": [
    {
     "name": "stdout",
     "output_type": "stream",
     "text": [
      "[2, 14, 18, 4, 6, 8, 10]\n"
     ]
    }
   ],
   "source": [
    "dvigubi = [(lambda sk: sk *2)(skaicius) for skaicius in skaiciai ]\n",
    "print(dvigubi)"
   ]
  },
  {
   "attachments": {},
   "cell_type": "markdown",
   "metadata": {},
   "source": [
    "# Sąrašo apibrėžimo pakeitimas generatoriaus apibrėžimu"
   ]
  },
  {
   "cell_type": "code",
   "execution_count": 88,
   "metadata": {},
   "outputs": [
    {
     "name": "stdout",
     "output_type": "stream",
     "text": [
      "1408512527313091813484307216\n",
      "9606012133603778154458001\n",
      "897045564161791554281640625\n",
      "51721435033724643643722256\n",
      "1057126176191467396640349361\n",
      "6288134819528885061385591681\n",
      "1195996106639667849712641\n",
      "471269436747066689942716416\n",
      "2885205514051983695754642561\n",
      "399302874725062489682176\n"
     ]
    }
   ],
   "source": [
    "generuotos_devynerios = (sk ** 4 for sk in maisytos_devynerios)\n",
    "for sk in range(0, 10):\n",
    "    print(generuotos_devynerios.__next__())\n"
   ]
  },
  {
   "attachments": {},
   "cell_type": "markdown",
   "metadata": {},
   "source": [
    "# Užduotys\n",
    "\n",
    "Pirma užduotis\n",
    "\n",
    "Sukurkite programą, kuri naudoja lambda, map() ir filter() funkcijas, kad atrinktų sąrašo elementus, didesnius už 10, ir padidintų juos dvigubai. Palyginkite šį rezultatą su tuo, ką gautumėte naudodami \"list comprehension\"."
   ]
  },
  {
   "cell_type": "code",
   "execution_count": 100,
   "metadata": {},
   "outputs": [
    {
     "name": "stdout",
     "output_type": "stream",
     "text": [
      "[24, 22, 154]\n",
      "[24, 22, 154]\n"
     ]
    }
   ],
   "source": [
    "sarasas = [12, 5, 11, 77, 3, 9, 10, 3]\n",
    "\n",
    "sarasas_filtered = (list(map(lambda x: x*2, filter(lambda x: x >10, sarasas))))\n",
    "print(sarasas_filtered)\n",
    "\n",
    "sarasas_filtered = [x*2 for x in sarasas if x > 10]\n",
    "print(sarasas_filtered)\n"
   ]
  },
  {
   "attachments": {},
   "cell_type": "markdown",
   "metadata": {},
   "source": [
    "# Antra užduotis\n",
    "\n",
    "Parašykite programą, kuri naudoja reduce() funkciją, kad rastų sąrašo elementų sandaugą."
   ]
  },
  {
   "cell_type": "code",
   "execution_count": 91,
   "metadata": {},
   "outputs": [
    {
     "name": "stdout",
     "output_type": "stream",
     "text": [
      "41164200\n"
     ]
    }
   ],
   "source": [
    "def sandauga (a, b):\n",
    "    return a * b\n",
    "\n",
    "from functools import reduce\n",
    "\n",
    "daugyba = reduce(sandauga, sarasas)\n",
    "print(daugyba)\n",
    "\n",
    "\n"
   ]
  },
  {
   "attachments": {},
   "cell_type": "markdown",
   "metadata": {},
   "source": [
    "# Trečia užduotis\n",
    "\n",
    "Naudodamiesi statistics moduliu, apskaičiuokite ir išveskite sąrašo elementų sumą, vidurkį, medianą, mažiausią ir didžiausią elementą.\n",
    "\n"
   ]
  },
  {
   "cell_type": "code",
   "execution_count": 104,
   "metadata": {},
   "outputs": [
    {
     "name": "stdout",
     "output_type": "stream",
     "text": [
      "130\n",
      "3\n",
      "77\n",
      "16.25\n",
      "9.5\n"
     ]
    }
   ],
   "source": [
    "import statistics\n",
    "\n",
    "print(sum(sarasas))\n",
    "print(min(sarasas))\n",
    "print(max(sarasas))\n",
    "print(mean(sarasas))\n",
    "print(median(sarasas))"
   ]
  },
  {
   "attachments": {},
   "cell_type": "markdown",
   "metadata": {},
   "source": [
    "# Ketvirta užduotis\n",
    "\n",
    "Sukurkite programą, kuri naudoja sort() arba sorted() funkcijas, kad rūšiuotų sąrašą skaičių pagal jų liekanas dalinant iš 3 (atsižvelgiant į key parametrą)."
   ]
  },
  {
   "cell_type": "code",
   "execution_count": 108,
   "metadata": {},
   "outputs": [
    {
     "name": "stdout",
     "output_type": "stream",
     "text": [
      "[12, 3, 9, 3, 10, 5, 11, 77]\n"
     ]
    }
   ],
   "source": [
    "sarasas = [12, 5, 11, 77, 3, 9, 10, 3]\n",
    "\n",
    "\n",
    "ats = sorted(sarasas, key=lambda x: x % 3)\n",
    "print(ats)\n"
   ]
  },
  {
   "attachments": {},
   "cell_type": "markdown",
   "metadata": {},
   "source": [
    "# Penkta užduotis\n",
    "\n",
    "Sukurkite programą, kuri naudoja lambda, filter() ir reduce() funkcijas, kad apskaičiuotų vidurkį tų sąrašo skaičių, kurie yra lyginiai. Palyginkite šį rezultatą su tuo, ką gautumėte naudodami \"list comprehension\".\n",
    "\n"
   ]
  },
  {
   "cell_type": "code",
   "execution_count": 112,
   "metadata": {},
   "outputs": [
    {
     "name": "stdout",
     "output_type": "stream",
     "text": [
      "11.0\n",
      "11.0\n"
     ]
    }
   ],
   "source": [
    "from functools import reduce\n",
    "sarasas = [12, 5, 11, 77, 3, 9, 10, 3]\n",
    "\n",
    "rez = reduce(lambda x, y: x + y, filter(lambda x: x % 2 == 0, sarasas)) / len(list(filter(lambda x: x % 2 == 0, sarasas)))\n",
    "print(rez)\n",
    "\n",
    "rez2 = sum(x for x in sarasas if x % 2 == 0) / len([x for x in sarasas if x % 2 == 0])\n",
    "print(rez2) \n"
   ]
  }
 ],
 "metadata": {
  "kernelspec": {
   "display_name": "Python 3",
   "language": "python",
   "name": "python3"
  },
  "language_info": {
   "codemirror_mode": {
    "name": "ipython",
    "version": 3
   },
   "file_extension": ".py",
   "mimetype": "text/x-python",
   "name": "python",
   "nbconvert_exporter": "python",
   "pygments_lexer": "ipython3",
   "version": "3.11.3"
  },
  "orig_nbformat": 4
 },
 "nbformat": 4,
 "nbformat_minor": 2
}
