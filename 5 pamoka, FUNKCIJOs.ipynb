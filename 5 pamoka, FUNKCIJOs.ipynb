{
 "cells": [
  {
   "attachments": {},
   "cell_type": "markdown",
   "metadata": {},
   "source": [
    "# Funkcijos\n"
   ]
  },
  {
   "cell_type": "code",
   "execution_count": 2,
   "metadata": {},
   "outputs": [
    {
     "name": "stdout",
     "output_type": "stream",
     "text": [
      "Labas Studente\n",
      "Labas Zmogau\n"
     ]
    }
   ],
   "source": [
    "def pasisveikinti (vardas):\n",
    "    print(f'Labas {vardas}')\n",
    "\n",
    "\n",
    "pasisveikinti('Studente')\n",
    "pasisveikinti('Zmogau')"
   ]
  },
  {
   "attachments": {},
   "cell_type": "markdown",
   "metadata": {},
   "source": [
    "# Pirma užduotis\n",
    "\n",
    "Parašykite funkciją lyginis_nelyginis(skaicius), kuri patikrina, ar skaičius yra lyginis ar nelyginis ir išveda atitinkamą pranešimą."
   ]
  },
  {
   "cell_type": "code",
   "execution_count": 4,
   "metadata": {},
   "outputs": [
    {
     "name": "stdout",
     "output_type": "stream",
     "text": [
      "5 yra nelyginis\n"
     ]
    }
   ],
   "source": [
    "def lyginis_nelyginis(skaicius):\n",
    "    if skaicius % 2 == 0:\n",
    "        print(skaicius,'yra lyginis')\n",
    "\n",
    "    else :\n",
    "        print(skaicius, 'yra nelyginis')\n",
    "\n",
    "\n",
    "\n",
    "\n",
    "lyginis_nelyginis(5)\n",
    "\n"
   ]
  },
  {
   "attachments": {},
   "cell_type": "markdown",
   "metadata": {},
   "source": [
    "# Antra užduotis\n",
    "\n",
    "Parašykite funkciją ar_teigiamas(skaicius), kuri patikrina, ar skaičius yra teigiamas ir išveda atitinkamą pranešimą.\n",
    "\n"
   ]
  },
  {
   "cell_type": "code",
   "execution_count": 16,
   "metadata": {},
   "outputs": [
    {
     "name": "stdout",
     "output_type": "stream",
     "text": [
      "0 yra neigiamas.\n"
     ]
    }
   ],
   "source": [
    "def ar_teigiamas(skaicius):\n",
    "    if skaicius > 0:\n",
    "        print(skaicius,'yra teigiamas')\n",
    "\n",
    "\n",
    "    else:\n",
    "        print(f\"{skaicius} yra neigiamas.\")\n",
    "\n",
    "\n",
    "\n",
    "\n",
    "ar_teigiamas(0)\n",
    "\n"
   ]
  },
  {
   "attachments": {},
   "cell_type": "markdown",
   "metadata": {},
   "source": [
    "# Trečia užduotis\n",
    "\n",
    "Parašykite funkciją ar_daugiau_nei(skaicius, riba), kuri patikrina, ar skaičius yra didesnis nei nurodyta riba ir išveda atitinkamą pranešimą.\n",
    "\n"
   ]
  },
  {
   "cell_type": "code",
   "execution_count": 20,
   "metadata": {},
   "outputs": [
    {
     "name": "stdout",
     "output_type": "stream",
     "text": [
      "110 yra mazesnis, arba lygus 110\n"
     ]
    }
   ],
   "source": [
    "def ar_daugiau_nei(skaicius, riba):\n",
    "    if skaicius > riba:\n",
    "        print(f\"{skaicius} yra didesnis nei {riba}.\")\n",
    "\n",
    "    else:\n",
    "        print(f'{skaicius} yra mazesnis, arba lygus {riba}')\n",
    "\n",
    "\n",
    "\n",
    "ar_daugiau_nei(110, 110)"
   ]
  },
  {
   "attachments": {},
   "cell_type": "markdown",
   "metadata": {},
   "source": [
    "# Funkcija su grąžinama reikšme return\n",
    "\n",
    "Funkcija su grąžinama reikšme (return) yra funkcija, kuri apdoroja tam tikrą įvestį ir grąžina rezultatą. Grąžinama reikšmė gali būti bet kokio tipo - skaičius, eilutė, sąrašas ar netgi kitas objektas. Grąžinti reikšmę iš funkcijos yra būtina, jei norite naudoti funkcijos apdorotus duomenis kitur programos eigoje.\n",
    "\n",
    "Funkcija su grąžinama reikšme apibrėžiama return sakiniu. Grąžinama reikšmė nurodoma iš kart po return, o jei funkcija turi daugiau nei vieną grąžinamą reikšmę, jos gali būti grąžinamos per tuple arba sąrašą."
   ]
  },
  {
   "cell_type": "code",
   "execution_count": 23,
   "metadata": {},
   "outputs": [
    {
     "name": "stdout",
     "output_type": "stream",
     "text": [
      "sabal\n"
     ]
    }
   ],
   "source": [
    "def atbulai(tekstas):\n",
    "    return tekstas[::-1]\n",
    "\n",
    "\n",
    "print(atbulai(\"labas\"))"
   ]
  },
  {
   "cell_type": "code",
   "execution_count": 24,
   "metadata": {},
   "outputs": [
    {
     "name": "stdout",
     "output_type": "stream",
     "text": [
      "utar isakus satar\n"
     ]
    }
   ],
   "source": [
    "ratas_atbulai = atbulai ('ratas sukasi ratu')\n",
    "print(ratas_atbulai)"
   ]
  },
  {
   "cell_type": "code",
   "execution_count": 25,
   "metadata": {},
   "outputs": [
    {
     "name": "stdout",
     "output_type": "stream",
     "text": [
      "4\n"
     ]
    }
   ],
   "source": [
    "def daugyba(x, y):\n",
    "    return x * y\n",
    "\n",
    "print(daugyba(2,2))"
   ]
  },
  {
   "cell_type": "code",
   "execution_count": 27,
   "metadata": {},
   "outputs": [
    {
     "name": "stdout",
     "output_type": "stream",
     "text": [
      "pirma antra\n"
     ]
    }
   ],
   "source": [
    "def kiaura (par1, par2):\n",
    "    return par1, par2\n",
    "\n",
    "# print(kiaura('pirmas', 'antras'))\n",
    "\n",
    "pirmas, antras = kiaura('pirma', 'antra')\n",
    "print(pirmas, antras)\n",
    "                    "
   ]
  },
  {
   "cell_type": "code",
   "execution_count": 32,
   "metadata": {},
   "outputs": [
    {
     "name": "stdout",
     "output_type": "stream",
     "text": [
      "([1, 2, 4, 6, 8, 11], [-3, -5, -7, -9, -10], ['a'])\n"
     ]
    }
   ],
   "source": [
    "skaiciai = [1, 2, -3, 4, -5, 6, \"a\" , -7, 8, -9, -10, 11]\n",
    "\n",
    "def teigiami_neigiami(skaiciu_sarasas):\n",
    "    teigiami = []\n",
    "    neigiami = []\n",
    "    kiti = []\n",
    "    for skaicius in skaiciu_sarasas:\n",
    "        if type(skaicius) == int or type(skaicius) == float:\n",
    "            if skaicius > 0 :\n",
    "                teigiami.append(skaicius)\n",
    "            else:\n",
    "                neigiami.append(skaicius)\n",
    "        else:\n",
    "            kiti.append(skaicius)\n",
    "        \n",
    "    return teigiami, neigiami, kiti\n",
    "\n",
    "print(teigiami_neigiami(skaiciai))\n",
    "\n",
    "\n",
    "\n"
   ]
  },
  {
   "attachments": {},
   "cell_type": "markdown",
   "metadata": {},
   "source": [
    "# Uzduotys\n",
    "\n",
    "# Pirma užduotis\n",
    "\n",
    "Sukurkite funkciją, kuri priima sąrašą ir grąžina naują sąrašą atvirkščia tvarka.\n",
    "\n"
   ]
  },
  {
   "cell_type": "code",
   "execution_count": 34,
   "metadata": {},
   "outputs": [
    {
     "name": "stdout",
     "output_type": "stream",
     "text": [
      "avuteiL,sarakav sabaL\n"
     ]
    }
   ],
   "source": [
    "def x(tekstas):\n",
    "    return tekstas[::-1]\n",
    "\n",
    "print(x(\"Labas vakaras,Lietuva\"))"
   ]
  },
  {
   "attachments": {},
   "cell_type": "markdown",
   "metadata": {},
   "source": [
    "# Antra užduotis\n",
    "\n",
    "Sukurkite funkciją, kuri apskaičiuoja trikampio plotą pagal kraštinių ilgius ir grąžina jį.\n"
   ]
  },
  {
   "cell_type": "code",
   "execution_count": 45,
   "metadata": {},
   "outputs": [
    {
     "name": "stdout",
     "output_type": "stream",
     "text": [
      "6.0\n"
     ]
    }
   ],
   "source": [
    "def trikampio_plotas(a, b, c):\n",
    "    s = (a + b + c) / 2  # pusė perimetro\n",
    "    plotas = (s * (s - a) * (s - b) * (s - c)) ** 0.5\n",
    "    return plotas\n",
    "\n",
    "a = 3\n",
    "b = 4\n",
    "c = 5\n",
    "trikampio_plotas = trikampio_plotas(a, b, c)\n",
    "print(trikampio_plotas)  # išvestų: 6.0"
   ]
  },
  {
   "attachments": {},
   "cell_type": "markdown",
   "metadata": {},
   "source": [
    "# Trečia užduotis\n",
    "\n",
    "Sukurkite funkciją, kuri iš sąrašo išrenka žodžius, kurie yra nurodyto ilgio ir grąžina sąrašą su tais žodžiais."
   ]
  },
  {
   "cell_type": "code",
   "execution_count": 60,
   "metadata": {},
   "outputs": [
    {
     "name": "stdout",
     "output_type": "stream",
     "text": [
      "[]\n"
     ]
    }
   ],
   "source": [
    "def zodziu_ilgis(sakinys, ilgis):\n",
    "    zodziai = sakinys.split()\n",
    "    ilgis = []\n",
    "    for zodis in zodziai:\n",
    "        if len(zodis) == ilgis:\n",
    "            ilgis.append(zodis)\n",
    "    return(ilgis)\n",
    "\n",
    "\n",
    "sakinys = \"Sveiki, mano vardas Darius\"\n",
    "ilgis = 4\n",
    "zodziai = zodziu_ilgis(sakinys, ilgis)\n",
    "print(zodziai)\n",
    "\n",
    "\n",
    "# ?????"
   ]
  },
  {
   "attachments": {},
   "cell_type": "markdown",
   "metadata": {},
   "source": [
    "# Ketvirta užduotis\n",
    "\n",
    "Sukurkite funkciją, kuri iš sąrašo išrenka didžiausią skaičių ir grąžina jį"
   ]
  },
  {
   "cell_type": "code",
   "execution_count": 74,
   "metadata": {},
   "outputs": [
    {
     "name": "stdout",
     "output_type": "stream",
     "text": [
      "20\n"
     ]
    }
   ],
   "source": [
    "# Ši funkcija pereina per visus skaičius sąraše ir grąžina didžiausią iš jų. Pirmiausia, \n",
    "# nustato didžiausią skaičių lygį pirmam sąrašo skaičiui ir tada palygina su kiekvienu skaičiumi sąraše. \n",
    "# Jei randamas skaičius, didesnis už nustatytą didžiausią, jis pakeičiamas nauju didžiausiu. Galiausiai funkcija grąžina didžiausią skaičių.\n",
    "\n",
    "\n",
    "\n",
    "def didziausias(sarasas):\n",
    "    didziausias_sk = sarasas[0]\n",
    "    for skaicius in sarasas:\n",
    "        if skaicius > didziausias_sk:\n",
    "            didziausias_sk = skaicius\n",
    "    return didziausias_sk\n",
    "\n",
    "\n",
    "x = [2, 4, 5, 7, -3, 6, -11, 20]\n",
    "didziausias_sk = didziausias(x)\n",
    "print(didziausias_sk)"
   ]
  },
  {
   "attachments": {},
   "cell_type": "markdown",
   "metadata": {},
   "source": [
    "# Penkta užduotis\n",
    "\n",
    "Sukurti funkciją, kuri iš žodžių sąrašo išrenka žodžius, kurie prasideda nurodyta raide ir grąžina sąrašą su tais žodžiais.\n",
    "\n"
   ]
  },
  {
   "cell_type": "code",
   "execution_count": 78,
   "metadata": {},
   "outputs": [
    {
     "name": "stdout",
     "output_type": "stream",
     "text": [
      "['avokadas']\n"
     ]
    }
   ],
   "source": [
    "# Funkcija zodziu_sarasas_prasidedanciu_raide(sarasas, raide) priima du argumentus: sarasas yra žodžių sąrašas, \n",
    "# iš kurio bus išrenkami žodžiai, kurie prasideda nurodyta raide raide.\n",
    "# Funkcija naudoja for ciklą, kad peržiūrėtų kiekvieną žodį sąraše. Su startswith() metodu patikrina, ar žodis prasideda nurodyta raide, \n",
    "# ir jei taip, prideda jį į zodziai sąrašą.\n",
    "\n",
    "\n",
    "\n",
    "def nurodyta_raide(sarasas, raide):\n",
    "    zodziai = []\n",
    "    for zodis in sarasas:\n",
    "        if zodis.startswith(raide):\n",
    "            zodziai.append(zodis)\n",
    "    return zodziai\n",
    "    \n",
    "\n",
    "zodziai = ['avokadas', 'bananas', 'citrina', 'dovanos', 'elektronika', 'futbolas']\n",
    "prasidedantys_a = nurodyta_raide(zodziai, 'a')\n",
    "print(prasidedantys_a)  # spausdins ['avokadas']\n",
    "                      \n",
    "\n"
   ]
  },
  {
   "attachments": {},
   "cell_type": "markdown",
   "metadata": {},
   "source": [
    "# Šešta užduotis\n",
    "\n",
    "Sukurkite funkciją, kuri iš eilutės išrenka visus žodžius, kurių ilgis yra lyginis, ir grąžina sąrašą su tais žodžiais."
   ]
  },
  {
   "cell_type": "code",
   "execution_count": 79,
   "metadata": {},
   "outputs": [
    {
     "name": "stdout",
     "output_type": "stream",
     "text": [
      "['Si', 'eilute', 'turi', 'su', 'ir']\n"
     ]
    }
   ],
   "source": [
    "# Ši funkcija naudoja split() metodą, kad suskaidytų eilutę į žodžių sąrašą. Tada naudoja ciklą, kad tikrintų kiekvieno žodžio ilgį ir pridėtų į naują sąrašą tuos, \n",
    "# kurių ilgis yra lyginis. Galiausiai grąžina sąrašą su rastais žodžiais.\n",
    "\n",
    "\n",
    "def zodziai_su_lyginiu_ilgiu(eilute):\n",
    "    zodziai = eilute.split()\n",
    "    lyginiai_zodziai = []\n",
    "    for zodis in zodziai:\n",
    "        if len(zodis) % 2 == 0:\n",
    "            lyginiai_zodziai.append(zodis)\n",
    "    return lyginiai_zodziai\n",
    "\n",
    "\n",
    "eilute = \"Si eilute turi zodzius su lyginiais ir nelyginiais ilgiais\"\n",
    "lyginiai_zodziai = zodziai_su_lyginiu_ilgiu(eilute)\n",
    "print(lyginiai_zodziai)"
   ]
  },
  {
   "attachments": {},
   "cell_type": "markdown",
   "metadata": {},
   "source": [
    "# Nebūtini argumentai su numatytomis reikšmėmis ir konkretaus argumento perdavimas"
   ]
  },
  {
   "attachments": {},
   "cell_type": "markdown",
   "metadata": {},
   "source": [
    "# Nebūtini argumentai su numatytomis reikšmėmis leidžia nurodyti numatytas reikšmes funkcijos argumentams, kurie gali būti praleisti kviečiant funkciją. Tai leidžia pasiekti lankstumą funkcijų kūrimo metu.\n",
    "\n"
   ]
  },
  {
   "cell_type": "code",
   "execution_count": 80,
   "metadata": {},
   "outputs": [],
   "source": [
    "# eiliskumas yra svarbus, pirma privalomi argumentai,po to tik neprivalomieji\n",
    "\n",
    "def gauti_kaina(kaina, nuolaida=0, pvm=21):\n",
    "    kaina *= (1-nuolaida/100)\n",
    "    kaina *= (1+pvm/100)\n",
    "    return kaina"
   ]
  },
  {
   "cell_type": "code",
   "execution_count": 81,
   "metadata": {},
   "outputs": [
    {
     "data": {
      "text/plain": [
       "121.0"
      ]
     },
     "execution_count": 81,
     "metadata": {},
     "output_type": "execute_result"
    }
   ],
   "source": [
    "gauti_kaina(100,)"
   ]
  },
  {
   "cell_type": "code",
   "execution_count": 82,
   "metadata": {},
   "outputs": [
    {
     "name": "stdout",
     "output_type": "stream",
     "text": [
      "108.89999999999999\n"
     ]
    }
   ],
   "source": [
    "print(gauti_kaina(100, 10))"
   ]
  },
  {
   "cell_type": "code",
   "execution_count": 83,
   "metadata": {},
   "outputs": [
    {
     "name": "stdout",
     "output_type": "stream",
     "text": [
      "124.0\n"
     ]
    }
   ],
   "source": [
    "print(gauti_kaina(100, pvm=24))"
   ]
  },
  {
   "cell_type": "code",
   "execution_count": 84,
   "metadata": {},
   "outputs": [
    {
     "name": "stdout",
     "output_type": "stream",
     "text": [
      "99.2\n"
     ]
    }
   ],
   "source": [
    "print(gauti_kaina(100, 20, 24))"
   ]
  },
  {
   "cell_type": "code",
   "execution_count": 85,
   "metadata": {},
   "outputs": [
    {
     "name": "stdout",
     "output_type": "stream",
     "text": [
      "100.3\n"
     ]
    }
   ],
   "source": [
    "print(gauti_kaina(kaina=100,nuolaida=15,pvm=18))"
   ]
  },
  {
   "attachments": {},
   "cell_type": "markdown",
   "metadata": {},
   "source": [
    "# Uzduotys \n",
    "\n",
    "# Pirma užduotis\n",
    "\n",
    "Sukurkite funkciją apskritimo_plotas, kuri priima 2 argumentus: apskritimo spindulys ir pi reikšmę. Jei funkcija kviečiama be pi argumento, jis turėtų būti nustatytas į numatytąją reikšmę 3.14. Funkcija turi grąžinti apskritimo plotą.\n"
   ]
  },
  {
   "cell_type": "code",
   "execution_count": 89,
   "metadata": {},
   "outputs": [
    {
     "name": "stdout",
     "output_type": "stream",
     "text": [
      "78.5\n",
      "153.93791\n"
     ]
    }
   ],
   "source": [
    "# Pirmais atvejais, kai funkcijai perduodamas tik vienas argumentas, jis yra laikomas apskritimo spinduliu, o pi reikšmė priskiriama numatytajai reikšmei 3.14. \n",
    "# Antruoju atveju, funkcijai perduodamas ir spindulys, ir pi reikšmė.\n",
    "\n",
    "\n",
    "def apskritimo_plotas(spindulys, pi=3.14):\n",
    "    plotas = pi * spindulys ** 2\n",
    "    return plotas\n",
    "\n",
    "\n",
    "print(apskritimo_plotas(5))  \n",
    "print(apskritimo_plotas(7, 3.14159))  "
   ]
  },
  {
   "attachments": {},
   "cell_type": "markdown",
   "metadata": {},
   "source": [
    "# Antra užduotis\n",
    "\n",
    "Parašykite funkciją keliones_informacija, kuri turi šiuos argumentus:\n",
    "\n",
    "keliones_trukme: privalomas argumentas, nurodantis kelionės trukmę valandomis.\n",
    "greitis: privalomas argumentas, nurodantis vidutinį greitį km/h.\n",
    "vartojimas: neprivalomas argumentas, nurodantis vidutinį kuro sąnaudų kiekį su numatyta reikšme 7 (l/100 km.)\n",
    "kuro_kaina: neprivalomas argumentas su numatyta reikšme 1.2 (kuro kaina eurais už litrą).\n",
    "Funkcija turėtų grąžinti šią informaciją:\n",
    "\n",
    "Nuvažiuotas atstumas (atstumas = keliones_trukme * greitis).\n",
    "Bendros kelionės kuro sąnaudos (sąnaudos = atstumas * vartojimas / 100).\n",
    "Bendros kelionės išlaidos kuras (išlaidos = sąnaudos * kuro_kaina).\n",
    "Funkcija turi grąžinti šią informaciją kaip žodyną."
   ]
  },
  {
   "cell_type": "code",
   "execution_count": 92,
   "metadata": {},
   "outputs": [
    {
     "data": {
      "text/plain": [
       "{'Atstumas': 180, 'Sanaudos': 12.6, 'Islaidos': 15.12}"
      ]
     },
     "execution_count": 92,
     "metadata": {},
     "output_type": "execute_result"
    }
   ],
   "source": [
    "# Ši funkcija priima tris privalomus argumentus ir du neprivalomus argumentus. Jei vartojimas ir/arba kuro_kaina nebus pateikti kviečiant funkciją, \n",
    "# bus naudojamos jų numatytosios reikšmės. Funkcija grąžina žodyną su tris raktus (\"atstumas\", \"sanaudos\", \"islaidos\"), \n",
    "# o jų reikšmės yra apskaičiuotos pagal užduoties sąlygas. \n",
    "# Pvz. kviečiant keliones_informacija(4, 60) bus gražinamas žodynas {'atstumas': 240, 'sanaudos': 16.8, 'islaidos': 20.16}.\n",
    "\n",
    "\n",
    "def keliones_informacija(keliones_trukme, greitis, vartojimas=7, kuro_kaina=1.2):\n",
    "    atstumas = keliones_trukme * greitis\n",
    "    sanaudos = atstumas * vartojimas / 100\n",
    "    islaidos = sanaudos * kuro_kaina\n",
    "    \n",
    "    return {'Atstumas': round(atstumas, 2), 'Sanaudos': round(sanaudos, 2), 'Islaidos': round(islaidos, 2)}\n",
    "\n",
    "\n",
    "keliones_informacija(keliones_trukme=3, greitis=60, vartojimas=7, kuro_kaina=1.2)\n",
    "\n",
    "\n",
    "\n",
    "# Taigi, kelionės trukmė yra 3 valandos, vidutinis greitis yra 60 km/h, vidutinės kuro sąnaudos yra 8 l/100 km, o kuro kaina yra 1.3 eurų už litrą. \n",
    "# Atstumas, kuris buvo nuvažiuotas, yra 180 km, bendros kelionės kuro sąnaudos yra 14.4 l, o bendros kelionės kuro išlaidos yra 18.72 eurai."
   ]
  },
  {
   "attachments": {},
   "cell_type": "markdown",
   "metadata": {},
   "source": [
    "# Neriboti argumentai *args, **kwargs\n",
    "\n",
    "\n",
    "# *args yra specialus Python sintaksės elementas, kuris leidžia perduoti bet kokį kiekį pozicinių argumentų į funkciją. *args sukuria tuple iš visų perduotų pozicinių argumentų, kurie gali būti naudojami kaip bet kuris kitas tuple.\n",
    "\n"
   ]
  },
  {
   "cell_type": "code",
   "execution_count": 93,
   "metadata": {},
   "outputs": [
    {
     "name": "stdout",
     "output_type": "stream",
     "text": [
      "1\n",
      "2\n",
      "3\n",
      "Labas\n",
      "Pasauli\n"
     ]
    }
   ],
   "source": [
    "# PVZ\n",
    "\n",
    "def spausdinti_args(*args):\n",
    "    for arg in args:\n",
    "        print(arg)\n",
    "\n",
    "spausdinti_args(1, 2, 3, \"Labas\", \"Pasauli\")"
   ]
  },
  {
   "cell_type": "code",
   "execution_count": 94,
   "metadata": {},
   "outputs": [
    {
     "name": "stdout",
     "output_type": "stream",
     "text": [
      "6\n",
      "22\n"
     ]
    }
   ],
   "source": [
    "# Sumavimo funkcijos pavyzdys su *args:\n",
    "\n",
    "def suma(*args):\n",
    "    sum = 0\n",
    "    for i in args:\n",
    "        sum += i\n",
    "    return sum\n",
    "\n",
    "print(suma(1, 2, 3))  # 6\n",
    "print(suma(4, 5, 6, 7))  # 22"
   ]
  },
  {
   "cell_type": "code",
   "execution_count": 101,
   "metadata": {},
   "outputs": [],
   "source": [
    "# galima join funkcija\n",
    "\n",
    "def jungti(*args, skirtukas=' '):\n",
    "    zodziai = []\n",
    "    for arg in args:\n",
    "        zodziai.append(str(arg))\n",
    "    tekstas = skirtukas.join(zodziai)\n",
    "    return tekstas"
   ]
  },
  {
   "cell_type": "code",
   "execution_count": 98,
   "metadata": {},
   "outputs": [
    {
     "data": {
      "text/plain": [
       "'laba diena kaip sekasi'"
      ]
     },
     "execution_count": 98,
     "metadata": {},
     "output_type": "execute_result"
    }
   ],
   "source": [
    "jungti('laba', 'diena', 'kaip', 'sekasi')"
   ]
  },
  {
   "cell_type": "code",
   "execution_count": 104,
   "metadata": {},
   "outputs": [
    {
     "data": {
      "text/plain": [
       "'1, 2, 3, 4, 5, 7, 9'"
      ]
     },
     "execution_count": 104,
     "metadata": {},
     "output_type": "execute_result"
    }
   ],
   "source": [
    "jungti(1, 2, 3, 4, 5, 7, 9, skirtukas=\", \")"
   ]
  },
  {
   "cell_type": "code",
   "execution_count": 107,
   "metadata": {},
   "outputs": [
    {
     "data": {
      "text/plain": [
       "'X|Y|Z'"
      ]
     },
     "execution_count": 107,
     "metadata": {},
     "output_type": "execute_result"
    }
   ],
   "source": [
    "jungti(\"X\", \"Y\", \"Z\", skirtukas=\"|\")"
   ]
  },
  {
   "cell_type": "code",
   "execution_count": 108,
   "metadata": {},
   "outputs": [],
   "source": [
    "def informacija(vardas, pavarde, *args ):\n",
    "    print(f\"{vardas} {pavarde}: {', '.join(args)}\")"
   ]
  },
  {
   "cell_type": "code",
   "execution_count": 110,
   "metadata": {},
   "outputs": [
    {
     "name": "stdout",
     "output_type": "stream",
     "text": [
      "Geras studentas: viska stebi, atidziai\n",
      "None\n"
     ]
    }
   ],
   "source": [
    "print(informacija(\"Geras\", \"studentas\", \"viska stebi\", 'atidziai'))"
   ]
  },
  {
   "cell_type": "code",
   "execution_count": 112,
   "metadata": {},
   "outputs": [
    {
     "name": "stdout",
     "output_type": "stream",
     "text": [
      "Blogas studentas: miega, nedalyvauja, neatsako kai i ji kreipiames\n",
      "None\n"
     ]
    }
   ],
   "source": [
    "print(informacija(\"Blogas\", \"studentas\",\"miega\", \"nedalyvauja\", \"neatsako kai i ji kreipiames\"))"
   ]
  },
  {
   "attachments": {},
   "cell_type": "markdown",
   "metadata": {},
   "source": [
    "# **kwargs yra dar viena specialus Python sintaksės elementas, kuris leidžia perduoti raktų ir reikšmių rinkinį funkcijai kaip žodyną.\n",
    "\n",
    "# (neriboti raktiniai argumentai)"
   ]
  },
  {
   "cell_type": "code",
   "execution_count": 114,
   "metadata": {},
   "outputs": [
    {
     "name": "stdout",
     "output_type": "stream",
     "text": [
      "pienas: 2.00€\n",
      "miltai: 1.00€\n",
      "kiaušiniai: 3.00€\n",
      "Viso: 6.00€\n"
     ]
    }
   ],
   "source": [
    "# Pavyzdys: funkcija saskaita, kuri išspausdina produktų sąrašą iš **produktai elementų ir susumuoja jų reikšmes - kainas. \n",
    "# Čia tuo pačiu pademonstruojame, kad **kwargs gali būti pervadintas Jums patogiu terminu.\n",
    "\n",
    "\n",
    "def saskaita(**produktai):\n",
    "    suma = 0\n",
    "    for produktas, kaina in produktai.items():\n",
    "        suma += kaina\n",
    "        print(f\"{produktas}: {kaina:.2f}€\")\n",
    "    print(f\"Viso: {suma:.2f}€\")\n",
    "\n",
    "saskaita(pienas=2, miltai=1, kiaušiniai=3)"
   ]
  },
  {
   "attachments": {},
   "cell_type": "markdown",
   "metadata": {},
   "source": [
    "# Kai kuriose situacijose reikia turėti funkciją, kuri priima tiek pozicinius argumentus, tiek ir argumentus, kurie nėra aprašyti funkcijos deklaracijoje. Tokios funkcijos gali būti sukurtos naudojant *args ir **kwargs kartu su paprastais argumentais."
   ]
  },
  {
   "cell_type": "code",
   "execution_count": 115,
   "metadata": {},
   "outputs": [
    {
     "name": "stdout",
     "output_type": "stream",
     "text": [
      "Vardas: Jonas\n",
      "miestas: Vilnius\n",
      "amzius: 30\n",
      "linksmas\n",
      "draugiškas\n",
      "drąsus\n"
     ]
    }
   ],
   "source": [
    "def spausdinti_argumentus(vardas, *args, **kwargs):\n",
    "    print(f\"Vardas: {vardas}\")\n",
    "    for key, value in kwargs.items():\n",
    "        print(f\"{key}: {value}\")\n",
    "    for arg in args:\n",
    "        print(arg)\n",
    "\n",
    "spausdinti_argumentus(\"Jonas\", \"linksmas\", \"draugiškas\", \"drąsus\", miestas=\"Vilnius\", amzius=30)"
   ]
  },
  {
   "cell_type": "code",
   "execution_count": 121,
   "metadata": {},
   "outputs": [],
   "source": [
    "def miksas(pavadinimas: str, *skaiciai, **kita):\n",
    "    print(pavadinimas)\n",
    "    print(sum(skaiciai))\n",
    "    for raktas, reiksme in kita.items():\n",
    "        print(f\" - {raktas}={str(reiksme)}\")"
   ]
  },
  {
   "cell_type": "code",
   "execution_count": 122,
   "metadata": {},
   "outputs": [
    {
     "name": "stdout",
     "output_type": "stream",
     "text": [
      "Kalnas\n",
      "3458\n",
      " - apsniges=False\n",
      " - grazus=True\n",
      " - zmoniu=daug\n"
     ]
    }
   ],
   "source": [
    "miksas(\"Kalnas\", 20, 30, 400, 3001, 7, apsniges=False, grazus=True, zmoniu='daug')"
   ]
  },
  {
   "attachments": {},
   "cell_type": "markdown",
   "metadata": {},
   "source": [
    "# Taigi, *args leidžia perduoti neribotą kiekį pozicinių argumentų, o **kwargs leidžia perduoti neribotą kiekį rakšažodinių argumentų, susidedančių iš raktų ir reikšmių. Galima kombinuoti šiuos elementus su įprastais argumentais funkcijose, kad būtų gautas didesnis funkcionalumas ir lankstumas.\n",
    "\n"
   ]
  },
  {
   "attachments": {},
   "cell_type": "markdown",
   "metadata": {},
   "source": [
    "# Uzduotys \n",
    "\n",
    "# Pirma užduotis\n",
    "\n",
    "Parašykite funkciją, kuri grąžina didžiausią *args elemento reikšmę."
   ]
  },
  {
   "cell_type": "code",
   "execution_count": 123,
   "metadata": {},
   "outputs": [
    {
     "name": "stdout",
     "output_type": "stream",
     "text": [
      "9\n"
     ]
    }
   ],
   "source": [
    "# Funkcija, kuri grąžina didžiausią reikšmę iš pateikto argumentų sąrašo args:\n",
    "\n",
    "def didziausia(*args):\n",
    "    return max(args)\n",
    "\n",
    "# Ši funkcija paima *args, t.y. bet kiek argumentų, ir naudoja max() funkciją, kad surastų didžiausią reikšmę. Pvz.:\n",
    "\n",
    "print(didziausia(1, 5, 3, 9, 2)) "
   ]
  },
  {
   "attachments": {},
   "cell_type": "markdown",
   "metadata": {},
   "source": [
    "# Antra užduotis\n",
    "\n",
    "Parašykite funkciją, kuri grąžina tik **kwargs elemento raktus, kurie yra nurodyti šiame funkcijos kvietime:\n",
    "\n",
    "\n",
    "print(raktai(vardas=\"Jonas\", amzius=30, miestas=\"Vilnius\"))  \n",
    "\n",
    "\n",
    "# kvietime galite nurodyti tik vardą, amžių bei miestą, kad grąžintų: {'vardas': 'Jonas', 'amzius': 30, 'miestas': 'Vilnius'}"
   ]
  },
  {
   "cell_type": "code",
   "execution_count": 125,
   "metadata": {},
   "outputs": [
    {
     "name": "stdout",
     "output_type": "stream",
     "text": [
      "{'vardas': 'Jonas', 'amzius': 30, 'miestas': 'Vilnius'}\n",
      "{'vardas': 'Petras', 'amzius': 25, 'miestas': 'Kaunas'}\n"
     ]
    }
   ],
   "source": [
    "# Ši funkcija priima **kwargs argumentus ir grąžina tik tuos raktus, kurie yra nurodyti kviečiant funkciją.\n",
    "\n",
    "def raktai(**kwargs):\n",
    "    leistini_raktai = [\"vardas\", \"amzius\", \"miestas\"]\n",
    "    return {key: value for key, value in kwargs.items() if key in leistini_raktai}\n",
    "\n",
    "\n",
    "print(raktai(vardas=\"Jonas\", amzius=30, miestas=\"Vilnius\"))\n",
    "# Grąžins: {'vardas': 'Jonas', 'amzius': 30, 'miestas': 'Vilnius'}\n",
    "\n",
    "print(raktai(vardas=\"Petras\", amzius=25, miestas=\"Kaunas\", adresas=\"Gatvė g. 1\"))\n",
    "# Grąžins: {'vardas': 'Petras', 'amzius': 25, 'miestas': 'Kaunas'}"
   ]
  },
  {
   "attachments": {},
   "cell_type": "markdown",
   "metadata": {},
   "source": [
    "# Trečia užduotis\n",
    "\n",
    "Parašykite funkciją, kuri sujungia *args sąrašą ir **kwargs reikšmes į vieną sarašą.\n",
    "\n"
   ]
  },
  {
   "cell_type": "code",
   "execution_count": 128,
   "metadata": {},
   "outputs": [
    {
     "name": "stdout",
     "output_type": "stream",
     "text": [
      "[1, 2, 3, 'Jonas', 30, 'Vilnius']\n"
     ]
    }
   ],
   "source": [
    "# Funkciją sujungti_sarasus, kuri priima *args ir **kwargs argumentus. \n",
    "# Funkcija sujungia *args sąrašą su **kwargs raktų reikšmėmis į vieną bendrą sąrašą.\n",
    "\n",
    "def sujungti(*args, **kwargs):\n",
    "    sarasas = list(args)\n",
    "    for value in kwargs.values():\n",
    "        sarasas.append(value)\n",
    "    return sarasas\n",
    "\n",
    "\n",
    "print(sujungti(1, 2, 3, vardas=\"Jonas\", amzius=30, miestas=\"Vilnius\"))\n",
    "\n",
    "# Šiuo pavyzdžiu, kai į funkciją yra paduodami argumentai ir rakto reikšmės, funkcija grąžina sąrašą, kuri sudarytas iš *args ir **kwargs reikšmių."
   ]
  },
  {
   "attachments": {},
   "cell_type": "markdown",
   "metadata": {},
   "source": [
    "# Lokalūs ir globalūs kintamieji (local/global)\n",
    "\n",
    "Python programavimo kalba turi skirtingus kintamųjų tipus, įskaitant skaičius, eilutes, sąrašus, žodynus ir t.t. Kintamieji gali būti apibrėžti globaliai arba lokaliai, priklausomai nuo to, kur jie yra apibrėžti ir prieinami.\n",
    "\n",
    "Globalūs kintamieji yra apibrėžti programos pradžioje, ir jie yra pasiekiami visoje programoje. Lokalus kintamasis yra apibrėžtas funkcijos viduje ir yra pasiekiamas tik funkcijos viduje.\n",
    "\n",
    "Štai pavyzdys:"
   ]
  },
  {
   "cell_type": "code",
   "execution_count": 135,
   "metadata": {},
   "outputs": [
    {
     "name": "stdout",
     "output_type": "stream",
     "text": [
      "Is programos: Geras pirmadienis\n",
      "is funkcijos:  .... jau ateina savaitgalis\n",
      "is funkcijos globalus:  Geras pirmadienis... rytoj ateina savaitgalis\n",
      "is funkcijos:  Geras pirmadienis... rytoj ateina savaitgalis.... jau ateina savaitgalis\n",
      "Is programos: Geras pirmadienis... rytoj ateina savaitgalis\n",
      "is funkcijos:  Geras pirmadienis... rytoj ateina savaitgalis.... jau ateina savaitgalis\n",
      "grazintas:  None\n"
     ]
    }
   ],
   "source": [
    "bendras = \"Geras pirmadienis\"\n",
    "\n",
    "def ketvirtadienis():\n",
    "    global bendras\n",
    "    bendras +=\"... rytoj ateina savaitgalis\"\n",
    "    print(\"is funkcijos globalus: \", bendras)\n",
    "\n",
    "\n",
    "def penktadienis(vietinis=\"\"):\n",
    "    # global bendras                        # ne pati geriausia praktika su global\n",
    "    vietinis += \".... jau ateina savaitgalis\"\n",
    "    print(\"is funkcijos: \", vietinis)\n",
    "\n",
    "\n",
    "print(\"Is programos:\", bendras)\n",
    "penktadienis()\n",
    "ketvirtadienis()\n",
    "penktadienis(bendras)\n",
    "print(\"Is programos:\", bendras)\n",
    "bendras = penktadienis(bendras)\n",
    "print(\"grazintas: \", bendras)"
   ]
  },
  {
   "attachments": {},
   "cell_type": "markdown",
   "metadata": {},
   "source": [
    "# Anoniminės funkcijos, lambda\n",
    "\n",
    "\n",
    "Anoniminės funkcijos yra funkcijos, kurios neturi pavadinimo. Jų apibrėžimas yra sudarytas iš lambda raktinio žodžio ir argumentų sąrašo, kurioje gali būti aprašytas tam tikras kodas. Šios funkcijos yra labai naudingos, kai reikia sukurti paprastą funkciją vienoje vietoje, kuria naudosimės tik kartą."
   ]
  },
  {
   "cell_type": "code",
   "execution_count": 137,
   "metadata": {},
   "outputs": [
    {
     "name": "stdout",
     "output_type": "stream",
     "text": [
      "11\n"
     ]
    }
   ],
   "source": [
    "suma = lambda *args: sum(args)\n",
    "print(suma(1,2,3,5))"
   ]
  },
  {
   "cell_type": "code",
   "execution_count": 138,
   "metadata": {},
   "outputs": [],
   "source": [
    "kvadratu = lambda x: x**2"
   ]
  },
  {
   "cell_type": "code",
   "execution_count": 139,
   "metadata": {},
   "outputs": [
    {
     "name": "stdout",
     "output_type": "stream",
     "text": [
      "[4, 9, 49]\n"
     ]
    }
   ],
   "source": [
    "rez = map(kvadratu, [2,3,7])\n",
    "print(list(rez))"
   ]
  },
  {
   "cell_type": "code",
   "execution_count": 141,
   "metadata": {},
   "outputs": [
    {
     "name": "stdout",
     "output_type": "stream",
     "text": [
      "[3.0, 8.0, 10.0, 100.0]\n"
     ]
    }
   ],
   "source": [
    "saknys = map(lambda x: x**0.5, [9, 64, 100, 10000])\n",
    "print(list(saknys))"
   ]
  },
  {
   "attachments": {},
   "cell_type": "markdown",
   "metadata": {},
   "source": [
    "Ši anoniminė funkcija lambda yra naudojama kartu su map funkcija, kad suskaičiuotų kiekvieno sąrašo elemento kvadratą. Tai yra trumpesnis ir patogesnis būdas, nei apibrėžti atskirą funkciją tik skaičių kvadratų skaičiavimui.\n",
    "\n",
    "Funkcija map yra Python vidinė funkcija, kuri naudojama norint sukurti naują sąrašą iš kito sąrašo, keičiant kiekvieną jo elementą pagal tam tikrą funkciją arba anoniminę funkciją.\n",
    "\n",
    "Pavyzdžiui, kai naudojama anoniminė funkcija lambda x: x**2, funkcija map pakeičia kiekvieną sąrašo elementą jo kvadratu. Kiekvienam sąrašo elementui, funkcija \"lambda\" priskiria reikšmę ir paduoda ją į map funkciją, kuri tada sudaro naują sąrašą su pakeistais elementais, o list funkcija paverčia gautą map funkcijos rezultatą sąrašu.\n",
    "\n",
    "Pabaigoje, sukurtas naujas sąrašas yra išvestas su print funkcija.\n",
    "\n",
    "Galutinis išvesties rezultatas yra naujas sąrašas, kuriame kiekvienas skaičius iš pradinio sąrašo yra pakeltas kvadratu, t.y. [1, 4, 9, 16, 25].\n",
    "\n",
    "Pavyzdys su lambda rikiuojant žodžius pagal jų ilgį:"
   ]
  },
  {
   "cell_type": "code",
   "execution_count": 145,
   "metadata": {},
   "outputs": [
    {
     "name": "stdout",
     "output_type": "stream",
     "text": [
      "['kumpis', 'beeeeeer', 'makaronai', 'parmigiano', 'pesto rosso']\n"
     ]
    }
   ],
   "source": [
    "zodziai = ['makaronai', 'kumpis', 'parmigiano', 'pesto rosso', 'beeeeeer']\n",
    "\n",
    "pagal_ilgi = sorted(zodziai, key=lambda zodis: len(zodis))\n",
    "\n",
    "print(pagal_ilgi)"
   ]
  },
  {
   "cell_type": "code",
   "execution_count": 147,
   "metadata": {},
   "outputs": [
    {
     "name": "stdout",
     "output_type": "stream",
     "text": [
      "['kumpis', 'beeeeeer', 'makaronai', 'parmigiano', 'pesto rosso']\n"
     ]
    }
   ],
   "source": [
    "# paaiskinimas dar sioks toks\n",
    "\n",
    "def grazinti_ilgi(zodis):\n",
    "    return len(zodis)\n",
    "\n",
    "\n",
    "pagal_ilgi = sorted(zodziai, key=len)\n",
    "print(pagal_ilgi)"
   ]
  },
  {
   "cell_type": "code",
   "execution_count": 148,
   "metadata": {},
   "outputs": [
    {
     "name": "stdout",
     "output_type": "stream",
     "text": [
      "[1, 2, 3]\n"
     ]
    }
   ],
   "source": [
    "# blogo codinimo pvz\n",
    "\n",
    "a = lambda x : x+1\n",
    "b = [0, 1, 2]\n",
    "\n",
    "print(list(map(a,b)))"
   ]
  },
  {
   "cell_type": "code",
   "execution_count": 149,
   "metadata": {},
   "outputs": [
    {
     "name": "stdout",
     "output_type": "stream",
     "text": [
      "[1, 2, 3]\n"
     ]
    }
   ],
   "source": [
    "# aiskesnis codinimas\n",
    "\n",
    "plius_vienas = lambda skaicius: skaicius +1 \n",
    "skaiciai = [0, 1, 2]\n",
    "print(list(map(plius_vienas, skaiciai)))"
   ]
  },
  {
   "attachments": {},
   "cell_type": "markdown",
   "metadata": {},
   "source": [
    "# Uzduotys \n",
    "\n",
    "# Pirma užduotis\n",
    "\n",
    "Sukurkite anoniminę funkciją, kuri iš sąrašo skaičių pasirenka tik tuos, kurie yra didesni nei 10.\n",
    "\n"
   ]
  },
  {
   "cell_type": "code",
   "execution_count": 153,
   "metadata": {},
   "outputs": [
    {
     "name": "stdout",
     "output_type": "stream",
     "text": [
      "[20, 66, 33, 12, 999]\n"
     ]
    }
   ],
   "source": [
    "skaiciai = [5, 20, 66, 33, 12, -4, 999, 4]\n",
    "\n",
    "didesnis_10= list(filter(lambda x: x > 10, skaiciai))\n",
    "\n",
    "print(didesnis_10)\n",
    "\n"
   ]
  },
  {
   "attachments": {},
   "cell_type": "markdown",
   "metadata": {},
   "source": [
    "# Antra užduotis\n",
    "\n",
    "Sukurkite anoniminę funkciją, kuri grąžina sąrašo elementų vidurkį."
   ]
  },
  {
   "cell_type": "code",
   "execution_count": 154,
   "metadata": {},
   "outputs": [
    {
     "name": "stdout",
     "output_type": "stream",
     "text": [
      "3.0\n"
     ]
    }
   ],
   "source": [
    "\n",
    "skaiciai = [1, 2, 3, 4, 5]\n",
    "vidurkis = lambda x: sum(x) / len(x)\n",
    "\n",
    "\n",
    "print(vidurkis(skaiciai))\n",
    "\n"
   ]
  },
  {
   "attachments": {},
   "cell_type": "markdown",
   "metadata": {},
   "source": [
    "# Trečia užduotis\n",
    "\n",
    "Parašykite anoniminę funkciją, kuri grąžina didžiausią skaičių iš duotų trijų skaičių."
   ]
  },
  {
   "cell_type": "code",
   "execution_count": 159,
   "metadata": {},
   "outputs": [
    {
     "name": "stdout",
     "output_type": "stream",
     "text": [
      "999\n"
     ]
    }
   ],
   "source": [
    "trys_sk = lambda x, y, z: max(x, y ,z)\n",
    "\n",
    "print(trys_sk(999, 29, 44,))\n",
    "\n"
   ]
  }
 ],
 "metadata": {
  "kernelspec": {
   "display_name": "Python 3",
   "language": "python",
   "name": "python3"
  },
  "language_info": {
   "codemirror_mode": {
    "name": "ipython",
    "version": 3
   },
   "file_extension": ".py",
   "mimetype": "text/x-python",
   "name": "python",
   "nbconvert_exporter": "python",
   "pygments_lexer": "ipython3",
   "version": "3.11.3"
  },
  "orig_nbformat": 4
 },
 "nbformat": 4,
 "nbformat_minor": 2
}
