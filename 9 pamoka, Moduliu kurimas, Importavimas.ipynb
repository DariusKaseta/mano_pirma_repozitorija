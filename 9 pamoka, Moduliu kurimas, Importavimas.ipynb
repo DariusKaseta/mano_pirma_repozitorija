{
 "cells": [
  {
   "attachments": {},
   "cell_type": "markdown",
   "metadata": {},
   "source": [
    "# Modulių kūrimas, importavimas\n",
    "\n",
    "Modulis yra Python programavimo kalbos sąvoka, apibūdinanti vieną failą, kuriame yra Python kodas. Moduliai padeda organizuoti ir suskirstyti kodą į atskiras dalis pagal funkcionalumą, kad jis būtų lengviau suprantamas ir tvarkingas.\n",
    "\n",
    "Tereikia sukurti naują Python failą (su .py plėtiniu) ir parašyti kodą jame. Pvz., sukūrę failą pavadinimu mano_modulis.py, mes sukuriame naują modulį, vadinamą mano_modulis.\n",
    "\n",
    "Pavyzdys:\n",
    "\n",
    "mano_modulis.py:"
   ]
  },
  {
   "cell_type": "code",
   "execution_count": 1,
   "metadata": {},
   "outputs": [],
   "source": [
    "def pasisveikinti(vardas):\n",
    "    return f\"Sveikas, {vardas}!\"\n",
    "\n",
    "def sudetis(x, y):\n",
    "    return x + y\n",
    "\n",
    "class ManoKlase:\n",
    "    def __init__(self, x):\n",
    "        self.x = x\n",
    "\n",
    "    def kvadratas(self):\n",
    "        return self.x ** 2\n",
    "    \n",
    "    # Šiame pavyzdyje mes sukūrėme modulį mano_modulis, kuriame yra funkcijos pasisveikinti ir sudetis, taip pat klasė ManoKlase. \n",
    "    # Kad naudotume šio modulio funkcijas ir klases kitame faile, turime jį importuoti."
   ]
  },
  {
   "attachments": {},
   "cell_type": "markdown",
   "metadata": {},
   "source": [
    "# Funkcijos arba klasės importavimas\n",
    "\n",
    "Python leidžia importuoti konkrečias funkcijas ar klases iš modulių ar paketų. Tai padeda užtikrinti, kad importuojate tik tai, ko jums reikia, ir taip sumažinate atminties naudojimą. Pavyzdys:\n",
    "\n"
   ]
  },
  {
   "cell_type": "code",
   "execution_count": null,
   "metadata": {},
   "outputs": [],
   "source": [
    "from mano_modulis import ManoKlase\n",
    "from math import sqrt\n",
    "\n",
    "\n",
    "# 💡 math modulis yra standartinė Python biblioteka, skirta matematikos funkcijoms ir konstantoms. \n",
    "# Funkcija sqrt yra kvadratinės šaknies funkcija. Ji priima vieną skaičių kaip argumentą ir grąžina jo kvadratinę šaknį."
   ]
  },
  {
   "attachments": {},
   "cell_type": "markdown",
   "metadata": {},
   "source": [
    "# Importuotų objektų pervadinimas su \"as\"\n",
    "\n",
    "Kartais gali būti naudinga pervadinti importuotą objektą (modulį, funkciją ar klasę), kad jis būtų trumpesnis arba aiškesnis. Tai galima padaryti naudojant \"as\" raktažodį. Pavyzdys:"
   ]
  },
  {
   "cell_type": "code",
   "execution_count": null,
   "metadata": {},
   "outputs": [],
   "source": [
    "import random as belenkas\n",
    "from mano_modulis import IlgasKlasesPavadinimas as IKP\n",
    "from calendar import isleap as ar_keliamieji"
   ]
  },
  {
   "attachments": {},
   "cell_type": "markdown",
   "metadata": {},
   "source": [
    "# Iš modulio importuojame viską su *   (nerekomenduotina praktika)\n",
    "\n",
    "Python leidžia importuoti visus modulio ar paketo elementus naudojant *. Nors tai gali būti patogu, šis būdas gali sukelti pavadinimų konfliktus, jei keli moduliai turi elementų su vienodais pavadinimais.\n",
    "\n",
    "Pavyzdys:\n",
    "\n"
   ]
  },
  {
   "cell_type": "code",
   "execution_count": null,
   "metadata": {},
   "outputs": [],
   "source": [
    "from math import *"
   ]
  },
  {
   "attachments": {},
   "cell_type": "markdown",
   "metadata": {},
   "source": [
    "# dir() funkcija\n",
    "\n",
    "Python dir() funkcija grąžina sąrašą, kuriame yra modulio ar paketo narių pavadinimai. Tai gali būti naudinga norint sužinoti, ką galima importuoti iš modulio ar paketo.\n",
    "\n",
    "Pavyzdys:\n",
    "\n"
   ]
  },
  {
   "cell_type": "code",
   "execution_count": null,
   "metadata": {},
   "outputs": [],
   "source": [
    "import math\n",
    "print(dir(math))"
   ]
  },
  {
   "attachments": {},
   "cell_type": "markdown",
   "metadata": {},
   "source": [
    "# Paketai, subpaketai ir __init__.py failai\n",
    "\n",
    "Paketai yra būdas organizuoti Python kodo modulius į struktūruotą hierarchiją. Paketai leidžia lengvai suskirstyti projekto funkcionalumą į susijusias dalis, taip padidinant kodo tvarką ir supratimą.\n",
    "\n",
    "Python paketas yra paprastai direktorija, kurioje yra __init__.py failas. Paketas gali turėti modulius, subpaketus ir jų __init__.py failus.\n",
    "\n",
    "Subpaketai yra paketų direktorijos, esančios kituose paketuose. Jie taip pat turi __init__.py failą ir gali turėti savo modulius bei kitus subpaketus.\n",
    "\n",
    "__init__.py failai yra specialūs Python failai, kuriuos interpretatorius naudoja, kad nustatytų direktoriją kaip paketą ar subpaketą. __init__.py failai gali būti tušti arba turėti kodą, pvz., importuoti kai kuriuos modulius, priskirti kintamuosius arba apibrėžti funkcijas ir klases. Importuojant paketą, __init__.py failai yra visada paleidžiami."
   ]
  },
  {
   "attachments": {},
   "cell_type": "markdown",
   "metadata": {},
   "source": [
    "# Paketų pavadinimų taisyklės\n",
    "\n",
    "Venkite didžiųjų raidžių naudojimo. Katalogų pavadinimai neturi prasidėti skaičiais, turėti tarpų, ne lotyniškų simbolių ir t.t. Rekomenduojama laikytis kintamųjų pavadinimų sudarymo taisyklių.\n",
    "\n",
    "Projekto pavyzdys\n",
    "\n",
    "Įsivaizduokime, kad turime šią katalogų ir failų struktūrą:"
   ]
  },
  {
   "cell_type": "code",
   "execution_count": null,
   "metadata": {},
   "outputs": [],
   "source": [
    "projektas/\n",
    "    __init__.py\n",
    "    main.py\n",
    "    geometrija/\n",
    "        __init__.py\n",
    "        plotas.py\n",
    "        perimetras.py\n",
    "        dvimate/\n",
    "            __init__.py\n",
    "            apskritimas.py\n",
    "            kvadratas.py"
   ]
  },
  {
   "attachments": {},
   "cell_type": "markdown",
   "metadata": {},
   "source": [
    "projektas yra pagrindinis paketas, kuris turi modulį main.py ir subpaketą geometrija. geometrija subpaketas turi modulius plotas.py ir perimetras.py bei subpaketą dvimate, kuris turi modulius apskritimas.py ir kvadratas.py. Atkreipkite dėmesį, kad dvimate subpaketo vadinti 2D negalima, nors gal ir patogiau, bet negalima."
   ]
  },
  {
   "attachments": {},
   "cell_type": "markdown",
   "metadata": {},
   "source": [
    "# Absoliutus importavimas\n",
    "\n",
    "Absoliutus importavimas naudoja visą kelią nuo pagrindinio paketo arba modulio iki importuojamo elemento. Jis paprastai yra aiškesnis ir lengviau suprantamas.\n",
    "\n",
    "Pavyzdys:"
   ]
  },
  {
   "cell_type": "code",
   "execution_count": null,
   "metadata": {},
   "outputs": [],
   "source": [
    "from projektas.geometrija.plotas import trikampio_plotas"
   ]
  },
  {
   "attachments": {},
   "cell_type": "markdown",
   "metadata": {},
   "source": [
    "# Reliatyvus importavimas\n",
    "\n",
    "Reliatyvus importavimas naudoja taškus nurodyti paketų ar modulių hierarchiją atsižvelgiant į esamą vietą. Jis gali padėti išlaikyti perkeliamumą tarp projektų ir sumažinti kodo kartojimąsi.\n",
    "\n",
    "Pavyzdys:"
   ]
  },
  {
   "cell_type": "code",
   "execution_count": null,
   "metadata": {},
   "outputs": [],
   "source": [
    "from .plotas import trikampio_plotas"
   ]
  },
  {
   "attachments": {},
   "cell_type": "markdown",
   "metadata": {},
   "source": [
    "# Importas iš projekto paketų\n",
    "\n",
    "Importuojant modulius iš paketų ir subpaketų, naudojama taškinė sintaksė:"
   ]
  },
  {
   "cell_type": "code",
   "execution_count": null,
   "metadata": {},
   "outputs": [],
   "source": [
    "from projektas.geometrija.plotas import trikampio_plotas\n",
    "from projektas.geometrija.dvimate.apskritimas import apskritimo_plotas\n",
    "\n",
    "# __init__.py failų panaudojimas: Tarkime, kad projektas/geometrija/__init__.py failas turi šį kodą:"
   ]
  },
  {
   "cell_type": "code",
   "execution_count": null,
   "metadata": {},
   "outputs": [],
   "source": [
    "from .plotas import *\n",
    "from .perimetras import *\n",
    "from .dvimate.apskritimas import *\n",
    "from .dvimate.kvadratas import *\n",
    "\n",
    "# Dabar galime importuoti visas funkcijas tiesiog importuodami geometrija subpaketą:"
   ]
  },
  {
   "cell_type": "code",
   "execution_count": null,
   "metadata": {},
   "outputs": [],
   "source": [
    "from projektas.geometrija import trikampio_plotas, apskritimo_plotas"
   ]
  },
  {
   "attachments": {},
   "cell_type": "markdown",
   "metadata": {},
   "source": [
    "# Užduotys\n",
    "\n",
    "# Pirma užduotis\n",
    "\n",
    "Sukurkite naują Python modulį, pavadinimu matematika.py, kuriame būtų šios funkcijos:\n",
    "\n",
    "daugyba(x, y): grąžina dviejų skaičių x ir y sandaugą\n",
    "dalyba(x, y): grąžina dviejų skaičių x ir y dalmenį\n",
    "Tada importuokite šį modulį kitame Python faile ir panaudokite jo funkcijas skaičiavimams atlikti.\n",
    "\n"
   ]
  },
  {
   "cell_type": "code",
   "execution_count": 7,
   "metadata": {},
   "outputs": [
    {
     "name": "stdout",
     "output_type": "stream",
     "text": [
      "35\n",
      "2.0\n"
     ]
    }
   ],
   "source": [
    "# Pirma, reikia sukurti failą \"matematika.py\" su aprašytomis funkcijomis:\n",
    "\n",
    "# def daugyba(x, y):\n",
    "#     return x * y\n",
    "\n",
    "# def dalyba(x, y):\n",
    "#     return x / y\n",
    "\n",
    "# Tada galime importuoti šį modulį į kitą Python failą ir naudoti jo funkcijas:\n",
    "\n",
    "import matematika\n",
    "\n",
    "rezultatas = matematika.daugyba(5, 7)\n",
    "print(rezultatas) \n",
    "\n",
    "kitas_rezultatas = matematika.dalyba(10, 5)\n",
    "print(kitas_rezultatas)"
   ]
  },
  {
   "attachments": {},
   "cell_type": "markdown",
   "metadata": {},
   "source": [
    "# Antra užduotis\n",
    "\n",
    "Sukurkite paketą geometrija, kuris turėtų šiuos modulius:\n",
    "\n",
    "apskritimas.py: turintis funkciją apskritimo_plotas(r) skirtą apskaičiuoti apskritimo plotą\n",
    "kvadratas.py: turintis funkciją kvadrato_plotas(a) skirtą apskaičiuoti kvadrato plotą\n",
    "Importuokite šiuos modulius kitame faile, pakeiskite funkcijų pavadinimus pasitelkiant as ir panaudokite funkcijas skaičiavimams atlikti."
   ]
  },
  {
   "cell_type": "code",
   "execution_count": null,
   "metadata": {},
   "outputs": [],
   "source": [
    "# Pirma, turime sukurti paketą geometrija ir modulius apskritimas ir kvadratas. \n",
    "# Tai galima padaryti sukuriant naują direktoriją geometrija ir į ją įdedant failus apskritimas.py ir kvadratas.py.\n",
    "\n",
    "# Tada apskritimas.py faile turime funkciją apskritimo_plotas(r):"
   ]
  },
  {
   "cell_type": "code",
   "execution_count": null,
   "metadata": {},
   "outputs": [],
   "source": []
  },
  {
   "attachments": {},
   "cell_type": "markdown",
   "metadata": {},
   "source": [
    "# Standartinių bibliotekų importavimas\n",
    "\n",
    "import this - \"The Zen of Python\" (Python'o dvasia)\n",
    "\n",
    "\"The Zen of Python\" yra Python programavimo kalbos filosofijos poema, kurią parašė Tim Peters. Štai kaip ją galite pamatyti:"
   ]
  },
  {
   "attachments": {},
   "cell_type": "markdown",
   "metadata": {},
   "source": [
    "import this"
   ]
  },
  {
   "attachments": {},
   "cell_type": "markdown",
   "metadata": {},
   "source": [
    "# Šios eilutės pagrindiniai principai yra:\n",
    "\n",
    "Aiškumas yra geriau už paslėptį. Paprastumas yra geriau už sudėtingumą. Dvigubai geriau yra geriau už gerai pakankamai. Praktiškumas nugalės teoriją.\n",
    "\n",
    "\n"
   ]
  },
  {
   "attachments": {},
   "cell_type": "markdown",
   "metadata": {},
   "source": [
    "# import random - atsitiktinių skaičių generatoriaus funkcijos\n",
    "\n",
    "Python'o random biblioteka leidžia generuoti atsitiktinius skaičius, atsitiktinai pasirinkti elementus iš sąrašo ir pan. Štai keletas pavyzdžių:"
   ]
  },
  {
   "cell_type": "code",
   "execution_count": null,
   "metadata": {},
   "outputs": [],
   "source": [
    "import random\n",
    "\n",
    "# Sugeneruoti atsitiktinį skaičių tarp 0 ir 1\n",
    "print(random.random())\n",
    "\n",
    "# Sugeneruoti atsitiktinį sveikąjį skaičių tarp 1 ir 10\n",
    "print(random.randint(1, 10))\n",
    "\n",
    "# Atsitiktinai pasirinkti elementą iš sąrašo\n",
    "my_list = [\"a\", \"b\", \"c\", \"d\", \"e\"]\n",
    "print(random.choice(my_list))"
   ]
  },
  {
   "attachments": {},
   "cell_type": "markdown",
   "metadata": {},
   "source": [
    "# import math - papildomos matematinės funkcijos\n",
    "\n",
    "Python'o math biblioteka suteikia prieigą prie papildomų matematinių funkcijų ir konstantų, tokių kaip π (pi) ir e. Štai keletas pavyzdžių:"
   ]
  },
  {
   "cell_type": "code",
   "execution_count": null,
   "metadata": {},
   "outputs": [],
   "source": [
    "import math\n",
    "\n",
    "# Apskaičiuoti sinuso reikšmę\n",
    "print(math.sin(math.pi / 2))\n",
    "\n",
    "# Apskaičiuoti faktorialą\n",
    "print(math.factorial(5))\n",
    "\n",
    "# Apskaičiuoti kvadratą\n",
    "print(math.sqrt(9))"
   ]
  },
  {
   "attachments": {},
   "cell_type": "markdown",
   "metadata": {},
   "source": [
    "# import calendar - kalendoriaus funkcijos\n",
    "\n",
    "Python'o calendar biblioteka leidžia dirbti su kalendoriais, pavyzdžiui, sužinoti, ar metai yra keliamieji arba kokia savaitės diena yra tam tikra data. Štai keletas pavyzdžių:"
   ]
  },
  {
   "cell_type": "code",
   "execution_count": null,
   "metadata": {},
   "outputs": [],
   "source": [
    "import calendar\n",
    "\n",
    "# Tikrinti, ar metai yra keliamieji\n",
    "print(calendar.isleap(2020))\n",
    "\n",
    "# Gaukite savaitės dienos pavadinimą pagal skaičių\n",
    "print(calendar.day_name[1]) # 'Tuesday'\n",
    "\n",
    "# Gaukite mėnesio dienų skaičių\n",
    "print(calendar.monthrange(2023, 4)) # (5, 30) - pirmoji balandžio diena yra šeštadienis (5), o balandžio mėnesyje yra 30 dienų\n",
    "\n",
    "# Atspausdinti mėnesio kalendorių\n",
    "print(calendar.month(2023, 4))\n",
    "\n",
    "\n",
    "# calendar biblioteka turi daugiau funkcijų ir savybių, kurios padės jums dirbti su datomis ir laiku. Šie pavyzdžiai yra tik pradžia. \n",
    "# Galite rasti daugiau informacijos apie calendar biblioteką Python dokumentacijoje."
   ]
  },
  {
   "attachments": {},
   "cell_type": "markdown",
   "metadata": {},
   "source": [
    "# Uzduotys \n",
    "\n",
    "# Pirma užduotis\n",
    "\n",
    "Parašykite funkciją, kuris atspausdina 10 atsitiktinių skaičių nuo 1 iki 100 ir juos išrikiuoja didėjimo tvarka.\n",
    "\n"
   ]
  },
  {
   "cell_type": "code",
   "execution_count": 21,
   "metadata": {},
   "outputs": [
    {
     "name": "stdout",
     "output_type": "stream",
     "text": [
      "[10, 18, 33, 35, 38, 61, 63, 73, 86, 87]\n"
     ]
    }
   ],
   "source": [
    "import random \n",
    "\n",
    "def atsitiktiniai_sk():\n",
    "    skaiciai = [random.randint(1, 100) for i in range(10)]\n",
    "    surusiuoti_sk = sorted(skaiciai)\n",
    "    print(surusiuoti_sk)\n",
    "\n",
    "\n",
    "atsitiktiniai_sk()\n",
    "\n"
   ]
  },
  {
   "attachments": {},
   "cell_type": "markdown",
   "metadata": {},
   "source": [
    "# Antra užduotis\n",
    "\n",
    "Sukurkite kauliukų žaidimą, kuris:\n",
    "\n",
    "Sugeneruotų tris atsitiktinius skaičius nuo 1 iki 6\n",
    "Jei vienas iš šių skaičių yra 5, atspausdinti „Pralaimėjai...“\n",
    "Kitu atveju atspausdinti „Laimėjai!“\n",
    "Patarimas: Naudoti while ciklą"
   ]
  },
  {
   "cell_type": "code",
   "execution_count": 66,
   "metadata": {},
   "outputs": [
    {
     "name": "stdout",
     "output_type": "stream",
     "text": [
      "1 4 4 Laimejai\n"
     ]
    }
   ],
   "source": [
    "# Pirmiausia naudojame random modulį, kad sugeneruotume tris atsitiktinius skaičius nuo 1 iki 6. \n",
    "# Tada naudojame while ciklą, kad patikrintume, ar vienas iš skaičių yra 5. Jei taip, atspausdiname \"Pralaimėjai...\". \n",
    "# Jei ne, atspausdiname \"Laimėjai!\". Paskutinė dalis (else) naudojama, kad ciklas sustotų, kai nėra reikalingų sąlygų.\n",
    "\n",
    "\n",
    "import random\n",
    "\n",
    "kaul_1 = random.randint(1, 6)\n",
    "kaul_2 = random.randint(1, 6)\n",
    "kaul_3 = random.randint(1, 6)\n",
    "\n",
    "while kaul_1 == 5 or kaul_2 == 5 or kaul_3 == 5:\n",
    "    print(f\"{kaul_1} {kaul_2} {kaul_3} Pralaimejai\")\n",
    "    break\n",
    "else:\n",
    "    print(f\"{kaul_1} {kaul_2} {kaul_3} Laimejai\")"
   ]
  },
  {
   "cell_type": "code",
   "execution_count": 75,
   "metadata": {},
   "outputs": [
    {
     "name": "stdout",
     "output_type": "stream",
     "text": [
      "2\n",
      "1\n",
      "2\n",
      "laimejai\n"
     ]
    }
   ],
   "source": [
    "# optimizuotas kodas \n",
    "\n",
    "import random\n",
    "i = 0\n",
    "while (i < 3):\n",
    "    kauliukas = random.randint(1, 6)\n",
    "    print(kauliukas)\n",
    "    if kauliukas == 5:\n",
    "        print(\"pralaimejai\")\n",
    "        break\n",
    "    i = i + 1\n",
    "else:\n",
    "    print(\"laimejai\")"
   ]
  },
  {
   "attachments": {},
   "cell_type": "markdown",
   "metadata": {},
   "source": [
    "# Trečia užduotis\n",
    "\n",
    "Parašykite Python funkciją, kuri priima metus ir mėnesį, o tada atspausdina šio mėnesio kalendorių bei parodo, kiek savaitgalių (šeštadienių ir sekmadienių) yra tame mėnesyje."
   ]
  },
  {
   "cell_type": "code",
   "execution_count": 101,
   "metadata": {},
   "outputs": [
    {
     "name": "stdout",
     "output_type": "stream",
     "text": [
      "April 2023\n",
      "                                             1        2        \n",
      "3        4        5        6        7        8        9        \n",
      "10       11       12       13       14       15       16       \n",
      "17       18       19       20       21       22       23       \n",
      "24       25       26       27       28       29       30       \n",
      "Savaitgali dienu skaicius: 10\n"
     ]
    }
   ],
   "source": [
    "# Norint atlikti šią užduotį, galime naudoti Python standartinę biblioteką calendar. \n",
    "# Ši biblioteka turi metodą monthcalendar(year, month), kuris sugeneruoja kalendoriaus mėnesio dienų sąrašą. \n",
    "# Taip pat galime naudoti metodą weekday(year, month, day), kuris grąžina savaitės dieną pagal pateiktą datą (0 - pirmadienis, 6 - sekmadienis).\n",
    "\n",
    "import calendar\n",
    "\n",
    "def kalendorius_ir_savaitgaliai(metai, menesiai):\n",
    "    dienu_sarasas = calendar.monthcalendar(metai, menesiai)\n",
    "    savaitgaliu_sk = 0\n",
    "    print(calendar.month_name[menesiai], metai)\n",
    "\n",
    "    \n",
    "    for savaite in dienu_sarasas:\n",
    "        for i, diena in enumerate(savaite):\n",
    "            if diena == 0:\n",
    "                print(\"{:<8}\".format(\" \"), end=\" \")\n",
    "            else:\n",
    "                print(\"{:<8}\".format(diena), end=\" \")\n",
    "                if i >= 5:\n",
    "                    savaitgaliu_sk += 1\n",
    "        print()\n",
    "    \n",
    "    print(\"Savaitgali dienu skaicius:\", savaitgaliu_sk)\n",
    "\n",
    "\n",
    "kalendorius_ir_savaitgaliai(2023, 4)"
   ]
  },
  {
   "cell_type": "code",
   "execution_count": 95,
   "metadata": {},
   "outputs": [
    {
     "name": "stdout",
     "output_type": "stream",
     "text": [
      "     April 2023\n",
      "Mo Tu We Th Fr Sa Su\n",
      "                1  2\n",
      " 3  4  5  6  7  8  9\n",
      "10 11 12 13 14 15 16\n",
      "17 18 19 20 21 22 23\n",
      "24 25 26 27 28 29 30\n",
      "\n",
      "Savaitgalio dienų skaičius šiame mėnesyje: 10\n"
     ]
    }
   ],
   "source": [
    "# 2 pvz is skaidriu atsakymu\n",
    "\n",
    "import calendar\n",
    "\n",
    "def spausdinti_menesio_kalendoriu_suskaiciuojant_savaitgalius(metai, menesis):\n",
    "    print(calendar.month(metai, menesis))\n",
    "\n",
    "    _, menesio_ilgis = calendar.monthrange(metai, menesis)\n",
    "\n",
    "    savaitgalio_dienos = 0\n",
    "    for diena in range(1, menesio_ilgis + 1):\n",
    "        savaites_diena = calendar.weekday(metai, menesis, diena)\n",
    "        if savaites_diena == 5 or savaites_diena == 6:\n",
    "            savaitgalio_dienos += 1\n",
    "\n",
    "    print(f\"Savaitgalio dienų skaičius šiame mėnesyje: {savaitgalio_dienos}\")\n",
    "\n",
    "# Pavyzdys su 2023-ųjų balandžio mėnesiu\n",
    "spausdinti_menesio_kalendoriu_suskaiciuojant_savaitgalius(2023, 4)"
   ]
  },
  {
   "cell_type": "code",
   "execution_count": 102,
   "metadata": {},
   "outputs": [
    {
     "name": "stdout",
     "output_type": "stream",
     "text": [
      "     April 2023\n",
      "Mo Tu We Th Fr Sa Su\n",
      "                1  2\n",
      " 3  4  5  6  7  8  9\n",
      "10 11 12 13 14 15 16\n",
      "17 18 19 20 21 22 23\n",
      "24 25 26 27 28 29 30\n",
      "\n",
      "Savaitgalinių dienų yra \"10\" (įskaitant šiaštadienius ir sekmadienius)\n",
      "Gaila, bet šiandien nera savaitgalis\n"
     ]
    }
   ],
   "source": [
    "# 3 pvz \n",
    "\n",
    "import calendar\n",
    "\n",
    "def print_calendar_with_weekends(year, month):\n",
    "    print(calendar.month(year, month))\n",
    "\n",
    "    num_days = calendar.monthrange(year, month)[1]\n",
    "\n",
    "    num_weekends = 0\n",
    "\n",
    "    for day in range(1, num_days + 1):\n",
    "        weekday = calendar.weekday(year, month, day)\n",
    "\n",
    "        if weekday == 5 or weekday == 6:\n",
    "            num_weekends += 1\n",
    "\n",
    "    print(f'Savaitgalinių dienų yra \"{num_weekends}\" (įskaitant šiaštadienius ir sekmadienius)')\n",
    "    if weekday == 5 or weekday == 6:\n",
    "        print(f\"Gaila, bet šiandien nera savaitgalis\")\n",
    "    else:\n",
    "        print(f'šiandien yra savaitgalis')\n",
    "\n",
    "print_calendar_with_weekends(2023, 4)"
   ]
  },
  {
   "attachments": {},
   "cell_type": "markdown",
   "metadata": {},
   "source": [
    "# Išorinių bibliotekų panaudojimas\n",
    "\n",
    "Python programavimo kalba turi daug išorinių bibliotekų, kurias galite naudoti savo projektuose, kad išvengtumėte kodo dubliavimo ir pasinaudotumėte kitų kūrėjų darbu. Šios bibliotekos dažnai yra platinamos per Python Package Index (PyPI) ir gali būti įdiegtos naudojant pip - Python paketų tvarkyklę."
   ]
  },
  {
   "attachments": {},
   "cell_type": "markdown",
   "metadata": {},
   "source": [
    "# pip install, pip list\n",
    "\n",
    "Pagrindinės pip komandos yra:\n",
    "\n",
    "pip install <paketo_pavadinimas>: įdiegia paketą iš PyPI."
   ]
  },
  {
   "cell_type": "code",
   "execution_count": 103,
   "metadata": {},
   "outputs": [
    {
     "name": "stdout",
     "output_type": "stream",
     "text": [
      "Package           Version\n",
      "----------------- -------\n",
      "appnope           0.1.3\n",
      "asttokens         2.2.1\n",
      "backcall          0.2.0\n",
      "comm              0.1.3\n",
      "debugpy           1.6.7\n",
      "decorator         5.1.1\n",
      "executing         1.2.0\n",
      "ipykernel         6.22.0\n",
      "ipython           8.12.0\n",
      "jedi              0.18.2\n",
      "jupyter_client    8.1.0\n",
      "jupyter_core      5.3.0\n",
      "matplotlib-inline 0.1.6\n",
      "nest-asyncio      1.5.6\n",
      "packaging         23.1\n",
      "parso             0.8.3\n",
      "pexpect           4.8.0\n",
      "pickleshare       0.7.5\n",
      "pip               22.3.1\n",
      "platformdirs      3.2.0\n",
      "prompt-toolkit    3.0.38\n",
      "psutil            5.9.4\n",
      "ptyprocess        0.7.0\n",
      "pure-eval         0.2.2\n",
      "Pygments          2.15.0\n",
      "python-dateutil   2.8.2\n",
      "pyzmq             25.0.2\n",
      "setuptools        65.5.0\n",
      "six               1.16.0\n",
      "stack-data        0.6.2\n",
      "tornado           6.2\n",
      "traitlets         5.9.0\n",
      "wcwidth           0.2.6\n",
      "\n",
      "\u001b[1m[\u001b[0m\u001b[34;49mnotice\u001b[0m\u001b[1;39;49m]\u001b[0m\u001b[39;49m A new release of pip available: \u001b[0m\u001b[31;49m22.3.1\u001b[0m\u001b[39;49m -> \u001b[0m\u001b[32;49m23.1\u001b[0m\n",
      "\u001b[1m[\u001b[0m\u001b[34;49mnotice\u001b[0m\u001b[1;39;49m]\u001b[0m\u001b[39;49m To update, run: \u001b[0m\u001b[32;49mpip3 install --upgrade pip\u001b[0m\n",
      "Note: you may need to restart the kernel to use updated packages.\n"
     ]
    }
   ],
   "source": [
    "# pip list: rodo visus įdiegtus paketus ir jų versijas.\n",
    "\n",
    "pip list"
   ]
  },
  {
   "attachments": {},
   "cell_type": "markdown",
   "metadata": {},
   "source": [
    "# Kaip naudoti requirements.txt ir pip freeze\n",
    "\n",
    "Sukurkite virtualią aplinką ir aktyvuokite ją (jei dar neaktyvavote):"
   ]
  },
  {
   "cell_type": "code",
   "execution_count": null,
   "metadata": {},
   "outputs": [],
   "source": [
    "# python -m venv venv\n",
    "# source venv/bin/activate  # Linux/MacOS\n",
    "# venv\\Scripts\\activate     # Windows"
   ]
  },
  {
   "attachments": {},
   "cell_type": "markdown",
   "metadata": {},
   "source": [
    "# Įdiekite reikiamas išorines bibliotekas naudojant"
   ]
  },
  {
   "cell_type": "code",
   "execution_count": null,
   "metadata": {},
   "outputs": [],
   "source": [
    "pip install <paketo_pavadinimas>:"
   ]
  },
  {
   "attachments": {},
   "cell_type": "markdown",
   "metadata": {},
   "source": [
    "Po to, kai visos reikiamos bibliotekos yra įdiegtos, naudokite komandą pip freeze > requirements.txt, kad sugeneruotumėte requirements.txt failą su visomis įdiegtomis bibliotekomis ir jų versijomis:"
   ]
  },
  {
   "cell_type": "code",
   "execution_count": null,
   "metadata": {},
   "outputs": [],
   "source": [
    "pip freeze > requirements.txt"
   ]
  },
  {
   "attachments": {},
   "cell_type": "markdown",
   "metadata": {},
   "source": [
    "requirements.txt failą įtraukite į savo projekto repozitoriją, kad kitų kūrėjų ar kompiuterių būtų lengviau įdiegti visas reikiamas priklausomybes."
   ]
  },
  {
   "attachments": {},
   "cell_type": "markdown",
   "metadata": {},
   "source": [
    "# Kodėl reikalinga virtuali aplinka kiekvienam projektui?\n",
    "\n",
    "\n",
    "Virtualios aplinkos yra izoliuotos Python aplinkos, kurios leidžia atskirai valdyti kiekvieno projekto priklausomybes. Virtualios aplinkos yra naudingos dėl šių priežasčių:\n",
    "\n",
    "Izoliacija: kiekvienas projektas gali turėti savo bibliotekų versijas, be jokių konfliktų su kitais projektais.\n",
    "Tvarka: virtualios aplinkos padeda išlaikyti sistemos tvarką, kadangi bibliotekos nėra įdiegiamos globaliai.\n",
    "Perkeliamumas: virtualių aplinkų naudojimas palengvina projekto perkėlimą tarp skirtingų kompiuterių, nes priklausomybės yra aiškiai aprašytos."
   ]
  },
  {
   "attachments": {},
   "cell_type": "markdown",
   "metadata": {},
   "source": [
    "# Update biblioteku\n",
    "\n",
    "pip --upgrade (package name)"
   ]
  },
  {
   "attachments": {},
   "cell_type": "markdown",
   "metadata": {},
   "source": [
    "# Data ir laikas, formatavimas\n",
    "\n",
    "datetime yra standartinis Python modulis apimantis daugybę funkcijų ir klasių, kurios leidžia kurti, pakeisti, formatuoti ir manipuliuoti datomis ir laiku."
   ]
  },
  {
   "attachments": {},
   "cell_type": "markdown",
   "metadata": {},
   "source": [
    "# datetime klasė"
   ]
  },
  {
   "cell_type": "code",
   "execution_count": 1,
   "metadata": {},
   "outputs": [],
   "source": [
    "from datetime import datetime"
   ]
  },
  {
   "cell_type": "code",
   "execution_count": 5,
   "metadata": {},
   "outputs": [
    {
     "name": "stdout",
     "output_type": "stream",
     "text": [
      "2023-04-24 13:05:40.123456 <class 'datetime.datetime'>\n"
     ]
    }
   ],
   "source": [
    "dt = datetime(2023, 4, 24, 13, 5, 40, 123456)\n",
    "print(dt, type(dt))"
   ]
  },
  {
   "cell_type": "code",
   "execution_count": 6,
   "metadata": {},
   "outputs": [
    {
     "name": "stdout",
     "output_type": "stream",
     "text": [
      "2023-04-24 13:06:47.256955\n"
     ]
    }
   ],
   "source": [
    "dabar = datetime.now()\n",
    "\n",
    "print(dabar)"
   ]
  },
  {
   "cell_type": "code",
   "execution_count": 7,
   "metadata": {},
   "outputs": [
    {
     "name": "stdout",
     "output_type": "stream",
     "text": [
      "2023-04-24\n"
     ]
    }
   ],
   "source": [
    "from datetime import date\n",
    "siandiena = date.today()\n",
    "\n",
    "print(siandiena)"
   ]
  },
  {
   "cell_type": "code",
   "execution_count": 8,
   "metadata": {},
   "outputs": [
    {
     "name": "stdout",
     "output_type": "stream",
     "text": [
      "1991-09-19\n"
     ]
    }
   ],
   "source": [
    "mano_bd = date(1991, 9, 19)\n",
    "\n",
    "print(mano_bd)"
   ]
  },
  {
   "cell_type": "code",
   "execution_count": 9,
   "metadata": {},
   "outputs": [
    {
     "name": "stdout",
     "output_type": "stream",
     "text": [
      "11540 days, 0:00:00 <class 'datetime.timedelta'>\n"
     ]
    }
   ],
   "source": [
    "amzius = siandiena - mano_bd\n",
    "print(amzius, type(amzius))"
   ]
  },
  {
   "cell_type": "code",
   "execution_count": 10,
   "metadata": {},
   "outputs": [
    {
     "name": "stdout",
     "output_type": "stream",
     "text": [
      "31.59479808350445\n"
     ]
    }
   ],
   "source": [
    "print(amzius.days / 365.25)"
   ]
  },
  {
   "cell_type": "code",
   "execution_count": 11,
   "metadata": {},
   "outputs": [
    {
     "name": "stdout",
     "output_type": "stream",
     "text": [
      "2023-04-24 13:16:34.657093\n"
     ]
    }
   ],
   "source": [
    "from datetime import timedelta\n",
    "\n",
    "uz_penkiu_minuciu = datetime.now() + timedelta(minutes=5)\n",
    "print(uz_penkiu_minuciu)"
   ]
  },
  {
   "cell_type": "code",
   "execution_count": 12,
   "metadata": {},
   "outputs": [
    {
     "name": "stdout",
     "output_type": "stream",
     "text": [
      "1:00:00\n"
     ]
    }
   ],
   "source": [
    "valanda = timedelta(hours=1)\n",
    "print(valanda)"
   ]
  },
  {
   "cell_type": "code",
   "execution_count": 13,
   "metadata": {},
   "outputs": [
    {
     "name": "stdout",
     "output_type": "stream",
     "text": [
      "0:30:00\n"
     ]
    }
   ],
   "source": [
    "print(valanda + timedelta(minutes=-30))"
   ]
  },
  {
   "cell_type": "code",
   "execution_count": 14,
   "metadata": {},
   "outputs": [
    {
     "name": "stdout",
     "output_type": "stream",
     "text": [
      "2023 04 24 13 06 47 \n"
     ]
    }
   ],
   "source": [
    "print(dabar.strftime(\"%Y %m %d %H %M %S \"))"
   ]
  },
  {
   "cell_type": "code",
   "execution_count": 18,
   "metadata": {},
   "outputs": [
    {
     "name": "stdout",
     "output_type": "stream",
     "text": [
      "2023-04-01 00:00:00 <class 'datetime.datetime'>\n",
      "2023-04-01 <class 'datetime.date'>\n"
     ]
    }
   ],
   "source": [
    "tekstine_data = \"2023-04-01\"\n",
    "objektine_data = datetime.strptime(tekstine_data, \"%Y-%m-%d\")\n",
    "print(objektine_data, type(objektine_data))\n",
    "print(objektine_data.date(), type(objektine_data.date()))\n",
    "\n"
   ]
  },
  {
   "cell_type": "code",
   "execution_count": 19,
   "metadata": {},
   "outputs": [
    {
     "name": "stdout",
     "output_type": "stream",
     "text": [
      "Monday\n"
     ]
    }
   ],
   "source": [
    "print(dabar.strftime(\"%A\"))"
   ]
  },
  {
   "cell_type": "code",
   "execution_count": 24,
   "metadata": {},
   "outputs": [
    {
     "name": "stdout",
     "output_type": "stream",
     "text": [
      "2023-04-24 13:06:47.256955\n",
      "1682330807.256955\n"
     ]
    }
   ],
   "source": [
    "import time\n",
    "\n",
    "print(dabar)\n",
    "laiko_zyme = time.mktime(dabar.timetuple())\n",
    "laiko_zyme = float(f\"{int(laiko_zyme)}.{dabar.microsecond}\")\n",
    "print(laiko_zyme)"
   ]
  },
  {
   "cell_type": "code",
   "execution_count": 25,
   "metadata": {},
   "outputs": [
    {
     "name": "stdout",
     "output_type": "stream",
     "text": [
      "2023-04-24 13:06:47.256955\n"
     ]
    }
   ],
   "source": [
    "naujas_dabar = datetime.fromtimestamp(laiko_zyme)\n",
    "print(naujas_dabar)"
   ]
  },
  {
   "attachments": {},
   "cell_type": "markdown",
   "metadata": {},
   "source": [
    "# Užduotys\n",
    "\n",
    "# Pirma užduotis\n",
    "\n",
    "Parašykite programą, kuri pateiktų dabartinį laiką, bet tik minutes ir sekundes.\n",
    "\n"
   ]
  },
  {
   "cell_type": "code",
   "execution_count": 34,
   "metadata": {},
   "outputs": [
    {
     "name": "stdout",
     "output_type": "stream",
     "text": [
      "42:05\n"
     ]
    }
   ],
   "source": [
    "from datetime import datetime\n",
    "\n",
    "dabar = datetime.now()\n",
    "formatas = \"%M:%S\"\n",
    "\n",
    "min_sek = dabar.strftime(formatas)\n",
    "\n",
    "\n",
    "print(min_sek)\n",
    "\n"
   ]
  },
  {
   "attachments": {},
   "cell_type": "markdown",
   "metadata": {},
   "source": [
    "# Antra užduotis\n",
    "\n",
    "Sukurkite funkciją, kuri priimtų gimimo datą kaip stringą (formatu \"%Y-%m-%d\") ir grąžintų, kiek dienų liko iki jūsų gimtadienio."
   ]
  },
  {
   "cell_type": "code",
   "execution_count": 40,
   "metadata": {},
   "outputs": [
    {
     "name": "stdout",
     "output_type": "stream",
     "text": [
      "148\n"
     ]
    }
   ],
   "source": [
    "from datetime import datetime, timedelta\n",
    "\n",
    "def dienos_iki_bd(gimimo_data):\n",
    "    gimtadienis = datetime.strptime(gimimo_data, '%Y-%m-%d').date().replace(year=datetime.now().year)\n",
    "    if gimtadienis < datetime.now().date():\n",
    "        gimtadienis = gimtadienis.replace(year=gimtadienis.year + 1)\n",
    "\n",
    "    laiko_tarpas = gimtadienis - datetime.now().date()\n",
    "    return laiko_tarpas.days\n",
    "\n",
    "gimimo_data = \"1991-09-19\"\n",
    "print(dienos_iki_bd(gimimo_data))"
   ]
  },
  {
   "attachments": {},
   "cell_type": "markdown",
   "metadata": {},
   "source": [
    "# Trečia užduotis\n",
    "\n",
    "Parašykite programą, kuri priimtų datą ir laiką stringo formatu (pavyzdžiui, \"2023-05-21 15:30\"), pridėtų prie to 48 valandas ir grąžintų naują datą ir laiką stringo formatu."
   ]
  },
  {
   "cell_type": "code",
   "execution_count": 47,
   "metadata": {},
   "outputs": [
    {
     "name": "stdout",
     "output_type": "stream",
     "text": [
      "Pridejus 48 valandas bus: 2023-04-26 14:12\n"
     ]
    }
   ],
   "source": [
    "from datetime import datetime, timedelta\n",
    "\n",
    "def plius_48(data_laikas):\n",
    "    string_formatas = \"%Y-%m-%d %H:%M\"\n",
    "    date_object = datetime.strptime(data_laikas, string_formatas)\n",
    "    nauja_date_object = date_object + timedelta(hours=48)\n",
    "    nauja_data_laikas = nauja_date_object.strftime(string_formatas)\n",
    "    return nauja_data_laikas\n",
    "\n",
    "data_laikas = \"2023-04-24 14:12\"\n",
    "\n",
    "print(f\"Pridejus 48 valandas bus: {plius_48(data_laikas)}\")\n",
    "\n"
   ]
  },
  {
   "attachments": {},
   "cell_type": "markdown",
   "metadata": {},
   "source": [
    "# Ketvirta užduotis\n",
    "\n",
    "Parašykite programą, kuri priimtų du laikotarpius kaip timestamp'us ir grąžintų laikotarpių skirtumą dienomis.\n",
    "\n"
   ]
  },
  {
   "cell_type": "code",
   "execution_count": 55,
   "metadata": {},
   "outputs": [
    {
     "name": "stdout",
     "output_type": "stream",
     "text": [
      "Skirtumas dienomis: 51154\n"
     ]
    }
   ],
   "source": [
    "from datetime import datetime\n",
    "\n",
    "def dienu_skirtumas(t1, t2):\n",
    "    # Paverciam timestamp'us i datetime objektus\n",
    "    dt1 = datetime.fromtimestamp(t1)\n",
    "    dt2 = datetime.fromtimestamp(t2)\n",
    "\n",
    "     # Apskaiciuojam laikotarpio skirtuma dienomis\n",
    "    skirtumas = abs(dt2 - dt1)\n",
    "    \n",
    "    return skirtumas.days\n",
    "\n",
    "t1 = 1234567890\n",
    "t2 = 5654321789\n",
    "\n",
    "print(f\"Skirtumas dienomis: {dienu_skirtumas(t1, t2)}\")\n"
   ]
  },
  {
   "attachments": {},
   "cell_type": "markdown",
   "metadata": {},
   "source": [
    "# Penkta užduotis\n",
    "\n",
    "Sukurkite funkciją, kuri priimtų datą kaip stringą (pavyzdžiui, \"2023-06-01\") ir grąžintų, kokia savaitės diena yra ta data (pavyzdžiui, \"Pirmadienis\", \"Antradienis\" ir tt.)."
   ]
  },
  {
   "cell_type": "code",
   "execution_count": 63,
   "metadata": {},
   "outputs": [
    {
     "name": "stdout",
     "output_type": "stream",
     "text": [
      "Si data yra: Treciadienis\n"
     ]
    }
   ],
   "source": [
    "from datetime import datetime \n",
    "\n",
    "def sav_diena(data):\n",
    "    string_formatas = \"%Y-%m-%d\"\n",
    "    date_object = datetime.strptime(data, string_formatas)\n",
    "    dienos = [\"Pirmadienis\", \"Antradienis\", \"Treciadienis\", \"Ketvirtadienis\", \"Penktadienis\", \"Sestadienis\", \"Sekmadienis\"]\n",
    "    return dienos[date_object.weekday()]\n",
    "\n",
    "data = \"2024-04-24\"\n",
    "print(f\"Si data yra: {sav_diena(data)}\")\n",
    "    "
   ]
  },
  {
   "attachments": {},
   "cell_type": "markdown",
   "metadata": {},
   "source": [
    "# Laiko zonos \n",
    "\n",
    "# Aware ir Naive datos/laiko objektai\n",
    "\n",
    "Python datetime modulyje yra du pagrindiniai datos ir laiko objektų tipai - \"aware\" ir \"naive\". \"Naive\" datos ir laiko objektai neturi informacijos apie laiko zonas ar vasaros laiko taikymą, todėl jie gali būti nepatogūs esant laiko zonų pokyčiams. \"Aware\" objektai turi informaciją apie laiko zonas ir vasaros laiko taikymą.\n",
    "\n"
   ]
  },
  {
   "attachments": {},
   "cell_type": "markdown",
   "metadata": {},
   "source": [
    "# datetime.utcnow()\n",
    "\n",
    "Norėdami gauti dabartinį laiką pagal Coordinated Universal Time (UTC) laiko zoną, galite naudoti datetime.utcnow() funkciją:"
   ]
  },
  {
   "cell_type": "code",
   "execution_count": 69,
   "metadata": {},
   "outputs": [
    {
     "name": "stdout",
     "output_type": "stream",
     "text": [
      "2023-04-24 11:56:18.257633\n"
     ]
    }
   ],
   "source": [
    "from datetime import datetime\n",
    "\n",
    "utc_now = datetime.utcnow()\n",
    "print(utc_now)"
   ]
  },
  {
   "attachments": {},
   "cell_type": "markdown",
   "metadata": {},
   "source": [
    "# Laiko zonų sąrašas, zoneinfo modulis \n",
    "\n",
    "Python 3.9+ versijose yra zoneinfo modulis, leidžiantis dirbti su laiko zonomis:"
   ]
  },
  {
   "cell_type": "code",
   "execution_count": 77,
   "metadata": {},
   "outputs": [
    {
     "name": "stdout",
     "output_type": "stream",
     "text": [
      "2023-04-24 14:46:00+03:00\n"
     ]
    }
   ],
   "source": [
    "from zoneinfo import ZoneInfo\n",
    "from datetime import datetime\n",
    "\n",
    "\n",
    "\n",
    "# Sukurti \"aware\" datetime objektą su nurodyta laiko zona\n",
    "laikas = datetime(2023, 4, 24, 14, 46, tzinfo=ZoneInfo(\"Europe/Vilnius\"))\n",
    "print(laikas)\n",
    "\n"
   ]
  },
  {
   "attachments": {},
   "cell_type": "markdown",
   "metadata": {},
   "source": [
    "Galite naudoti šį modulį, kad išvestumėte sąrašą laiko zonų, kurias jis palaiko:\n",
    "\n"
   ]
  },
  {
   "cell_type": "code",
   "execution_count": 76,
   "metadata": {},
   "outputs": [
    {
     "name": "stdout",
     "output_type": "stream",
     "text": [
      "America/Creston\n",
      "Asia/Qatar\n",
      "Canada/Central\n",
      "Europe/Prague\n",
      "Asia/Damascus\n",
      "Chile/Continental\n",
      "GB\n",
      "America/Lower_Princes\n",
      "America/Santarem\n",
      "America/Merida\n",
      "Asia/Ho_Chi_Minh\n",
      "Asia/Yekaterinburg\n",
      "US/Michigan\n",
      "America/Anguilla\n",
      "Etc/GMT-0\n",
      "Antarctica/Macquarie\n",
      "Africa/Bangui\n",
      "Asia/Brunei\n",
      "Pacific/Easter\n",
      "Indian/Comoro\n",
      "Etc/GMT-8\n",
      "Pacific/Gambier\n",
      "Africa/Juba\n",
      "America/Fortaleza\n",
      "America/Indiana/Indianapolis\n",
      "America/Cayman\n",
      "Pacific/Majuro\n",
      "Pacific/Niue\n",
      "Asia/Hong_Kong\n",
      "Antarctica/Casey\n",
      "GB-Eire\n",
      "US/Hawaii\n",
      "America/St_Kitts\n",
      "GMT0\n",
      "Etc/GMT+12\n",
      "Etc/GMT+10\n",
      "America/Resolute\n",
      "Africa/Bujumbura\n",
      "Asia/Aden\n",
      "EET\n",
      "America/Guayaquil\n",
      "America/Punta_Arenas\n",
      "Universal\n",
      "America/Toronto\n",
      "Etc/GMT-13\n",
      "Etc/Zulu\n",
      "Antarctica/Syowa\n",
      "America/Detroit\n",
      "America/Montreal\n",
      "Asia/Kuala_Lumpur\n",
      "Australia/Hobart\n",
      "Australia/Yancowinna\n",
      "America/Los_Angeles\n",
      "America/Denver\n",
      "Australia/Victoria\n",
      "America/Argentina/Jujuy\n",
      "US/Central\n",
      "Asia/Kabul\n",
      "Brazil/DeNoronha\n",
      "Europe/San_Marino\n",
      "America/Martinique\n",
      "America/Guyana\n",
      "America/Mexico_City\n",
      "Europe/Lisbon\n",
      "Africa/Malabo\n",
      "Europe/Ulyanovsk\n",
      "Europe/Warsaw\n",
      "Africa/Lusaka\n",
      "Europe/Athens\n",
      "Africa/Nairobi\n",
      "MST\n",
      "Asia/Omsk\n",
      "America/Atikokan\n",
      "Africa/Blantyre\n",
      "Etc/GMT-10\n",
      "Asia/Ulaanbaatar\n",
      "Europe/Paris\n",
      "America/Indiana/Marengo\n",
      "Africa/Casablanca\n",
      "America/Miquelon\n",
      "Cuba\n",
      "Africa/Niamey\n",
      "Asia/Kathmandu\n",
      "Pacific/Efate\n",
      "America/Atka\n",
      "America/Boise\n",
      "Europe/Volgograd\n",
      "Africa/Mogadishu\n",
      "Iceland\n",
      "Europe/Riga\n",
      "Africa/Sao_Tome\n",
      "America/Cordoba\n",
      "Africa/Kinshasa\n",
      "Asia/Kamchatka\n",
      "Etc/GMT-6\n",
      "America/Argentina/Cordoba\n",
      "Asia/Aqtobe\n",
      "Europe/Guernsey\n",
      "Europe/Sofia\n",
      "Africa/Maputo\n",
      "Asia/Karachi\n",
      "Pacific/Tongatapu\n",
      "Asia/Ashkhabad\n",
      "Australia/Broken_Hill\n",
      "Antarctica/South_Pole\n",
      "Africa/Dar_es_Salaam\n",
      "Canada/Yukon\n",
      "Australia/South\n",
      "America/Whitehorse\n",
      "America/Thule\n",
      "Pacific/Enderbury\n",
      "Etc/GMT-3\n",
      "Australia/Lindeman\n",
      "Asia/Choibalsan\n",
      "Japan\n",
      "Europe/Kiev\n",
      "Chile/EasterIsland\n",
      "America/Swift_Current\n",
      "Asia/Tomsk\n",
      "Africa/Timbuktu\n",
      "Asia/Vientiane\n",
      "America/Grenada\n",
      "Asia/Oral\n",
      "Pacific/Nauru\n",
      "Egypt\n",
      "Asia/Ujung_Pandang\n",
      "Europe/Simferopol\n",
      "Etc/GMT+1\n",
      "PRC\n",
      "America/Cayenne\n",
      "Etc/Greenwich\n",
      "Europe/Kyiv\n",
      "America/Ojinaga\n",
      "Australia/Darwin\n",
      "Asia/Dubai\n",
      "US/Alaska\n",
      "Etc/GMT+4\n",
      "Factory\n",
      "GMT+0\n",
      "America/El_Salvador\n",
      "Pacific/Guadalcanal\n",
      "Africa/Khartoum\n",
      "Etc/GMT-2\n",
      "Africa/Bamako\n",
      "America/Panama\n",
      "Indian/Maldives\n",
      "Europe/London\n",
      "Brazil/West\n",
      "Eire\n",
      "America/Cuiaba\n",
      "America/Pangnirtung\n",
      "Australia/Brisbane\n",
      "America/Chihuahua\n",
      "Europe/Zurich\n",
      "Africa/Lubumbashi\n",
      "Africa/Algiers\n",
      "Asia/Bishkek\n",
      "Pacific/Midway\n",
      "CST6CDT\n",
      "Iran\n",
      "Asia/Hovd\n",
      "Etc/GMT-11\n",
      "Europe/Saratov\n",
      "Europe/Belfast\n",
      "Europe/Helsinki\n",
      "Africa/Bissau\n",
      "America/Jujuy\n",
      "Europe/Tallinn\n",
      "America/Metlakatla\n",
      "America/Hermosillo\n",
      "Mexico/BajaNorte\n",
      "Europe/Budapest\n",
      "America/Thunder_Bay\n",
      "Antarctica/McMurdo\n",
      "Asia/Dili\n",
      "Etc/GMT\n",
      "Asia/Ust-Nera\n",
      "Antarctica/Palmer\n",
      "US/Indiana-Starke\n",
      "America/Louisville\n",
      "Africa/Lome\n",
      "Europe/Chisinau\n",
      "America/Kentucky/Monticello\n",
      "Africa/Porto-Novo\n",
      "Pacific/Chatham\n",
      "America/Halifax\n",
      "Africa/Luanda\n",
      "America/Nuuk\n",
      "America/Paramaribo\n",
      "Atlantic/Reykjavik\n",
      "America/Asuncion\n",
      "Europe/Istanbul\n",
      "Asia/Tehran\n",
      "Africa/Brazzaville\n",
      "America/North_Dakota/Center\n",
      "Asia/Chungking\n",
      "America/Sitka\n",
      "America/Guadeloupe\n",
      "Europe/Gibraltar\n",
      "America/Aruba\n",
      "America/Eirunepe\n",
      "America/Mendoza\n",
      "Pacific/Pohnpei\n",
      "ROK\n",
      "America/Argentina/Ushuaia\n",
      "Pacific/Bougainville\n",
      "MET\n",
      "Asia/Chongqing\n",
      "America/Catamarca\n",
      "Africa/Ceuta\n",
      "Etc/GMT-9\n",
      "America/Glace_Bay\n",
      "America/Inuvik\n",
      "Indian/Antananarivo\n",
      "Antarctica/Troll\n",
      "Asia/Khandyga\n",
      "America/Port_of_Spain\n",
      "UTC\n",
      "America/Campo_Grande\n",
      "Canada/Newfoundland\n",
      "America/Porto_Acre\n",
      "Antarctica/Rothera\n",
      "America/Tortola\n",
      "Canada/Mountain\n",
      "Etc/GMT+5\n",
      "Pacific/Kwajalein\n",
      "America/Dominica\n",
      "America/Regina\n",
      "Asia/Krasnoyarsk\n",
      "Africa/Ndjamena\n",
      "Australia/West\n",
      "Europe/Vienna\n",
      "Asia/Kolkata\n",
      "Etc/UTC\n",
      "Turkey\n",
      "Atlantic/Faeroe\n",
      "Asia/Srednekolymsk\n",
      "America/Antigua\n",
      "America/Argentina/San_Juan\n",
      "Asia/Thimphu\n",
      "America/Yellowknife\n",
      "Asia/Dacca\n",
      "Indian/Kerguelen\n",
      "Asia/Beirut\n",
      "Asia/Novosibirsk\n",
      "Europe/Skopje\n",
      "Canada/Eastern\n",
      "Europe/Vaduz\n",
      "Pacific/Wake\n",
      "America/Kentucky/Louisville\n",
      "Asia/Kashgar\n",
      "America/Belize\n",
      "Europe/Tiraspol\n",
      "Africa/Tunis\n",
      "Pacific/Tahiti\n",
      "Asia/Urumqi\n",
      "Asia/Sakhalin\n",
      "Asia/Novokuznetsk\n",
      "Etc/GMT+9\n",
      "Arctic/Longyearbyen\n",
      "America/Santiago\n",
      "America/Yakutat\n",
      "Australia/Sydney\n",
      "America/Argentina/Rio_Gallegos\n",
      "America/Barbados\n",
      "America/La_Paz\n",
      "Canada/Saskatchewan\n",
      "America/Montserrat\n",
      "Africa/Gaborone\n",
      "EST\n",
      "Australia/LHI\n",
      "Antarctica/Mawson\n",
      "Asia/Seoul\n",
      "Asia/Saigon\n",
      "Asia/Istanbul\n",
      "Etc/GMT-12\n",
      "Jamaica\n",
      "Asia/Macao\n",
      "ROC\n",
      "Europe/Kaliningrad\n",
      "EST5EDT\n",
      "America/Manaus\n",
      "America/Havana\n",
      "America/Phoenix\n",
      "Etc/GMT-5\n",
      "America/Argentina/San_Luis\n",
      "America/Kralendijk\n",
      "America/Dawson\n",
      "America/Argentina/Catamarca\n",
      "Africa/Banjul\n",
      "Europe/Busingen\n",
      "US/Mountain\n",
      "America/Montevideo\n",
      "UCT\n",
      "Pacific/Port_Moresby\n",
      "Pacific/Auckland\n",
      "Pacific/Tarawa\n",
      "America/New_York\n",
      "Asia/Phnom_Penh\n",
      "Pacific/Samoa\n",
      "Asia/Yerevan\n",
      "Australia/Tasmania\n",
      "Europe/Sarajevo\n",
      "America/St_Vincent\n",
      "Europe/Samara\n",
      "Africa/El_Aaiun\n",
      "Zulu\n",
      "America/Indiana/Vevay\n",
      "America/Rio_Branco\n",
      "America/Argentina/La_Rioja\n",
      "Pacific/Wallis\n",
      "Europe/Minsk\n",
      "America/Fort_Nelson\n",
      "Asia/Riyadh\n",
      "Canada/Pacific\n",
      "Etc/GMT+8\n",
      "Europe/Bucharest\n",
      "Europe/Isle_of_Man\n",
      "Pacific/Galapagos\n",
      "Australia/Canberra\n",
      "Europe/Berlin\n",
      "Pacific/Kosrae\n",
      "Asia/Macau\n",
      "Africa/Dakar\n",
      "Africa/Nouakchott\n",
      "Antarctica/DumontDUrville\n",
      "Atlantic/Jan_Mayen\n",
      "America/Iqaluit\n",
      "Australia/Currie\n",
      "Asia/Pyongyang\n",
      "Europe/Malta\n",
      "Etc/Universal\n",
      "Atlantic/South_Georgia\n",
      "Asia/Katmandu\n",
      "America/Bahia_Banderas\n",
      "Africa/Ouagadougou\n",
      "Asia/Tbilisi\n",
      "Atlantic/Stanley\n",
      "Singapore\n",
      "Europe/Oslo\n",
      "Pacific/Marquesas\n",
      "Europe/Rome\n",
      "Europe/Copenhagen\n",
      "Etc/UCT\n",
      "Pacific/Noumea\n",
      "Asia/Aqtau\n",
      "Portugal\n",
      "Pacific/Chuuk\n",
      "Asia/Qostanay\n",
      "America/Juneau\n",
      "Europe/Madrid\n",
      "Asia/Taipei\n",
      "America/Tegucigalpa\n",
      "America/Indiana/Petersburg\n",
      "America/Belem\n",
      "Australia/North\n",
      "NZ-CHAT\n",
      "America/Noronha\n",
      "Europe/Bratislava\n",
      "America/Matamoros\n",
      "America/St_Lucia\n",
      "America/Fort_Wayne\n",
      "Atlantic/Cape_Verde\n",
      "Asia/Amman\n",
      "Indian/Cocos\n",
      "Africa/Monrovia\n",
      "America/Tijuana\n",
      "Africa/Libreville\n",
      "US/Pacific\n",
      "Pacific/Fakaofo\n",
      "US/Eastern\n",
      "America/Sao_Paulo\n",
      "America/Rankin_Inlet\n",
      "Asia/Gaza\n",
      "Etc/GMT0\n",
      "PST8PDT\n",
      "W-SU\n",
      "Indian/Chagos\n",
      "Europe/Brussels\n",
      "Europe/Moscow\n",
      "Pacific/Kiritimati\n",
      "America/North_Dakota/Beulah\n",
      "Antarctica/Vostok\n",
      "Asia/Harbin\n",
      "Pacific/Johnston\n",
      "America/Dawson_Creek\n",
      "Asia/Shanghai\n",
      "US/East-Indiana\n",
      "America/Monterrey\n",
      "Atlantic/Bermuda\n",
      "America/Chicago\n",
      "Europe/Mariehamn\n",
      "Africa/Windhoek\n",
      "Europe/Vilnius\n",
      "America/Santo_Domingo\n",
      "America/St_Johns\n",
      "Asia/Jayapura\n",
      "America/Rainy_River\n",
      "Asia/Hebron\n",
      "Asia/Makassar\n",
      "Africa/Douala\n",
      "Asia/Tel_Aviv\n",
      "Africa/Abidjan\n",
      "Europe/Luxembourg\n",
      "Asia/Baghdad\n",
      "Australia/Eucla\n",
      "America/Nome\n",
      "America/Indiana/Vincennes\n",
      "Europe/Astrakhan\n",
      "MST7MDT\n",
      "Asia/Almaty\n",
      "Atlantic/Madeira\n",
      "Pacific/Rarotonga\n",
      "America/Buenos_Aires\n",
      "Etc/GMT-14\n",
      "Pacific/Apia\n",
      "Africa/Asmera\n",
      "America/Argentina/Salta\n",
      "Poland\n",
      "America/Araguaina\n",
      "Brazil/East\n",
      "Asia/Ulan_Bator\n",
      "Europe/Uzhgorod\n",
      "Europe/Ljubljana\n",
      "America/Maceio\n",
      "US/Arizona\n",
      "America/Argentina/Buenos_Aires\n",
      "Etc/GMT+3\n",
      "Africa/Lagos\n",
      "America/Shiprock\n",
      "America/Ciudad_Juarez\n",
      "Pacific/Norfolk\n",
      "Africa/Harare\n",
      "Asia/Kuching\n",
      "Hongkong\n",
      "Europe/Andorra\n",
      "Pacific/Funafuti\n",
      "America/Port-au-Prince\n",
      "Europe/Vatican\n",
      "Australia/NSW\n",
      "Africa/Maseru\n",
      "Etc/GMT+7\n",
      "Pacific/Ponape\n",
      "Asia/Calcutta\n",
      "Asia/Manila\n",
      "Europe/Podgorica\n",
      "Asia/Samarkand\n",
      "Indian/Mayotte\n",
      "America/Goose_Bay\n",
      "America/Managua\n",
      "America/Moncton\n",
      "America/Lima\n",
      "Africa/Kampala\n",
      "Asia/Dhaka\n",
      "Pacific/Honolulu\n",
      "Etc/GMT+11\n",
      "Africa/Mbabane\n",
      "America/Recife\n",
      "America/Grand_Turk\n",
      "Asia/Tokyo\n",
      "Asia/Dushanbe\n",
      "Asia/Jakarta\n",
      "Etc/GMT-7\n",
      "Australia/Adelaide\n",
      "Europe/Dublin\n",
      "Australia/ACT\n",
      "Europe/Kirov\n",
      "Asia/Baku\n",
      "GMT-0\n",
      "Navajo\n",
      "Atlantic/Canary\n",
      "Asia/Qyzylorda\n",
      "Australia/Melbourne\n",
      "Africa/Addis_Ababa\n",
      "Pacific/Palau\n",
      "America/Indianapolis\n",
      "Asia/Muscat\n",
      "America/Scoresbysund\n",
      "Asia/Chita\n",
      "America/Ensenada\n",
      "America/Knox_IN\n",
      "Asia/Singapore\n",
      "WET\n",
      "Africa/Tripoli\n",
      "Asia/Vladivostok\n",
      "America/Santa_Isabel\n",
      "America/Jamaica\n",
      "America/Rosario\n",
      "Europe/Nicosia\n",
      "America/Indiana/Tell_City\n",
      "NZ\n",
      "Australia/Perth\n",
      "Pacific/Saipan\n",
      "America/Argentina/Tucuman\n",
      "Pacific/Guam\n",
      "Asia/Bahrain\n",
      "Pacific/Pitcairn\n",
      "America/Anchorage\n",
      "Asia/Atyrau\n",
      "America/Mazatlan\n",
      "Atlantic/St_Helena\n",
      "GMT\n",
      "Brazil/Acre\n",
      "America/Vancouver\n",
      "Atlantic/Faroe\n",
      "America/Blanc-Sablon\n",
      "America/North_Dakota/New_Salem\n",
      "America/Adak\n",
      "Indian/Mahe\n",
      "America/Menominee\n",
      "Asia/Colombo\n",
      "America/Argentina/ComodRivadavia\n",
      "Africa/Freetown\n",
      "Pacific/Kanton\n",
      "Asia/Ashgabat\n",
      "Africa/Accra\n",
      "Pacific/Pago_Pago\n",
      "America/Nipigon\n",
      "America/Porto_Velho\n",
      "Asia/Bangkok\n",
      "Europe/Amsterdam\n",
      "Europe/Stockholm\n",
      "US/Aleutian\n",
      "Africa/Djibouti\n",
      "Libya\n",
      "Asia/Rangoon\n",
      "Europe/Zaporozhye\n",
      "America/Guatemala\n",
      "Europe/Monaco\n",
      "Australia/Lord_Howe\n",
      "Asia/Magadan\n",
      "America/Edmonton\n",
      "America/Bahia\n",
      "Mexico/BajaSur\n",
      "America/St_Barthelemy\n",
      "America/St_Thomas\n",
      "Kwajalein\n",
      "America/Nassau\n",
      "Asia/Famagusta\n",
      "Asia/Thimbu\n",
      "Africa/Conakry\n",
      "Pacific/Yap\n",
      "Mexico/General\n",
      "Indian/Christmas\n",
      "HST\n",
      "Antarctica/Davis\n",
      "America/Bogota\n",
      "America/Coral_Harbour\n",
      "Africa/Kigali\n",
      "Etc/GMT+2\n",
      "CET\n",
      "Europe/Jersey\n",
      "Europe/Tirane\n",
      "Etc/GMT-1\n",
      "Africa/Cairo\n",
      "Pacific/Truk\n",
      "America/Danmarkshavn\n",
      "America/Boa_Vista\n",
      "Indian/Reunion\n",
      "Africa/Asmara\n",
      "Africa/Johannesburg\n",
      "Canada/Atlantic\n",
      "Asia/Kuwait\n",
      "America/Puerto_Rico\n",
      "Etc/GMT+0\n",
      "America/Virgin\n",
      "America/Cambridge_Bay\n",
      "Greenwich\n",
      "US/Samoa\n",
      "America/Winnipeg\n",
      "Asia/Tashkent\n",
      "America/Caracas\n",
      "Indian/Mauritius\n",
      "America/Godthab\n",
      "America/Indiana/Knox\n",
      "Asia/Yangon\n",
      "America/Indiana/Winamac\n",
      "Asia/Nicosia\n",
      "America/Costa_Rica\n",
      "Australia/Queensland\n",
      "Etc/GMT-4\n",
      "America/Argentina/Mendoza\n",
      "Asia/Anadyr\n",
      "Asia/Irkutsk\n",
      "Etc/GMT+6\n",
      "America/Curacao\n",
      "Asia/Pontianak\n",
      "Israel\n",
      "America/Cancun\n",
      "Pacific/Fiji\n",
      "Atlantic/Azores\n",
      "Asia/Jerusalem\n",
      "Europe/Belgrade\n",
      "Europe/Zagreb\n",
      "America/Marigot\n",
      "Asia/Yakutsk\n",
      "Asia/Barnaul\n",
      "'Asia/Barnaul'\n"
     ]
    }
   ],
   "source": [
    "from pprint import pprint\n",
    "from zoneinfo import available_timezones\n",
    "\n",
    "\n",
    "for time_zone in available_timezones():\n",
    "    print(time_zone)\n",
    "\n",
    "pprint(time_zone)"
   ]
  },
  {
   "attachments": {},
   "cell_type": "markdown",
   "metadata": {},
   "source": [
    "# datetime.tzinfo \n",
    "\n",
    "datetime.tzinfo yra abstrakti klasė, skirta laiko zonos informacijai saugoti. Galite naudoti zoneinfo modulio funkcijas, kad užpildytumėte tzinfo atributą, kai kuriate naują \"aware\" datetime objektą:"
   ]
  },
  {
   "cell_type": "code",
   "execution_count": 78,
   "metadata": {},
   "outputs": [
    {
     "name": "stdout",
     "output_type": "stream",
     "text": [
      "Europe/Vilnius\n"
     ]
    }
   ],
   "source": [
    "from datetime import datetime\n",
    "from zoneinfo import ZoneInfo\n",
    "\n",
    "laikas = datetime(2023, 4, 12, 18, 30, tzinfo=ZoneInfo(\"Europe/Vilnius\"))\n",
    "print(laikas.tzinfo)"
   ]
  },
  {
   "attachments": {},
   "cell_type": "markdown",
   "metadata": {},
   "source": [
    "# Laiko zonos nurodymas datetime.datetime objekte \n",
    "\n",
    "Norėdami nurodyti laiko zoną datetime.datetime objekte, galite naudoti replace() funkciją arba astimezone() funkciją.\n",
    "\n",
    "Pavyzdys su replace():"
   ]
  },
  {
   "cell_type": "code",
   "execution_count": 79,
   "metadata": {},
   "outputs": [
    {
     "name": "stdout",
     "output_type": "stream",
     "text": [
      "2023-04-24 15:10:08.182949+03:00\n"
     ]
    }
   ],
   "source": [
    "from datetime import datetime\n",
    "from zoneinfo import ZoneInfo\n",
    "\n",
    "utc_now = datetime.utcnow()\n",
    "vilnius_time = utc_now.replace(tzinfo=ZoneInfo(\"UTC\")).astimezone(ZoneInfo(\"Europe/Vilnius\"))\n",
    "print(vilnius_time)\n"
   ]
  },
  {
   "attachments": {},
   "cell_type": "markdown",
   "metadata": {},
   "source": [
    "Pavyzdys su astimezone():"
   ]
  },
  {
   "cell_type": "code",
   "execution_count": 80,
   "metadata": {},
   "outputs": [
    {
     "name": "stdout",
     "output_type": "stream",
     "text": [
      "2023-04-24 15:10:53.230980+03:00\n"
     ]
    }
   ],
   "source": [
    "from datetime import datetime\n",
    "from zoneinfo import ZoneInfo\n",
    "\n",
    "utc_now = datetime.utcnow().replace(tzinfo=ZoneInfo(\"UTC\"))\n",
    "vilnius_time = utc_now.astimezone(ZoneInfo(\"Europe/Vilnius\"))\n",
    "print(vilnius_time)\n",
    "\n",
    "# Abu šie pavyzdžiai pirmiausia sukuria datetime.datetime objektą, atspindintį dabartinį laiką pagal Coordinated Universal Time (UTC) laiko zoną. \n",
    "# Tada jie naudoja replace() arba astimezone() funkciją, kad pakeistų laiko zoną į \"Europe/Vilnius\" ir išvestų rezultatą ekrane."
   ]
  },
  {
   "attachments": {},
   "cell_type": "markdown",
   "metadata": {},
   "source": [
    "# Užduotys\n",
    "\n",
    "# Pirma užduotis\n",
    "\n",
    "Parašykite programą, kuri išvestų sąrašą visų laiko zonų, kurių pavadinime yra \"America\"."
   ]
  },
  {
   "cell_type": "code",
   "execution_count": 81,
   "metadata": {},
   "outputs": [
    {
     "name": "stdout",
     "output_type": "stream",
     "text": [
      "America/Creston\n",
      "America/Lower_Princes\n",
      "America/Santarem\n",
      "America/Merida\n",
      "America/Anguilla\n",
      "America/Fortaleza\n",
      "America/Indiana/Indianapolis\n",
      "America/Cayman\n",
      "America/St_Kitts\n",
      "America/Resolute\n",
      "America/Guayaquil\n",
      "America/Punta_Arenas\n",
      "America/Toronto\n",
      "America/Detroit\n",
      "America/Montreal\n",
      "America/Los_Angeles\n",
      "America/Denver\n",
      "America/Argentina/Jujuy\n",
      "America/Martinique\n",
      "America/Guyana\n",
      "America/Mexico_City\n",
      "America/Atikokan\n",
      "America/Indiana/Marengo\n",
      "America/Miquelon\n",
      "America/Atka\n",
      "America/Boise\n",
      "America/Cordoba\n",
      "America/Argentina/Cordoba\n",
      "America/Whitehorse\n",
      "America/Thule\n",
      "America/Swift_Current\n",
      "America/Grenada\n",
      "America/Cayenne\n",
      "America/Ojinaga\n",
      "America/El_Salvador\n",
      "America/Panama\n",
      "America/Cuiaba\n",
      "America/Pangnirtung\n",
      "America/Chihuahua\n",
      "America/Jujuy\n",
      "America/Metlakatla\n",
      "America/Hermosillo\n",
      "America/Thunder_Bay\n",
      "America/Louisville\n",
      "America/Kentucky/Monticello\n",
      "America/Halifax\n",
      "America/Nuuk\n",
      "America/Paramaribo\n",
      "America/Asuncion\n",
      "America/North_Dakota/Center\n",
      "America/Sitka\n",
      "America/Guadeloupe\n",
      "America/Aruba\n",
      "America/Eirunepe\n",
      "America/Mendoza\n",
      "America/Argentina/Ushuaia\n",
      "America/Catamarca\n",
      "America/Glace_Bay\n",
      "America/Inuvik\n",
      "America/Port_of_Spain\n",
      "America/Campo_Grande\n",
      "America/Porto_Acre\n",
      "America/Tortola\n",
      "America/Dominica\n",
      "America/Regina\n",
      "America/Antigua\n",
      "America/Argentina/San_Juan\n",
      "America/Yellowknife\n",
      "America/Kentucky/Louisville\n",
      "America/Belize\n",
      "America/Santiago\n",
      "America/Yakutat\n",
      "America/Argentina/Rio_Gallegos\n",
      "America/Barbados\n",
      "America/La_Paz\n",
      "America/Montserrat\n",
      "America/Manaus\n",
      "America/Havana\n",
      "America/Phoenix\n",
      "America/Argentina/San_Luis\n",
      "America/Kralendijk\n",
      "America/Dawson\n",
      "America/Argentina/Catamarca\n",
      "America/Montevideo\n",
      "America/New_York\n",
      "America/St_Vincent\n",
      "America/Indiana/Vevay\n",
      "America/Rio_Branco\n",
      "America/Argentina/La_Rioja\n",
      "America/Fort_Nelson\n",
      "America/Iqaluit\n",
      "America/Bahia_Banderas\n",
      "America/Juneau\n",
      "America/Tegucigalpa\n",
      "America/Indiana/Petersburg\n",
      "America/Belem\n",
      "America/Noronha\n",
      "America/Matamoros\n",
      "America/St_Lucia\n",
      "America/Fort_Wayne\n",
      "America/Tijuana\n",
      "America/Sao_Paulo\n",
      "America/Rankin_Inlet\n",
      "America/North_Dakota/Beulah\n",
      "America/Dawson_Creek\n",
      "America/Monterrey\n",
      "America/Chicago\n",
      "America/Santo_Domingo\n",
      "America/St_Johns\n",
      "America/Rainy_River\n",
      "America/Nome\n",
      "America/Indiana/Vincennes\n",
      "America/Buenos_Aires\n",
      "America/Argentina/Salta\n",
      "America/Araguaina\n",
      "America/Maceio\n",
      "America/Argentina/Buenos_Aires\n",
      "America/Shiprock\n",
      "America/Ciudad_Juarez\n",
      "America/Port-au-Prince\n",
      "America/Goose_Bay\n",
      "America/Managua\n",
      "America/Moncton\n",
      "America/Lima\n",
      "America/Recife\n",
      "America/Grand_Turk\n",
      "America/Indianapolis\n",
      "America/Scoresbysund\n",
      "America/Ensenada\n",
      "America/Knox_IN\n",
      "America/Santa_Isabel\n",
      "America/Jamaica\n",
      "America/Rosario\n",
      "America/Indiana/Tell_City\n",
      "America/Argentina/Tucuman\n",
      "America/Anchorage\n",
      "America/Mazatlan\n",
      "America/Vancouver\n",
      "America/Blanc-Sablon\n",
      "America/North_Dakota/New_Salem\n",
      "America/Adak\n",
      "America/Menominee\n",
      "America/Argentina/ComodRivadavia\n",
      "America/Nipigon\n",
      "America/Porto_Velho\n",
      "America/Guatemala\n",
      "America/Edmonton\n",
      "America/Bahia\n",
      "America/St_Barthelemy\n",
      "America/St_Thomas\n",
      "America/Nassau\n",
      "America/Bogota\n",
      "America/Coral_Harbour\n",
      "America/Danmarkshavn\n",
      "America/Boa_Vista\n",
      "America/Puerto_Rico\n",
      "America/Virgin\n",
      "America/Cambridge_Bay\n",
      "America/Winnipeg\n",
      "America/Caracas\n",
      "America/Godthab\n",
      "America/Indiana/Knox\n",
      "America/Indiana/Winamac\n",
      "America/Costa_Rica\n",
      "America/Argentina/Mendoza\n",
      "America/Curacao\n",
      "America/Cancun\n",
      "America/Marigot\n"
     ]
    }
   ],
   "source": [
    "from zoneinfo import available_timezones\n",
    "\n",
    "america_tz = []\n",
    "for tz in available_timezones():\n",
    "    if \"America\" in tz:\n",
    "        america_tz.append(tz)\n",
    "\n",
    "for tz2 in america_tz:\n",
    "    print(tz2)\n"
   ]
  },
  {
   "attachments": {},
   "cell_type": "markdown",
   "metadata": {},
   "source": [
    "# Antra užduotis\n",
    "\n",
    "Parašykite programą, kuri iš vartotojo paprašytų laiko HH:MM(:SS) formatu, kur sekundės nėra būtinos. Tada paprašykite įvesti laiko zoną. Išspausdinkite įvestą laiką šiomis laiko zonomis: Sydney'aus, Dubai'aus, Vilniaus, London'o, New York'o ir Los Angeles."
   ]
  },
  {
   "cell_type": "code",
   "execution_count": null,
   "metadata": {},
   "outputs": [],
   "source": []
  }
 ],
 "metadata": {
  "kernelspec": {
   "display_name": "Python 3",
   "language": "python",
   "name": "python3"
  },
  "language_info": {
   "codemirror_mode": {
    "name": "ipython",
    "version": 3
   },
   "file_extension": ".py",
   "mimetype": "text/x-python",
   "name": "python",
   "nbconvert_exporter": "python",
   "pygments_lexer": "ipython3",
   "version": "3.11.3"
  },
  "orig_nbformat": 4
 },
 "nbformat": 4,
 "nbformat_minor": 2
}
