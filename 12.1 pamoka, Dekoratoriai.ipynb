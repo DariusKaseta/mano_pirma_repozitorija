{
 "cells": [
  {
   "attachments": {},
   "cell_type": "markdown",
   "metadata": {},
   "source": [
    "# Dekoratoriai\n",
    "\n",
    "Python programavimo kalboje dekoratoriai yra aukštesnio rango funkcijos, naudojamos modifikuoti ar papildyti funkcijų ar metodų elgesį, nekeičiant jų kodo. Aukštesnio rango funkcijos yra tokios funkcijos, kurios priima kitas funkcijas kaip argumentus arba grąžina funkcijas kaip rezultatus.\n",
    "\n",
    "Dekoratoriaus deklaracija, wrapper'is\n",
    "\n",
    "Dekoratorius yra funkcija, kuri priima kitą funkciją kaip argumentą ir grąžina naują funkciją, kuri papildomai apjungia ar modifikuoja esamos funkcijos elgesį. Wrapper (apgaubianti) funkcija yra ta, kuri būna sukuriama ir grąžinama dekoratoriaus funkcijos metu.\n",
    "\n",
    "Pavyzdys:"
   ]
  },
  {
   "cell_type": "code",
   "execution_count": 3,
   "metadata": {},
   "outputs": [],
   "source": [
    "def dekoratorius(funkcija):\n",
    "    def wrapper(*args, **kwargs):\n",
    "        print(\"Prieš funkcijos iškvietimą\")\n",
    "        rezultatas = funkcija(*args, **kwargs)\n",
    "        print(\"Po funkcijos iškvietimo\")\n",
    "        return rezultatas\n",
    "    return wrapper\n",
    "\n"
   ]
  },
  {
   "cell_type": "code",
   "execution_count": 6,
   "metadata": {},
   "outputs": [],
   "source": [
    "from datetime import datetime\n",
    "def meeter_performance(func):\n",
    "    def wrapper(*args, **kwargs):\n",
    "        start = datetime.now()\n",
    "        res = func(*args, **kwargs)\n",
    "        duration = datetime.now() - start\n",
    "        print(f\"{func.__name__} took {duration} time\")\n",
    "    return wrapper"
   ]
  },
  {
   "cell_type": "code",
   "execution_count": 10,
   "metadata": {},
   "outputs": [],
   "source": [
    "@meeter_performance\n",
    "def count_down(start=10):\n",
    "    while start > 0:\n",
    "        yield start\n",
    "        start -=1\n",
    "\n"
   ]
  },
  {
   "cell_type": "code",
   "execution_count": 11,
   "metadata": {},
   "outputs": [
    {
     "name": "stdout",
     "output_type": "stream",
     "text": [
      "count_down took 0:00:00.000006 time\n"
     ]
    },
    {
     "ename": "TypeError",
     "evalue": "'NoneType' object is not an iterator",
     "output_type": "error",
     "traceback": [
      "\u001b[0;31m---------------------------------------------------------------------------\u001b[0m",
      "\u001b[0;31mTypeError\u001b[0m                                 Traceback (most recent call last)",
      "Cell \u001b[0;32mIn[11], line 2\u001b[0m\n\u001b[1;32m      1\u001b[0m timer \u001b[39m=\u001b[39m count_down(\u001b[39m10000\u001b[39m)\n\u001b[0;32m----> 2\u001b[0m \u001b[39mprint\u001b[39m(\u001b[39mnext\u001b[39;49m(timer))\n",
      "\u001b[0;31mTypeError\u001b[0m: 'NoneType' object is not an iterator"
     ]
    }
   ],
   "source": [
    "timer = count_down(10000)\n",
    "print(next(timer))"
   ]
  },
  {
   "cell_type": "code",
   "execution_count": 9,
   "metadata": {},
   "outputs": [
    {
     "ename": "TypeError",
     "evalue": "'NoneType' object is not an iterator",
     "output_type": "error",
     "traceback": [
      "\u001b[0;31m---------------------------------------------------------------------------\u001b[0m",
      "\u001b[0;31mTypeError\u001b[0m                                 Traceback (most recent call last)",
      "Cell \u001b[0;32mIn[9], line 1\u001b[0m\n\u001b[0;32m----> 1\u001b[0m \u001b[39mprint\u001b[39m(\u001b[39mnext\u001b[39;49m(timer))\n",
      "\u001b[0;31mTypeError\u001b[0m: 'NoneType' object is not an iterator"
     ]
    }
   ],
   "source": [
    "print(next(timer))"
   ]
  },
  {
   "attachments": {},
   "cell_type": "markdown",
   "metadata": {},
   "source": [
    "Dekoratoriaus pavyzdys:"
   ]
  },
  {
   "cell_type": "code",
   "execution_count": 4,
   "metadata": {},
   "outputs": [
    {
     "name": "stdout",
     "output_type": "stream",
     "text": [
      "Sveiki, Jonas!\n",
      "Atsisveikiname, Jonas!\n"
     ]
    }
   ],
   "source": [
    "def sveikinimas(funkcija):\n",
    "    def wrapper(vardas):\n",
    "        print(f\"Sveiki, {vardas}!\")\n",
    "        funkcija(vardas)\n",
    "    return wrapper\n",
    "\n",
    "@sveikinimas\n",
    "def atsisveikinimas(vardas):\n",
    "    print(f\"Atsisveikiname, {vardas}!\")\n",
    "\n",
    "atsisveikinimas(\"Jonas\")"
   ]
  },
  {
   "attachments": {},
   "cell_type": "markdown",
   "metadata": {},
   "source": [
    "Šiame pavyzdyje dekoratorius sveikinimas priima funkciją atsisveikinimas kaip argumentą ir grąžina wrapper funkciją. \"wrapper\" funkcija atspausdina sveikinimo tekstą, tada iškviečia atsisveikinimas funkciją su tuo pačiu vardu. Taigi, kai iškviečiama atsisveikinimas(\"Jonas\")."
   ]
  },
  {
   "cell_type": "code",
   "execution_count": null,
   "metadata": {},
   "outputs": [],
   "source": [
    "# Dar vienas pavyzdys:\n",
    "\n",
    "def tikrinti_teigiamus(funkcija):\n",
    "    def wrapper(*args, **kwargs):\n",
    "        if all(arg > 0 for arg in args):\n",
    "            rezultatas = funkcija(*args, **kwargs)\n",
    "        else:\n",
    "            rezultatas = \"Klaida: visi argumentai turi būti teigiami\"\n",
    "        return rezultatas\n",
    "    return wrapper\n",
    "\n",
    "@tikrinti_teigiamus\n",
    "def daugyba(x, y):\n",
    "    return x * y\n",
    "\n",
    "rezultatas1 = daugyba(3, 5)\n",
    "print(f\"Daugybos rezultatas: {rezultatas1}\")\n",
    "\n",
    "rezultatas2 = daugyba(-2, 4)\n",
    "print(f\"Daugybos rezultatas: {rezultatas2}\")"
   ]
  },
  {
   "attachments": {},
   "cell_type": "markdown",
   "metadata": {},
   "source": [
    "Šiame pavyzdyje tikrinti_teigiamus yra dekoratorius, kuris priima funkciją daugyba kaip argumentą ir grąžina wrapper funkciją. wrapper funkcija tikrina, ar visi perduoti argumentai yra teigiami. Jei taip, iškviečiama daugyba funkcija su perduotais argumentais ir grąžinamas rezultatas. Jei ne, grąžinamas klaidos pranešimas."
   ]
  },
  {
   "attachments": {},
   "cell_type": "markdown",
   "metadata": {},
   "source": [
    "# Dekoratorių pavyzdžiai Python programavimo kalboje\n",
    "\n",
    "# @property dekoratorius\n",
    "\n",
    "@property dekoratorius naudojamas apibrėžiant getter metodus klasės atributams. Jis leidžia prieiti prie funkcijos rezultato kaip prie klasės atributo, o ne kaip prie metodo."
   ]
  },
  {
   "cell_type": "code",
   "execution_count": null,
   "metadata": {},
   "outputs": [],
   "source": [
    "class Zmogus:\n",
    "    def __init__(self, vardas, pavarde):\n",
    "        self._vardas = vardas\n",
    "        self._pavarde = pavarde\n",
    "\n",
    "    @property\n",
    "    def pilnas_vardas(self):\n",
    "        return f\"{self._vardas} {self._pavarde}\""
   ]
  },
  {
   "attachments": {},
   "cell_type": "markdown",
   "metadata": {},
   "source": [
    "# @staticmethod dekoratorius\n",
    "\n",
    "@staticmethod dekoratorius leidžia apibrėžti statinius metodus klasėje. Statiniai metodai gali būti iškviesti klasės lygmeniu, nesant objekto egzemplioriaus, ir jie nepriklauso nuo objekto būsenos."
   ]
  },
  {
   "cell_type": "code",
   "execution_count": null,
   "metadata": {},
   "outputs": [],
   "source": [
    "class Matematika:\n",
    "    @staticmethod\n",
    "    def sudetis(x, y):\n",
    "        return x + y\n",
    "\n",
    "rezultatas = Matematika.sudetis(3, 5)\n",
    "print(rezultatas)"
   ]
  },
  {
   "cell_type": "code",
   "execution_count": null,
   "metadata": {},
   "outputs": [],
   "source": []
  },
  {
   "attachments": {},
   "cell_type": "markdown",
   "metadata": {},
   "source": [
    "# @classmethod dekoratorius\n",
    "\n",
    "@classmethod dekoratorius leidžia apibrėžti klasės metodus, kurie priima klasę kaip pirmąjį argumentą, vadinamą \"cls\". Klasės metodai gali būti naudojami klasės ar objekto lygmeniu."
   ]
  },
  {
   "cell_type": "code",
   "execution_count": 5,
   "metadata": {},
   "outputs": [
    {
     "name": "stdout",
     "output_type": "stream",
     "text": [
      "Toyota\n"
     ]
    }
   ],
   "source": [
    "class Automobilis:\n",
    "    _gamintojas = \"Toyota\"\n",
    "\n",
    "    @classmethod\n",
    "    def gamintojas(cls):\n",
    "        return cls._gamintojas\n",
    "\n",
    "print(Automobilis.gamintojas())"
   ]
  },
  {
   "attachments": {},
   "cell_type": "markdown",
   "metadata": {},
   "source": [
    "# ---------"
   ]
  },
  {
   "cell_type": "code",
   "execution_count": 11,
   "metadata": {},
   "outputs": [],
   "source": [
    "from functools import wraps\n",
    "def aidas (kartai: int):\n",
    "    def decorator(func):\n",
    "        @wraps(func)\n",
    "        def wrapper(*args, **kwargs):\n",
    "            result = []\n",
    "            for __ in range(kartai):\n",
    "                result.append(func(*args, **kwargs))\n",
    "            return result\n",
    "        return wrapper\n",
    "    return decorator\n"
   ]
  },
  {
   "cell_type": "code",
   "execution_count": 15,
   "metadata": {},
   "outputs": [],
   "source": [
    "@aidas(5)\n",
    "\n",
    "\n",
    "def daugyba(*args):\n",
    "    rez = 1\n",
    "    for arg in args:\n",
    "        rez *= arg\n",
    "    return rez\n"
   ]
  },
  {
   "cell_type": "code",
   "execution_count": 16,
   "metadata": {},
   "outputs": [
    {
     "name": "stdout",
     "output_type": "stream",
     "text": [
      "[6, 6, 6, 6, 6]\n"
     ]
    }
   ],
   "source": [
    "print(daugyba(2, 3))"
   ]
  },
  {
   "attachments": {},
   "cell_type": "markdown",
   "metadata": {},
   "source": [
    "# Užduotys\n",
    "\n",
    "# Pirma užduotis\n",
    "\n",
    "Sukurkite klasę Studentas su atributais vardas, pavarde ir amzius. Pridėkite tris metodus:\n",
    "\n",
    "pilnas_vardas(): Grąžina pilną studento vardą, naudojant @property dekoratorių.\n",
    "\n",
    "ar_pilnametis(): Grąžina True, jei studento amžius yra didesnis arba lygus 18, ir False, jei ne. Naudokite @staticmethod dekoratorių.\n",
    "\n",
    "sukurti_studenta(cls, vardas: str, pavarde: str, amzius: int): Grąžina naują Studentas objektą. Naudokite @classmethod dekoratorių.\n",
    "\n",
    "Sukurkite keletą studentų objektų, naudojant klasės metodą sukurti_studenta(), ir išbandykite visus metodus.\n",
    "\n"
   ]
  },
  {
   "cell_type": "code",
   "execution_count": 36,
   "metadata": {},
   "outputs": [
    {
     "name": "stdout",
     "output_type": "stream",
     "text": [
      "Ona Marija\n",
      "Darius Kaseta\n",
      "True\n",
      "True\n"
     ]
    }
   ],
   "source": [
    "class Studentas:\n",
    "    \n",
    "    def __init__ (self, vardas, pavarde, amzius):\n",
    "        self.varda = vardas\n",
    "        self.pavarde = pavarde\n",
    "        self.amzius = amzius\n",
    "    @property\n",
    "    def pilnas_vardas(self):\n",
    "        return f\"{self.varda} {self.pavarde}\"\n",
    "    @staticmethod\n",
    "    def ar_pilnametis (amzius):\n",
    "        return amzius >= 18\n",
    "    @classmethod\n",
    "    def sukurti_studentai (cls, vardas: str, pavarde: str, amzius: int):\n",
    "        return cls(vardas, pavarde, amzius)\n",
    "    \n",
    "\n",
    "studentas1 = Studentas.sukurti_studentai(\"Darius\", \"Kaseta\", 31)\n",
    "studentas2 = Studentas.sukurti_studentai(\"Ona\", \"Marija\", 20)\n",
    "\n",
    "print(studentas2.pilnas_vardas)\n",
    "print(studentas1.pilnas_vardas)\n",
    "\n",
    "print(Studentas.ar_pilnametis(studentas1.amzius))\n",
    "print(Studentas.ar_pilnametis(studentas2.amzius))\n",
    "\n"
   ]
  }
 ],
 "metadata": {
  "kernelspec": {
   "display_name": "Python 3",
   "language": "python",
   "name": "python3"
  },
  "language_info": {
   "codemirror_mode": {
    "name": "ipython",
    "version": 3
   },
   "file_extension": ".py",
   "mimetype": "text/x-python",
   "name": "python",
   "nbconvert_exporter": "python",
   "pygments_lexer": "ipython3",
   "version": "3.11.3"
  },
  "orig_nbformat": 4
 },
 "nbformat": 4,
 "nbformat_minor": 2
}
