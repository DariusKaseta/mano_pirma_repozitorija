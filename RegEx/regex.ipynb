{
 "cells": [
  {
   "cell_type": "code",
   "execution_count": 11,
   "metadata": {},
   "outputs": [
    {
     "name": "stdout",
     "output_type": "stream",
     "text": [
      "Labai\n"
     ]
    }
   ],
   "source": [
    "import re\n",
    "\n",
    "tekstas = \"Labai grazi vasaros diena.\"\n",
    "regex_get_words =re.compile(r\"\\b\\w+\\b\")\n",
    "first_words = regex_get_words.search(tekstas)\n",
    "print(first_words.group())"
   ]
  },
  {
   "cell_type": "code",
   "execution_count": 6,
   "metadata": {},
   "outputs": [
    {
     "name": "stdout",
     "output_type": "stream",
     "text": [
      "Labai\n",
      "grazi\n",
      "vasaros\n",
      "diena\n"
     ]
    }
   ],
   "source": [
    "all_words = regex_get_words.findall(tekstas)\n",
    "for word in all_words:\n",
    "    print(word)"
   ]
  },
  {
   "cell_type": "code",
   "execution_count": 9,
   "metadata": {},
   "outputs": [],
   "source": [
    "def validate_email(input):\n",
    "    email_regex = re.compile(r'^[a-zA-Z0-9._%-]+@[a-zA-Z0-9.-]+\\.[a-zA-Z]{2,6}$')\n",
    "    if email_regex.search(input):\n",
    "        return True\n",
    "    return False\n"
   ]
  },
  {
   "cell_type": "code",
   "execution_count": 10,
   "metadata": {},
   "outputs": [
    {
     "data": {
      "text/plain": [
       "True"
      ]
     },
     "execution_count": 10,
     "metadata": {},
     "output_type": "execute_result"
    }
   ],
   "source": [
    "validate_email(\"onlinewardog@gmail.com\")"
   ]
  },
  {
   "cell_type": "code",
   "execution_count": 15,
   "metadata": {},
   "outputs": [
    {
     "data": {
      "text/plain": [
       "False"
      ]
     },
     "execution_count": 15,
     "metadata": {},
     "output_type": "execute_result"
    }
   ],
   "source": [
    "validate_email(\"><123@gmail.com\")"
   ]
  },
  {
   "attachments": {},
   "cell_type": "markdown",
   "metadata": {},
   "source": [
    "# Grupavimas"
   ]
  },
  {
   "cell_type": "code",
   "execution_count": 16,
   "metadata": {},
   "outputs": [],
   "source": [
    "# Kaip gauti naudos iš grupavimo? Tarkime, turime vardų sąrašą tokiu formatu - Mr. Phil Collins. \n",
    "# Parašykime funkciją, kuri išskaido kreipinį, vardą ir pavardę:\n",
    "\n",
    "def split_names(name):\n",
    "    pattern = re.compile(r'^([A-Z]\\w{1,3}\\.)\\s([A-Z]\\w+)\\s([A-Z]\\w+)$')\n",
    "    result = pattern.search(name)\n",
    "    if result:\n",
    "        print(f'Visa eilutė: {result.group(0)}')\n",
    "        print(f'Kreipinys: {result.group(1)}')\n",
    "        print(f'Vardas: {result.group(2)}')\n",
    "        print(f'Pavardė: {result.group(3)}')\n",
    "        print('----------------------------------')\n",
    "        print(result.group())\n",
    "        print(result.groups())\n",
    "    else:\n",
    "        print('Įvestis neatitinka šablono')"
   ]
  },
  {
   "cell_type": "code",
   "execution_count": 17,
   "metadata": {},
   "outputs": [
    {
     "name": "stdout",
     "output_type": "stream",
     "text": [
      "Visa eilutė: Mr. Darius Kaseta\n",
      "Kreipinys: Mr.\n",
      "Vardas: Darius\n",
      "Pavardė: Kaseta\n",
      "----------------------------------\n",
      "Mr. Darius Kaseta\n",
      "('Mr.', 'Darius', 'Kaseta')\n"
     ]
    }
   ],
   "source": [
    "split_names(\"Mr. Darius Kaseta\")"
   ]
  },
  {
   "cell_type": "code",
   "execution_count": 21,
   "metadata": {},
   "outputs": [],
   "source": [
    "def split_names(name):\n",
    "    pattern = re.compile(r'^(?P<kreipinys>[A-Z]\\w{1,3}\\.)\\s(?P<vardas>[A-Z]\\w+)\\s(?P<pavarde>[A-Z]\\w+)$')\n",
    "    result = pattern.search(name)\n",
    "    if result:\n",
    "        print(f'Visa eilutė: {result.group(0)}')\n",
    "        print(f'Kreipinys: {result.group(1)}')\n",
    "        print(f'Vardas: {result.group(2)}')\n",
    "        print(f'Pavardė: {result.group(3)}')\n",
    "        print('----------------------------------')\n",
    "        print(result.group() == result.group(0))\n",
    "        print(result.groups())\n",
    "    else:\n",
    "        print('Įvestis neatitinka šablono')"
   ]
  },
  {
   "cell_type": "code",
   "execution_count": 24,
   "metadata": {},
   "outputs": [
    {
     "name": "stdout",
     "output_type": "stream",
     "text": [
      "Visa eilutė: Mr. Darius Kaseta\n",
      "Kreipinys: Mr.\n",
      "Vardas: Darius\n",
      "Pavardė: Kaseta\n",
      "----------------------------------\n",
      "True\n",
      "('Mr.', 'Darius', 'Kaseta')\n"
     ]
    }
   ],
   "source": [
    "split_names(\"Mr. Darius Kaseta\")"
   ]
  },
  {
   "attachments": {},
   "cell_type": "markdown",
   "metadata": {},
   "source": [
    "# .sub()\n",
    "\n",
    "RegEx galime pasitelkti ir simbolių eilučių pakeitimams. Tam naudojamas metodas re.sub():"
   ]
  },
  {
   "cell_type": "code",
   "execution_count": 32,
   "metadata": {},
   "outputs": [
    {
     "name": "stdout",
     "output_type": "stream",
     "text": [
      "card1: **** **** **** ****, card2: **** **** **** ****\n"
     ]
    }
   ],
   "source": [
    "card_number = \"card1: 0452 6544 0004 4456, card2: 1234 4567 8910 1112\"\n",
    "pattern = re.compile(r'\\b\\d{4}\\s\\d{4}\\s\\d{4}\\s\\d{4}\\b')\n",
    "res = pattern.sub('**** **** **** ****', card_number)\n",
    "print(res)"
   ]
  },
  {
   "cell_type": "code",
   "execution_count": 31,
   "metadata": {},
   "outputs": [
    {
     "name": "stdout",
     "output_type": "stream",
     "text": [
      "card1: **** **** **** **** 4456, card2: **** **** **** **** 1112\n"
     ]
    }
   ],
   "source": [
    "card_number = \"card1: 0452 6544 0004 4456, card2: 1234 4567 8910 1112\"\n",
    "pattern = re.compile(r'\\b\\d{4}\\s\\d{4}\\s\\d{4}\\s(\\d{4})\\b')\n",
    "res = pattern.sub('**** **** **** **** \\g<1>', card_number)\n",
    "print(res)"
   ]
  },
  {
   "attachments": {},
   "cell_type": "markdown",
   "metadata": {},
   "source": [
    "# Flags\n",
    "\n",
    "norėdami savo užklausoms pridėti papildomo funkcionalumo, galime naudoti flags.\n",
    "\n",
    "Iš dažniau naudojamų reikėtų paminėti šias:\n",
    "\n",
    "re.IGNORECASE arba re.I - padaro jūsų užklausą case insensitive. t.y. nekreipia dėmesio, į didžiąsias - mažąsias raides.\n",
    "re.MULTILINE arba re.M - elgiasi su jūsų tekstu kaip su daug eilučių turinčia struktūra, o ne žiūri kaip į vieną eilutę.\n",
    "*re.VERBOSE arba re.X - leidžia jums suformuoti regex užklausą per kelias eilutes su komentarais. Prideda užklausoms skaitomumo.\n",
    "flags naudojimo pavyzdžiai:"
   ]
  },
  {
   "cell_type": "code",
   "execution_count": 39,
   "metadata": {},
   "outputs": [
    {
     "name": "stdout",
     "output_type": "stream",
     "text": [
      "['Trumpas', 'tekstas']\n"
     ]
    }
   ],
   "source": [
    "# Čia turime užklausą žodžių iš t raidės. Matome, kaip pridėjus re.I, rezultate gauname žodžius iš t ir T.\n",
    "tekstas = '''Trumpas tekstas \n",
    "apie beleką'''\n",
    "pattern = re.compile(r't\\w+', flags=re.IGNORECASE)  # regex prasoma zodziu kurie prasideda tik t raide imtinai.\n",
    "res = pattern.findall(tekstas)\n",
    "print(res)"
   ]
  },
  {
   "cell_type": "code",
   "execution_count": 36,
   "metadata": {},
   "outputs": [
    {
     "name": "stdout",
     "output_type": "stream",
     "text": [
      "['Trumpas']\n",
      "['Trumpas', 'apie']\n"
     ]
    }
   ],
   "source": [
    "# re.MULTILINE:\n",
    "\n",
    "pattern = re.compile(r'^\\w+')\n",
    "res = pattern.findall(tekstas)\n",
    "\n",
    "pattern2 = re.compile(r'^\\w+', re.MULTILINE)  \n",
    "res2 = pattern2.findall(tekstas)\n",
    "\n",
    "print(res)\n",
    "print(res2)"
   ]
  },
  {
   "cell_type": "code",
   "execution_count": 42,
   "metadata": {},
   "outputs": [
    {
     "name": "stdout",
     "output_type": "stream",
     "text": [
      "('Jonas', 'Jonaitis', '+370 622 01234')\n"
     ]
    }
   ],
   "source": [
    "# re.VERBOSE:\n",
    "\n",
    "tekstas = 'Jonas Jonaitis +370 622 01234'\n",
    "pattern = re.compile(r'''\n",
    "                    ([A-Z]\\w+)              # vardas\n",
    "                    \\s                      # tarpas\n",
    "                    ([a-z]\\w+)              # pavardė\n",
    "                    \\s                      # tarpas\n",
    "                    (\\+370\\s6\\d{2}\\s\\d{5})  # telefono numeris\n",
    "                    ''', re.VERBOSE | re.IGNORECASE)\n",
    "res = pattern.search(tekstas)\n",
    "print(res.groups()) \n",
    "\n",
    "\n",
    "# atkreipkite dėmesį, šiame pavyzdyje panaudojome dvi vėliavėles - jas tarpusavyje kombinuoti leidžia '|' simbolis.\n",
    "# Apie regex reikėtų žinoti , kad:\n",
    "# Nebūna 100% veikiančių regex užklausų, arba jos būna pernelyg ilgos ir visiškai neįskaitomos. Pvz. susiraskite oficialią regex užklausą e-mail adresams:)\n",
    "# RegEx yra labai plati tema, prirašyta nemažai storų knygų. Tai ką išmokome tėra pagrindai."
   ]
  },
  {
   "attachments": {},
   "cell_type": "markdown",
   "metadata": {},
   "source": [
    "# Regex II užduotys"
   ]
  },
  {
   "cell_type": "code",
   "execution_count": 43,
   "metadata": {},
   "outputs": [],
   "source": [
    "# 1 parašykite funkciją, kuri įvestą datą (formatas dd.mm.yyyy) keistų į yyyy mm dd. Dėl datų logikos nesirūpinkite, dirbame grynai su tekstu.\n",
    "\n",
    "def year_mm_dd(data):\n",
    "    isskirstymas = data.split(\".\")\n",
    "    if len(isskirstymas) != 3:\n",
    "        return \"Netinkamas datos formatos\"\n",
    "    \n",
    "    metai = isskirstymas[2].strip()\n",
    "    menesis = isskirstymas[1].strip()\n",
    "    diena = isskirstymas[0].strip()\n",
    "    return f\"{metai} {menesis} {diena}\""
   ]
  },
  {
   "cell_type": "code",
   "execution_count": 44,
   "metadata": {},
   "outputs": [
    {
     "name": "stdout",
     "output_type": "stream",
     "text": [
      "1991 09 19\n"
     ]
    }
   ],
   "source": [
    "data = input(\"Iveskite data formatu (dd.mm.yyyy):\")\n",
    "konvertuota = year_mm_dd(data)\n",
    "print(konvertuota)"
   ]
  },
  {
   "cell_type": "code",
   "execution_count": 51,
   "metadata": {},
   "outputs": [
    {
     "name": "stdout",
     "output_type": "stream",
     "text": [
      "November 21, 2019\n",
      "December 1, 2019\n",
      "December 18, 2019\n",
      "February 28, 2020\n",
      "March 27, 2020\n",
      "April 10, 2020\n",
      "April 10, 2020\n"
     ]
    }
   ],
   "source": [
    "# Iš šio teksto atspausdinkite datų sąrašą.\n",
    "\n",
    "text = '''Workshop & Tutorial proposals: November 21, 2019\n",
    "Notification of acceptance: December 1, 2019\n",
    "Workshop & Tutorial websites online: December 18, 2019\n",
    "Workshop papers: February 28, 2020\n",
    "Workshop paper notifications: March 27, 2020\n",
    "Workshop paper camera-ready versions: April 10, 2020\n",
    "Tutorial material due (online): April 10, 2020'''\n",
    "\n",
    "regex_datos = re.findall(r\"\\b(?:(?:January|February|March|April|May|June|July|August|September|October|November|December)\\s+\\d{1,2},\\s+\\d{4})\\b\", text)\n",
    "for data in regex_datos:\n",
    "    print(data)\n",
    "\n",
    "\n",
    "\n"
   ]
  },
  {
   "cell_type": "code",
   "execution_count": 53,
   "metadata": {},
   "outputs": [
    {
     "name": "stdout",
     "output_type": "stream",
     "text": [
      "\n",
      "# 1.\n",
      "Event: Workshop & Tutorial proposals\n",
      "Date: November 21, 2019\n",
      "\n",
      "# 2.\n",
      "Event: Notification of acceptance\n",
      "Date: December 1, 2019\n",
      "\n",
      "# 3.\n",
      "Event: Workshop & Tutorial websites online\n",
      "Date: December 18, 2019\n",
      "\n",
      "# 4.\n",
      "Event: Workshop papers\n",
      "Date: February 28, 2020\n",
      "\n",
      "# 5.\n",
      "Event: Workshop paper notifications\n",
      "Date: March 27, 2020\n",
      "\n",
      "# 6.\n",
      "Event: Workshop paper camera-ready versions\n",
      "Date: April 10, 2020\n",
      "\n",
      "# 7.\n",
      "Event: Tutorial material due (online)\n",
      "Date: April 10, 2020\n"
     ]
    }
   ],
   "source": [
    "# 3 Atspausdinkite tą patį teksta taip:\n",
    "\n",
    "# 1.\n",
    "# Event: Workshop & Tutorial proposals due\n",
    "# Date: November 21, 2019\n",
    "\n",
    "# 2.\n",
    "# Event: Notification of acceptance\n",
    "# Date: December 1, 2019\n",
    "\n",
    "# ir t.t.\n",
    "\n",
    "events = re.findall(r'^(.*?): (.*?\\d{1,2}, \\d{4})$', text, re.MULTILINE)\n",
    "for i, event in enumerate(events, start=1):\n",
    "    print(f\"\\n# {i}.\")\n",
    "    print(f\"Event: {event[0]}\")\n",
    "    print(f\"Date: {event[1]}\")\n",
    "\n"
   ]
  },
  {
   "cell_type": "code",
   "execution_count": 12,
   "metadata": {},
   "outputs": [
    {
     "name": "stdout",
     "output_type": "stream",
     "text": [
      "baisūs žodžiai, tokie kaip *******, ******, **********, ***************\n"
     ]
    }
   ],
   "source": [
    "# 4 Parašykite funkciją, kuri į parametrus priimtų tekstą ir žodžių, \n",
    "# kuriuos reikia jame išcenzūruoti sąrašą. \n",
    "# Pvz, žodis \"kvaraba\" yra baisus keiksmažodis, \n",
    "# ir mums reikia duotame tekste pakeisti k*****a.\n",
    "\n",
    "# žodžių cenzūravimui naudokite regex, o jų sukeitimui tekste naudokite .replace()\\\n",
    "\n",
    "def cenzura(tekstas, *keiksmai):\n",
    "    for keiksmas in keiksmai:\n",
    "        cenzuruotas_keiksmas = \"*\" * len(keiksmas)\n",
    "        tekstas = re.sub(r'\\b' + re.escape(keiksmas) + r\"\\b\", cenzuruotas_keiksmas, tekstas)\n",
    "    return tekstas\n",
    "\n",
    "\n",
    "\n",
    "tekstas = \"baisūs žodžiai, tokie kaip kvaraba, žaltys, zalia ruta, po simts pypkiu\"\n",
    "cenzuruotas_keiksmas = cenzura(tekstas,\"kvaraba\", \"žaltys\", \"po simts pypkiu\", \"zalia ruta\")\n",
    "print(cenzuruotas_keiksmas)\n",
    "\n",
    "\n",
    "\n"
   ]
  }
 ],
 "metadata": {
  "kernelspec": {
   "display_name": ".venv",
   "language": "python",
   "name": "python3"
  },
  "language_info": {
   "codemirror_mode": {
    "name": "ipython",
    "version": 3
   },
   "file_extension": ".py",
   "mimetype": "text/x-python",
   "name": "python",
   "nbconvert_exporter": "python",
   "pygments_lexer": "ipython3",
   "version": "3.11.3"
  },
  "orig_nbformat": 4
 },
 "nbformat": 4,
 "nbformat_minor": 2
}
