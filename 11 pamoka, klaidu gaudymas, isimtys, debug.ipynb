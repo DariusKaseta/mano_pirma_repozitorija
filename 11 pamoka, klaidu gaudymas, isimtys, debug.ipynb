{
 "cells": [
  {
   "attachments": {},
   "cell_type": "markdown",
   "metadata": {},
   "source": [
    "# Klaidų gaudymas\n",
    "\n",
    "Klaidų gaudymas yra būtinas bet kokiame programavimo darbe, kad būtų galima tvarkingai apdoroti nepageidaujamus programos veikimo sutrikimus. Python kalboje klaidų gaudymas yra realizuojamas naudojant try ir except blokus.\n",
    "\n",
    "Klaidų gaudymas padeda programuotojams sukurti geresnį ir patikimesnį kodą, kadangi programos gali veikti teisingai ir sklandžiai net tuomet, kai atsiranda klaidų.\n",
    "\n",
    "try except blokas\n",
    "\n",
    "try bloke rašoma programa, kurios vykdymas gali sukelti klaidą. except bloke yra nurodomas kodas, kuris bus vykdomas, jei try blokas sukels klaidą. Pvz.:"
   ]
  },
  {
   "cell_type": "code",
   "execution_count": 2,
   "metadata": {},
   "outputs": [
    {
     "name": "stdout",
     "output_type": "stream",
     "text": [
      "klaida\n"
     ]
    }
   ],
   "source": [
    "try:\n",
    "    skaicius = 10 / 0\n",
    "except:\n",
    "    print(\"klaida\")\n",
    "else:\n",
    "    print(skaicius)"
   ]
  },
  {
   "attachments": {},
   "cell_type": "markdown",
   "metadata": {},
   "source": [
    "Galima nurodyti konkrečią klaidą except bloke (pvz. TypeError, ValueError, ZeroDivisionError ar kt.), tokiu atveju vykdymas eina į except bloką tik tada, jei try blokas sukelia nurodytą klaidą. Pvz.:"
   ]
  },
  {
   "cell_type": "code",
   "execution_count": 5,
   "metadata": {},
   "outputs": [
    {
     "name": "stdout",
     "output_type": "stream",
     "text": [
      "klaida: negalima dalinti is nulio\n"
     ]
    }
   ],
   "source": [
    "try:\n",
    "    skaicius = 10 / 0\n",
    "except ZeroDivisionError:\n",
    "    print(\"klaida: negalima dalinti is nulio\")\n",
    "else:\n",
    "    print(skaicius)"
   ]
  },
  {
   "attachments": {},
   "cell_type": "markdown",
   "metadata": {},
   "source": [
    "# Ignoruojam klaidą su except: pass\n",
    "\n",
    "Kartais nereikia daryti jokio veiksmo, kai tam tikra klaida atsiranda. Tokiu atveju galima naudoti except: pass konstrukciją, kuri tiesiog praleidžia klaidos apdorojimą ir tęsia programos vykdymą, pvz.:"
   ]
  },
  {
   "cell_type": "code",
   "execution_count": 6,
   "metadata": {},
   "outputs": [],
   "source": [
    "try:\n",
    "    skaicius = 7 / 0 \n",
    "except:\n",
    "    pass"
   ]
  },
  {
   "attachments": {},
   "cell_type": "markdown",
   "metadata": {},
   "source": [
    "Šiame pavyzdyje try blokas taip pat apima dalinimąsi iš nulio, kuris yra klaidos priežastis. Tačiau except blokas yra tuščias, nes jame yra tik pass. Tai reiškia, kad programa tiesiog praleidžia klaidos apdorojimą ir tęsia vykdymą."
   ]
  },
  {
   "attachments": {},
   "cell_type": "markdown",
   "metadata": {},
   "source": [
    "# else ir finally po try except\n",
    "\n",
    "else ir finally yra papildomos blokų konstrukcijos, kurios gali būti pritaikytos kartu su try ir except blokais.\n",
    "\n",
    "else blokas leidžia mums apibrėžti kodą, kuris bus vykdomas tik tada, kai try blokas yra sėkmingai baigtas, t.y. kai nebuvo iškelta jokių klaidų. else blokas turi būti po visų except blokų. Pvz.:"
   ]
  },
  {
   "cell_type": "code",
   "execution_count": 12,
   "metadata": {},
   "outputs": [
    {
     "name": "stdout",
     "output_type": "stream",
     "text": [
      "pabandem dalinti, pavyko False\n"
     ]
    }
   ],
   "source": [
    "try:\n",
    "    skaicius = 7 / 0\n",
    "except:\n",
    "    pavyko = True\n",
    "finally:\n",
    "    pavyko = False\n",
    "    print(f\"pabandem dalinti, pavyko? {pavyko}\")"
   ]
  },
  {
   "attachments": {},
   "cell_type": "markdown",
   "metadata": {},
   "source": [
    "finally blokas yra skirtas apibrėžti kodą, kuris bus vykdomas nepriklausomai nuo to, ar klaidos buvo iškeltos, ar ne. Tai gali būti naudinga atliekant kai kuriuos veiksmus, pvz., išvalant laikinuosius failus, atjungiant duomenų bazės ryšį ar pan."
   ]
  },
  {
   "attachments": {},
   "cell_type": "markdown",
   "metadata": {},
   "source": [
    "# Skirtingų klaidų apdorojimas vienam try kodo blokui su keliais Except\n",
    "\n",
    "Norint apdoroti skirtingas klaidas viename try bloke, galima naudoti kelis except blokus su skirtingomis klaidomis. Pvz.:"
   ]
  },
  {
   "cell_type": "code",
   "execution_count": 16,
   "metadata": {},
   "outputs": [
    {
     "name": "stdout",
     "output_type": "stream",
     "text": [
      "Netinkamas skaičiaus formatas\n"
     ]
    }
   ],
   "source": [
    "try:\n",
    "    skaicius = int(input(\"Įveskite skaičių: \"))\n",
    "    rezultatas = 10 / skaicius\n",
    "except ZeroDivisionError:\n",
    "    print(\"Negalima dalyba iš nulio\")\n",
    "except ValueError:\n",
    "    print(\"Netinkamas skaičiaus formatas\")\n",
    "except:\n",
    "    print(\"klaida\")\n",
    "else:\n",
    "    print(\"Rezultatas yra:\", rezultatas)"
   ]
  },
  {
   "attachments": {},
   "cell_type": "markdown",
   "metadata": {},
   "source": [
    "Be to, galima naudoti bendrą except bloką, kuris pagaus bet kokią klaidą, kuri nėra apdorota ankstesniuose except blokuose. Šis blokas dažniausiai naudojamas kaip pagalbinis, kad apsaugotų programą nuo neplanuoto elgesio.\n",
    "\n"
   ]
  },
  {
   "cell_type": "code",
   "execution_count": null,
   "metadata": {},
   "outputs": [],
   "source": [
    "try:\n",
    "    skaicius = int(input(\"Įveskite skaičių: \"))\n",
    "    rezultatas = 10 / skaicius\n",
    "except ZeroDivisionError:\n",
    "    print(\"Negalima dalyba iš nulio\")\n",
    "except ValueError:\n",
    "    print(\"Netinkamas skaičiaus formatas\")\n",
    "except:\n",
    "    print(\"Įvyko klaida\")\n",
    "else:\n",
    "    print(\"Rezultatas yra:\", rezultatas)\n",
    "\n",
    "\n",
    "# Kombinuojant šias konstrukcijas, galima sukurti labai galingą ir lankstų klaidų valdymo mechanizmą, \n",
    "# kuris leidžia kontroluoti programos vykdymo eigą ir užtikrinti, kad klaidos neleistų programai nulūžti arba sukeltų neplanuotą elgesį.\n",
    "\n"
   ]
  },
  {
   "attachments": {},
   "cell_type": "markdown",
   "metadata": {},
   "source": [
    "# Alternatyva: if else irgi pritaikoma\n",
    "\n",
    "Klaidų gaudymas gali būti atliekamas ir naudojant if else sąlygas. Tai yra alternatyva try except metodui. Pvz.:\n",
    "\n"
   ]
  },
  {
   "cell_type": "code",
   "execution_count": null,
   "metadata": {},
   "outputs": [],
   "source": [
    "skaicius = input(\"Įveskite skaičių: \")\n",
    "\n",
    "if skaicius.isdigit():\n",
    "    skaicius = int(skaicius)\n",
    "    if skaicius == 0:\n",
    "        print(\"Dalyba iš nulio negalima\")\n",
    "    else:\n",
    "        rezultatas = 10 / skaicius\n",
    "        print(\"Rezultatas yra:\", rezultatas)\n",
    "else:\n",
    "    print(\"Netinkamas skaičiaus formatas\")"
   ]
  },
  {
   "attachments": {},
   "cell_type": "markdown",
   "metadata": {},
   "source": [
    "Šis metodas turi privalumų ir trūkumų. Vienas privalumas yra tai, kad jis gali būti paprastesnis nei try except metodas, ypač jei norime apdoroti tik vieną klaidą. Tačiau, kai turime apdoroti daug klaidų, pavyzdžiui, jei turime apdoroti penkis skirtingus klaidų tipus, mes turime rašyti penkias atskiras sąlygas, kas gali padaryti kodą pernelyg ilgą ir neskaitomą."
   ]
  },
  {
   "attachments": {},
   "cell_type": "markdown",
   "metadata": {},
   "source": [
    "# Užduotys\n",
    "\n",
    "# Pirma užduotis\n",
    "\n",
    "Parašykite programą, kuri leidžia vartotojui įvesti du skaičius ir atspausdina jų dalmenį.\n",
    "Jei vartotojas įveda tekstą arba dalina iš nulio, programa turi sugauti klaidą ir atspausdinti klaidos pranešimą."
   ]
  },
  {
   "cell_type": "code",
   "execution_count": 21,
   "metadata": {},
   "outputs": [
    {
     "name": "stdout",
     "output_type": "stream",
     "text": [
      "netinkamas formatas\n"
     ]
    }
   ],
   "source": [
    "try:\n",
    "    skaicius = int(input(\"Iveskite skaiciu:\"))\n",
    "    skaicius2 = int(input(\"Iveskite antra skaiciu:\"))\n",
    "    rezultatas = skaicius / skaicius2\n",
    "except ZeroDivisionError:\n",
    "    print(\"dalyba negalima is nulio\")\n",
    "except ValueError:\n",
    "    print(\"netinkamas formatas\")\n",
    "except:\n",
    "    print(\"klaida\")\n",
    "else:\n",
    "    print(\"rezultatas yra:\", rezultatas)\n",
    "\n"
   ]
  },
  {
   "attachments": {},
   "cell_type": "markdown",
   "metadata": {},
   "source": [
    "# Išimtys\n",
    "\n",
    "# TypeError\n",
    "\n",
    "Viena iš klaidų, kurias gali sukelti netinkamo tipo duomenų naudojimas, yra TypeError. Pvz, kai bandome sudėti skirtingus duomenų tipus:"
   ]
  },
  {
   "cell_type": "code",
   "execution_count": 24,
   "metadata": {},
   "outputs": [
    {
     "name": "stdout",
     "output_type": "stream",
     "text": [
      "negalima sudeti skaiciu su tekstu\n"
     ]
    }
   ],
   "source": [
    "skaicius = 42\n",
    "vardas = \"Darius\"\n",
    "try:\n",
    "    print(vardas + skaicius)\n",
    "except TypeError:\n",
    "    print(\"negalima sudeti skaiciu su tekstu\")"
   ]
  },
  {
   "attachments": {},
   "cell_type": "markdown",
   "metadata": {},
   "source": [
    "Klaidos tvarkymui naudojame try ir except blokus, kurie leidžia apdoroti išimtis ir tęsti programos vykdymą:"
   ]
  },
  {
   "attachments": {},
   "cell_type": "markdown",
   "metadata": {},
   "source": [
    "# NameError\n",
    "\n",
    "Neegzistuojančio kintamojo naudojimas sukelia NameError, pvz.:\n",
    "\n"
   ]
  },
  {
   "cell_type": "code",
   "execution_count": 25,
   "metadata": {},
   "outputs": [
    {
     "name": "stdout",
     "output_type": "stream",
     "text": [
      "betkas neegzistuoja\n"
     ]
    }
   ],
   "source": [
    "try:\n",
    "    print(betkas)\n",
    "except:\n",
    "    print(\"betkas neegzistuoja\")"
   ]
  },
  {
   "attachments": {},
   "cell_type": "markdown",
   "metadata": {},
   "source": [
    "Šis kodas sukurs NameError, kadangi kintamasis b nebuvo apibrėžtas anksčiau programoje. Viena iš būdų šios klaidos tvarkymui yra naudoti try ir except blokus:\n",
    "\n"
   ]
  },
  {
   "attachments": {},
   "cell_type": "markdown",
   "metadata": {},
   "source": [
    "# IndexError sąrašams, KeyError žodynams\n",
    "\n",
    "IndexError klaidą sukelia bandymas pasiekti sąrašo elementą, kuris neegzistuoja pagal nurodytą indeksą, pvz:\n",
    "\n"
   ]
  },
  {
   "cell_type": "code",
   "execution_count": 27,
   "metadata": {},
   "outputs": [
    {
     "name": "stdout",
     "output_type": "stream",
     "text": [
      "1\n",
      "5\n",
      "7\n",
      "9\n",
      "11\n",
      "21\n",
      "sarasas baigesi\n"
     ]
    }
   ],
   "source": [
    "skaiciai = [1, 5, 7, 9, 11, 21]\n",
    "skaitliukas = 0 \n",
    "while True:\n",
    "    try:\n",
    "        print(skaiciai[skaitliukas])\n",
    "    except IndexError:\n",
    "        print(\"sarasas baigesi\")\n",
    "        break\n",
    "    skaitliukas +=1"
   ]
  },
  {
   "attachments": {},
   "cell_type": "markdown",
   "metadata": {},
   "source": [
    "# AttributeError objektams\n",
    "\n",
    "AttributeError išimtis iškyla, kai programa bando pasiekti atributą, kuris neegzistuoja objekte arba klasėje, pvz.:"
   ]
  },
  {
   "cell_type": "code",
   "execution_count": null,
   "metadata": {},
   "outputs": [],
   "source": []
  },
  {
   "attachments": {},
   "cell_type": "markdown",
   "metadata": {},
   "source": [
    "# hasattr() funkcija objekto atributo patikrinimui\n",
    "\n",
    "hasattr() funkcija leidžia patikrinti, ar objekte yra nurodytas atributas. Ji priima objekto ir atributo pavadinimą kaip argumentus ir grąžina True, jei atributas egzistuoja, ir False, jei ne. Pvz.:"
   ]
  },
  {
   "cell_type": "code",
   "execution_count": 29,
   "metadata": {},
   "outputs": [
    {
     "name": "stdout",
     "output_type": "stream",
     "text": [
      "LABAS\n"
     ]
    }
   ],
   "source": [
    "if hasattr(\"labas\", \"upper\"):\n",
    "    print(\"labas\".upper())"
   ]
  },
  {
   "attachments": {},
   "cell_type": "markdown",
   "metadata": {},
   "source": [
    "# except Exception as e bendrinė klasės objektas, jo __class__.__name__ gavimas\n",
    "\n",
    "Exception yra bendrinis try except blokas, kuris gaudys bet kokios rūšies išimtis. Tai yra naudinga, kai nenorite apibrėžti kiekvienos išimties atskirai, bet norite jas visas sugauti viename bloke.\n",
    "\n",
    "Galima keisti išimčių pavadinimus naudojant as raktažodį tam, kad sutrumpinti ilgą klaidos pavadinimą į trumpesnį arba lengviau suprantamą pavadinimą. Pavyzdžiui nurodytas kintamasis gali būti naudojamas kaip argumentas, kuriuo remiantis spausdinamas klaidos pranešimas:"
   ]
  },
  {
   "cell_type": "code",
   "execution_count": 40,
   "metadata": {},
   "outputs": [
    {
     "name": "stdout",
     "output_type": "stream",
     "text": [
      "TypeError\n",
      "unsupported operand type(s) for /: 'str' and 'int'\n",
      "2\n"
     ]
    }
   ],
   "source": [
    "try:\n",
    "    skaicius = \"a\" / 0\n",
    "except Exception as error:\n",
    "    print(error.__class__.__name__)\n",
    "    print(error.with_traceback(error.__traceback__))\n",
    "    print(error.__traceback__.tb_lineno,error.__traceback__)\n",
    "\n",
    "\n",
    "\n",
    "\n",
    "# Kai programa iškelia išimtį, galima gauti išimties klasės pavadinimą naudojant __class__.__name__.\n",
    "# Tai leidžia tiksliau identifikuoti išimtis ir atlikti reikiamus veiksmus pagal situaciją."
   ]
  },
  {
   "attachments": {},
   "cell_type": "markdown",
   "metadata": {},
   "source": [
    "# Klaidos iššaukimas\n",
    "\n",
    "Klaidos iššaukimas yra svarbi programavimo koncepcija, kuri leidžia programuotojams nurodyti, kad programa susidūrė su problema ir ją reikia nutraukti. Python programavimo kalba turi daug įvairių išimčių, kurios leidžia programuotojams iššaukti klaidas ir apdoroti jas vėliau.\n",
    "\n",
    "# Klaidos iššaukimas su raise\n",
    "\n",
    "raise komanda leidžia iškelti klaidą programos vykdymo metu. Tai yra paprasta komanda, kuri sukelia klaidą su nurodytu pranešimu. Pvz.:"
   ]
  },
  {
   "attachments": {},
   "cell_type": "markdown",
   "metadata": {},
   "source": [
    "Klaidos iššaukimas su raise Exception\n",
    "\n",
    "raise komanda gali būti naudojama su bet kokia klaidų klase, pvz.:\n",
    "\n",
    "raise Exception('Klaidos pranešimas') # Exception: Klaidos pranešimas\n",
    "Aukščiau minėtas ZeroDivisionError klaidos pavyzdys veiks ir su Exception:"
   ]
  },
  {
   "cell_type": "code",
   "execution_count": 51,
   "metadata": {},
   "outputs": [
    {
     "name": "stdout",
     "output_type": "stream",
     "text": [
      "special case\n"
     ]
    }
   ],
   "source": [
    "# class ManoKlaida(Exception):\n",
    "#     pass\n",
    "\n",
    "# raise ManoKlaida(\"Nepavyko atidaryti failo\") # __main__.ManoKlaida: Nepavyko atidaryti failo\n",
    "\n",
    "import os\n",
    "\n",
    "\n",
    "\n",
    "class FailasNerastas(FileNotFoundError):\n",
    "    kazkas = \"special case\"\n",
    "\n",
    "def print_file(path_to_file=\"failas.txt\"):\n",
    "    if not os.path.exists(path_to_file):\n",
    "         raise FailasNerastas(\"failas neegzistuoja\")\n",
    "    with open(path_to_file, \"r\") as failas:\n",
    "        print(failas.read())\n",
    "\n",
    "try:\n",
    "    print_file(\"k\")\n",
    "except FailasNerastas as e:\n",
    "    print(e.kazkas)"
   ]
  },
  {
   "attachments": {},
   "cell_type": "markdown",
   "metadata": {},
   "source": [
    "# Klaidos iššaukimas su raise ValueError\n",
    "\n",
    "raise ValueError komanda naudinga, kai reikia informuoti apie neleistiną argumentą ar reikšmę. Pvz.:"
   ]
  },
  {
   "cell_type": "code",
   "execution_count": 54,
   "metadata": {},
   "outputs": [
    {
     "name": "stdout",
     "output_type": "stream",
     "text": [
      "meilas@tenkurtu.com\n"
     ]
    }
   ],
   "source": [
    "def tikrinti_maila(emailas):\n",
    "    if not \"@\" in emailas:\n",
    "        raise ValueError(\"emeilas neteisinga!\")\n",
    "    return emailas\n",
    "\n",
    "emailas = tikrinti_maila(input(\"iveskite emeila:\"))\n",
    "print(emailas)"
   ]
  },
  {
   "attachments": {},
   "cell_type": "markdown",
   "metadata": {},
   "source": [
    "# Užduotys\n",
    "\n",
    "# Pirma užduotis\n",
    "\n",
    "Parašykite programą, kuri leistų vartotojui įvesti teigiamą skaičių.\n",
    "Programa turi sugauti galimas klaidas.\n"
   ]
  },
  {
   "cell_type": "code",
   "execution_count": 58,
   "metadata": {},
   "outputs": [
    {
     "name": "stdout",
     "output_type": "stream",
     "text": [
      "Klaida ivestas skaicius nera teigiamas\n",
      "Klaida ivestas skaicius nera teigiamas\n",
      "Klaida could not convert string to float: '/.'\n",
      "Klaida could not convert string to float: ''\n",
      "Jus ivedet teigiama skaiciu 2.0\n"
     ]
    }
   ],
   "source": [
    "while True:\n",
    "    \n",
    "    try:\n",
    "        teigiamas_sk = float(input(\"Iveskite teigiama skaiciu:\"))\n",
    "        if teigiamas_sk <= 0:\n",
    "            raise ValueError(\"ivestas skaicius nera teigiamas\")\n",
    "        else:\n",
    "            print(f\"Jus ivedet teigiama skaiciu {teigiamas_sk}\")\n",
    "        break\n",
    "    except ValueError as error:\n",
    "        print(\"Klaida\", error)\n",
    "\n",
    "\n"
   ]
  },
  {
   "attachments": {},
   "cell_type": "markdown",
   "metadata": {},
   "source": [
    "# Debuginimas\n",
    "\n",
    "Debuginimas yra svarbi programavimo įgūdžių dalis, nes padeda programuotojams surasti ir ištaisyti klaidas savo kode.\n",
    "\n",
    "VS Code debuginimo įrankiai\n",
    "\n",
    "VS Code turi įvairių įrankių, skirtų padėti programuotojams debuginimo procese, pvz \"Run and Debug\", kurį galite rasti CV Code kairiąjame meniu:"
   ]
  },
  {
   "attachments": {},
   "cell_type": "markdown",
   "metadata": {},
   "source": [
    "Debuginimui naudojami sustojimo taškai (angl. breakpoints), kurie leidžia sustabdyti programos vykdymą tam tikroje kodo vietoje, kad būtų galima tikrinti kintamųjų reikšmes, patikrinti programos būseną ar įvertinti kitus kodo elementus."
   ]
  },
  {
   "attachments": {},
   "cell_type": "markdown",
   "metadata": {},
   "source": [
    "Breakpointo sukūrimui tiesiog pasirenkame eilutę, kurioje norime sustabdyti programos vykdymą, ir įjungiame breakpointą. Spaudžiame 'Run and Debug', pasirenkame Python faila."
   ]
  },
  {
   "attachments": {},
   "cell_type": "markdown",
   "metadata": {},
   "source": [
    "Kai programa vykdoma, ji sustoja ties breakpointo eilute, leidžiant tirti kodo būseną ir kintamųjų reikšmes. Tada galime žingsnis po žingsnio vykdyti programą, stebėdami, kaip ji elgiasi."
   ]
  },
  {
   "attachments": {},
   "cell_type": "markdown",
   "metadata": {},
   "source": [
    "# print naudojimas debuginimui (caveman debug)\n",
    "\n",
    "print naudojimas debuginimui yra gana paprastas, tačiau veiksmingas būdas rasti klaidas kode. Tai dažnai vadinama \"caveman debug\", nes yra vienas iš seniausių ir paprasčiausių būdų, kaip rasti klaidas. Debuginimas daromas paprasčiausiai įterpiant print() komandas į kodą, kad būtų galima stebėti reikšmes tam tikrose vietose. Pvz.:"
   ]
  },
  {
   "attachments": {},
   "cell_type": "markdown",
   "metadata": {},
   "source": [
    "# Loginimas\n",
    "\n",
    "Loginimas yra procesas, kai informacija apie įvykius, veiksmus, klaidas ir kt. yra užrašoma į atskirą failą arba įrašoma į konsolę. Loginimas yra svarbus norint stebėti programos veikimą, nes jis leidžia sekti, ką daro programa ir kaip ji reaguoja į tam tikras situacijas.\n",
    "\n",
    "Python programavimo kalboje loginimo mechanizmas yra įgyvendintas su moduliu logging. Šis modulis leidžia pritaikyti loginimo mechanizmą pagal savo poreikius, pavyzdžiui, nustatant loginimo lygį, loginimo pranešimo formatą, loginimo tikslą ir kt.\n",
    "\n",
    "Standartinis logger iš logging"
   ]
  },
  {
   "cell_type": "code",
   "execution_count": null,
   "metadata": {},
   "outputs": [],
   "source": []
  },
  {
   "attachments": {},
   "cell_type": "markdown",
   "metadata": {},
   "source": [
    "# Pranešimų lygiai - DEBUG, INFO, WARNING, ERROR, CRITICAL\n",
    "\n",
    "Python loginimo sistemą sudaro keletas iš anksto apibrėžtų pranešimo lygių:\n",
    "\n",
    " DEBUG - naudojamas, kai reikia daugiau informacijos apie vykdymą. Tai yra aukščiausias pranešimo lygis.\n",
    " INFO - naudojamas informuoti apie normalų vykdymą ir kodą, kuris jau yra įvykdytas sėkmingai.\n",
    " WARNING - naudojamas, kai programa susiduria su problema, kuri gali turėti neigiamų padarinių, bet jos vykdymas tęsiasi.\n",
    " ERROR - naudojamas, kai programa susiduria su problema, dėl kurios negalima tęsti vykdymo.\n",
    " CRITICAL - naudojamas, kai programa susiduria su rimta klaida, kuri neleidžia programai tęsti vykdymo.\n"
   ]
  },
  {
   "attachments": {},
   "cell_type": "markdown",
   "metadata": {},
   "source": [
    "# Savo logger'io sukūrimas\n",
    "\n",
    "Vienas iš standartinio loggerio trūkumų yra tas, kad jis yra globalus ir naudojamas visam programos kodo blokui. Tai gali būti problematiška didesniuose projektuose, kai reikia tiksliai nustatyti, kur koks pranešimas turėtų būti išspausdintas.\n",
    "\n",
    "Vienas iš būdų išspręsti šią problemą yra sukurti savo logger'į. Tai leis naudoti skirtingus loggerius skirtinguose programos vietose ir nustatyti skirtingus lygius bei nustatymus. Pvz.:\n",
    "\n"
   ]
  },
  {
   "cell_type": "code",
   "execution_count": null,
   "metadata": {},
   "outputs": [],
   "source": [
    "import logging\n",
    "\n",
    "def create_logger(logger_name, log_file):\n",
    "    # Sukuriamas logger'is\n",
    "    logger = logging.getLogger(logger_name)\n",
    "    logger.setLevel(logging.DEBUG)\n",
    "    \n",
    "    # Sukuriamas log handleris, kad pranešimai būtų išsaugomi į failą\n",
    "    file_handler = logging.FileHandler(log_file)\n",
    "    file_handler.setLevel(logging.DEBUG)\n",
    "\n",
    "    # Sukuriamas formatteris, kad pranešimai būtų formatuojami pagal pageidavimą\n",
    "    formatter = logging.Formatter('%(asctime)s - %(name)s - %(levelname)s - %(message)s')\n",
    "    file_handler.setFormatter(formatter)\n",
    "\n",
    "    # Priskiriamas handleris loggeriui\n",
    "    logger.addHandler(file_handler)\n",
    "\n",
    "    return logger\n",
    "\n",
    "# Naudojimo pavyzdys\n",
    "mano_logeris = create_logger('mano_logeris', 'naujas_logeris.log')\n",
    "mano_logeris.debug('Debug pranešimas')\n",
    "mano_logeris.info('Info pranešimas')\n",
    "mano_logeris.warning('Warning pranešimas')"
   ]
  }
 ],
 "metadata": {
  "kernelspec": {
   "display_name": "Python 3",
   "language": "python",
   "name": "python3"
  },
  "language_info": {
   "codemirror_mode": {
    "name": "ipython",
    "version": 3
   },
   "file_extension": ".py",
   "mimetype": "text/x-python",
   "name": "python",
   "nbconvert_exporter": "python",
   "pygments_lexer": "ipython3",
   "version": "3.11.3"
  },
  "orig_nbformat": 4
 },
 "nbformat": 4,
 "nbformat_minor": 2
}
