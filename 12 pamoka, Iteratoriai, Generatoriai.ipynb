{
 "cells": [
  {
   "attachments": {},
   "cell_type": "markdown",
   "metadata": {},
   "source": [
    "# Iteratoriai ir Generatoriai\n",
    "\n",
    "Iteratorius yra objektas, kuris palaiko iteraciją (kartojimą) per elementus arba reikšmes.\n",
    "\n",
    "Iteratorius naudoja dviejų metodų rinkinį: iter() ir next()\n",
    "\n",
    "Pavyzdys:\n",
    "\n"
   ]
  },
  {
   "cell_type": "code",
   "execution_count": 14,
   "metadata": {},
   "outputs": [
    {
     "name": "stdout",
     "output_type": "stream",
     "text": [
      "1\n",
      "2\n",
      "3\n",
      "4\n",
      "5\n",
      "Baigta iteracija\n"
     ]
    }
   ],
   "source": [
    "# Sukuriame sąrašą\n",
    "my_list = [1, 2, 3, 4, 5]\n",
    "\n",
    "# Sukuriame iteratoriaus objektą\n",
    "my_iterator = iter(my_list)\n",
    "\n",
    "# Iteruojame per iteratoriaus elementus su next() metodu\n",
    "try:\n",
    "    print(next(my_iterator)) # 1\n",
    "    print(next(my_iterator)) # 2\n",
    "    print(next(my_iterator)) # 3\n",
    "    print(next(my_iterator)) # 4\n",
    "    print(next(my_iterator)) # 5\n",
    "    print(next(my_iterator)) # sukels StopIteration išimtį\n",
    "except StopIteration:\n",
    "    print(\"Baigta iteracija\")"
   ]
  },
  {
   "attachments": {},
   "cell_type": "markdown",
   "metadata": {},
   "source": [
    "Šioje programoje mes sukūrėme sąrašą \"my_list\", o tada sukūrėme iteratoriaus objektą \"my_iterator\" naudojant iter() metodą. Tada mes iteruojame per iteratoriaus elementus su next() metodu, išvedame kiekvieną elementą ir naudojame try-except bloką, kad apdorotume StopIteration išimtį, kuri yra iškeliama, kai bandome iteruoti daugiau elementų, nei yra.\n",
    "\n"
   ]
  },
  {
   "cell_type": "code",
   "execution_count": 17,
   "metadata": {},
   "outputs": [
    {
     "name": "stdout",
     "output_type": "stream",
     "text": [
      "[9, 8, 7, 6, 5, 4, 3, 2, 1, 0]\n"
     ]
    }
   ],
   "source": [
    "skaicisi = sorted(range(0, 10), reverse=True)\n",
    "print(skaicisi)"
   ]
  },
  {
   "cell_type": "code",
   "execution_count": 19,
   "metadata": {},
   "outputs": [
    {
     "name": "stdout",
     "output_type": "stream",
     "text": [
      "9\n",
      "8\n",
      "7\n",
      "6\n",
      "5\n",
      "4\n",
      "3\n",
      "2\n",
      "1\n",
      "0\n",
      "Lift off\n",
      "boom!\n"
     ]
    }
   ],
   "source": [
    "import time\n",
    "countdown = iter(skaicisi)\n",
    "while True:\n",
    "    try:\n",
    "        print(next(countdown))\n",
    "        time.sleep(0.2)\n",
    "    except StopIteration:\n",
    "        print(\"Lift off\")\n",
    "        break\n",
    "time.sleep(1)\n",
    "print(\"boom!\")"
   ]
  },
  {
   "attachments": {},
   "cell_type": "markdown",
   "metadata": {},
   "source": [
    "# Iteravimas su for ciklu\n",
    "\n",
    "for ciklas automatiškai kviečia iter() metodą, kad gautų iteratoriaus objektą, ir tada kviečia next() metodą, kad gautų kiekvieną reikšmę iš iteratoriaus sekos.\n",
    "\n",
    "Sukurkime sąrašą ir iteruokime per jį su for ciklu:"
   ]
  },
  {
   "cell_type": "code",
   "execution_count": 13,
   "metadata": {},
   "outputs": [
    {
     "name": "stdout",
     "output_type": "stream",
     "text": [
      "1\n",
      "2\n",
      "3\n",
      "4\n",
      "5\n",
      "A 1\n",
      "B 2\n",
      "C 3\n",
      "L\n",
      "a\n",
      "b\n",
      "a\n",
      "s\n",
      ",\n",
      " \n",
      "p\n",
      "a\n",
      "s\n",
      "a\n",
      "u\n",
      "l\n",
      "i\n",
      "!\n"
     ]
    }
   ],
   "source": [
    "# Sukuriame sąrašą\n",
    "mano_sarasas = [1, 2, 3, 4, 5]\n",
    "\n",
    "# Iteruojame per sąrašą su for ciklu\n",
    "for elementas in mano_sarasas:\n",
    "    print(elementas)\n",
    "# Sukuriame žodyną\n",
    "mano_zodynas = {\"A\": 1, \"B\": 2, \"C\": 3}\n",
    "\n",
    "# Iteruojame per žodyno raktus ir reikšmes su for ciklu\n",
    "for raktas, reiksme in mano_zodynas.items():\n",
    "    print(raktas, reiksme)\n",
    "# Sukuriame tekstinę eilutę\n",
    "eilute = \"Labas, pasauli!\"\n",
    "\n",
    "# Iteruojame per eilutės simbolius su for ciklu\n",
    "for simbolis in eilute:\n",
    "    print(simbolis)"
   ]
  },
  {
   "attachments": {},
   "cell_type": "markdown",
   "metadata": {},
   "source": [
    "Kaip galite pastebėti, for ciklas yra patogus būdas iteruoti per iteratoriaus elementus, nes jis automatiškai kviečia iter() ir next() metodus."
   ]
  },
  {
   "attachments": {},
   "cell_type": "markdown",
   "metadata": {},
   "source": [
    "# Iteravimas su while ciklu\n",
    "\n",
    "while ciklas naudoja next() metodą, kad gautų kiekvieną reikšmę iš iteratoriaus sekos, ir tada apdoroja reikšmes, kol yra sukeliama StopIteration išimtis.\n",
    "\n",
    "Sukurkime sąrašą ir iteruokime per jį su while ciklu:"
   ]
  },
  {
   "cell_type": "code",
   "execution_count": 12,
   "metadata": {},
   "outputs": [
    {
     "name": "stdout",
     "output_type": "stream",
     "text": [
      "1\n",
      "2\n",
      "3\n",
      "4\n",
      "5\n"
     ]
    }
   ],
   "source": [
    "# Sukuriame sąrašą\n",
    "mano_sarasas = [1, 2, 3, 4, 5]\n",
    "\n",
    "# Sukuriame iteratoriaus objektą\n",
    "mano_iteratorius = iter(mano_sarasas)\n",
    "\n",
    "# Iteruojame per iteratoriaus elementus su while ciklu\n",
    "while True:\n",
    "    try:\n",
    "        elementas = next(mano_iteratorius)\n",
    "        print(elementas)\n",
    "    except StopIteration:\n",
    "        break"
   ]
  },
  {
   "attachments": {},
   "cell_type": "markdown",
   "metadata": {},
   "source": [
    "Sukurkime žodyną ir iteruokime per jo raktus ir reikšmes su while ciklu:"
   ]
  },
  {
   "cell_type": "code",
   "execution_count": 11,
   "metadata": {},
   "outputs": [
    {
     "name": "stdout",
     "output_type": "stream",
     "text": [
      "A 1\n",
      "B 2\n",
      "C 3\n"
     ]
    }
   ],
   "source": [
    "# Sukuriame žodyną\n",
    "mano_zodynas = {\"A\": 1, \"B\": 2, \"C\": 3}\n",
    "\n",
    "# Sukuriame iteratoriaus objektą\n",
    "mano_iteratorius = iter(mano_zodynas.items())\n",
    "\n",
    "# Iteruojame per iteratoriaus elementus su while ciklu\n",
    "while True:\n",
    "    try:\n",
    "        raktas, reiksme = next(mano_iteratorius)\n",
    "        print(raktas, reiksme)\n",
    "    except StopIteration:\n",
    "        break"
   ]
  },
  {
   "attachments": {},
   "cell_type": "markdown",
   "metadata": {},
   "source": [
    "Sukurkime tekstinę eilutę ir iteruokime per jos simbolius su while ciklu:\n"
   ]
  },
  {
   "cell_type": "code",
   "execution_count": 10,
   "metadata": {},
   "outputs": [
    {
     "name": "stdout",
     "output_type": "stream",
     "text": [
      "L\n",
      "a\n",
      "b\n",
      "a\n",
      "s\n",
      ",\n",
      " \n",
      "p\n",
      "a\n",
      "s\n",
      "a\n",
      "u\n",
      "l\n",
      "i\n",
      "!\n"
     ]
    }
   ],
   "source": [
    "\n",
    "# Sukuriame tekstinę eilutę\n",
    "eilute = \"Labas, pasauli!\"\n",
    "\n",
    "# Sukuriame iteratoriaus objektą\n",
    "eilutes_iteratorius = iter(eilute)\n",
    "\n",
    "# Iteruojame per iteratoriaus elementus su while ciklu\n",
    "while True:\n",
    "    try:\n",
    "        simbolis = next(eilutes_iteratorius)\n",
    "        print(simbolis)\n",
    "    except StopIteration:\n",
    "        break"
   ]
  },
  {
   "attachments": {},
   "cell_type": "markdown",
   "metadata": {},
   "source": [
    "# Generatoriai\n",
    "\n",
    "Generatoriai yra specialūs Python objektai, kurie leidžia efektyviau atlikti iteracijas.\n",
    "\n",
    "# Generatoriaus funkcija su yield\n",
    "\n",
    "Generatoriaus funkcijos yra funkcijos, kurios naudoja yield sakinį vietoj return. yield leidžia funkcijai grąžinti vertę ir užšaldyti jos vykdymą, kol bus vėl iškviesta.\n",
    "\n",
    "Pavyzdys:\n",
    "\n"
   ]
  },
  {
   "cell_type": "code",
   "execution_count": 9,
   "metadata": {},
   "outputs": [
    {
     "name": "stdout",
     "output_type": "stream",
     "text": [
      "0\n",
      "1\n",
      "2\n",
      "3\n",
      "4\n",
      "5\n",
      "6\n",
      "7\n",
      "8\n",
      "9\n"
     ]
    }
   ],
   "source": [
    "def skaiciai_iki_n(n):\n",
    "    i = 0\n",
    "    while i < n:\n",
    "        yield i\n",
    "        i += 1\n",
    "\n",
    "# Sukuriamas generatorius, kuris generuoja skaičius nuo 0 iki 9\n",
    "generatorius = skaiciai_iki_n(10)\n",
    "\n",
    "for skaicius in generatorius:\n",
    "    print(skaicius)"
   ]
  },
  {
   "cell_type": "code",
   "execution_count": 49,
   "metadata": {},
   "outputs": [
    {
     "name": "stdout",
     "output_type": "stream",
     "text": [
      "10\n",
      "9\n",
      "8\n",
      "7\n",
      "6\n",
      "5\n",
      "4\n",
      "3\n",
      "2\n",
      "1\n"
     ]
    }
   ],
   "source": [
    "def count_down(start=10):\n",
    "    while start > 0:\n",
    "        yield start\n",
    "        start -=1\n",
    "\n",
    "final_countdown = count_down()\n",
    "for skaicius in final_countdown:\n",
    "    print(skaicius)\n"
   ]
  },
  {
   "cell_type": "code",
   "execution_count": 60,
   "metadata": {},
   "outputs": [
    {
     "name": "stdout",
     "output_type": "stream",
     "text": [
      "10\n"
     ]
    }
   ],
   "source": [
    "manual_countdown = count_down()\n",
    "print(next(manual_countdown))"
   ]
  },
  {
   "cell_type": "code",
   "execution_count": 64,
   "metadata": {},
   "outputs": [
    {
     "name": "stdout",
     "output_type": "stream",
     "text": [
      "6\n"
     ]
    }
   ],
   "source": [
    "print(next(manual_countdown))"
   ]
  },
  {
   "attachments": {},
   "cell_type": "markdown",
   "metadata": {},
   "source": [
    "# Generatorius su next()\n",
    "\n",
    "Pavyzdys:"
   ]
  },
  {
   "cell_type": "code",
   "execution_count": null,
   "metadata": {},
   "outputs": [],
   "source": [
    "def skaiciai_iki_n(n):\n",
    "    i = 0\n",
    "    while i < n:\n",
    "        yield i\n",
    "        i += 1\n",
    "\n",
    "generatorius = skaiciai_iki_n(3)\n",
    "\n",
    "print(next(generatorius))  # 0\n",
    "print(next(generatorius))  # 1\n",
    "print(next(generatorius))  # 2\n",
    "print(next(generatorius))  # Sukels StopIteration klaidą\n"
   ]
  },
  {
   "attachments": {},
   "cell_type": "markdown",
   "metadata": {},
   "source": [
    "next() funkcija leidžia gauti sekantį elementą iš generatoriaus. Jei generatorius baigė generuoti visas vertes, next() išmes StopIteration klaidą."
   ]
  },
  {
   "cell_type": "code",
   "execution_count": 82,
   "metadata": {},
   "outputs": [
    {
     "name": "stdout",
     "output_type": "stream",
     "text": [
      "10\n"
     ]
    }
   ],
   "source": [
    "skaiciai = (x for x in range(10, 1, -1))\n",
    "print(next(skaiciai))"
   ]
  },
  {
   "cell_type": "code",
   "execution_count": 81,
   "metadata": {},
   "outputs": [
    {
     "name": "stdout",
     "output_type": "stream",
     "text": [
      "3\n"
     ]
    }
   ],
   "source": [
    "print(next(skaiciai))"
   ]
  },
  {
   "attachments": {},
   "cell_type": "markdown",
   "metadata": {},
   "source": [
    "# Generatoriaus deklaracija su ()\n",
    "\n",
    "Galite deklaruoti generatorių naudodami generatoriaus išraišką, kuri yra panaši į sąrašo išraišką (list comprehension), bet naudojate () vietoj [].\n",
    "\n",
    "Pavyzdys:\n",
    "\n"
   ]
  },
  {
   "cell_type": "code",
   "execution_count": 3,
   "metadata": {},
   "outputs": [
    {
     "name": "stdout",
     "output_type": "stream",
     "text": [
      "0\n",
      "1\n",
      "2\n",
      "3\n",
      "4\n",
      "5\n",
      "6\n",
      "7\n",
      "8\n",
      "9\n"
     ]
    }
   ],
   "source": [
    "skaiciai = (x for x in range(10))\n",
    "\n",
    "for skaicius in skaiciai:\n",
    "    print(skaicius)"
   ]
  },
  {
   "attachments": {},
   "cell_type": "markdown",
   "metadata": {},
   "source": [
    "# Užduotys\n",
    "\n",
    "# Pirma užduotis\n",
    "\n",
    "Sukurkite iteratorių, kuris iteruoja per pateiktą sąrašą ir atspausdina visus lyginius skaičius."
   ]
  },
  {
   "cell_type": "code",
   "execution_count": 31,
   "metadata": {},
   "outputs": [
    {
     "name": "stdout",
     "output_type": "stream",
     "text": [
      "2\n",
      "8\n",
      "22\n",
      "10\n",
      "-2\n",
      "0\n",
      "50\n",
      "Jusu skaiciai\n"
     ]
    }
   ],
   "source": [
    "skaiciai = [3, 5, 11, 2, 5, 7, 8, 19, 22, 10, -2, 0, 50]\n",
    "\n",
    "iteruotas_sarasas = iter(skaiciai)\n",
    "\n",
    "while True:\n",
    "    try:\n",
    "        num = next(iteruotas_sarasas)\n",
    "        if num % 2 == 0:\n",
    "            print(num)\n",
    "    except StopIteration:\n",
    "        print(\"Jusu skaiciai\")\n",
    "        break"
   ]
  },
  {
   "attachments": {},
   "cell_type": "markdown",
   "metadata": {},
   "source": [
    "# Antra užduotis\n",
    "\n",
    "Iteruokite per žodyną, kurio raktai yra raidės, o reikšmės yra skaičiai, ir atspausdinkite tik tas raides, kurių reikšmės yra didesnės nei 4.\n",
    "\n"
   ]
  },
  {
   "cell_type": "code",
   "execution_count": 29,
   "metadata": {},
   "outputs": [
    {
     "name": "stdout",
     "output_type": "stream",
     "text": [
      "U\n",
      "S\n"
     ]
    }
   ],
   "source": [
    "zodynas = {\"D\": 1, \"A\": 2, \"R\": 3, \"I\": 4, \"U\": 5, \"S\": 6}\n",
    "\n",
    "iter_zodynas = iter(zodynas.items())\n",
    "\n",
    "while True:\n",
    "    try:\n",
    "        key, value = next(iter_zodynas)\n",
    "        if value > 4:\n",
    "            print(key)\n",
    "    except StopIteration:\n",
    "        break\n"
   ]
  },
  {
   "attachments": {},
   "cell_type": "markdown",
   "metadata": {},
   "source": [
    "# Trečia užduotis\n",
    "\n",
    "Parašykite programą, kuri naudoja generatorių, generuojantį kiekvieno žodžio ilgį iš teksto."
   ]
  },
  {
   "cell_type": "code",
   "execution_count": 2,
   "metadata": {},
   "outputs": [
    {
     "name": "stdout",
     "output_type": "stream",
     "text": [
      "5\n",
      "6\n",
      "9\n",
      "3\n",
      "7\n",
      "6\n"
     ]
    }
   ],
   "source": [
    "tekstas = \"Labas rytas, siandiena yra sauleta diena!\"\n",
    "\n",
    "ilgis_zodziu = (len(zodis) for zodis in tekstas.split())\n",
    "\n",
    "for ilgis in ilgis_zodziu:\n",
    "    print(ilgis)\n",
    "\n"
   ]
  },
  {
   "attachments": {},
   "cell_type": "markdown",
   "metadata": {},
   "source": [
    "# Ketvirta užduotis\n",
    "\n",
    "Sukurkite generatorių, kuris generuoja visus pirminius skaičius iki nurodyto skaičiaus n.\n",
    "\n"
   ]
  },
  {
   "cell_type": "code",
   "execution_count": 5,
   "metadata": {},
   "outputs": [
    {
     "name": "stdout",
     "output_type": "stream",
     "text": [
      "[]\n"
     ]
    }
   ],
   "source": [
    "def pirminiai(n):\n",
    "    for skaicius in range(2, n):\n",
    "        pirminis = True\n",
    "        for daliklis in range(2, skaicius):\n",
    "            if skaicius % daliklis == 0:\n",
    "                pirminis = False\n",
    "                break\n",
    "\n",
    "        if pirminis:\n",
    "            yield skaicius\n",
    " \n",
    "print(list(pirminiai(2)))\n",
    "\n",
    "   \n"
   ]
  }
 ],
 "metadata": {
  "kernelspec": {
   "display_name": "Python 3",
   "language": "python",
   "name": "python3"
  },
  "language_info": {
   "codemirror_mode": {
    "name": "ipython",
    "version": 3
   },
   "file_extension": ".py",
   "mimetype": "text/x-python",
   "name": "python",
   "nbconvert_exporter": "python",
   "pygments_lexer": "ipython3",
   "version": "3.11.3"
  },
  "orig_nbformat": 4
 },
 "nbformat": 4,
 "nbformat_minor": 2
}
