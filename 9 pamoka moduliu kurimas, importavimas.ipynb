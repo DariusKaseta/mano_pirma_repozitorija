{
 "cells": [
  {
   "attachments": {},
   "cell_type": "markdown",
   "metadata": {},
   "source": [
    "# Modulių kūrimas, importavimas\n",
    "\n",
    "Modulis yra Python programavimo kalbos sąvoka, apibūdinanti vieną failą, kuriame yra Python kodas. Moduliai padeda organizuoti ir suskirstyti kodą į atskiras dalis pagal funkcionalumą, kad jis būtų lengviau suprantamas ir tvarkingas.\n",
    "\n",
    "Tereikia sukurti naują Python failą (su .py plėtiniu) ir parašyti kodą jame. Pvz., sukūrę failą pavadinimu mano_modulis.py, mes sukuriame naują modulį, vadinamą mano_modulis.\n",
    "\n",
    "Pavyzdys:\n",
    "\n",
    "mano_modulis.py:"
   ]
  },
  {
   "cell_type": "code",
   "execution_count": 1,
   "metadata": {},
   "outputs": [],
   "source": [
    "def pasisveikinti(vardas):\n",
    "    return f\"Sveikas, {vardas}!\"\n",
    "\n",
    "def sudetis(x, y):\n",
    "    return x + y\n",
    "\n",
    "class ManoKlase:\n",
    "    def __init__(self, x):\n",
    "        self.x = x\n",
    "\n",
    "    def kvadratas(self):\n",
    "        return self.x ** 2\n",
    "    \n",
    "    # Šiame pavyzdyje mes sukūrėme modulį mano_modulis, kuriame yra funkcijos pasisveikinti ir sudetis, taip pat klasė ManoKlase. \n",
    "    # Kad naudotume šio modulio funkcijas ir klases kitame faile, turime jį importuoti."
   ]
  },
  {
   "attachments": {},
   "cell_type": "markdown",
   "metadata": {},
   "source": [
    "# Funkcijos arba klasės importavimas\n",
    "\n",
    "Python leidžia importuoti konkrečias funkcijas ar klases iš modulių ar paketų. Tai padeda užtikrinti, kad importuojate tik tai, ko jums reikia, ir taip sumažinate atminties naudojimą. Pavyzdys:\n",
    "\n"
   ]
  },
  {
   "cell_type": "code",
   "execution_count": null,
   "metadata": {},
   "outputs": [],
   "source": [
    "from mano_modulis import ManoKlase\n",
    "from math import sqrt\n",
    "\n",
    "\n",
    "# 💡 math modulis yra standartinė Python biblioteka, skirta matematikos funkcijoms ir konstantoms. \n",
    "# Funkcija sqrt yra kvadratinės šaknies funkcija. Ji priima vieną skaičių kaip argumentą ir grąžina jo kvadratinę šaknį."
   ]
  },
  {
   "attachments": {},
   "cell_type": "markdown",
   "metadata": {},
   "source": [
    "# Importuotų objektų pervadinimas su \"as\"\n",
    "\n",
    "Kartais gali būti naudinga pervadinti importuotą objektą (modulį, funkciją ar klasę), kad jis būtų trumpesnis arba aiškesnis. Tai galima padaryti naudojant \"as\" raktažodį. Pavyzdys:"
   ]
  },
  {
   "cell_type": "code",
   "execution_count": null,
   "metadata": {},
   "outputs": [],
   "source": [
    "import random as belenkas\n",
    "from mano_modulis import IlgasKlasesPavadinimas as IKP\n",
    "from calendar import isleap as ar_keliamieji"
   ]
  },
  {
   "attachments": {},
   "cell_type": "markdown",
   "metadata": {},
   "source": [
    "# Iš modulio importuojame viską su *   (nerekomenduotina praktika)\n",
    "\n",
    "Python leidžia importuoti visus modulio ar paketo elementus naudojant *. Nors tai gali būti patogu, šis būdas gali sukelti pavadinimų konfliktus, jei keli moduliai turi elementų su vienodais pavadinimais.\n",
    "\n",
    "Pavyzdys:\n",
    "\n"
   ]
  },
  {
   "cell_type": "code",
   "execution_count": null,
   "metadata": {},
   "outputs": [],
   "source": [
    "from math import *"
   ]
  },
  {
   "attachments": {},
   "cell_type": "markdown",
   "metadata": {},
   "source": [
    "# dir() funkcija\n",
    "\n",
    "Python dir() funkcija grąžina sąrašą, kuriame yra modulio ar paketo narių pavadinimai. Tai gali būti naudinga norint sužinoti, ką galima importuoti iš modulio ar paketo.\n",
    "\n",
    "Pavyzdys:\n",
    "\n"
   ]
  },
  {
   "cell_type": "code",
   "execution_count": null,
   "metadata": {},
   "outputs": [],
   "source": [
    "import math\n",
    "print(dir(math))"
   ]
  },
  {
   "attachments": {},
   "cell_type": "markdown",
   "metadata": {},
   "source": [
    "# Paketai, subpaketai ir __init__.py failai\n",
    "\n",
    "Paketai yra būdas organizuoti Python kodo modulius į struktūruotą hierarchiją. Paketai leidžia lengvai suskirstyti projekto funkcionalumą į susijusias dalis, taip padidinant kodo tvarką ir supratimą.\n",
    "\n",
    "Python paketas yra paprastai direktorija, kurioje yra __init__.py failas. Paketas gali turėti modulius, subpaketus ir jų __init__.py failus.\n",
    "\n",
    "Subpaketai yra paketų direktorijos, esančios kituose paketuose. Jie taip pat turi __init__.py failą ir gali turėti savo modulius bei kitus subpaketus.\n",
    "\n",
    "__init__.py failai yra specialūs Python failai, kuriuos interpretatorius naudoja, kad nustatytų direktoriją kaip paketą ar subpaketą. __init__.py failai gali būti tušti arba turėti kodą, pvz., importuoti kai kuriuos modulius, priskirti kintamuosius arba apibrėžti funkcijas ir klases. Importuojant paketą, __init__.py failai yra visada paleidžiami."
   ]
  },
  {
   "attachments": {},
   "cell_type": "markdown",
   "metadata": {},
   "source": [
    "# Paketų pavadinimų taisyklės\n",
    "\n",
    "Venkite didžiųjų raidžių naudojimo. Katalogų pavadinimai neturi prasidėti skaičiais, turėti tarpų, ne lotyniškų simbolių ir t.t. Rekomenduojama laikytis kintamųjų pavadinimų sudarymo taisyklių.\n",
    "\n",
    "Projekto pavyzdys\n",
    "\n",
    "Įsivaizduokime, kad turime šią katalogų ir failų struktūrą:"
   ]
  },
  {
   "cell_type": "code",
   "execution_count": null,
   "metadata": {},
   "outputs": [],
   "source": [
    "projektas/\n",
    "    __init__.py\n",
    "    main.py\n",
    "    geometrija/\n",
    "        __init__.py\n",
    "        plotas.py\n",
    "        perimetras.py\n",
    "        dvimate/\n",
    "            __init__.py\n",
    "            apskritimas.py\n",
    "            kvadratas.py"
   ]
  },
  {
   "attachments": {},
   "cell_type": "markdown",
   "metadata": {},
   "source": [
    "projektas yra pagrindinis paketas, kuris turi modulį main.py ir subpaketą geometrija. geometrija subpaketas turi modulius plotas.py ir perimetras.py bei subpaketą dvimate, kuris turi modulius apskritimas.py ir kvadratas.py. Atkreipkite dėmesį, kad dvimate subpaketo vadinti 2D negalima, nors gal ir patogiau, bet negalima."
   ]
  },
  {
   "attachments": {},
   "cell_type": "markdown",
   "metadata": {},
   "source": [
    "# Absoliutus importavimas\n",
    "\n",
    "Absoliutus importavimas naudoja visą kelią nuo pagrindinio paketo arba modulio iki importuojamo elemento. Jis paprastai yra aiškesnis ir lengviau suprantamas.\n",
    "\n",
    "Pavyzdys:"
   ]
  },
  {
   "cell_type": "code",
   "execution_count": null,
   "metadata": {},
   "outputs": [],
   "source": [
    "from projektas.geometrija.plotas import trikampio_plotas"
   ]
  },
  {
   "attachments": {},
   "cell_type": "markdown",
   "metadata": {},
   "source": [
    "# Reliatyvus importavimas\n",
    "\n",
    "Reliatyvus importavimas naudoja taškus nurodyti paketų ar modulių hierarchiją atsižvelgiant į esamą vietą. Jis gali padėti išlaikyti perkeliamumą tarp projektų ir sumažinti kodo kartojimąsi.\n",
    "\n",
    "Pavyzdys:"
   ]
  },
  {
   "cell_type": "code",
   "execution_count": null,
   "metadata": {},
   "outputs": [],
   "source": [
    "from .plotas import trikampio_plotas"
   ]
  },
  {
   "attachments": {},
   "cell_type": "markdown",
   "metadata": {},
   "source": [
    "# Importas iš projekto paketų\n",
    "\n",
    "Importuojant modulius iš paketų ir subpaketų, naudojama taškinė sintaksė:"
   ]
  },
  {
   "cell_type": "code",
   "execution_count": null,
   "metadata": {},
   "outputs": [],
   "source": [
    "from projektas.geometrija.plotas import trikampio_plotas\n",
    "from projektas.geometrija.dvimate.apskritimas import apskritimo_plotas\n",
    "\n",
    "# __init__.py failų panaudojimas: Tarkime, kad projektas/geometrija/__init__.py failas turi šį kodą:"
   ]
  },
  {
   "cell_type": "code",
   "execution_count": null,
   "metadata": {},
   "outputs": [],
   "source": [
    "from .plotas import *\n",
    "from .perimetras import *\n",
    "from .dvimate.apskritimas import *\n",
    "from .dvimate.kvadratas import *\n",
    "\n",
    "# Dabar galime importuoti visas funkcijas tiesiog importuodami geometrija subpaketą:"
   ]
  },
  {
   "cell_type": "code",
   "execution_count": null,
   "metadata": {},
   "outputs": [],
   "source": [
    "from projektas.geometrija import trikampio_plotas, apskritimo_plotas"
   ]
  },
  {
   "attachments": {},
   "cell_type": "markdown",
   "metadata": {},
   "source": [
    "# Užduotys\n",
    "\n",
    "# Pirma užduotis\n",
    "\n",
    "Sukurkite naują Python modulį, pavadinimu matematika.py, kuriame būtų šios funkcijos:\n",
    "\n",
    "daugyba(x, y): grąžina dviejų skaičių x ir y sandaugą\n",
    "dalyba(x, y): grąžina dviejų skaičių x ir y dalmenį\n",
    "Tada importuokite šį modulį kitame Python faile ir panaudokite jo funkcijas skaičiavimams atlikti.\n",
    "\n"
   ]
  },
  {
   "cell_type": "code",
   "execution_count": 7,
   "metadata": {},
   "outputs": [
    {
     "name": "stdout",
     "output_type": "stream",
     "text": [
      "35\n",
      "2.0\n"
     ]
    }
   ],
   "source": [
    "# Pirma, reikia sukurti failą \"matematika.py\" su aprašytomis funkcijomis:\n",
    "\n",
    "# def daugyba(x, y):\n",
    "#     return x * y\n",
    "\n",
    "# def dalyba(x, y):\n",
    "#     return x / y\n",
    "\n",
    "# Tada galime importuoti šį modulį į kitą Python failą ir naudoti jo funkcijas:\n",
    "\n",
    "import matematika\n",
    "\n",
    "rezultatas = matematika.daugyba(5, 7)\n",
    "print(rezultatas) \n",
    "\n",
    "kitas_rezultatas = matematika.dalyba(10, 5)\n",
    "print(kitas_rezultatas)"
   ]
  },
  {
   "attachments": {},
   "cell_type": "markdown",
   "metadata": {},
   "source": [
    "# Antra užduotis\n",
    "\n",
    "Sukurkite paketą geometrija, kuris turėtų šiuos modulius:\n",
    "\n",
    "apskritimas.py: turintis funkciją apskritimo_plotas(r) skirtą apskaičiuoti apskritimo plotą\n",
    "kvadratas.py: turintis funkciją kvadrato_plotas(a) skirtą apskaičiuoti kvadrato plotą\n",
    "Importuokite šiuos modulius kitame faile, pakeiskite funkcijų pavadinimus pasitelkiant as ir panaudokite funkcijas skaičiavimams atlikti."
   ]
  },
  {
   "cell_type": "code",
   "execution_count": null,
   "metadata": {},
   "outputs": [],
   "source": [
    "# Pirma, turime sukurti paketą geometrija ir modulius apskritimas ir kvadratas. \n",
    "# Tai galima padaryti sukuriant naują direktoriją geometrija ir į ją įdedant failus apskritimas.py ir kvadratas.py.\n",
    "\n",
    "# Tada apskritimas.py faile turime funkciją apskritimo_plotas(r):"
   ]
  },
  {
   "cell_type": "code",
   "execution_count": null,
   "metadata": {},
   "outputs": [],
   "source": []
  },
  {
   "attachments": {},
   "cell_type": "markdown",
   "metadata": {},
   "source": [
    "# Standartinių bibliotekų importavimas\n",
    "\n",
    "import this - \"The Zen of Python\" (Python'o dvasia)\n",
    "\n",
    "\"The Zen of Python\" yra Python programavimo kalbos filosofijos poema, kurią parašė Tim Peters. Štai kaip ją galite pamatyti:"
   ]
  },
  {
   "attachments": {},
   "cell_type": "markdown",
   "metadata": {},
   "source": [
    "import this"
   ]
  },
  {
   "attachments": {},
   "cell_type": "markdown",
   "metadata": {},
   "source": [
    "# Šios eilutės pagrindiniai principai yra:\n",
    "\n",
    "Aiškumas yra geriau už paslėptį. Paprastumas yra geriau už sudėtingumą. Dvigubai geriau yra geriau už gerai pakankamai. Praktiškumas nugalės teoriją.\n",
    "\n",
    "\n"
   ]
  },
  {
   "attachments": {},
   "cell_type": "markdown",
   "metadata": {},
   "source": [
    "# import random - atsitiktinių skaičių generatoriaus funkcijos\n",
    "\n",
    "Python'o random biblioteka leidžia generuoti atsitiktinius skaičius, atsitiktinai pasirinkti elementus iš sąrašo ir pan. Štai keletas pavyzdžių:"
   ]
  },
  {
   "cell_type": "code",
   "execution_count": null,
   "metadata": {},
   "outputs": [],
   "source": [
    "import random\n",
    "\n",
    "# Sugeneruoti atsitiktinį skaičių tarp 0 ir 1\n",
    "print(random.random())\n",
    "\n",
    "# Sugeneruoti atsitiktinį sveikąjį skaičių tarp 1 ir 10\n",
    "print(random.randint(1, 10))\n",
    "\n",
    "# Atsitiktinai pasirinkti elementą iš sąrašo\n",
    "my_list = [\"a\", \"b\", \"c\", \"d\", \"e\"]\n",
    "print(random.choice(my_list))"
   ]
  },
  {
   "attachments": {},
   "cell_type": "markdown",
   "metadata": {},
   "source": [
    "# import math - papildomos matematinės funkcijos\n",
    "\n",
    "Python'o math biblioteka suteikia prieigą prie papildomų matematinių funkcijų ir konstantų, tokių kaip π (pi) ir e. Štai keletas pavyzdžių:"
   ]
  },
  {
   "cell_type": "code",
   "execution_count": null,
   "metadata": {},
   "outputs": [],
   "source": [
    "import math\n",
    "\n",
    "# Apskaičiuoti sinuso reikšmę\n",
    "print(math.sin(math.pi / 2))\n",
    "\n",
    "# Apskaičiuoti faktorialą\n",
    "print(math.factorial(5))\n",
    "\n",
    "# Apskaičiuoti kvadratą\n",
    "print(math.sqrt(9))"
   ]
  },
  {
   "attachments": {},
   "cell_type": "markdown",
   "metadata": {},
   "source": [
    "# import calendar - kalendoriaus funkcijos\n",
    "\n",
    "Python'o calendar biblioteka leidžia dirbti su kalendoriais, pavyzdžiui, sužinoti, ar metai yra keliamieji arba kokia savaitės diena yra tam tikra data. Štai keletas pavyzdžių:"
   ]
  },
  {
   "cell_type": "code",
   "execution_count": null,
   "metadata": {},
   "outputs": [],
   "source": [
    "import calendar\n",
    "\n",
    "# Tikrinti, ar metai yra keliamieji\n",
    "print(calendar.isleap(2020))\n",
    "\n",
    "# Gaukite savaitės dienos pavadinimą pagal skaičių\n",
    "print(calendar.day_name[1]) # 'Tuesday'\n",
    "\n",
    "# Gaukite mėnesio dienų skaičių\n",
    "print(calendar.monthrange(2023, 4)) # (5, 30) - pirmoji balandžio diena yra šeštadienis (5), o balandžio mėnesyje yra 30 dienų\n",
    "\n",
    "# Atspausdinti mėnesio kalendorių\n",
    "print(calendar.month(2023, 4))\n",
    "\n",
    "\n",
    "# calendar biblioteka turi daugiau funkcijų ir savybių, kurios padės jums dirbti su datomis ir laiku. Šie pavyzdžiai yra tik pradžia. \n",
    "# Galite rasti daugiau informacijos apie calendar biblioteką Python dokumentacijoje."
   ]
  },
  {
   "attachments": {},
   "cell_type": "markdown",
   "metadata": {},
   "source": [
    "# Uzduotys \n",
    "\n",
    "# Pirma užduotis\n",
    "\n",
    "Parašykite funkciją, kuris atspausdina 10 atsitiktinių skaičių nuo 1 iki 100 ir juos išrikiuoja didėjimo tvarka.\n",
    "\n"
   ]
  },
  {
   "cell_type": "code",
   "execution_count": 21,
   "metadata": {},
   "outputs": [
    {
     "name": "stdout",
     "output_type": "stream",
     "text": [
      "[10, 18, 33, 35, 38, 61, 63, 73, 86, 87]\n"
     ]
    }
   ],
   "source": [
    "import random \n",
    "\n",
    "def atsitiktiniai_sk():\n",
    "    skaiciai = [random.randint(1, 100) for i in range(10)]\n",
    "    surusiuoti_sk = sorted(skaiciai)\n",
    "    print(surusiuoti_sk)\n",
    "\n",
    "\n",
    "atsitiktiniai_sk()\n",
    "\n"
   ]
  },
  {
   "attachments": {},
   "cell_type": "markdown",
   "metadata": {},
   "source": [
    "# Antra užduotis\n",
    "\n",
    "Sukurkite kauliukų žaidimą, kuris:\n",
    "\n",
    "Sugeneruotų tris atsitiktinius skaičius nuo 1 iki 6\n",
    "Jei vienas iš šių skaičių yra 5, atspausdinti „Pralaimėjai...“\n",
    "Kitu atveju atspausdinti „Laimėjai!“\n",
    "Patarimas: Naudoti while ciklą"
   ]
  },
  {
   "cell_type": "code",
   "execution_count": 66,
   "metadata": {},
   "outputs": [
    {
     "name": "stdout",
     "output_type": "stream",
     "text": [
      "1 4 4 Laimejai\n"
     ]
    }
   ],
   "source": [
    "# Pirmiausia naudojame random modulį, kad sugeneruotume tris atsitiktinius skaičius nuo 1 iki 6. \n",
    "# Tada naudojame while ciklą, kad patikrintume, ar vienas iš skaičių yra 5. Jei taip, atspausdiname \"Pralaimėjai...\". \n",
    "# Jei ne, atspausdiname \"Laimėjai!\". Paskutinė dalis (else) naudojama, kad ciklas sustotų, kai nėra reikalingų sąlygų.\n",
    "\n",
    "\n",
    "import random\n",
    "\n",
    "kaul_1 = random.randint(1, 6)\n",
    "kaul_2 = random.randint(1, 6)\n",
    "kaul_3 = random.randint(1, 6)\n",
    "\n",
    "while kaul_1 == 5 or kaul_2 == 5 or kaul_3 == 5:\n",
    "    print(f\"{kaul_1} {kaul_2} {kaul_3} Pralaimejai\")\n",
    "    break\n",
    "else:\n",
    "    print(f\"{kaul_1} {kaul_2} {kaul_3} Laimejai\")"
   ]
  },
  {
   "cell_type": "code",
   "execution_count": 75,
   "metadata": {},
   "outputs": [
    {
     "name": "stdout",
     "output_type": "stream",
     "text": [
      "2\n",
      "1\n",
      "2\n",
      "laimejai\n"
     ]
    }
   ],
   "source": [
    "# optimizuotas kodas \n",
    "\n",
    "import random\n",
    "i = 0\n",
    "while (i < 3):\n",
    "    kauliukas = random.randint(1, 6)\n",
    "    print(kauliukas)\n",
    "    if kauliukas == 5:\n",
    "        print(\"pralaimejai\")\n",
    "        break\n",
    "    i = i + 1\n",
    "else:\n",
    "    print(\"laimejai\")"
   ]
  },
  {
   "attachments": {},
   "cell_type": "markdown",
   "metadata": {},
   "source": [
    "# Trečia užduotis\n",
    "\n",
    "Parašykite Python funkciją, kuri priima metus ir mėnesį, o tada atspausdina šio mėnesio kalendorių bei parodo, kiek savaitgalių (šeštadienių ir sekmadienių) yra tame mėnesyje."
   ]
  },
  {
   "cell_type": "code",
   "execution_count": 101,
   "metadata": {},
   "outputs": [
    {
     "name": "stdout",
     "output_type": "stream",
     "text": [
      "April 2023\n",
      "                                             1        2        \n",
      "3        4        5        6        7        8        9        \n",
      "10       11       12       13       14       15       16       \n",
      "17       18       19       20       21       22       23       \n",
      "24       25       26       27       28       29       30       \n",
      "Savaitgali dienu skaicius: 10\n"
     ]
    }
   ],
   "source": [
    "# Norint atlikti šią užduotį, galime naudoti Python standartinę biblioteką calendar. \n",
    "# Ši biblioteka turi metodą monthcalendar(year, month), kuris sugeneruoja kalendoriaus mėnesio dienų sąrašą. \n",
    "# Taip pat galime naudoti metodą weekday(year, month, day), kuris grąžina savaitės dieną pagal pateiktą datą (0 - pirmadienis, 6 - sekmadienis).\n",
    "\n",
    "import calendar\n",
    "\n",
    "def kalendorius_ir_savaitgaliai(metai, menesiai):\n",
    "    dienu_sarasas = calendar.monthcalendar(metai, menesiai)\n",
    "    savaitgaliu_sk = 0\n",
    "    print(calendar.month_name[menesiai], metai)\n",
    "\n",
    "    \n",
    "    for savaite in dienu_sarasas:\n",
    "        for i, diena in enumerate(savaite):\n",
    "            if diena == 0:\n",
    "                print(\"{:<8}\".format(\" \"), end=\" \")\n",
    "            else:\n",
    "                print(\"{:<8}\".format(diena), end=\" \")\n",
    "                if i >= 5:\n",
    "                    savaitgaliu_sk += 1\n",
    "        print()\n",
    "    \n",
    "    print(\"Savaitgali dienu skaicius:\", savaitgaliu_sk)\n",
    "\n",
    "\n",
    "kalendorius_ir_savaitgaliai(2023, 4)"
   ]
  },
  {
   "cell_type": "code",
   "execution_count": 95,
   "metadata": {},
   "outputs": [
    {
     "name": "stdout",
     "output_type": "stream",
     "text": [
      "     April 2023\n",
      "Mo Tu We Th Fr Sa Su\n",
      "                1  2\n",
      " 3  4  5  6  7  8  9\n",
      "10 11 12 13 14 15 16\n",
      "17 18 19 20 21 22 23\n",
      "24 25 26 27 28 29 30\n",
      "\n",
      "Savaitgalio dienų skaičius šiame mėnesyje: 10\n"
     ]
    }
   ],
   "source": [
    "# 2 pvz is skaidriu atsakymu\n",
    "\n",
    "import calendar\n",
    "\n",
    "def spausdinti_menesio_kalendoriu_suskaiciuojant_savaitgalius(metai, menesis):\n",
    "    print(calendar.month(metai, menesis))\n",
    "\n",
    "    _, menesio_ilgis = calendar.monthrange(metai, menesis)\n",
    "\n",
    "    savaitgalio_dienos = 0\n",
    "    for diena in range(1, menesio_ilgis + 1):\n",
    "        savaites_diena = calendar.weekday(metai, menesis, diena)\n",
    "        if savaites_diena == 5 or savaites_diena == 6:\n",
    "            savaitgalio_dienos += 1\n",
    "\n",
    "    print(f\"Savaitgalio dienų skaičius šiame mėnesyje: {savaitgalio_dienos}\")\n",
    "\n",
    "# Pavyzdys su 2023-ųjų balandžio mėnesiu\n",
    "spausdinti_menesio_kalendoriu_suskaiciuojant_savaitgalius(2023, 4)"
   ]
  },
  {
   "cell_type": "code",
   "execution_count": 102,
   "metadata": {},
   "outputs": [
    {
     "name": "stdout",
     "output_type": "stream",
     "text": [
      "     April 2023\n",
      "Mo Tu We Th Fr Sa Su\n",
      "                1  2\n",
      " 3  4  5  6  7  8  9\n",
      "10 11 12 13 14 15 16\n",
      "17 18 19 20 21 22 23\n",
      "24 25 26 27 28 29 30\n",
      "\n",
      "Savaitgalinių dienų yra \"10\" (įskaitant šiaštadienius ir sekmadienius)\n",
      "Gaila, bet šiandien nera savaitgalis\n"
     ]
    }
   ],
   "source": [
    "# 3 pvz \n",
    "\n",
    "import calendar\n",
    "\n",
    "def print_calendar_with_weekends(year, month):\n",
    "    print(calendar.month(year, month))\n",
    "\n",
    "    num_days = calendar.monthrange(year, month)[1]\n",
    "\n",
    "    num_weekends = 0\n",
    "\n",
    "    for day in range(1, num_days + 1):\n",
    "        weekday = calendar.weekday(year, month, day)\n",
    "\n",
    "        if weekday == 5 or weekday == 6:\n",
    "            num_weekends += 1\n",
    "\n",
    "    print(f'Savaitgalinių dienų yra \"{num_weekends}\" (įskaitant šiaštadienius ir sekmadienius)')\n",
    "    if weekday == 5 or weekday == 6:\n",
    "        print(f\"Gaila, bet šiandien nera savaitgalis\")\n",
    "    else:\n",
    "        print(f'šiandien yra savaitgalis')\n",
    "\n",
    "print_calendar_with_weekends(2023, 4)"
   ]
  },
  {
   "attachments": {},
   "cell_type": "markdown",
   "metadata": {},
   "source": [
    "# Išorinių bibliotekų panaudojimas\n",
    "\n",
    "Python programavimo kalba turi daug išorinių bibliotekų, kurias galite naudoti savo projektuose, kad išvengtumėte kodo dubliavimo ir pasinaudotumėte kitų kūrėjų darbu. Šios bibliotekos dažnai yra platinamos per Python Package Index (PyPI) ir gali būti įdiegtos naudojant pip - Python paketų tvarkyklę."
   ]
  },
  {
   "attachments": {},
   "cell_type": "markdown",
   "metadata": {},
   "source": [
    "# pip install, pip list\n",
    "\n",
    "Pagrindinės pip komandos yra:\n",
    "\n",
    "pip install <paketo_pavadinimas>: įdiegia paketą iš PyPI."
   ]
  },
  {
   "cell_type": "code",
   "execution_count": 103,
   "metadata": {},
   "outputs": [
    {
     "name": "stdout",
     "output_type": "stream",
     "text": [
      "Package           Version\n",
      "----------------- -------\n",
      "appnope           0.1.3\n",
      "asttokens         2.2.1\n",
      "backcall          0.2.0\n",
      "comm              0.1.3\n",
      "debugpy           1.6.7\n",
      "decorator         5.1.1\n",
      "executing         1.2.0\n",
      "ipykernel         6.22.0\n",
      "ipython           8.12.0\n",
      "jedi              0.18.2\n",
      "jupyter_client    8.1.0\n",
      "jupyter_core      5.3.0\n",
      "matplotlib-inline 0.1.6\n",
      "nest-asyncio      1.5.6\n",
      "packaging         23.1\n",
      "parso             0.8.3\n",
      "pexpect           4.8.0\n",
      "pickleshare       0.7.5\n",
      "pip               22.3.1\n",
      "platformdirs      3.2.0\n",
      "prompt-toolkit    3.0.38\n",
      "psutil            5.9.4\n",
      "ptyprocess        0.7.0\n",
      "pure-eval         0.2.2\n",
      "Pygments          2.15.0\n",
      "python-dateutil   2.8.2\n",
      "pyzmq             25.0.2\n",
      "setuptools        65.5.0\n",
      "six               1.16.0\n",
      "stack-data        0.6.2\n",
      "tornado           6.2\n",
      "traitlets         5.9.0\n",
      "wcwidth           0.2.6\n",
      "\n",
      "\u001b[1m[\u001b[0m\u001b[34;49mnotice\u001b[0m\u001b[1;39;49m]\u001b[0m\u001b[39;49m A new release of pip available: \u001b[0m\u001b[31;49m22.3.1\u001b[0m\u001b[39;49m -> \u001b[0m\u001b[32;49m23.1\u001b[0m\n",
      "\u001b[1m[\u001b[0m\u001b[34;49mnotice\u001b[0m\u001b[1;39;49m]\u001b[0m\u001b[39;49m To update, run: \u001b[0m\u001b[32;49mpip3 install --upgrade pip\u001b[0m\n",
      "Note: you may need to restart the kernel to use updated packages.\n"
     ]
    }
   ],
   "source": [
    "# pip list: rodo visus įdiegtus paketus ir jų versijas.\n",
    "\n",
    "pip list"
   ]
  },
  {
   "attachments": {},
   "cell_type": "markdown",
   "metadata": {},
   "source": [
    "# Kaip naudoti requirements.txt ir pip freeze\n",
    "\n",
    "Sukurkite virtualią aplinką ir aktyvuokite ją (jei dar neaktyvavote):"
   ]
  },
  {
   "cell_type": "code",
   "execution_count": null,
   "metadata": {},
   "outputs": [],
   "source": [
    "# python -m venv venv\n",
    "# source venv/bin/activate  # Linux/MacOS\n",
    "# venv\\Scripts\\activate     # Windows"
   ]
  },
  {
   "attachments": {},
   "cell_type": "markdown",
   "metadata": {},
   "source": [
    "# Įdiekite reikiamas išorines bibliotekas naudojant"
   ]
  },
  {
   "cell_type": "code",
   "execution_count": null,
   "metadata": {},
   "outputs": [],
   "source": [
    "pip install <paketo_pavadinimas>:"
   ]
  },
  {
   "attachments": {},
   "cell_type": "markdown",
   "metadata": {},
   "source": [
    "Po to, kai visos reikiamos bibliotekos yra įdiegtos, naudokite komandą pip freeze > requirements.txt, kad sugeneruotumėte requirements.txt failą su visomis įdiegtomis bibliotekomis ir jų versijomis:"
   ]
  },
  {
   "cell_type": "code",
   "execution_count": null,
   "metadata": {},
   "outputs": [],
   "source": [
    "pip freeze > requirements.txt"
   ]
  },
  {
   "attachments": {},
   "cell_type": "markdown",
   "metadata": {},
   "source": [
    "requirements.txt failą įtraukite į savo projekto repozitoriją, kad kitų kūrėjų ar kompiuterių būtų lengviau įdiegti visas reikiamas priklausomybes."
   ]
  },
  {
   "attachments": {},
   "cell_type": "markdown",
   "metadata": {},
   "source": [
    "# Kodėl reikalinga virtuali aplinka kiekvienam projektui?\n",
    "\n",
    "\n",
    "Virtualios aplinkos yra izoliuotos Python aplinkos, kurios leidžia atskirai valdyti kiekvieno projekto priklausomybes. Virtualios aplinkos yra naudingos dėl šių priežasčių:\n",
    "\n",
    "Izoliacija: kiekvienas projektas gali turėti savo bibliotekų versijas, be jokių konfliktų su kitais projektais.\n",
    "Tvarka: virtualios aplinkos padeda išlaikyti sistemos tvarką, kadangi bibliotekos nėra įdiegiamos globaliai.\n",
    "Perkeliamumas: virtualių aplinkų naudojimas palengvina projekto perkėlimą tarp skirtingų kompiuterių, nes priklausomybės yra aiškiai aprašytos."
   ]
  },
  {
   "attachments": {},
   "cell_type": "markdown",
   "metadata": {},
   "source": [
    "# Update biblioteku\n",
    "\n",
    "pip --upgrade (package name)"
   ]
  }
 ],
 "metadata": {
  "kernelspec": {
   "display_name": "Python 3",
   "language": "python",
   "name": "python3"
  },
  "language_info": {
   "codemirror_mode": {
    "name": "ipython",
    "version": 3
   },
   "file_extension": ".py",
   "mimetype": "text/x-python",
   "name": "python",
   "nbconvert_exporter": "python",
   "pygments_lexer": "ipython3",
   "version": "3.11.3"
  },
  "orig_nbformat": 4
 },
 "nbformat": 4,
 "nbformat_minor": 2
}
