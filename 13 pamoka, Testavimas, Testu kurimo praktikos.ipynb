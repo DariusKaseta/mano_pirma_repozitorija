{
 "cells": [
  {
   "attachments": {},
   "cell_type": "markdown",
   "metadata": {},
   "source": [
    "# Testavimas, testų kūrimo praktikos\n",
    "\n",
    "# Testavimo teorija\n",
    "\n",
    "Testavimas - tai procesas, per kurį patikrinama, ar programinės įrangos sistema atitinka reikalavimus ir veikia be klaidų. Yra du pagrindiniai testavimo būdai: rankinis ir automatizuotas.\n",
    "\n",
    "# Rankinis testavimas\n",
    "\n",
    "Rankinis testavimas - tai testavimo metodas, kai testuotojas atlieka testus be specializuotų įrankių pagalbos. Rankinis testavimas gali būti naudingas pradiniam programinės įrangos veikimo įvertinimui, tačiau jis yra laiko sąnašas ir gali lemti žmogiškąją klaidą.\n",
    "\n",
    "# Automatizuotas testavimas\n",
    "\n",
    "Automatizuotas testavimas - tai testavimo metodas, kai testai atliekami naudojant specializuotas programas ir skriptus. Python kalboje yra keletas bibliotekų, skirtų automatizuotam testavimui, pavyzdžiui, unittest, pytest ir kt.\n",
    "\n",
    "# Biblioteka unittest\n",
    "\n",
    "Unittest - tai standartinė Python biblioteka, skirta automatizuotam testavimui. Joje yra įvairūs metodai, padedantys rašyti testus ir patikrinti rezultatus.\n",
    "\n",
    "# Assert metodai\n",
    "\n",
    "Assert metodai yra unittest bibliotekos metodai, padedantys patikrinti ar rezultatas atitinka tikėtąjį.\n",
    "\n",
    "Pavyzdys:"
   ]
  },
  {
   "cell_type": "code",
   "execution_count": null,
   "metadata": {},
   "outputs": [],
   "source": [
    "import unittest\n",
    "\n",
    "class TestAssertMethods(unittest.TestCase):\n",
    "    def test_assertEqual(self):\n",
    "        self.assertEqual(3 + 2, 5)\n",
    "\n",
    "    def test_assertTrue(self):\n",
    "        self.assertTrue(3 < 5)\n",
    "\n",
    "    def test_assertFalse(self):\n",
    "        self.assertFalse(5 < 3)\n",
    "\n",
    "    def test_assertIs(self):\n",
    "        a = [1, 2, 3]\n",
    "        b = a\n",
    "        self.assertIs(a, b)\n",
    "\n",
    "    def test_assertIsNone(self):\n",
    "        self.assertIsNone(None)\n",
    "\n",
    "if __name__ == '__main__':\n",
    "    unittest.main()\n"
   ]
  },
  {
   "attachments": {},
   "cell_type": "markdown",
   "metadata": {},
   "source": [
    "Čia pateikti pavyzdžiai demonstruoja, kaip naudoti įvairius assert metodus unittest bibliotekoje:\n",
    "\n",
    "test_assertEqual: patikrina, ar 3 + 2 yra lygu 5. test_assertTrue: patikrina, ar sąlyga 3 < 5 yra teisinga (True). test_assertFalse: patikrina, ar sąlyga 5 < 3 yra neteisinga (False). test_assertIs: patikrina, ar kintamieji 'a' ir 'b' yra tas pats objektas. test_assertIsNone: patikrina, ar funkcija grąžina None reikšmę.\n"
   ]
  },
  {
   "attachments": {},
   "cell_type": "markdown",
   "metadata": {},
   "source": [
    "# Testo paleidimas su unittest.main()\n",
    "\n",
    "Testą taip pat galite paleisti naudodami unittest.main() funkciją:\n"
   ]
  },
  {
   "cell_type": "code",
   "execution_count": null,
   "metadata": {},
   "outputs": [],
   "source": [
    "\n",
    "if __name__ == '__main__':\n",
    "    unittest.main()"
   ]
  },
  {
   "attachments": {},
   "cell_type": "markdown",
   "metadata": {},
   "source": [
    "# Užduotys\n",
    "\n",
    "TDD principu parašykite programą \"paskolos kalkuliatorius\".\n",
    "\n",
    "sukurkite testą paskolos kalkuliatoriaus programai, kur paskolos objektui galima nustatyti paskolos dydį, metines palūkanas ir terminą. Testavimo scenarijus turi patikrinti kelis teisingus paskolos palūkanų, pabrangimo, mokėjimo grafiko scenarijus.\n",
    "\n",
    "sukurkite programą, kuri veikia su aukščiau įgyvendintu testu."
   ]
  },
  {
   "cell_type": "code",
   "execution_count": 5,
   "metadata": {},
   "outputs": [],
   "source": [
    "class PaskolosSkaiciuokle:\n",
    "    def menesine_imoka(self, paskolos_dydis, metines_palukanos, terminas):\n",
    "        menesines_palukanos = metines_palukanos / 12\n",
    "        laikotarpis = terminas * 12\n",
    "        koeficiantas = ((1 + menesines_palukanos) ** laikotarpis * menesines_palukanos) / (((1 + menesines_palukanos) ** laikotarpis) - 1)\n",
    "        menesine_imoka = paskolos_dydis * koeficiantas\n",
    "        return (menesine_imoka, 2)\n",
    "    \n",
    "    def bendra_suma(self, paskolos_dydis, metines_palukanos, terminas):\n",
    "        menesine_imoka = self.menesine_imoka(paskolos_dydis, metines_palukanos, terminas)\n",
    "        suma = menesine_imoka * terminas *12\n",
    "        return (suma, 2)\n"
   ]
  }
 ],
 "metadata": {
  "kernelspec": {
   "display_name": "Python 3",
   "language": "python",
   "name": "python3"
  },
  "language_info": {
   "codemirror_mode": {
    "name": "ipython",
    "version": 3
   },
   "file_extension": ".py",
   "mimetype": "text/x-python",
   "name": "python",
   "nbconvert_exporter": "python",
   "pygments_lexer": "ipython3",
   "version": "3.11.3"
  },
  "orig_nbformat": 4
 },
 "nbformat": 4,
 "nbformat_minor": 2
}
