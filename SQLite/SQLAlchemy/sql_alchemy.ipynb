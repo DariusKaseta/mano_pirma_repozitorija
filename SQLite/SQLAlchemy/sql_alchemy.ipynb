{
 "cells": [
  {
   "cell_type": "code",
   "execution_count": 33,
   "metadata": {},
   "outputs": [],
   "source": [
    "\n",
    "from sqlalchemy import create_engine, Integer, String, Float, DateTime\n",
    "from sqlalchemy.orm import DeclarativeBase, mapped_column\n",
    "from datetime import datetime"
   ]
  },
  {
   "cell_type": "code",
   "execution_count": 32,
   "metadata": {},
   "outputs": [],
   "source": [
    "db_engine = create_engine('sqlite:///projektai.db', echo=True)\n"
   ]
  },
  {
   "cell_type": "code",
   "execution_count": 34,
   "metadata": {},
   "outputs": [],
   "source": [
    "from typing import Any\n",
    "\n",
    "class Base(DeclarativeBase):\n",
    "    pass\n",
    "\n",
    "class Projektas(Base):\n",
    "    __tablename__ = \"Projektas\"\n",
    "    id = mapped_column(Integer, primary_key=True)\n",
    "    name = mapped_column (String(50), nullable=False)\n",
    "    price = mapped_column(Float(2), nullable=False)\n",
    "    created = mapped_column(DateTime, default=datetime.utcnow)\n",
    "\n",
    "    def __init__v(self, **kw: Any):\n",
    "        # super().__init__(**kw)\n",
    "        for key, value in kw.items():\n",
    "            setattr(self, key, value)\n",
    "\n",
    "    def __repr__(self) -> str:\n",
    "        return f\"({self.id}, {self.name}, {self.price}, {self.created})\""
   ]
  },
  {
   "cell_type": "code",
   "execution_count": 35,
   "metadata": {},
   "outputs": [
    {
     "name": "stdout",
     "output_type": "stream",
     "text": [
      "2023-05-10 14:51:20,436 INFO sqlalchemy.engine.Engine BEGIN (implicit)\n",
      "2023-05-10 14:51:20,437 INFO sqlalchemy.engine.Engine PRAGMA main.table_info(\"Projektas\")\n",
      "2023-05-10 14:51:20,438 INFO sqlalchemy.engine.Engine [raw sql] ()\n",
      "2023-05-10 14:51:20,441 INFO sqlalchemy.engine.Engine PRAGMA temp.table_info(\"Projektas\")\n",
      "2023-05-10 14:51:20,442 INFO sqlalchemy.engine.Engine [raw sql] ()\n",
      "2023-05-10 14:51:20,446 INFO sqlalchemy.engine.Engine \n",
      "CREATE TABLE \"Projektas\" (\n",
      "\tid INTEGER NOT NULL, \n",
      "\tname VARCHAR(50) NOT NULL, \n",
      "\tprice FLOAT NOT NULL, \n",
      "\tcreated DATETIME, \n",
      "\tPRIMARY KEY (id)\n",
      ")\n",
      "\n",
      "\n",
      "2023-05-10 14:51:20,447 INFO sqlalchemy.engine.Engine [no key 0.00093s] ()\n",
      "2023-05-10 14:51:20,449 INFO sqlalchemy.engine.Engine COMMIT\n"
     ]
    }
   ],
   "source": [
    "Base.metadata.create_all(db_engine)"
   ]
  }
 ],
 "metadata": {
  "kernelspec": {
   "display_name": "Python 3",
   "language": "python",
   "name": "python3"
  },
  "language_info": {
   "codemirror_mode": {
    "name": "ipython",
    "version": 3
   },
   "file_extension": ".py",
   "mimetype": "text/x-python",
   "name": "python",
   "nbconvert_exporter": "python",
   "pygments_lexer": "ipython3",
   "version": "3.11.3"
  },
  "orig_nbformat": 4
 },
 "nbformat": 4,
 "nbformat_minor": 2
}
