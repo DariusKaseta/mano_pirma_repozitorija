{
 "cells": [
  {
   "attachments": {},
   "cell_type": "markdown",
   "metadata": {},
   "source": [
    "## viena lentele - projektai"
   ]
  },
  {
   "cell_type": "code",
   "execution_count": 4,
   "metadata": {},
   "outputs": [],
   "source": [
    "from sqlalchemy import create_engine, Integer, String, Float, DateTime, ForeignKey\n",
    "from sqlalchemy.orm import DeclarativeBase, mapped_column, relationship, sessionmaker\n",
    "\n",
    "from datetime import datetime"
   ]
  },
  {
   "cell_type": "code",
   "execution_count": 32,
   "metadata": {},
   "outputs": [],
   "source": [
    "db_engine = create_engine('sqlite:///projektai.db', echo=True)\n"
   ]
  },
  {
   "cell_type": "code",
   "execution_count": 34,
   "metadata": {},
   "outputs": [],
   "source": [
    "from typing import Any\n",
    "\n",
    "class Base(DeclarativeBase):\n",
    "    pass\n",
    "\n",
    "class Projektas(Base):\n",
    "    __tablename__ = \"Projektas\"\n",
    "    id = mapped_column(Integer, primary_key=True)\n",
    "    name = mapped_column (String(50), nullable=False)\n",
    "    price = mapped_column(Float(2), nullable=False)\n",
    "    created = mapped_column(DateTime, default=datetime.utcnow)\n",
    "\n",
    "    def __init__v(self, **kw: Any):\n",
    "        # super().__init__(**kw)\n",
    "        for key, value in kw.items():\n",
    "            setattr(self, key, value)\n",
    "\n",
    "    def __repr__(self) -> str:\n",
    "        return f\"({self.id}, {self.name}, {self.price}, {self.created})\""
   ]
  },
  {
   "cell_type": "code",
   "execution_count": 35,
   "metadata": {},
   "outputs": [
    {
     "name": "stdout",
     "output_type": "stream",
     "text": [
      "2023-05-10 14:51:20,436 INFO sqlalchemy.engine.Engine BEGIN (implicit)\n",
      "2023-05-10 14:51:20,437 INFO sqlalchemy.engine.Engine PRAGMA main.table_info(\"Projektas\")\n",
      "2023-05-10 14:51:20,438 INFO sqlalchemy.engine.Engine [raw sql] ()\n",
      "2023-05-10 14:51:20,441 INFO sqlalchemy.engine.Engine PRAGMA temp.table_info(\"Projektas\")\n",
      "2023-05-10 14:51:20,442 INFO sqlalchemy.engine.Engine [raw sql] ()\n",
      "2023-05-10 14:51:20,446 INFO sqlalchemy.engine.Engine \n",
      "CREATE TABLE \"Projektas\" (\n",
      "\tid INTEGER NOT NULL, \n",
      "\tname VARCHAR(50) NOT NULL, \n",
      "\tprice FLOAT NOT NULL, \n",
      "\tcreated DATETIME, \n",
      "\tPRIMARY KEY (id)\n",
      ")\n",
      "\n",
      "\n",
      "2023-05-10 14:51:20,447 INFO sqlalchemy.engine.Engine [no key 0.00093s] ()\n",
      "2023-05-10 14:51:20,449 INFO sqlalchemy.engine.Engine COMMIT\n"
     ]
    }
   ],
   "source": [
    "Base.metadata.create_all(db_engine)"
   ]
  },
  {
   "cell_type": "code",
   "execution_count": 36,
   "metadata": {},
   "outputs": [],
   "source": [
    "from sqlalchemy.orm import Session"
   ]
  },
  {
   "cell_type": "code",
   "execution_count": 39,
   "metadata": {},
   "outputs": [
    {
     "name": "stdout",
     "output_type": "stream",
     "text": [
      "2023-05-10 15:01:42,593 INFO sqlalchemy.engine.Engine BEGIN (implicit)\n",
      "2023-05-10 15:01:42,598 INFO sqlalchemy.engine.Engine INSERT INTO \"Projektas\" (name, price, created) VALUES (?, ?, ?) RETURNING id\n",
      "2023-05-10 15:01:42,602 INFO sqlalchemy.engine.Engine [generated in 0.00024s (insertmanyvalues) 1/3 (ordered; batch not supported)] ('Duomenu baziu su Python kursas', 500.0, '2023-05-10 12:01:42.598098')\n",
      "2023-05-10 15:01:42,608 INFO sqlalchemy.engine.Engine INSERT INTO \"Projektas\" (name, price, created) VALUES (?, ?, ?) RETURNING id\n",
      "2023-05-10 15:01:42,609 INFO sqlalchemy.engine.Engine [insertmanyvalues 2/3 (ordered; batch not supported)] ('FrontEndo kursai: HTML, CSS', 1500.0, '2023-05-10 12:01:42.598105')\n",
      "2023-05-10 15:01:42,610 INFO sqlalchemy.engine.Engine INSERT INTO \"Projektas\" (name, price, created) VALUES (?, ?, ?) RETURNING id\n",
      "2023-05-10 15:01:42,611 INFO sqlalchemy.engine.Engine [insertmanyvalues 3/3 (ordered; batch not supported)] ('Django pradedantiesiems', 7000.0, '2023-05-10 12:01:42.598106')\n",
      "2023-05-10 15:01:42,612 INFO sqlalchemy.engine.Engine COMMIT\n"
     ]
    }
   ],
   "source": [
    "with Session(db_engine) as session:\n",
    "    db_1 = Projektas(name=\"Duomenu baziu su Python kursas\", price=500)\n",
    "    frontas = Projektas(name=\"FrontEndo kursai: HTML, CSS\", price=1500)\n",
    "    django = Projektas(name=\"Django pradedantiesiems\", price=7000)\n",
    "    session.add_all([db_1, frontas, django])\n",
    "    session.commit()"
   ]
  },
  {
   "cell_type": "code",
   "execution_count": 41,
   "metadata": {},
   "outputs": [
    {
     "name": "stdout",
     "output_type": "stream",
     "text": [
      "2023-05-10 15:04:44,645 INFO sqlalchemy.engine.Engine BEGIN (implicit)\n",
      "2023-05-10 15:04:44,649 INFO sqlalchemy.engine.Engine SELECT \"Projektas\".id AS \"Projektas_id\", \"Projektas\".name AS \"Projektas_name\", \"Projektas\".price AS \"Projektas_price\", \"Projektas\".created AS \"Projektas_created\" \n",
      "FROM \"Projektas\"\n",
      "2023-05-10 15:04:44,650 INFO sqlalchemy.engine.Engine [generated in 0.00185s] ()\n",
      "2023-05-10 15:04:44,654 INFO sqlalchemy.engine.Engine ROLLBACK\n"
     ]
    }
   ],
   "source": [
    "with Session(db_engine) as session:\n",
    "    projektai = session.query(Projektas).all()"
   ]
  },
  {
   "cell_type": "code",
   "execution_count": 42,
   "metadata": {},
   "outputs": [
    {
     "name": "stdout",
     "output_type": "stream",
     "text": [
      "[(1, POython kursai pradedantiesiems, 200.0, 2023-05-10 11:59:14.455282), (2, Python kursai pradedantiesiems, 200.0, 2023-05-10 11:59:31.033324), (3, Duomenu baziu su Python kursas, 500.0, 2023-05-10 12:01:42.598098), (4, FrontEndo kursai: HTML, CSS, 1500.0, 2023-05-10 12:01:42.598105), (5, Django pradedantiesiems, 7000.0, 2023-05-10 12:01:42.598106)]\n"
     ]
    }
   ],
   "source": [
    "print(projektai)"
   ]
  },
  {
   "cell_type": "code",
   "execution_count": 43,
   "metadata": {},
   "outputs": [
    {
     "name": "stdout",
     "output_type": "stream",
     "text": [
      "(1, POython kursai pradedantiesiems, 200.0, 2023-05-10 11:59:14.455282)\n",
      "(2, Python kursai pradedantiesiems, 200.0, 2023-05-10 11:59:31.033324)\n",
      "(3, Duomenu baziu su Python kursas, 500.0, 2023-05-10 12:01:42.598098)\n",
      "(4, FrontEndo kursai: HTML, CSS, 1500.0, 2023-05-10 12:01:42.598105)\n",
      "(5, Django pradedantiesiems, 7000.0, 2023-05-10 12:01:42.598106)\n"
     ]
    }
   ],
   "source": [
    "for projektas in projektai:\n",
    "    print(projektas)"
   ]
  },
  {
   "cell_type": "code",
   "execution_count": 45,
   "metadata": {},
   "outputs": [
    {
     "name": "stdout",
     "output_type": "stream",
     "text": [
      "SELECT \"Projektas\".id AS \"Projektas_id\", \"Projektas\".name AS \"Projektas_name\", \"Projektas\".price AS \"Projektas_price\", \"Projektas\".created AS \"Projektas_created\" \n",
      "FROM \"Projektas\" \n",
      "WHERE \"Projektas\".name = ?\n"
     ]
    }
   ],
   "source": [
    "with Session(db_engine) as session:\n",
    "    django_kursas = session.query(Projektas).filter_by(name=\"Django pradedantiesiems\")\n",
    "    print(django_kursas)"
   ]
  },
  {
   "cell_type": "code",
   "execution_count": 48,
   "metadata": {},
   "outputs": [
    {
     "name": "stdout",
     "output_type": "stream",
     "text": [
      "2023-05-10 15:11:27,747 INFO sqlalchemy.engine.Engine BEGIN (implicit)\n",
      "2023-05-10 15:11:27,752 INFO sqlalchemy.engine.Engine SELECT \"Projektas\".id AS \"Projektas_id\", \"Projektas\".name AS \"Projektas_name\", \"Projektas\".price AS \"Projektas_price\", \"Projektas\".created AS \"Projektas_created\" \n",
      "FROM \"Projektas\" \n",
      "WHERE \"Projektas\".price <= ? ORDER BY \"Projektas\".price\n",
      "2023-05-10 15:11:27,754 INFO sqlalchemy.engine.Engine [generated in 0.00299s] (3000,)\n",
      "200.0 POython kursai pradedantiesiems\n",
      "200.0 Python kursai pradedantiesiems\n",
      "500.0 Duomenu baziu su Python kursas\n",
      "1500.0 FrontEndo kursai: HTML, CSS\n",
      "2023-05-10 15:11:27,758 INFO sqlalchemy.engine.Engine ROLLBACK\n"
     ]
    }
   ],
   "source": [
    "with Session(db_engine) as session:\n",
    "    pigus = session.query(Projektas).filter(Projektas.price <= 3000)\n",
    "    pigus = pigus.order_by(Projektas.price).all()\n",
    "    for projektas in pigus:\n",
    "        print(projektas.price, projektas.name)"
   ]
  },
  {
   "cell_type": "code",
   "execution_count": 57,
   "metadata": {},
   "outputs": [
    {
     "name": "stdout",
     "output_type": "stream",
     "text": [
      "2023-05-10 15:20:01,196 INFO sqlalchemy.engine.Engine BEGIN (implicit)\n",
      "2023-05-10 15:20:01,197 INFO sqlalchemy.engine.Engine SELECT \"Projektas\".id AS \"Projektas_id\", \"Projektas\".name AS \"Projektas_name\", \"Projektas\".price AS \"Projektas_price\", \"Projektas\".created AS \"Projektas_created\" \n",
      "FROM \"Projektas\" \n",
      "WHERE lower(\"Projektas\".name) LIKE lower(?)\n",
      "2023-05-10 15:20:01,198 INFO sqlalchemy.engine.Engine [cached since 378s ago] ('%Python%',)\n",
      "(2, Python kursai pradedantiesiems, 4000, 2023-05-10 11:59:31.033324)\n",
      "2023-05-10 15:20:01,200 INFO sqlalchemy.engine.Engine COMMIT\n"
     ]
    }
   ],
   "source": [
    "with Session(db_engine) as session:\n",
    "    python_kursai = session.query(Projektas)\n",
    "    python_kursai = session.query(Projektas).filter(Projektas.name.ilike(\"%Python%\")).all()\n",
    "    python_kursai[0].price = 4000\n",
    "    print(python_kursai[0])\n",
    "    session.commit()"
   ]
  },
  {
   "cell_type": "code",
   "execution_count": 58,
   "metadata": {},
   "outputs": [
    {
     "name": "stdout",
     "output_type": "stream",
     "text": [
      "(4, FrontEndo kursai: HTML, CSS, 3000, 2023-05-10 12:01:42.598105)\n"
     ]
    }
   ],
   "source": [
    "with Session(db_engine) as session:\n",
    "    print(projektas)\n",
    "    projektas.price = 3000\n",
    "    session.commit()"
   ]
  },
  {
   "cell_type": "code",
   "execution_count": 61,
   "metadata": {},
   "outputs": [
    {
     "name": "stdout",
     "output_type": "stream",
     "text": [
      "2023-05-10 15:22:57,139 INFO sqlalchemy.engine.Engine BEGIN (implicit)\n",
      "2023-05-10 15:22:57,144 INFO sqlalchemy.engine.Engine SELECT \"Projektas\".id AS \"Projektas_id\", \"Projektas\".name AS \"Projektas_name\", \"Projektas\".price AS \"Projektas_price\", \"Projektas\".created AS \"Projektas_created\" \n",
      "FROM \"Projektas\" \n",
      "WHERE \"Projektas\".name LIKE ?\n",
      "2023-05-10 15:22:57,145 INFO sqlalchemy.engine.Engine [generated in 0.00129s] ('%Django%',)\n",
      "[(5, Django pradedantiesiems, 7000.0, 2023-05-10 12:01:42.598106)]\n"
     ]
    }
   ],
   "source": [
    "from sqlalchemy.orm import sessionmaker\n",
    "session = sessionmaker(bind=db_engine)()\n",
    "\n",
    "projektas = session.query(Projektas).filter(Projektas.name.like(\"%Django%\")).all()\n",
    "print(projektas)"
   ]
  },
  {
   "cell_type": "code",
   "execution_count": 66,
   "metadata": {},
   "outputs": [
    {
     "ename": "AttributeError",
     "evalue": "'list' object has no attribute 'price'",
     "output_type": "error",
     "traceback": [
      "\u001b[0;31m---------------------------------------------------------------------------\u001b[0m",
      "\u001b[0;31mAttributeError\u001b[0m                            Traceback (most recent call last)",
      "Cell \u001b[0;32mIn[66], line 1\u001b[0m\n\u001b[0;32m----> 1\u001b[0m projektas\u001b[39m.\u001b[39;49mprice \u001b[39m=\u001b[39m \u001b[39m7775\u001b[39m\n\u001b[1;32m      2\u001b[0m session\u001b[39m.\u001b[39mcommit()\n\u001b[1;32m      3\u001b[0m \u001b[39mprint\u001b[39m(projektas)\n",
      "\u001b[0;31mAttributeError\u001b[0m: 'list' object has no attribute 'price'"
     ]
    }
   ],
   "source": [
    "projektas.price = 7775\n",
    "session.commit()\n",
    "print(projektas)"
   ]
  },
  {
   "cell_type": "code",
   "execution_count": null,
   "metadata": {},
   "outputs": [],
   "source": [
    "\n",
    "\n",
    "from sqlalchemy import create_engine, Integer, String, Float, DateTime\n",
    "from sqlalchemy.orm import DeclarativeBase, mapped_column\n",
    "from datetime import datetime"
   ]
  },
  {
   "attachments": {},
   "cell_type": "markdown",
   "metadata": {},
   "source": [
    "## ORM (sqlalchemy) II dalis - ryšiai\n",
    "\n",
    "## susijusios lenteles - tevai/vaikai"
   ]
  },
  {
   "cell_type": "code",
   "execution_count": 2,
   "metadata": {},
   "outputs": [],
   "source": [
    "from typing import Any\n",
    "\n",
    "class Base(DeclarativeBase):\n",
    "    pass"
   ]
  },
  {
   "cell_type": "code",
   "execution_count": 5,
   "metadata": {},
   "outputs": [],
   "source": [
    "db_engine = create_engine('sqlite:///m21_seima.db', echo=True) \n",
    "session = sessionmaker(bind=db_engine)()"
   ]
  },
  {
   "cell_type": "code",
   "execution_count": 6,
   "metadata": {},
   "outputs": [
    {
     "name": "stdout",
     "output_type": "stream",
     "text": [
      "2023-05-12 13:41:50,793 INFO sqlalchemy.engine.Engine BEGIN (implicit)\n",
      "2023-05-12 13:41:50,795 INFO sqlalchemy.engine.Engine PRAGMA main.table_info(\"tevas\")\n",
      "2023-05-12 13:41:50,796 INFO sqlalchemy.engine.Engine [raw sql] ()\n",
      "2023-05-12 13:41:50,797 INFO sqlalchemy.engine.Engine PRAGMA temp.table_info(\"tevas\")\n",
      "2023-05-12 13:41:50,798 INFO sqlalchemy.engine.Engine [raw sql] ()\n",
      "2023-05-12 13:41:50,799 INFO sqlalchemy.engine.Engine PRAGMA main.table_info(\"vaikai\")\n",
      "2023-05-12 13:41:50,800 INFO sqlalchemy.engine.Engine [raw sql] ()\n",
      "2023-05-12 13:41:50,801 INFO sqlalchemy.engine.Engine PRAGMA temp.table_info(\"vaikai\")\n",
      "2023-05-12 13:41:50,802 INFO sqlalchemy.engine.Engine [raw sql] ()\n",
      "2023-05-12 13:41:50,803 INFO sqlalchemy.engine.Engine \n",
      "CREATE TABLE tevas (\n",
      "\tid INTEGER NOT NULL, \n",
      "\tvardas VARCHAR(50), \n",
      "\tpavarde VARCHAR(50), \n",
      "\tPRIMARY KEY (id)\n",
      ")\n",
      "\n",
      "\n",
      "2023-05-12 13:41:50,804 INFO sqlalchemy.engine.Engine [no key 0.00116s] ()\n",
      "2023-05-12 13:41:50,807 INFO sqlalchemy.engine.Engine \n",
      "CREATE TABLE vaikai (\n",
      "\tid INTEGER NOT NULL, \n",
      "\tvardas VARCHAR(50), \n",
      "\tpavarde VARCHAR(50), \n",
      "\tmokykla VARCHAR(50), \n",
      "\ttevas_id INTEGER, \n",
      "\tPRIMARY KEY (id), \n",
      "\tFOREIGN KEY(tevas_id) REFERENCES tevas (id)\n",
      ")\n",
      "\n",
      "\n",
      "2023-05-12 13:41:50,808 INFO sqlalchemy.engine.Engine [no key 0.00078s] ()\n",
      "2023-05-12 13:41:50,811 INFO sqlalchemy.engine.Engine COMMIT\n"
     ]
    }
   ],
   "source": [
    "class Tevas(Base):\n",
    "    __tablename__ = \"tevas\"\n",
    "    id = mapped_column(Integer, primary_key=True)\n",
    "    vardas = mapped_column(\"vardas\", String(50))\n",
    "    pavarde = mapped_column(\"pavarde\", String(50))\n",
    "    vaikai = relationship(\"Vaikas\", back_populates=\"tevas\")\n",
    "\n",
    "\n",
    "class Vaikas(Base):\n",
    "    __tablename__ = \"vaikai\"\n",
    "    id = mapped_column(Integer, primary_key=True)\n",
    "    vardas = mapped_column(\"vardas\", String(50))\n",
    "    pavarde = mapped_column(\"pavarde\", String(50))\n",
    "    mokymo_istaiga = mapped_column(\"mokykla\", String(50))\n",
    "    tevas_id = mapped_column(Integer, ForeignKey(\"tevas.id\"))\n",
    "    tevas = relationship(\"Tevas\", back_populates=\"vaikai\")\n",
    "\n",
    "Base.metadata.create_all(db_engine)\n"
   ]
  },
  {
   "cell_type": "code",
   "execution_count": 16,
   "metadata": {},
   "outputs": [
    {
     "name": "stdout",
     "output_type": "stream",
     "text": [
      "2023-05-12 14:01:42,291 INFO sqlalchemy.engine.Engine BEGIN (implicit)\n",
      "2023-05-12 14:01:42,293 INFO sqlalchemy.engine.Engine INSERT INTO tevas (vardas, pavarde) VALUES (?, ?)\n",
      "2023-05-12 14:01:42,295 INFO sqlalchemy.engine.Engine [generated in 0.00142s] ('Kestutis', 'J')\n",
      "2023-05-12 14:01:42,300 INFO sqlalchemy.engine.Engine INSERT INTO vaikai (vardas, pavarde, mokykla, tevas_id) VALUES (?, ?, ?, ?) RETURNING id\n",
      "2023-05-12 14:01:42,301 INFO sqlalchemy.engine.Engine [generated in 0.00016s (insertmanyvalues) 1/3 (ordered; batch not supported)] ('Emilija', 'J', 'gera', 1)\n",
      "2023-05-12 14:01:42,303 INFO sqlalchemy.engine.Engine INSERT INTO vaikai (vardas, pavarde, mokykla, tevas_id) VALUES (?, ?, ?, ?) RETURNING id\n",
      "2023-05-12 14:01:42,304 INFO sqlalchemy.engine.Engine [insertmanyvalues 2/3 (ordered; batch not supported)] ('Maja', 'J', None, 1)\n",
      "2023-05-12 14:01:42,305 INFO sqlalchemy.engine.Engine INSERT INTO vaikai (vardas, pavarde, mokykla, tevas_id) VALUES (?, ?, ?, ?) RETURNING id\n",
      "2023-05-12 14:01:42,306 INFO sqlalchemy.engine.Engine [insertmanyvalues 3/3 (ordered; batch not supported)] ('Marco', 'J', None, 1)\n",
      "2023-05-12 14:01:42,307 INFO sqlalchemy.engine.Engine COMMIT\n"
     ]
    }
   ],
   "source": [
    "kestutis = Tevas(vardas=\"Kestutis\", pavarde=\"J\")\n",
    "emilija = Vaikas(vardas=\"Emilija\", pavarde=\"J\", mokymo_istaiga=\"gera\", tevas=kestutis)\n",
    "maja = Vaikas(vardas=\"Maja\", pavarde=\"J\")\n",
    "marco = Vaikas(vardas=\"Marco\", pavarde=\"J\")\n",
    "kestutis.vaikai.append(maja)\n",
    "marco.tevas = kestutis\n",
    "session.add_all([kestutis, emilija, maja, marco])\n",
    "session.commit()"
   ]
  },
  {
   "cell_type": "code",
   "execution_count": 17,
   "metadata": {},
   "outputs": [
    {
     "name": "stdout",
     "output_type": "stream",
     "text": [
      "2023-05-12 14:02:12,153 INFO sqlalchemy.engine.Engine BEGIN (implicit)\n",
      "2023-05-12 14:02:12,161 INFO sqlalchemy.engine.Engine SELECT tevas.id AS tevas_id, tevas.vardas AS tevas_vardas, tevas.pavarde AS tevas_pavarde \n",
      "FROM tevas\n",
      " LIMIT ? OFFSET ?\n",
      "2023-05-12 14:02:12,162 INFO sqlalchemy.engine.Engine [generated in 0.00099s] (1, 0)\n",
      "Kestutis\n"
     ]
    }
   ],
   "source": [
    "tevas = session.query(Tevas).first()\n",
    "print(tevas.vardas)"
   ]
  },
  {
   "cell_type": "code",
   "execution_count": 18,
   "metadata": {},
   "outputs": [
    {
     "name": "stdout",
     "output_type": "stream",
     "text": [
      "2023-05-12 14:02:20,534 INFO sqlalchemy.engine.Engine SELECT vaikai.id AS vaikai_id, vaikai.vardas AS vaikai_vardas, vaikai.pavarde AS vaikai_pavarde, vaikai.mokykla AS vaikai_mokykla, vaikai.tevas_id AS vaikai_tevas_id \n",
      "FROM vaikai \n",
      "WHERE ? = vaikai.tevas_id\n",
      "2023-05-12 14:02:20,535 INFO sqlalchemy.engine.Engine [generated in 0.00140s] (1,)\n",
      "Emilija J\n",
      "Maja J\n",
      "Marco J\n"
     ]
    }
   ],
   "source": [
    "for vaikas in tevas.vaikai:\n",
    "    print(vaikas.vardas, vaikas.pavarde)\n"
   ]
  },
  {
   "cell_type": "code",
   "execution_count": 19,
   "metadata": {},
   "outputs": [
    {
     "name": "stdout",
     "output_type": "stream",
     "text": [
      "2023-05-12 14:02:28,126 INFO sqlalchemy.engine.Engine UPDATE vaikai SET pavarde=? WHERE vaikai.id = ?\n",
      "2023-05-12 14:02:28,127 INFO sqlalchemy.engine.Engine [generated in 0.00113s] ('Ja', 2)\n",
      "2023-05-12 14:02:28,129 INFO sqlalchemy.engine.Engine COMMIT\n"
     ]
    }
   ],
   "source": [
    "tevas.vaikai[1].pavarde = \"Ja\"\n",
    "session.commit()"
   ]
  },
  {
   "cell_type": "code",
   "execution_count": 20,
   "metadata": {},
   "outputs": [
    {
     "name": "stdout",
     "output_type": "stream",
     "text": [
      "2023-05-12 14:02:51,033 INFO sqlalchemy.engine.Engine BEGIN (implicit)\n",
      "2023-05-12 14:02:51,035 INFO sqlalchemy.engine.Engine SELECT vaikai.id AS vaikai_id, vaikai.vardas AS vaikai_vardas, vaikai.pavarde AS vaikai_pavarde, vaikai.mokykla AS vaikai_mokykla, vaikai.tevas_id AS vaikai_tevas_id \n",
      "FROM vaikai\n",
      "2023-05-12 14:02:51,037 INFO sqlalchemy.engine.Engine [generated in 0.00150s] ()\n",
      "2023-05-12 14:02:51,041 INFO sqlalchemy.engine.Engine SELECT tevas.id AS tevas_id, tevas.vardas AS tevas_vardas, tevas.pavarde AS tevas_pavarde \n",
      "FROM tevas \n",
      "WHERE tevas.id = ?\n",
      "2023-05-12 14:02:51,043 INFO sqlalchemy.engine.Engine [generated in 0.00158s] (1,)\n",
      "Emilija <__main__.Tevas object at 0x10bde88d0>\n",
      "Maja <__main__.Tevas object at 0x10bde88d0>\n",
      "Marco <__main__.Tevas object at 0x10bde88d0>\n"
     ]
    }
   ],
   "source": [
    "visi_vaikai = session.query(Vaikas).all()\n",
    "for vaikas in visi_vaikai:\n",
    "    print(vaikas.vardas, vaikas.tevas)"
   ]
  },
  {
   "cell_type": "code",
   "execution_count": 21,
   "metadata": {},
   "outputs": [
    {
     "name": "stdout",
     "output_type": "stream",
     "text": [
      "2023-05-12 14:03:06,491 INFO sqlalchemy.engine.Engine SELECT vaikai.id AS vaikai_id, vaikai.vardas AS vaikai_vardas, vaikai.pavarde AS vaikai_pavarde, vaikai.mokykla AS vaikai_mokykla, vaikai.tevas_id AS vaikai_tevas_id \n",
      "FROM vaikai \n",
      "WHERE ? = vaikai.tevas_id\n",
      "2023-05-12 14:03:06,519 INFO sqlalchemy.engine.Engine [cached since 45.99s ago] (1,)\n",
      "2023-05-12 14:03:06,524 INFO sqlalchemy.engine.Engine UPDATE vaikai SET tevas_id=? WHERE vaikai.id = ?\n",
      "2023-05-12 14:03:06,524 INFO sqlalchemy.engine.Engine [generated in 0.00078s] (None, 2)\n",
      "2023-05-12 14:03:06,526 INFO sqlalchemy.engine.Engine COMMIT\n"
     ]
    }
   ],
   "source": [
    "tevas.vaikai.remove(visi_vaikai[1])\n",
    "session.commit()"
   ]
  },
  {
   "cell_type": "code",
   "execution_count": 22,
   "metadata": {},
   "outputs": [
    {
     "name": "stdout",
     "output_type": "stream",
     "text": [
      "2023-05-12 14:03:24,501 INFO sqlalchemy.engine.Engine BEGIN (implicit)\n",
      "2023-05-12 14:03:24,503 INFO sqlalchemy.engine.Engine SELECT vaikai.id AS vaikai_id, vaikai.vardas AS vaikai_vardas, vaikai.pavarde AS vaikai_pavarde, vaikai.mokykla AS vaikai_mokykla \n",
      "FROM vaikai \n",
      "WHERE vaikai.id = ?\n",
      "2023-05-12 14:03:24,504 INFO sqlalchemy.engine.Engine [generated in 0.00143s] (1,)\n",
      "2023-05-12 14:03:24,507 INFO sqlalchemy.engine.Engine UPDATE vaikai SET tevas_id=? WHERE vaikai.id = ?\n",
      "2023-05-12 14:03:24,508 INFO sqlalchemy.engine.Engine [cached since 17.98s ago] (None, 1)\n",
      "2023-05-12 14:03:24,510 INFO sqlalchemy.engine.Engine COMMIT\n"
     ]
    }
   ],
   "source": [
    "visi_vaikai[0].tevas = None\n",
    "session.commit()"
   ]
  },
  {
   "attachments": {},
   "cell_type": "markdown",
   "metadata": {},
   "source": [
    "## many2many"
   ]
  },
  {
   "cell_type": "code",
   "execution_count": 23,
   "metadata": {},
   "outputs": [],
   "source": [
    "from sqlalchemy import Table, Column\n",
    "\n",
    "engine = create_engine('sqlite:///m2m_seima.db')\n",
    "session = sessionmaker(bind=engine)()\n"
   ]
  },
  {
   "cell_type": "code",
   "execution_count": 25,
   "metadata": {},
   "outputs": [
    {
     "ename": "InvalidRequestError",
     "evalue": "Table 'tevai_vaikai' is already defined for this MetaData instance.  Specify 'extend_existing=True' to redefine options and columns on an existing Table object.",
     "output_type": "error",
     "traceback": [
      "\u001b[0;31m---------------------------------------------------------------------------\u001b[0m",
      "\u001b[0;31mInvalidRequestError\u001b[0m                       Traceback (most recent call last)",
      "Cell \u001b[0;32mIn[25], line 1\u001b[0m\n\u001b[0;32m----> 1\u001b[0m sasajos_lentele \u001b[39m=\u001b[39m Table(\u001b[39m'\u001b[39;49m\u001b[39mtevai_vaikai\u001b[39;49m\u001b[39m'\u001b[39;49m, Base\u001b[39m.\u001b[39;49mmetadata, \n\u001b[1;32m      2\u001b[0m     Column(\u001b[39m'\u001b[39;49m\u001b[39mid\u001b[39;49m\u001b[39m'\u001b[39;49m, Integer, primary_key\u001b[39m=\u001b[39;49m\u001b[39mTrue\u001b[39;49;00m),\n\u001b[1;32m      3\u001b[0m     Column(\u001b[39m'\u001b[39;49m\u001b[39mtevas_id\u001b[39;49m\u001b[39m'\u001b[39;49m, Integer, ForeignKey(\u001b[39m'\u001b[39;49m\u001b[39mtevas.id\u001b[39;49m\u001b[39m'\u001b[39;49m)),\n\u001b[1;32m      4\u001b[0m     Column(\u001b[39m'\u001b[39;49m\u001b[39mvaikas_id\u001b[39;49m\u001b[39m'\u001b[39;49m, Integer, ForeignKey(\u001b[39m'\u001b[39;49m\u001b[39mvaikas.id\u001b[39;49m\u001b[39m'\u001b[39;49m)),\n\u001b[1;32m      5\u001b[0m )\n\u001b[1;32m      7\u001b[0m \u001b[39mclass\u001b[39;00m \u001b[39mTevas\u001b[39;00m(Base):\n\u001b[1;32m      8\u001b[0m     __tablename__ \u001b[39m=\u001b[39m \u001b[39m\"\u001b[39m\u001b[39mtevas\u001b[39m\u001b[39m\"\u001b[39m\n",
      "File \u001b[0;32m<string>:2\u001b[0m, in \u001b[0;36m__new__\u001b[0;34m(cls, *args, **kw)\u001b[0m\n",
      "File \u001b[0;32m/Library/Frameworks/Python.framework/Versions/3.11/lib/python3.11/site-packages/sqlalchemy/util/deprecations.py:283\u001b[0m, in \u001b[0;36mdeprecated_params.<locals>.decorate.<locals>.warned\u001b[0;34m(fn, *args, **kwargs)\u001b[0m\n\u001b[1;32m    276\u001b[0m     \u001b[39mif\u001b[39;00m m \u001b[39min\u001b[39;00m kwargs:\n\u001b[1;32m    277\u001b[0m         _warn_with_version(\n\u001b[1;32m    278\u001b[0m             messages[m],\n\u001b[1;32m    279\u001b[0m             versions[m],\n\u001b[1;32m    280\u001b[0m             version_warnings[m],\n\u001b[1;32m    281\u001b[0m             stacklevel\u001b[39m=\u001b[39m\u001b[39m3\u001b[39m,\n\u001b[1;32m    282\u001b[0m         )\n\u001b[0;32m--> 283\u001b[0m \u001b[39mreturn\u001b[39;00m fn(\u001b[39m*\u001b[39;49margs, \u001b[39m*\u001b[39;49m\u001b[39m*\u001b[39;49mkwargs)\n",
      "File \u001b[0;32m/Library/Frameworks/Python.framework/Versions/3.11/lib/python3.11/site-packages/sqlalchemy/sql/schema.py:435\u001b[0m, in \u001b[0;36mTable.__new__\u001b[0;34m(cls, *args, **kw)\u001b[0m\n\u001b[1;32m    428\u001b[0m \u001b[39m@util\u001b[39m\u001b[39m.\u001b[39mdeprecated_params(\n\u001b[1;32m    429\u001b[0m     mustexist\u001b[39m=\u001b[39m(\n\u001b[1;32m    430\u001b[0m         \u001b[39m\"\u001b[39m\u001b[39m1.4\u001b[39m\u001b[39m\"\u001b[39m,\n\u001b[0;32m   (...)\u001b[0m\n\u001b[1;32m    433\u001b[0m )\n\u001b[1;32m    434\u001b[0m \u001b[39mdef\u001b[39;00m \u001b[39m__new__\u001b[39m(\u001b[39mcls\u001b[39m, \u001b[39m*\u001b[39margs: Any, \u001b[39m*\u001b[39m\u001b[39m*\u001b[39mkw: Any) \u001b[39m-\u001b[39m\u001b[39m>\u001b[39m Any:\n\u001b[0;32m--> 435\u001b[0m     \u001b[39mreturn\u001b[39;00m \u001b[39mcls\u001b[39;49m\u001b[39m.\u001b[39;49m_new(\u001b[39m*\u001b[39;49margs, \u001b[39m*\u001b[39;49m\u001b[39m*\u001b[39;49mkw)\n",
      "File \u001b[0;32m/Library/Frameworks/Python.framework/Versions/3.11/lib/python3.11/site-packages/sqlalchemy/sql/schema.py:467\u001b[0m, in \u001b[0;36mTable._new\u001b[0;34m(cls, *args, **kw)\u001b[0m\n\u001b[1;32m    465\u001b[0m \u001b[39mif\u001b[39;00m key \u001b[39min\u001b[39;00m metadata\u001b[39m.\u001b[39mtables:\n\u001b[1;32m    466\u001b[0m     \u001b[39mif\u001b[39;00m \u001b[39mnot\u001b[39;00m keep_existing \u001b[39mand\u001b[39;00m \u001b[39mnot\u001b[39;00m extend_existing \u001b[39mand\u001b[39;00m \u001b[39mbool\u001b[39m(args):\n\u001b[0;32m--> 467\u001b[0m         \u001b[39mraise\u001b[39;00m exc\u001b[39m.\u001b[39mInvalidRequestError(\n\u001b[1;32m    468\u001b[0m             \u001b[39m\"\u001b[39m\u001b[39mTable \u001b[39m\u001b[39m'\u001b[39m\u001b[39m%s\u001b[39;00m\u001b[39m'\u001b[39m\u001b[39m is already defined for this MetaData \u001b[39m\u001b[39m\"\u001b[39m\n\u001b[1;32m    469\u001b[0m             \u001b[39m\"\u001b[39m\u001b[39minstance.  Specify \u001b[39m\u001b[39m'\u001b[39m\u001b[39mextend_existing=True\u001b[39m\u001b[39m'\u001b[39m\u001b[39m \u001b[39m\u001b[39m\"\u001b[39m\n\u001b[1;32m    470\u001b[0m             \u001b[39m\"\u001b[39m\u001b[39mto redefine \u001b[39m\u001b[39m\"\u001b[39m\n\u001b[1;32m    471\u001b[0m             \u001b[39m\"\u001b[39m\u001b[39moptions and columns on an \u001b[39m\u001b[39m\"\u001b[39m\n\u001b[1;32m    472\u001b[0m             \u001b[39m\"\u001b[39m\u001b[39mexisting Table object.\u001b[39m\u001b[39m\"\u001b[39m \u001b[39m%\u001b[39m key\n\u001b[1;32m    473\u001b[0m         )\n\u001b[1;32m    474\u001b[0m     table \u001b[39m=\u001b[39m metadata\u001b[39m.\u001b[39mtables[key]\n\u001b[1;32m    475\u001b[0m     \u001b[39mif\u001b[39;00m extend_existing:\n",
      "\u001b[0;31mInvalidRequestError\u001b[0m: Table 'tevai_vaikai' is already defined for this MetaData instance.  Specify 'extend_existing=True' to redefine options and columns on an existing Table object."
     ]
    }
   ],
   "source": [
    "sasajos_lentele = Table('tevai_vaikai', Base.metadata, \n",
    "    Column('id', Integer, primary_key=True),\n",
    "    Column('tevas_id', Integer, ForeignKey('tevas.id')),\n",
    "    Column('vaikas_id', Integer, ForeignKey('vaikas.id')),\n",
    ")\n",
    "\n",
    "class Tevas(Base):\n",
    "    __tablename__ = \"tevas\"\n",
    "    id = mapped_column(Integer, primary_key=True)\n",
    "    vardas = mapped_column(\"vardas\", String(50))\n",
    "    pavarde = mapped_column(\"pavarde\", String(50))\n",
    "    vaikai = relationship(\n",
    "        \"Vaikas\", \n",
    "        secondary=sasajos_lentele, \n",
    "        back_populates='tevai',\n",
    "    )\n",
    "\n",
    "class Vaikas(Base):\n",
    "    __tablename__ = \"vaikas\"\n",
    "    id = mapped_column(Integer, primary_key=True)\n",
    "    vardas = mapped_column(\"vardas\", String(50))\n",
    "    pavarde = mapped_column(\"pavarde\", String(50))\n",
    "    tevai = relationship(\n",
    "        \"Tevas\",\n",
    "        secondary=sasajos_lentele,\n",
    "        back_populates='vaikai',\n",
    "    )\n",
    "\n",
    "Base.metadata.create_all(engine)"
   ]
  },
  {
   "cell_type": "code",
   "execution_count": 26,
   "metadata": {},
   "outputs": [
    {
     "ename": "AttributeError",
     "evalue": "'Vaikas' object has no attribute 'tevai'",
     "output_type": "error",
     "traceback": [
      "\u001b[0;31m---------------------------------------------------------------------------\u001b[0m",
      "\u001b[0;31mAttributeError\u001b[0m                            Traceback (most recent call last)",
      "Cell \u001b[0;32mIn[26], line 9\u001b[0m\n\u001b[1;32m      7\u001b[0m kestutis\u001b[39m.\u001b[39mvaikai\u001b[39m.\u001b[39mappend(marco)\n\u001b[1;32m      8\u001b[0m kestutis\u001b[39m.\u001b[39mvaikai\u001b[39m.\u001b[39mappend(maja)\n\u001b[0;32m----> 9\u001b[0m emilija\u001b[39m.\u001b[39;49mtevai\u001b[39m.\u001b[39mappend(nicoletta)\n\u001b[1;32m     10\u001b[0m maja\u001b[39m.\u001b[39mtevai\u001b[39m.\u001b[39mappend(nicoletta)\n\u001b[1;32m     11\u001b[0m marco\u001b[39m.\u001b[39mtevai\u001b[39m.\u001b[39mappend(nicoletta)\n",
      "\u001b[0;31mAttributeError\u001b[0m: 'Vaikas' object has no attribute 'tevai'"
     ]
    }
   ],
   "source": [
    "kestutis = Tevas(vardas=\"Kestutis\", pavarde=\"J\")\n",
    "nicoletta = Tevas(vardas=\"Nicoletta\", pavarde=\"P\")\n",
    "emilija = Vaikas(vardas=\"Emilija\", pavarde=\"J\")\n",
    "maja = Vaikas(vardas=\"Maja\", pavarde=\"Ja\")\n",
    "marco = Vaikas(vardas=\"Marco\", pavarde=\"Jo\")\n",
    "kestutis.vaikai.append(emilija)\n",
    "kestutis.vaikai.append(marco)\n",
    "kestutis.vaikai.append(maja)\n",
    "emilija.tevai.append(nicoletta)\n",
    "maja.tevai.append(nicoletta)\n",
    "marco.tevai.append(nicoletta)\n",
    "session.add_all([kestutis, emilija, maja, marco, nicoletta])\n",
    "session.commit()"
   ]
  },
  {
   "cell_type": "code",
   "execution_count": 27,
   "metadata": {},
   "outputs": [
    {
     "ename": "OperationalError",
     "evalue": "(sqlite3.OperationalError) no such table: tevas\n[SQL: SELECT tevas.id AS tevas_id, tevas.vardas AS tevas_vardas, tevas.pavarde AS tevas_pavarde \nFROM tevas \nWHERE tevas.vardas = ?\n LIMIT ? OFFSET ?]\n[parameters: ('Kestutis', 1, 0)]\n(Background on this error at: https://sqlalche.me/e/20/e3q8)",
     "output_type": "error",
     "traceback": [
      "\u001b[0;31m---------------------------------------------------------------------------\u001b[0m",
      "\u001b[0;31mOperationalError\u001b[0m                          Traceback (most recent call last)",
      "File \u001b[0;32m/Library/Frameworks/Python.framework/Versions/3.11/lib/python3.11/site-packages/sqlalchemy/engine/base.py:1963\u001b[0m, in \u001b[0;36mConnection._exec_single_context\u001b[0;34m(self, dialect, context, statement, parameters)\u001b[0m\n\u001b[1;32m   1962\u001b[0m     \u001b[39mif\u001b[39;00m \u001b[39mnot\u001b[39;00m evt_handled:\n\u001b[0;32m-> 1963\u001b[0m         \u001b[39mself\u001b[39;49m\u001b[39m.\u001b[39;49mdialect\u001b[39m.\u001b[39;49mdo_execute(\n\u001b[1;32m   1964\u001b[0m             cursor, str_statement, effective_parameters, context\n\u001b[1;32m   1965\u001b[0m         )\n\u001b[1;32m   1967\u001b[0m \u001b[39mif\u001b[39;00m \u001b[39mself\u001b[39m\u001b[39m.\u001b[39m_has_events \u001b[39mor\u001b[39;00m \u001b[39mself\u001b[39m\u001b[39m.\u001b[39mengine\u001b[39m.\u001b[39m_has_events:\n",
      "File \u001b[0;32m/Library/Frameworks/Python.framework/Versions/3.11/lib/python3.11/site-packages/sqlalchemy/engine/default.py:920\u001b[0m, in \u001b[0;36mDefaultDialect.do_execute\u001b[0;34m(self, cursor, statement, parameters, context)\u001b[0m\n\u001b[1;32m    919\u001b[0m \u001b[39mdef\u001b[39;00m \u001b[39mdo_execute\u001b[39m(\u001b[39mself\u001b[39m, cursor, statement, parameters, context\u001b[39m=\u001b[39m\u001b[39mNone\u001b[39;00m):\n\u001b[0;32m--> 920\u001b[0m     cursor\u001b[39m.\u001b[39mexecute(statement, parameters)\n",
      "\u001b[0;31mOperationalError\u001b[0m: no such table: tevas",
      "\nThe above exception was the direct cause of the following exception:\n",
      "\u001b[0;31mOperationalError\u001b[0m                          Traceback (most recent call last)",
      "Cell \u001b[0;32mIn[27], line 1\u001b[0m\n\u001b[0;32m----> 1\u001b[0m tevas \u001b[39m=\u001b[39m session\u001b[39m.\u001b[39;49mquery(Tevas)\u001b[39m.\u001b[39;49mfilter(Tevas\u001b[39m.\u001b[39;49mvardas \u001b[39m==\u001b[39;49m \u001b[39m\"\u001b[39;49m\u001b[39mKestutis\u001b[39;49m\u001b[39m\"\u001b[39;49m)\u001b[39m.\u001b[39;49mfirst()\n\u001b[1;32m      2\u001b[0m mama \u001b[39m=\u001b[39m session\u001b[39m.\u001b[39mquery(Tevas)\u001b[39m.\u001b[39mfilter(Tevas\u001b[39m.\u001b[39mvardas \u001b[39m==\u001b[39m \u001b[39m\"\u001b[39m\u001b[39mNicoletta\u001b[39m\u001b[39m\"\u001b[39m)\u001b[39m.\u001b[39mfirst()\n\u001b[1;32m      3\u001b[0m \u001b[39mfor\u001b[39;00m vaikas \u001b[39min\u001b[39;00m tevas\u001b[39m.\u001b[39mvaikai:\n",
      "File \u001b[0;32m/Library/Frameworks/Python.framework/Versions/3.11/lib/python3.11/site-packages/sqlalchemy/orm/query.py:2743\u001b[0m, in \u001b[0;36mQuery.first\u001b[0;34m(self)\u001b[0m\n\u001b[1;32m   2741\u001b[0m     \u001b[39mreturn\u001b[39;00m \u001b[39mself\u001b[39m\u001b[39m.\u001b[39m_iter()\u001b[39m.\u001b[39mfirst()  \u001b[39m# type: ignore\u001b[39;00m\n\u001b[1;32m   2742\u001b[0m \u001b[39melse\u001b[39;00m:\n\u001b[0;32m-> 2743\u001b[0m     \u001b[39mreturn\u001b[39;00m \u001b[39mself\u001b[39;49m\u001b[39m.\u001b[39;49mlimit(\u001b[39m1\u001b[39;49m)\u001b[39m.\u001b[39;49m_iter()\u001b[39m.\u001b[39mfirst()\n",
      "File \u001b[0;32m/Library/Frameworks/Python.framework/Versions/3.11/lib/python3.11/site-packages/sqlalchemy/orm/query.py:2842\u001b[0m, in \u001b[0;36mQuery._iter\u001b[0;34m(self)\u001b[0m\n\u001b[1;32m   2839\u001b[0m params \u001b[39m=\u001b[39m \u001b[39mself\u001b[39m\u001b[39m.\u001b[39m_params\n\u001b[1;32m   2841\u001b[0m statement \u001b[39m=\u001b[39m \u001b[39mself\u001b[39m\u001b[39m.\u001b[39m_statement_20()\n\u001b[0;32m-> 2842\u001b[0m result: Union[ScalarResult[_T], Result[_T]] \u001b[39m=\u001b[39m \u001b[39mself\u001b[39;49m\u001b[39m.\u001b[39;49msession\u001b[39m.\u001b[39;49mexecute(\n\u001b[1;32m   2843\u001b[0m     statement,\n\u001b[1;32m   2844\u001b[0m     params,\n\u001b[1;32m   2845\u001b[0m     execution_options\u001b[39m=\u001b[39;49m{\u001b[39m\"\u001b[39;49m\u001b[39m_sa_orm_load_options\u001b[39;49m\u001b[39m\"\u001b[39;49m: \u001b[39mself\u001b[39;49m\u001b[39m.\u001b[39;49mload_options},\n\u001b[1;32m   2846\u001b[0m )\n\u001b[1;32m   2848\u001b[0m \u001b[39m# legacy: automatically set scalars, unique\u001b[39;00m\n\u001b[1;32m   2849\u001b[0m \u001b[39mif\u001b[39;00m result\u001b[39m.\u001b[39m_attributes\u001b[39m.\u001b[39mget(\u001b[39m\"\u001b[39m\u001b[39mis_single_entity\u001b[39m\u001b[39m\"\u001b[39m, \u001b[39mFalse\u001b[39;00m):\n",
      "File \u001b[0;32m/Library/Frameworks/Python.framework/Versions/3.11/lib/python3.11/site-packages/sqlalchemy/orm/session.py:2231\u001b[0m, in \u001b[0;36mSession.execute\u001b[0;34m(self, statement, params, execution_options, bind_arguments, _parent_execute_state, _add_event)\u001b[0m\n\u001b[1;32m   2170\u001b[0m \u001b[39mdef\u001b[39;00m \u001b[39mexecute\u001b[39m(\n\u001b[1;32m   2171\u001b[0m     \u001b[39mself\u001b[39m,\n\u001b[1;32m   2172\u001b[0m     statement: Executable,\n\u001b[0;32m   (...)\u001b[0m\n\u001b[1;32m   2178\u001b[0m     _add_event: Optional[Any] \u001b[39m=\u001b[39m \u001b[39mNone\u001b[39;00m,\n\u001b[1;32m   2179\u001b[0m ) \u001b[39m-\u001b[39m\u001b[39m>\u001b[39m Result[Any]:\n\u001b[1;32m   2180\u001b[0m \u001b[39m    \u001b[39m\u001b[39mr\u001b[39m\u001b[39m\"\"\"Execute a SQL expression construct.\u001b[39;00m\n\u001b[1;32m   2181\u001b[0m \n\u001b[1;32m   2182\u001b[0m \u001b[39m    Returns a :class:`_engine.Result` object representing\u001b[39;00m\n\u001b[0;32m   (...)\u001b[0m\n\u001b[1;32m   2229\u001b[0m \n\u001b[1;32m   2230\u001b[0m \u001b[39m    \"\"\"\u001b[39;00m\n\u001b[0;32m-> 2231\u001b[0m     \u001b[39mreturn\u001b[39;00m \u001b[39mself\u001b[39;49m\u001b[39m.\u001b[39;49m_execute_internal(\n\u001b[1;32m   2232\u001b[0m         statement,\n\u001b[1;32m   2233\u001b[0m         params,\n\u001b[1;32m   2234\u001b[0m         execution_options\u001b[39m=\u001b[39;49mexecution_options,\n\u001b[1;32m   2235\u001b[0m         bind_arguments\u001b[39m=\u001b[39;49mbind_arguments,\n\u001b[1;32m   2236\u001b[0m         _parent_execute_state\u001b[39m=\u001b[39;49m_parent_execute_state,\n\u001b[1;32m   2237\u001b[0m         _add_event\u001b[39m=\u001b[39;49m_add_event,\n\u001b[1;32m   2238\u001b[0m     )\n",
      "File \u001b[0;32m/Library/Frameworks/Python.framework/Versions/3.11/lib/python3.11/site-packages/sqlalchemy/orm/session.py:2126\u001b[0m, in \u001b[0;36mSession._execute_internal\u001b[0;34m(self, statement, params, execution_options, bind_arguments, _parent_execute_state, _add_event, _scalar_result)\u001b[0m\n\u001b[1;32m   2121\u001b[0m     \u001b[39mreturn\u001b[39;00m conn\u001b[39m.\u001b[39mscalar(\n\u001b[1;32m   2122\u001b[0m         statement, params \u001b[39mor\u001b[39;00m {}, execution_options\u001b[39m=\u001b[39mexecution_options\n\u001b[1;32m   2123\u001b[0m     )\n\u001b[1;32m   2125\u001b[0m \u001b[39mif\u001b[39;00m compile_state_cls:\n\u001b[0;32m-> 2126\u001b[0m     result: Result[Any] \u001b[39m=\u001b[39m compile_state_cls\u001b[39m.\u001b[39;49morm_execute_statement(\n\u001b[1;32m   2127\u001b[0m         \u001b[39mself\u001b[39;49m,\n\u001b[1;32m   2128\u001b[0m         statement,\n\u001b[1;32m   2129\u001b[0m         params \u001b[39mor\u001b[39;49;00m {},\n\u001b[1;32m   2130\u001b[0m         execution_options,\n\u001b[1;32m   2131\u001b[0m         bind_arguments,\n\u001b[1;32m   2132\u001b[0m         conn,\n\u001b[1;32m   2133\u001b[0m     )\n\u001b[1;32m   2134\u001b[0m \u001b[39melse\u001b[39;00m:\n\u001b[1;32m   2135\u001b[0m     result \u001b[39m=\u001b[39m conn\u001b[39m.\u001b[39mexecute(\n\u001b[1;32m   2136\u001b[0m         statement, params \u001b[39mor\u001b[39;00m {}, execution_options\u001b[39m=\u001b[39mexecution_options\n\u001b[1;32m   2137\u001b[0m     )\n",
      "File \u001b[0;32m/Library/Frameworks/Python.framework/Versions/3.11/lib/python3.11/site-packages/sqlalchemy/orm/context.py:292\u001b[0m, in \u001b[0;36mAbstractORMCompileState.orm_execute_statement\u001b[0;34m(cls, session, statement, params, execution_options, bind_arguments, conn)\u001b[0m\n\u001b[1;32m    282\u001b[0m \u001b[39m@classmethod\u001b[39m\n\u001b[1;32m    283\u001b[0m \u001b[39mdef\u001b[39;00m \u001b[39morm_execute_statement\u001b[39m(\n\u001b[1;32m    284\u001b[0m     \u001b[39mcls\u001b[39m,\n\u001b[0;32m   (...)\u001b[0m\n\u001b[1;32m    290\u001b[0m     conn,\n\u001b[1;32m    291\u001b[0m ) \u001b[39m-\u001b[39m\u001b[39m>\u001b[39m Result:\n\u001b[0;32m--> 292\u001b[0m     result \u001b[39m=\u001b[39m conn\u001b[39m.\u001b[39;49mexecute(\n\u001b[1;32m    293\u001b[0m         statement, params \u001b[39mor\u001b[39;49;00m {}, execution_options\u001b[39m=\u001b[39;49mexecution_options\n\u001b[1;32m    294\u001b[0m     )\n\u001b[1;32m    295\u001b[0m     \u001b[39mreturn\u001b[39;00m \u001b[39mcls\u001b[39m\u001b[39m.\u001b[39morm_setup_cursor_result(\n\u001b[1;32m    296\u001b[0m         session,\n\u001b[1;32m    297\u001b[0m         statement,\n\u001b[0;32m   (...)\u001b[0m\n\u001b[1;32m    301\u001b[0m         result,\n\u001b[1;32m    302\u001b[0m     )\n",
      "File \u001b[0;32m/Library/Frameworks/Python.framework/Versions/3.11/lib/python3.11/site-packages/sqlalchemy/engine/base.py:1413\u001b[0m, in \u001b[0;36mConnection.execute\u001b[0;34m(self, statement, parameters, execution_options)\u001b[0m\n\u001b[1;32m   1411\u001b[0m     \u001b[39mraise\u001b[39;00m exc\u001b[39m.\u001b[39mObjectNotExecutableError(statement) \u001b[39mfrom\u001b[39;00m \u001b[39merr\u001b[39;00m\n\u001b[1;32m   1412\u001b[0m \u001b[39melse\u001b[39;00m:\n\u001b[0;32m-> 1413\u001b[0m     \u001b[39mreturn\u001b[39;00m meth(\n\u001b[1;32m   1414\u001b[0m         \u001b[39mself\u001b[39;49m,\n\u001b[1;32m   1415\u001b[0m         distilled_parameters,\n\u001b[1;32m   1416\u001b[0m         execution_options \u001b[39mor\u001b[39;49;00m NO_OPTIONS,\n\u001b[1;32m   1417\u001b[0m     )\n",
      "File \u001b[0;32m/Library/Frameworks/Python.framework/Versions/3.11/lib/python3.11/site-packages/sqlalchemy/sql/elements.py:483\u001b[0m, in \u001b[0;36mClauseElement._execute_on_connection\u001b[0;34m(self, connection, distilled_params, execution_options)\u001b[0m\n\u001b[1;32m    481\u001b[0m     \u001b[39mif\u001b[39;00m TYPE_CHECKING:\n\u001b[1;32m    482\u001b[0m         \u001b[39massert\u001b[39;00m \u001b[39misinstance\u001b[39m(\u001b[39mself\u001b[39m, Executable)\n\u001b[0;32m--> 483\u001b[0m     \u001b[39mreturn\u001b[39;00m connection\u001b[39m.\u001b[39;49m_execute_clauseelement(\n\u001b[1;32m    484\u001b[0m         \u001b[39mself\u001b[39;49m, distilled_params, execution_options\n\u001b[1;32m    485\u001b[0m     )\n\u001b[1;32m    486\u001b[0m \u001b[39melse\u001b[39;00m:\n\u001b[1;32m    487\u001b[0m     \u001b[39mraise\u001b[39;00m exc\u001b[39m.\u001b[39mObjectNotExecutableError(\u001b[39mself\u001b[39m)\n",
      "File \u001b[0;32m/Library/Frameworks/Python.framework/Versions/3.11/lib/python3.11/site-packages/sqlalchemy/engine/base.py:1637\u001b[0m, in \u001b[0;36mConnection._execute_clauseelement\u001b[0;34m(self, elem, distilled_parameters, execution_options)\u001b[0m\n\u001b[1;32m   1625\u001b[0m compiled_cache: Optional[CompiledCacheType] \u001b[39m=\u001b[39m execution_options\u001b[39m.\u001b[39mget(\n\u001b[1;32m   1626\u001b[0m     \u001b[39m\"\u001b[39m\u001b[39mcompiled_cache\u001b[39m\u001b[39m\"\u001b[39m, \u001b[39mself\u001b[39m\u001b[39m.\u001b[39mengine\u001b[39m.\u001b[39m_compiled_cache\n\u001b[1;32m   1627\u001b[0m )\n\u001b[1;32m   1629\u001b[0m compiled_sql, extracted_params, cache_hit \u001b[39m=\u001b[39m elem\u001b[39m.\u001b[39m_compile_w_cache(\n\u001b[1;32m   1630\u001b[0m     dialect\u001b[39m=\u001b[39mdialect,\n\u001b[1;32m   1631\u001b[0m     compiled_cache\u001b[39m=\u001b[39mcompiled_cache,\n\u001b[0;32m   (...)\u001b[0m\n\u001b[1;32m   1635\u001b[0m     linting\u001b[39m=\u001b[39m\u001b[39mself\u001b[39m\u001b[39m.\u001b[39mdialect\u001b[39m.\u001b[39mcompiler_linting \u001b[39m|\u001b[39m compiler\u001b[39m.\u001b[39mWARN_LINTING,\n\u001b[1;32m   1636\u001b[0m )\n\u001b[0;32m-> 1637\u001b[0m ret \u001b[39m=\u001b[39m \u001b[39mself\u001b[39;49m\u001b[39m.\u001b[39;49m_execute_context(\n\u001b[1;32m   1638\u001b[0m     dialect,\n\u001b[1;32m   1639\u001b[0m     dialect\u001b[39m.\u001b[39;49mexecution_ctx_cls\u001b[39m.\u001b[39;49m_init_compiled,\n\u001b[1;32m   1640\u001b[0m     compiled_sql,\n\u001b[1;32m   1641\u001b[0m     distilled_parameters,\n\u001b[1;32m   1642\u001b[0m     execution_options,\n\u001b[1;32m   1643\u001b[0m     compiled_sql,\n\u001b[1;32m   1644\u001b[0m     distilled_parameters,\n\u001b[1;32m   1645\u001b[0m     elem,\n\u001b[1;32m   1646\u001b[0m     extracted_params,\n\u001b[1;32m   1647\u001b[0m     cache_hit\u001b[39m=\u001b[39;49mcache_hit,\n\u001b[1;32m   1648\u001b[0m )\n\u001b[1;32m   1649\u001b[0m \u001b[39mif\u001b[39;00m has_events:\n\u001b[1;32m   1650\u001b[0m     \u001b[39mself\u001b[39m\u001b[39m.\u001b[39mdispatch\u001b[39m.\u001b[39mafter_execute(\n\u001b[1;32m   1651\u001b[0m         \u001b[39mself\u001b[39m,\n\u001b[1;32m   1652\u001b[0m         elem,\n\u001b[0;32m   (...)\u001b[0m\n\u001b[1;32m   1656\u001b[0m         ret,\n\u001b[1;32m   1657\u001b[0m     )\n",
      "File \u001b[0;32m/Library/Frameworks/Python.framework/Versions/3.11/lib/python3.11/site-packages/sqlalchemy/engine/base.py:1841\u001b[0m, in \u001b[0;36mConnection._execute_context\u001b[0;34m(self, dialect, constructor, statement, parameters, execution_options, *args, **kw)\u001b[0m\n\u001b[1;32m   1836\u001b[0m     \u001b[39mreturn\u001b[39;00m \u001b[39mself\u001b[39m\u001b[39m.\u001b[39m_exec_insertmany_context(\n\u001b[1;32m   1837\u001b[0m         dialect,\n\u001b[1;32m   1838\u001b[0m         context,\n\u001b[1;32m   1839\u001b[0m     )\n\u001b[1;32m   1840\u001b[0m \u001b[39melse\u001b[39;00m:\n\u001b[0;32m-> 1841\u001b[0m     \u001b[39mreturn\u001b[39;00m \u001b[39mself\u001b[39;49m\u001b[39m.\u001b[39;49m_exec_single_context(\n\u001b[1;32m   1842\u001b[0m         dialect, context, statement, parameters\n\u001b[1;32m   1843\u001b[0m     )\n",
      "File \u001b[0;32m/Library/Frameworks/Python.framework/Versions/3.11/lib/python3.11/site-packages/sqlalchemy/engine/base.py:1982\u001b[0m, in \u001b[0;36mConnection._exec_single_context\u001b[0;34m(self, dialect, context, statement, parameters)\u001b[0m\n\u001b[1;32m   1979\u001b[0m     result \u001b[39m=\u001b[39m context\u001b[39m.\u001b[39m_setup_result_proxy()\n\u001b[1;32m   1981\u001b[0m \u001b[39mexcept\u001b[39;00m \u001b[39mBaseException\u001b[39;00m \u001b[39mas\u001b[39;00m e:\n\u001b[0;32m-> 1982\u001b[0m     \u001b[39mself\u001b[39;49m\u001b[39m.\u001b[39;49m_handle_dbapi_exception(\n\u001b[1;32m   1983\u001b[0m         e, str_statement, effective_parameters, cursor, context\n\u001b[1;32m   1984\u001b[0m     )\n\u001b[1;32m   1986\u001b[0m \u001b[39mreturn\u001b[39;00m result\n",
      "File \u001b[0;32m/Library/Frameworks/Python.framework/Versions/3.11/lib/python3.11/site-packages/sqlalchemy/engine/base.py:2339\u001b[0m, in \u001b[0;36mConnection._handle_dbapi_exception\u001b[0;34m(self, e, statement, parameters, cursor, context, is_sub_exec)\u001b[0m\n\u001b[1;32m   2337\u001b[0m \u001b[39melif\u001b[39;00m should_wrap:\n\u001b[1;32m   2338\u001b[0m     \u001b[39massert\u001b[39;00m sqlalchemy_exception \u001b[39mis\u001b[39;00m \u001b[39mnot\u001b[39;00m \u001b[39mNone\u001b[39;00m\n\u001b[0;32m-> 2339\u001b[0m     \u001b[39mraise\u001b[39;00m sqlalchemy_exception\u001b[39m.\u001b[39mwith_traceback(exc_info[\u001b[39m2\u001b[39m]) \u001b[39mfrom\u001b[39;00m \u001b[39me\u001b[39;00m\n\u001b[1;32m   2340\u001b[0m \u001b[39melse\u001b[39;00m:\n\u001b[1;32m   2341\u001b[0m     \u001b[39massert\u001b[39;00m exc_info[\u001b[39m1\u001b[39m] \u001b[39mis\u001b[39;00m \u001b[39mnot\u001b[39;00m \u001b[39mNone\u001b[39;00m\n",
      "File \u001b[0;32m/Library/Frameworks/Python.framework/Versions/3.11/lib/python3.11/site-packages/sqlalchemy/engine/base.py:1963\u001b[0m, in \u001b[0;36mConnection._exec_single_context\u001b[0;34m(self, dialect, context, statement, parameters)\u001b[0m\n\u001b[1;32m   1961\u001b[0m                 \u001b[39mbreak\u001b[39;00m\n\u001b[1;32m   1962\u001b[0m     \u001b[39mif\u001b[39;00m \u001b[39mnot\u001b[39;00m evt_handled:\n\u001b[0;32m-> 1963\u001b[0m         \u001b[39mself\u001b[39;49m\u001b[39m.\u001b[39;49mdialect\u001b[39m.\u001b[39;49mdo_execute(\n\u001b[1;32m   1964\u001b[0m             cursor, str_statement, effective_parameters, context\n\u001b[1;32m   1965\u001b[0m         )\n\u001b[1;32m   1967\u001b[0m \u001b[39mif\u001b[39;00m \u001b[39mself\u001b[39m\u001b[39m.\u001b[39m_has_events \u001b[39mor\u001b[39;00m \u001b[39mself\u001b[39m\u001b[39m.\u001b[39mengine\u001b[39m.\u001b[39m_has_events:\n\u001b[1;32m   1968\u001b[0m     \u001b[39mself\u001b[39m\u001b[39m.\u001b[39mdispatch\u001b[39m.\u001b[39mafter_cursor_execute(\n\u001b[1;32m   1969\u001b[0m         \u001b[39mself\u001b[39m,\n\u001b[1;32m   1970\u001b[0m         cursor,\n\u001b[0;32m   (...)\u001b[0m\n\u001b[1;32m   1974\u001b[0m         context\u001b[39m.\u001b[39mexecutemany,\n\u001b[1;32m   1975\u001b[0m     )\n",
      "File \u001b[0;32m/Library/Frameworks/Python.framework/Versions/3.11/lib/python3.11/site-packages/sqlalchemy/engine/default.py:920\u001b[0m, in \u001b[0;36mDefaultDialect.do_execute\u001b[0;34m(self, cursor, statement, parameters, context)\u001b[0m\n\u001b[1;32m    919\u001b[0m \u001b[39mdef\u001b[39;00m \u001b[39mdo_execute\u001b[39m(\u001b[39mself\u001b[39m, cursor, statement, parameters, context\u001b[39m=\u001b[39m\u001b[39mNone\u001b[39;00m):\n\u001b[0;32m--> 920\u001b[0m     cursor\u001b[39m.\u001b[39mexecute(statement, parameters)\n",
      "\u001b[0;31mOperationalError\u001b[0m: (sqlite3.OperationalError) no such table: tevas\n[SQL: SELECT tevas.id AS tevas_id, tevas.vardas AS tevas_vardas, tevas.pavarde AS tevas_pavarde \nFROM tevas \nWHERE tevas.vardas = ?\n LIMIT ? OFFSET ?]\n[parameters: ('Kestutis', 1, 0)]\n(Background on this error at: https://sqlalche.me/e/20/e3q8)"
     ]
    }
   ],
   "source": [
    "tevas = session.query(Tevas).filter(Tevas.vardas == \"Kestutis\").first()\n",
    "mama = session.query(Tevas).filter(Tevas.vardas == \"Nicoletta\").first()\n",
    "for vaikas in tevas.vaikai:\n",
    "    print(vaikas.vardas, vaikas.pavarde)\n",
    "for vaikas in mama.vaikai:\n",
    "    print(vaikas.vardas, vaikas.pavarde)"
   ]
  }
 ],
 "metadata": {
  "kernelspec": {
   "display_name": "Python 3",
   "language": "python",
   "name": "python3"
  },
  "language_info": {
   "codemirror_mode": {
    "name": "ipython",
    "version": 3
   },
   "file_extension": ".py",
   "mimetype": "text/x-python",
   "name": "python",
   "nbconvert_exporter": "python",
   "pygments_lexer": "ipython3",
   "version": "3.11.3"
  },
  "orig_nbformat": 4
 },
 "nbformat": 4,
 "nbformat_minor": 2
}
