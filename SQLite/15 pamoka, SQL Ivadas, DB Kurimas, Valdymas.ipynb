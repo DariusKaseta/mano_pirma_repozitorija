{
 "cells": [
  {
   "attachments": {},
   "cell_type": "markdown",
   "metadata": {},
   "source": [
    "# Duomenų tipai\n",
    "\n",
    "SQL duomenų tipai gali šiek tiek skirtis tarp skirtingų duomenų bazių sistemų, tačiau štai pagrindiniai duomenų tipai, kuriuos galima rasti daugelyje sistemų\n",
    "\n",
    "# Tekstas\n",
    "\n",
    "CHAR(n): Fiksuoto dydžio tekstas, kur n yra simbolių skaičius.\n",
    "VARCHAR(n): Kintamo dydžio tekstas, kur n yra maksimalus simbolių skaičius.\n",
    "TEXT: Kintamo dydžio tekstas, kurio ilgis gali būti labai didelis.\n",
    "#  Sveikieji skaičiai\n",
    "\n",
    "TINYINT: Mažas sveikasis skaičius.\n",
    "SMALLINT: Vidutinio dydžio sveikasis skaičius.\n",
    "INTEGER: Didelis sveikasis skaičius.\n",
    "BIGINT: Labai didelis sveikasis skaičius.\n",
    "# Skaičiai su kableliu\n",
    "\n",
    "FLOAT(n, d): Aproksimacija realaus skaičiaus su n skaitmenimis ir d dešimtainiais skaitmenimis.\n",
    "REAL: Realus skaičius su 7 skaitmenimis tikslumu.\n",
    "DOUBLE: Realus skaičius su 15 skaitmenimis tikslumu.\n",
    "DECIMAL(n, d): Tikslus realus skaičius su n skaitmenimis ir d dešimtainiais skaitmenimis.\n",
    "NUMERIC(n, d): Panašus į DECIMAL, bet skiriasi kai kuriuose aspektuose.\n",
    "# Datos ir laiko\n",
    "\n",
    "DATE: Data (metai, mėnesiai, dienos).\n",
    "TIME: Laikas (valandos, minutės, sekundės).\n",
    "TIMESTAMP: Data ir laikas.\n",
    "DATETIME: Data ir laikas (skirtumas tarp TIMESTAMP ir DATETIME gali būti sistemose).\n",
    "INTERVAL: Laiko tarpas tarp dviejų datų ar laikų.\n",
    "# Loginiai\n",
    "\n",
    "BOOLEAN: Loginis tipas, kuris gali turėti reikšmes TRUE, FALSE arba NULL.\n",
    "# Binariniai\n",
    "\n",
    "BINARY(n): Fiksuoto dydžio dvejetainiai duomenys, kur n yra baitų skaičius. VARBINARY(n): Kintamo dydžio dvejetainiai duomenys, kur n yra maksimalus baitų skaičius.\n",
    "BLOB: Didelis dvejetainių duomenų objektas, skirtas saugoti didelius dvejetainius duomenis.\n",
    "# ENUM ir SET\n",
    "\n",
    "ENUM: Leidžia nurodyti konkretų iš anksto apibrėžtų reikšmių sąrašą.\n",
    "SET: Leidžia nurodyti konkretų iš anksto apibrėžtų reikšmių sąrašą, bet skirtingai nei ENUM, galima saugoti kelias reikšmes viename įraše.\n",
    "\n",
    "# CREATE TABLE\n",
    "\n",
    "Ši užklausa naudojama sukurti naują lentelę duomenų bazeje. Kuriant ar valdant duomenis pirmą kartą ir norint, kad duomenų bazė veiktų, gali reikti ją išsaugoti savo kompiuteryje.\n",
    "\n",
    "Duomenų bazės lentelėse saugomi įrašai, kurie atspindi tam tikrus objektus ar dalykus. Kiekviena lentelė turi stulpelius (laukus) ir eilutes (įrašus). Stulpeliai aprašo kiekvieno įrašo savybes, o eilutėse saugomi faktiniai duomenys.\n",
    "\n"
   ]
  },
  {
   "attachments": {},
   "cell_type": "markdown",
   "metadata": {},
   "source": [
    "# ALTER TABLE\n",
    "\n",
    "Ši užklausa naudojama modifikuoti esamą lentelę, pvz., pridėti naują stulpelį ar pakeisti esamo stulpelio tipą.\n",
    "\n",
    "Pavyzdys\n",
    "\n",
    "ALTER TABLE klientai\n",
    "ADD telefonas VARCHAR(20);\n",
    "ALTER TABLE klientai\n",
    "ALTER COLUMN adresas TEXT;\n",
    "\n",
    "# DROP TABLE\n",
    "\n",
    "Ši užklausa naudojama pašalinti lentelę iš duomenų bazės.\n",
    "\n",
    "Pavyzdys\n",
    "\n",
    "DROP TABLE klientai;"
   ]
  }
 ],
 "metadata": {
  "kernelspec": {
   "display_name": "Python 3",
   "language": "python",
   "name": "python3"
  },
  "language_info": {
   "name": "python",
   "version": "3.11.3"
  },
  "orig_nbformat": 4
 },
 "nbformat": 4,
 "nbformat_minor": 2
}
