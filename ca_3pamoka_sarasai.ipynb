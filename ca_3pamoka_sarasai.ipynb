{
 "cells": [
  {
   "attachments": {},
   "cell_type": "markdown",
   "metadata": {},
   "source": [
    "# Sarasai\n"
   ]
  },
  {
   "cell_type": "code",
   "execution_count": 6,
   "metadata": {},
   "outputs": [
    {
     "name": "stdout",
     "output_type": "stream",
     "text": [
      "[1, 2, 3, 4, 5]\n"
     ]
    }
   ],
   "source": [
    "skaiciai = [1, 2, 3, 4, 5]\n",
    "print(skaiciai)"
   ]
  },
  {
   "cell_type": "code",
   "execution_count": 2,
   "metadata": {},
   "outputs": [
    {
     "name": "stdout",
     "output_type": "stream",
     "text": [
      "['geri', 'buvo', 'pietus']\n"
     ]
    }
   ],
   "source": [
    "zodziai = [\"geri\", \"buvo\", \"pietus\"]\n",
    "print(zodziai)"
   ]
  },
  {
   "cell_type": "code",
   "execution_count": 7,
   "metadata": {},
   "outputs": [
    {
     "name": "stdout",
     "output_type": "stream",
     "text": [
      "5\n"
     ]
    }
   ],
   "source": [
    "# pasiekiami saraso elementai\n",
    "\n",
    "print(skaiciai[-1])"
   ]
  },
  {
   "cell_type": "code",
   "execution_count": 11,
   "metadata": {},
   "outputs": [
    {
     "name": "stdout",
     "output_type": "stream",
     "text": [
      "[1, 2, 3]\n",
      "[3, 4, 5]\n",
      "[3, 4]\n"
     ]
    }
   ],
   "source": [
    "print(skaiciai[:3])\n",
    "\n",
    "print(skaiciai[2:])\n",
    "\n",
    "print(skaiciai[2:4])"
   ]
  },
  {
   "cell_type": "code",
   "execution_count": 12,
   "metadata": {},
   "outputs": [
    {
     "name": "stdout",
     "output_type": "stream",
     "text": [
      "[5, 3, 1]\n"
     ]
    }
   ],
   "source": [
    "# isveda kas antra skaiciu, nuo galo\n",
    "\n",
    "print(skaiciai[::-2])"
   ]
  },
  {
   "cell_type": "code",
   "execution_count": 13,
   "metadata": {},
   "outputs": [
    {
     "name": "stdout",
     "output_type": "stream",
     "text": [
      "atsaren seluas ,aneid agniteil izarG\n"
     ]
    }
   ],
   "source": [
    "\n",
    "sakinys = \"Grazi lietinga diena, saules nerasta\"\n",
    "print(sakinys[::-1])"
   ]
  },
  {
   "cell_type": "code",
   "execution_count": 17,
   "metadata": {},
   "outputs": [
    {
     "name": "stdout",
     "output_type": "stream",
     "text": [
      "['Grazi', 'lietinga', 'diena', 'saules', 'nerasta']\n"
     ]
    }
   ],
   "source": [
    "sakinys = sakinys.replace(\",\", \"\")\n",
    "sakinio_zodziai = sakinys.split()\n",
    "print(sakinio_zodziai)"
   ]
  },
  {
   "cell_type": "code",
   "execution_count": 18,
   "metadata": {},
   "outputs": [
    {
     "name": "stdout",
     "output_type": "stream",
     "text": [
      "[1, 2, 3, 4, 5, 6]\n"
     ]
    }
   ],
   "source": [
    "# pridedamas skaicius su append metodu, norima indeksa nurodom\n",
    "\n",
    "skaiciai.append(6)\n",
    "print(skaiciai)"
   ]
  },
  {
   "cell_type": "code",
   "execution_count": 19,
   "metadata": {},
   "outputs": [
    {
     "name": "stdout",
     "output_type": "stream",
     "text": [
      "[1, 2, 3, 4, 5, 6, 7, 8, 9]\n"
     ]
    }
   ],
   "source": [
    "# ispleciamas sarasas su extend metodu\n",
    "\n",
    "kiti_skaiciai = [7, 8, 9]\n",
    "skaiciai.extend(kiti_skaiciai)\n",
    "print(skaiciai)"
   ]
  },
  {
   "cell_type": "code",
   "execution_count": 20,
   "metadata": {},
   "outputs": [
    {
     "name": "stdout",
     "output_type": "stream",
     "text": [
      "[1, 2, 3, 11, 4, 5, 6, 7, 8, 9]\n"
     ]
    }
   ],
   "source": [
    "# idedamas skaicius i sarasa su insert funkcija\n",
    "\n",
    "skaiciai.insert(3, 11)\n",
    "print(skaiciai)"
   ]
  },
  {
   "cell_type": "code",
   "execution_count": 21,
   "metadata": {},
   "outputs": [
    {
     "name": "stdout",
     "output_type": "stream",
     "text": [
      "[1, 2, 3, 11, 4, 5, 6, 8, 9]\n"
     ]
    }
   ],
   "source": [
    "# isemamas elementas ties nurodytu sarase indeksu, su remove funkcija\n",
    "\n",
    "skaiciai.remove(7)\n",
    "print(skaiciai)"
   ]
  },
  {
   "cell_type": "code",
   "execution_count": 22,
   "metadata": {},
   "outputs": [
    {
     "name": "stdout",
     "output_type": "stream",
     "text": [
      "9\n",
      "[1, 2, 3, 11, 4, 5, 6, 8]\n"
     ]
    }
   ],
   "source": [
    "devynke = skaiciai.pop()\n",
    "print(devynke)\n",
    "print(skaiciai)"
   ]
  },
  {
   "cell_type": "code",
   "execution_count": 23,
   "metadata": {},
   "outputs": [
    {
     "name": "stdout",
     "output_type": "stream",
     "text": [
      "4\n",
      "[1, 2, 3, 11, 5, 6, 8]\n"
     ]
    }
   ],
   "source": [
    "ketvertas = skaiciai.pop(4)\n",
    "print(ketvertas)\n",
    "print(skaiciai)"
   ]
  },
  {
   "cell_type": "code",
   "execution_count": 24,
   "metadata": {},
   "outputs": [
    {
     "name": "stdout",
     "output_type": "stream",
     "text": [
      "5\n"
     ]
    }
   ],
   "source": [
    "kur_esi = skaiciai.index(6)\n",
    "print(kur_esi)"
   ]
  },
  {
   "cell_type": "code",
   "execution_count": 26,
   "metadata": {},
   "outputs": [
    {
     "ename": "TypeError",
     "evalue": "'int' object is not callable",
     "output_type": "error",
     "traceback": [
      "\u001b[0;31m---------------------------------------------------------------------------\u001b[0m",
      "\u001b[0;31mTypeError\u001b[0m                                 Traceback (most recent call last)",
      "Cell \u001b[0;32mIn[26], line 3\u001b[0m\n\u001b[1;32m      1\u001b[0m \u001b[39m# remove metodas meta ne pagal indexa, o pagal reiksme.\u001b[39;00m\n\u001b[0;32m----> 3\u001b[0m skaiciai\u001b[39m.\u001b[39mremove(kur_esi(\u001b[39m6\u001b[39;49m))\n\u001b[1;32m      4\u001b[0m \u001b[39mprint\u001b[39m(skaiciai)\n",
      "\u001b[0;31mTypeError\u001b[0m: 'int' object is not callable"
     ]
    }
   ],
   "source": [
    "# remove metodas meta ne pagal indexa, o pagal reiksme.\n",
    "\n",
    "skaiciai.remove(kur_esi)\n",
    "print(skaiciai)"
   ]
  },
  {
   "cell_type": "code",
   "execution_count": 27,
   "metadata": {},
   "outputs": [
    {
     "name": "stdout",
     "output_type": "stream",
     "text": [
      "[1, 2, 3, 11, 5, 6, 8, 7, 2, 3, 5, 8, 11, 4, 6]\n"
     ]
    }
   ],
   "source": [
    "skaiciai.extend([7, 2, 3, 5, 8, 11, 4, 6])\n",
    "print(skaiciai)"
   ]
  },
  {
   "cell_type": "code",
   "execution_count": 28,
   "metadata": {},
   "outputs": [
    {
     "name": "stdout",
     "output_type": "stream",
     "text": [
      "[1, 2, 2, 3, 3, 4, 5, 5, 6, 6, 7, 8, 8, 11, 11]\n"
     ]
    }
   ],
   "source": [
    "# isrusiuoja sarasa, jei sarase yra textas - bus rusiuojama pagal abecele. \n",
    "\n",
    "skaiciai.sort()\n",
    "print(skaiciai)"
   ]
  },
  {
   "cell_type": "code",
   "execution_count": 29,
   "metadata": {},
   "outputs": [
    {
     "name": "stdout",
     "output_type": "stream",
     "text": [
      "[11, 11, 8, 8, 7, 6, 6, 5, 5, 4, 3, 3, 2, 2, 1]\n"
     ]
    }
   ],
   "source": [
    "# atgaline tvarka isrusiuoja sarasa\n",
    "\n",
    "skaiciai.sort(reverse=True)\n",
    "print(skaiciai)"
   ]
  },
  {
   "cell_type": "code",
   "execution_count": 31,
   "metadata": {},
   "outputs": [
    {
     "name": "stdout",
     "output_type": "stream",
     "text": [
      "['geri', 'buvo', 'pietus']\n"
     ]
    }
   ],
   "source": [
    "# rusiuoja mazejancia tvarka jei sarasuose skaiciai, jei zodziai - apsuka sarasa kita puse \n",
    "\n",
    "zodziai.reverse()\n",
    "print(zodziai)"
   ]
  },
  {
   "cell_type": "code",
   "execution_count": 32,
   "metadata": {},
   "outputs": [
    {
     "name": "stdout",
     "output_type": "stream",
     "text": [
      "15\n"
     ]
    }
   ],
   "source": [
    "# suskaiciuoja kiek elementu sarase su len funkcija\n",
    "\n",
    "print(len(skaiciai))\n"
   ]
  },
  {
   "cell_type": "code",
   "execution_count": 33,
   "metadata": {},
   "outputs": [
    {
     "name": "stdout",
     "output_type": "stream",
     "text": [
      "False\n"
     ]
    }
   ],
   "source": [
    "# patikrinimui ar sarasuose yra norimas elementas su in funkcija\n",
    "\n",
    "print(9 in skaiciai)"
   ]
  },
  {
   "cell_type": "code",
   "execution_count": 34,
   "metadata": {},
   "outputs": [
    {
     "name": "stdout",
     "output_type": "stream",
     "text": [
      "82\n"
     ]
    }
   ],
   "source": [
    "# susumuoj visus skaicius sarase\n",
    "\n",
    "print(sum(skaiciai))"
   ]
  },
  {
   "cell_type": "code",
   "execution_count": 74,
   "metadata": {},
   "outputs": [
    {
     "name": "stdout",
     "output_type": "stream",
     "text": [
      "[11, 11, 8, 8, 8, 6, 6, 5, 5, 4, 3, 3, 2, 2, 1]\n"
     ]
    }
   ],
   "source": [
    "# pakeitimas elemento sarase \n",
    "\n",
    "skaiciai[4] = 8\n",
    "\n",
    "\n",
    "print(skaiciai)\n",
    "\n"
   ]
  },
  {
   "attachments": {},
   "cell_type": "markdown",
   "metadata": {},
   "source": [
    "# Užduotys: \n",
    "\n",
    "\n"
   ]
  },
  {
   "attachments": {},
   "cell_type": "markdown",
   "metadata": {},
   "source": [
    "# Pirma užduotis\n",
    "Sukurkite sąrašą su bent penkiais jūsų mėgstamų maisto produktų pavadinimais.\n",
    "Atspausdinkite visą sąrašą."
   ]
  },
  {
   "cell_type": "code",
   "execution_count": 35,
   "metadata": {},
   "outputs": [
    {
     "name": "stdout",
     "output_type": "stream",
     "text": [
      "['avokadas', 'kiausiniai', 'ryziai', 'citrina', 'cesnakas']\n"
     ]
    }
   ],
   "source": [
    "produktai = [\"avokadas\", \"kiausiniai\", \"ryziai\", \"citrina\", \"cesnakas\"]\n",
    "print(produktai)"
   ]
  },
  {
   "attachments": {},
   "cell_type": "markdown",
   "metadata": {},
   "source": [
    "# Antra užduotis\n",
    "\n",
    "Atspausdinkite sąrašo pirmą elementą.\n",
    "Atspausdinkite sąrašo trečią elementą.\n",
    "Atspausdinkite sąrašo paskutinį elementą."
   ]
  },
  {
   "cell_type": "code",
   "execution_count": 37,
   "metadata": {},
   "outputs": [
    {
     "name": "stdout",
     "output_type": "stream",
     "text": [
      "avokadas\n",
      "ryziai\n",
      "cesnakas\n"
     ]
    }
   ],
   "source": [
    "print(produktai[0])\n",
    "print(produktai[2])\n",
    "print(produktai[-1])"
   ]
  },
  {
   "attachments": {},
   "cell_type": "markdown",
   "metadata": {},
   "source": [
    "# Trečia užduotis\n",
    "\n",
    "Atspausdinkite sąrašo pirmus tris elementus.\n",
    "Atspausdinkite sąrašo paskutinius du elementus.\n",
    "Atspausdinkite tris elementus iš sąrašo vidurio.\n",
    "Atspausdinkite sąrašo kas antrą elementą."
   ]
  },
  {
   "cell_type": "code",
   "execution_count": 46,
   "metadata": {},
   "outputs": [
    {
     "name": "stdout",
     "output_type": "stream",
     "text": [
      "['avokadas', 'kiausiniai', 'ryziai']\n",
      "['citrina', 'cesnakas']\n",
      "['kiausiniai', 'ryziai', 'citrina']\n",
      "['cesnakas', 'ryziai', 'avokadas']\n"
     ]
    }
   ],
   "source": [
    "print(produktai[:3])\n",
    "print(produktai[-2:])\n",
    "print(produktai[1:4])\n",
    "print(produktai[::-2])\n"
   ]
  },
  {
   "attachments": {},
   "cell_type": "markdown",
   "metadata": {},
   "source": [
    "# Ketvirta užduotis\n",
    "\n",
    "Atlikite žemiau nurodytus veiksmus su turimu sąrašu ir po kiekvieno veiksmo, sąrašą atspausdinkite:\n",
    "\n",
    "Pridėkite dar vieną mėgstamo maisto pavadinimą į sąrašo galą. \n",
    "Įterpkite naują maisto produktą į sąrašo ketvirtą vietą. \n",
    "Pakeiskite antrąjį sąrašo elementą kitu mėgstamo maisto pavadinimu. \n",
    "Ištrinkite pirmąjį sąrašo elementą. \n",
    "Ištrinkite sąrašo trečią elementą. \n",
    "Suraskite sąraše kurio nors elemento indeksą. \n",
    "Atspausdinkite sąrašą atvirkštine tvarka. \n",
    "Pabandykite papildomai panaudoti kitus metodus. "
   ]
  },
  {
   "cell_type": "code",
   "execution_count": 80,
   "metadata": {},
   "outputs": [
    {
     "name": "stdout",
     "output_type": "stream",
     "text": [
      "['cesnakas', 'citrina', 'pienas', 'pipiras', 'ryziai'] 1\n"
     ]
    }
   ],
   "source": [
    "# produktai.append(\"pipiras\")\n",
    "\n",
    "# produktai.remove('bananas')\n",
    "\n",
    "# produktai.insert(3, 'bananas')\n",
    "\n",
    "# produktai[1] = \"pienas\"\n",
    "\n",
    "# produktai.remove('avokadas')\n",
    "\n",
    "# del produktai[2]\n",
    "\n",
    "indeksas = produktai.index('citrina')\n",
    "\n",
    "produktai.sort(reverse = False)\n",
    "\n",
    "print(produktai, indeksas)"
   ]
  },
  {
   "attachments": {},
   "cell_type": "markdown",
   "metadata": {},
   "source": [
    "# Penkta užduotis\n",
    "\n",
    "Patikrinkite sąrašo ilgį."
   ]
  },
  {
   "cell_type": "code",
   "execution_count": 81,
   "metadata": {},
   "outputs": [
    {
     "name": "stdout",
     "output_type": "stream",
     "text": [
      "5\n"
     ]
    }
   ],
   "source": [
    "print(len(produktai))"
   ]
  },
  {
   "attachments": {},
   "cell_type": "markdown",
   "metadata": {},
   "source": [
    "# Šešta užduotis\n",
    "\n",
    "Patikrinkite ar tam tikras produktas yra sąraše.\n"
   ]
  },
  {
   "cell_type": "code",
   "execution_count": 94,
   "metadata": {},
   "outputs": [
    {
     "name": "stdout",
     "output_type": "stream",
     "text": [
      "Deja, produktas nėra sąraše!\n",
      "['cesnakas', 'citrina', 'pienas', 'pipiras', 'ryziai']\n",
      "False\n"
     ]
    }
   ],
   "source": [
    "tikrinimas = input(\"Įveskite norimą rasti produktą: \")\n",
    "\n",
    "if tikrinimas in produktai:\n",
    "    print('Bingo, produktas yra sąraše!')\n",
    "\n",
    "else:\n",
    "    print('Deja, produktas nėra sąraše!')\n",
    "\n",
    "\n",
    "print(produktai)\n",
    "\n",
    "\n",
    "print('abrikosas' in produktai)"
   ]
  }
 ],
 "metadata": {
  "kernelspec": {
   "display_name": "Python 3",
   "language": "python",
   "name": "python3"
  },
  "language_info": {
   "codemirror_mode": {
    "name": "ipython",
    "version": 3
   },
   "file_extension": ".py",
   "mimetype": "text/x-python",
   "name": "python",
   "nbconvert_exporter": "python",
   "pygments_lexer": "ipython3",
   "version": "3.11.3"
  },
  "orig_nbformat": 4
 },
 "nbformat": 4,
 "nbformat_minor": 2
}
